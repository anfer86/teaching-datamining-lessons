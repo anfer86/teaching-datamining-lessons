{
 "cells": [
  {
   "cell_type": "markdown",
   "metadata": {
    "slideshow": {
     "slide_type": "slide"
    }
   },
   "source": [
    "<link rel=\"stylesheet\" href=\"estilo.css\">\n",
    "\n",
    "<img src=\"img/logoifsc.png\">\n",
    "\n",
    "---\n",
    "\n",
    "Prof. Carlos Andrés Ferrero\n",
    "\n",
    "# Mineração de Dados\n",
    "\n",
    "## Pré-Processamento de Dados\n",
    "    \n",
    "---"
   ]
  },
  {
   "cell_type": "markdown",
   "metadata": {
    "slideshow": {
     "slide_type": "slide"
    }
   },
   "source": [
    "# Conteúdo\n",
    "\n",
    "Pré-processamento de dados quantiativos e qualitativos\n",
    "\n",
    "- Limpeza de dados\n",
    "- Transformação de dados\n",
    "    - Normalização de dados numéricos\n",
    "    - Discretização de dados numéricos\n",
    "    - Transformação de dados qualitativos em quantiativos\n",
    "    - Outras transformações de dados\n",
    "- Tratamento de dados desconhecidos"
   ]
  },
  {
   "cell_type": "markdown",
   "metadata": {
    "slideshow": {
     "slide_type": "slide"
    }
   },
   "source": [
    "# Limpeza de dados\n",
    "\n",
    "- A maior parte dos conjuntos de dados disponíveis para estudo, bem como os obtidos a partir de processos de coleta de dados, podem apresentar problemas, os quais dificultam a utilização desses dados em processos de mineração.\n",
    "\n",
    "- Esses problemas pode ser: erros de digitação, erro na leitura de dados por sensores.\n",
    "\n",
    "- Muitos dos processos de mineração aplicados não são usados apenas para estudo, mas os padrões encontrados podem ser usados em processos de mineração de dados. Por esse fato, é extremente importante a limpeza desses dados."
   ]
  },
  {
   "cell_type": "markdown",
   "metadata": {
    "slideshow": {
     "slide_type": "subslide"
    }
   },
   "source": [
    "## Baseada em Conhecimento do domínio\n",
    "- Uma estratégia para fazer limpeza de dados é **utilizar conhecimento do domínio**\n",
    "- Determinados valores numéricos podem estar fora de um intervalo definido, conhecido do domínio."
   ]
  },
  {
   "cell_type": "markdown",
   "metadata": {
    "slideshow": {
     "slide_type": "subslide"
    }
   },
   "source": [
    "- Um atributo idade deve conter valores entre 0 e 120 para domínio do problema. Se algum valor desse atributo está fora desse intervalo, temos que tomar uma decisão sobre ele: deixar ele como desconhecido (NaN no numpy), escolher algum valor para ele, ou tentar encontrar o valor verdadeiro baseado em outros atributos ou instâncias."
   ]
  },
  {
   "cell_type": "code",
   "execution_count": 2,
   "metadata": {},
   "outputs": [],
   "source": [
    "import numpy as np\n",
    "idades = np.array([10,20,34,-25,50,165,71,55,30,34], dtype= np.float32)"
   ]
  },
  {
   "cell_type": "code",
   "execution_count": 3,
   "metadata": {},
   "outputs": [],
   "source": [
    "desconhecido = np.NaN\n",
    "idades = np.where( np.logical_or(idades < 0, idades > 120), desconhecido, idades)"
   ]
  },
  {
   "cell_type": "code",
   "execution_count": 4,
   "metadata": {},
   "outputs": [
    {
     "data": {
      "text/plain": [
       "array([10., 20., 34., nan, 50., nan, 71., 55., 30., 34.], dtype=float32)"
      ]
     },
     "execution_count": 4,
     "metadata": {},
     "output_type": "execute_result"
    }
   ],
   "source": [
    "idades"
   ]
  },
  {
   "cell_type": "markdown",
   "metadata": {},
   "source": [
    "- Um atributo de data deve conter valores de data maiores do que 01/01/2010. Se algum valor desse atributo for menor do que essa data também tamos que tomar uma decisão."
   ]
  },
  {
   "cell_type": "markdown",
   "metadata": {
    "slideshow": {
     "slide_type": "subslide"
    }
   },
   "source": [
    "## Baseado em dados estatísticos\n",
    "- Outra estratégia consiste em **utilizar estatística** para conhecer a distribuição dos dados e assim tomar decisões sobre quais valores estão fora do intervalo esperado.\n",
    "- Uma variável contínua pode apresentar outliers estatísticos (pontos fora da curva) e se essa variável tem uma distribuição conhecida podemos tomar alguma decisão sobre o que fazer com esses valores: como deixar ele como desconhecido ou substituído pelo valor esperado (média na distribuição normal)."
   ]
  },
  {
   "cell_type": "markdown",
   "metadata": {
    "slideshow": {
     "slide_type": "subslide"
    }
   },
   "source": [
    "- Por exemplo, um atributo de temperatura possui um valor de média de 26 graus com desvio padrão de 2 graus. \n",
    "- Considerando uma distribuição normal espera-se que $68.25\\%$ estejam a uma unidade de desvio-padrão e $99.73\\%$ a três unidades.\n",
    "- Se encontrar um valor acima de unidades de desvio padrão, por exemplo, 32 graus, podemos tomar alguma decisão com esse valor."
   ]
  },
  {
   "cell_type": "code",
   "execution_count": 5,
   "metadata": {},
   "outputs": [],
   "source": [
    "temperatura = np.array([26.6, 27.8, 25.6, 26.2, 120.0, 20.4, 29.4, 24.4, 26.9, 26.7])\n",
    "media = 26\n",
    "desvio = 2"
   ]
  },
  {
   "cell_type": "code",
   "execution_count": 6,
   "metadata": {},
   "outputs": [],
   "source": [
    "temperatura = np.where( ( np.abs(temperatura - media)/desvio ) > 3, media, temperatura )"
   ]
  },
  {
   "cell_type": "code",
   "execution_count": 7,
   "metadata": {},
   "outputs": [
    {
     "data": {
      "text/plain": [
       "array([26.6, 27.8, 25.6, 26.2, 26. , 20.4, 29.4, 24.4, 26.9, 26.7])"
      ]
     },
     "execution_count": 7,
     "metadata": {},
     "output_type": "execute_result"
    }
   ],
   "source": [
    "temperatura"
   ]
  },
  {
   "cell_type": "markdown",
   "metadata": {
    "slideshow": {
     "slide_type": "slide"
    }
   },
   "source": [
    "# Transformação de Dados"
   ]
  },
  {
   "cell_type": "markdown",
   "metadata": {
    "slideshow": {
     "slide_type": "subslide"
    }
   },
   "source": [
    "## Normalização de Dados Numéricos (ou Contínuos)"
   ]
  },
  {
   "cell_type": "markdown",
   "metadata": {},
   "source": [
    "- A motivação da normalização é minimzar o problema da presença de variáveis em um conjunto de dados com dispersões de dados muito diferentes.\n",
    "\n",
    "- Vários algoritmos de aprendizado, como Redes Neurais, Vizinhos mais Próximos e K-médias podem ser prejudicados por essa dispersão. "
   ]
  },
  {
   "cell_type": "markdown",
   "metadata": {
    "slideshow": {
     "slide_type": "subslide"
    }
   },
   "source": [
    "- Por exemplo, se medimos a distância entre dois usários pela diferença entre seus valores temos:\n",
    "    - Usuário 1 (salario = 1000, poupança = 20000)\n",
    "    - Usuário 2 (salario = 1500, poupança = 50000)\n",
    "    - Diferença  (salario = 500, poupança = 30000), Total (30500)\n",
    "    - O problema que observamos é que a variável salário contribui muito menos para a soma das distâncias do que a variável poupança. "
   ]
  },
  {
   "cell_type": "markdown",
   "metadata": {
    "slideshow": {
     "slide_type": "subslide"
    }
   },
   "source": [
    "- O objetivo da normalização é ajustar a escala dos valores dos atributos para que tenha dispersões ou intervalos mais similares.\n",
    "- Métodos para normalização de dados numéricos:\n",
    "    - Linear\n",
    "    - Desvio-padrão\n",
    "    - Valor máximo\n",
    "    - Escala decimal"
   ]
  },
  {
   "cell_type": "markdown",
   "metadata": {
    "slideshow": {
     "slide_type": "subslide"
    }
   },
   "source": [
    "### Normalização Linear\n",
    "\n",
    "- A normalização linear consiste em manter os dados no intervalo $[0,1]$. Para isso, uma função de transformação linear.\n",
    "\n",
    "$$ f(x) = \\frac{x - min(\\mathbf{x})}{max(\\mathbf{x}) - min(\\mathbf{x})} = x'$$\n",
    "\n",
    "- onde,\n",
    "    - $\\mathbf{x}$ é o conjunto de valores da variável\n",
    "    - $x$ é um valor da variável\n",
    "    - $x'$ é o valor da variável transformado"
   ]
  },
  {
   "cell_type": "markdown",
   "metadata": {
    "slideshow": {
     "slide_type": "subslide"
    }
   },
   "source": [
    "### Normalização por Desvio-Padrão (z-score)\n",
    "\n",
    "- A normalização desvio-padrão consiste em transformar os dados em unidades de desvio padrão em relação à média. Para isso, uma função de transformação baseada em média e desvio padrão.\n",
    "\n",
    "$$ f(x) = \\frac{x - mean(\\mathbf{x})}{sd(\\mathbf{x})} = x'$$\n",
    "\n",
    "- onde, \n",
    "    - $\\mathbf{x}$ é o conjunto de valores da variável\n",
    "    - $x$ é um valor da variável\n",
    "    - $x'$ é o valor da variável transformado\n",
    "    - $mean$ e $sd$ são a média e o desvio padrão dos valores"
   ]
  },
  {
   "cell_type": "markdown",
   "metadata": {
    "slideshow": {
     "slide_type": "subslide"
    }
   },
   "source": [
    "### Normalização de Valor Máximo\n",
    "\n",
    "- A normalização usando o valor máximo consiste em manter os dados no intervalo $[-1,1]$. Para isso, uma função de transformação\n",
    "\n",
    "$$ f(x) = \\frac{x}{max(|\\mathbf{x}|)} = x'$$\n",
    "\n",
    "- onde, \n",
    "    - $\\mathbf{x}$ é o conjunto de valores da variável\n",
    "    - $x$ é um valor da variável\n",
    "    - $x'$ é o valor da variável transformado"
   ]
  },
  {
   "cell_type": "markdown",
   "metadata": {
    "slideshow": {
     "slide_type": "subslide"
    }
   },
   "source": [
    "### Normalização por Escala Decimal\n",
    "\n",
    "- A normalização usando o valor por escala decimal consiste em manter os dados no intervalo $[-1,1]$. Para isso, uma função de transformação\n",
    "\n",
    "$$ f(x) = \\frac{x}{10^j} = x'$$\n",
    "\n",
    "- onde, \n",
    "    - $\\mathbf{x}$ é o conjunto de valores da variável\n",
    "    - $x$ é um valor da variável\n",
    "    - $x'$ é o valor da variável transformado\n",
    "    - $j$ é o menor inteiro tal que $max(|\\mathbf{x}|) \\leq 10^j$"
   ]
  },
  {
   "cell_type": "markdown",
   "metadata": {
    "slideshow": {
     "slide_type": "subslide"
    }
   },
   "source": [
    "### Exemplo no conjunto de dados Iris"
   ]
  },
  {
   "cell_type": "code",
   "execution_count": 40,
   "metadata": {},
   "outputs": [
    {
     "data": {
      "text/html": [
       "<div>\n",
       "<style scoped>\n",
       "    .dataframe tbody tr th:only-of-type {\n",
       "        vertical-align: middle;\n",
       "    }\n",
       "\n",
       "    .dataframe tbody tr th {\n",
       "        vertical-align: top;\n",
       "    }\n",
       "\n",
       "    .dataframe thead th {\n",
       "        text-align: right;\n",
       "    }\n",
       "</style>\n",
       "<table border=\"1\" class=\"dataframe\">\n",
       "  <thead>\n",
       "    <tr style=\"text-align: right;\">\n",
       "      <th></th>\n",
       "      <th>sepal length (cm)</th>\n",
       "      <th>sepal width (cm)</th>\n",
       "      <th>petal length (cm)</th>\n",
       "      <th>petal width (cm)</th>\n",
       "    </tr>\n",
       "  </thead>\n",
       "  <tbody>\n",
       "    <tr>\n",
       "      <th>0</th>\n",
       "      <td>5.1</td>\n",
       "      <td>3.5</td>\n",
       "      <td>1.4</td>\n",
       "      <td>0.2</td>\n",
       "    </tr>\n",
       "    <tr>\n",
       "      <th>1</th>\n",
       "      <td>4.9</td>\n",
       "      <td>3.0</td>\n",
       "      <td>1.4</td>\n",
       "      <td>0.2</td>\n",
       "    </tr>\n",
       "    <tr>\n",
       "      <th>2</th>\n",
       "      <td>4.7</td>\n",
       "      <td>3.2</td>\n",
       "      <td>1.3</td>\n",
       "      <td>0.2</td>\n",
       "    </tr>\n",
       "    <tr>\n",
       "      <th>3</th>\n",
       "      <td>4.6</td>\n",
       "      <td>3.1</td>\n",
       "      <td>1.5</td>\n",
       "      <td>0.2</td>\n",
       "    </tr>\n",
       "    <tr>\n",
       "      <th>4</th>\n",
       "      <td>5.0</td>\n",
       "      <td>3.6</td>\n",
       "      <td>1.4</td>\n",
       "      <td>0.2</td>\n",
       "    </tr>\n",
       "    <tr>\n",
       "      <th>5</th>\n",
       "      <td>5.4</td>\n",
       "      <td>3.9</td>\n",
       "      <td>1.7</td>\n",
       "      <td>0.4</td>\n",
       "    </tr>\n",
       "    <tr>\n",
       "      <th>6</th>\n",
       "      <td>4.6</td>\n",
       "      <td>3.4</td>\n",
       "      <td>1.4</td>\n",
       "      <td>0.3</td>\n",
       "    </tr>\n",
       "    <tr>\n",
       "      <th>7</th>\n",
       "      <td>5.0</td>\n",
       "      <td>3.4</td>\n",
       "      <td>1.5</td>\n",
       "      <td>0.2</td>\n",
       "    </tr>\n",
       "    <tr>\n",
       "      <th>8</th>\n",
       "      <td>4.4</td>\n",
       "      <td>2.9</td>\n",
       "      <td>1.4</td>\n",
       "      <td>0.2</td>\n",
       "    </tr>\n",
       "    <tr>\n",
       "      <th>9</th>\n",
       "      <td>4.9</td>\n",
       "      <td>3.1</td>\n",
       "      <td>1.5</td>\n",
       "      <td>0.1</td>\n",
       "    </tr>\n",
       "    <tr>\n",
       "      <th>10</th>\n",
       "      <td>5.4</td>\n",
       "      <td>3.7</td>\n",
       "      <td>1.5</td>\n",
       "      <td>0.2</td>\n",
       "    </tr>\n",
       "    <tr>\n",
       "      <th>11</th>\n",
       "      <td>4.8</td>\n",
       "      <td>3.4</td>\n",
       "      <td>1.6</td>\n",
       "      <td>0.2</td>\n",
       "    </tr>\n",
       "    <tr>\n",
       "      <th>12</th>\n",
       "      <td>4.8</td>\n",
       "      <td>3.0</td>\n",
       "      <td>1.4</td>\n",
       "      <td>0.1</td>\n",
       "    </tr>\n",
       "    <tr>\n",
       "      <th>13</th>\n",
       "      <td>4.3</td>\n",
       "      <td>3.0</td>\n",
       "      <td>1.1</td>\n",
       "      <td>0.1</td>\n",
       "    </tr>\n",
       "    <tr>\n",
       "      <th>14</th>\n",
       "      <td>5.8</td>\n",
       "      <td>4.0</td>\n",
       "      <td>1.2</td>\n",
       "      <td>0.2</td>\n",
       "    </tr>\n",
       "    <tr>\n",
       "      <th>15</th>\n",
       "      <td>5.7</td>\n",
       "      <td>4.4</td>\n",
       "      <td>1.5</td>\n",
       "      <td>0.4</td>\n",
       "    </tr>\n",
       "    <tr>\n",
       "      <th>16</th>\n",
       "      <td>5.4</td>\n",
       "      <td>3.9</td>\n",
       "      <td>1.3</td>\n",
       "      <td>0.4</td>\n",
       "    </tr>\n",
       "    <tr>\n",
       "      <th>17</th>\n",
       "      <td>5.1</td>\n",
       "      <td>3.5</td>\n",
       "      <td>1.4</td>\n",
       "      <td>0.3</td>\n",
       "    </tr>\n",
       "    <tr>\n",
       "      <th>18</th>\n",
       "      <td>5.7</td>\n",
       "      <td>3.8</td>\n",
       "      <td>1.7</td>\n",
       "      <td>0.3</td>\n",
       "    </tr>\n",
       "    <tr>\n",
       "      <th>19</th>\n",
       "      <td>5.1</td>\n",
       "      <td>3.8</td>\n",
       "      <td>1.5</td>\n",
       "      <td>0.3</td>\n",
       "    </tr>\n",
       "    <tr>\n",
       "      <th>20</th>\n",
       "      <td>5.4</td>\n",
       "      <td>3.4</td>\n",
       "      <td>1.7</td>\n",
       "      <td>0.2</td>\n",
       "    </tr>\n",
       "    <tr>\n",
       "      <th>21</th>\n",
       "      <td>5.1</td>\n",
       "      <td>3.7</td>\n",
       "      <td>1.5</td>\n",
       "      <td>0.4</td>\n",
       "    </tr>\n",
       "    <tr>\n",
       "      <th>22</th>\n",
       "      <td>4.6</td>\n",
       "      <td>3.6</td>\n",
       "      <td>1.0</td>\n",
       "      <td>0.2</td>\n",
       "    </tr>\n",
       "    <tr>\n",
       "      <th>23</th>\n",
       "      <td>5.1</td>\n",
       "      <td>3.3</td>\n",
       "      <td>1.7</td>\n",
       "      <td>0.5</td>\n",
       "    </tr>\n",
       "    <tr>\n",
       "      <th>24</th>\n",
       "      <td>4.8</td>\n",
       "      <td>3.4</td>\n",
       "      <td>1.9</td>\n",
       "      <td>0.2</td>\n",
       "    </tr>\n",
       "    <tr>\n",
       "      <th>25</th>\n",
       "      <td>5.0</td>\n",
       "      <td>3.0</td>\n",
       "      <td>1.6</td>\n",
       "      <td>0.2</td>\n",
       "    </tr>\n",
       "    <tr>\n",
       "      <th>26</th>\n",
       "      <td>5.0</td>\n",
       "      <td>3.4</td>\n",
       "      <td>1.6</td>\n",
       "      <td>0.4</td>\n",
       "    </tr>\n",
       "    <tr>\n",
       "      <th>27</th>\n",
       "      <td>5.2</td>\n",
       "      <td>3.5</td>\n",
       "      <td>1.5</td>\n",
       "      <td>0.2</td>\n",
       "    </tr>\n",
       "    <tr>\n",
       "      <th>28</th>\n",
       "      <td>5.2</td>\n",
       "      <td>3.4</td>\n",
       "      <td>1.4</td>\n",
       "      <td>0.2</td>\n",
       "    </tr>\n",
       "    <tr>\n",
       "      <th>29</th>\n",
       "      <td>4.7</td>\n",
       "      <td>3.2</td>\n",
       "      <td>1.6</td>\n",
       "      <td>0.2</td>\n",
       "    </tr>\n",
       "    <tr>\n",
       "      <th>...</th>\n",
       "      <td>...</td>\n",
       "      <td>...</td>\n",
       "      <td>...</td>\n",
       "      <td>...</td>\n",
       "    </tr>\n",
       "    <tr>\n",
       "      <th>120</th>\n",
       "      <td>6.9</td>\n",
       "      <td>3.2</td>\n",
       "      <td>5.7</td>\n",
       "      <td>2.3</td>\n",
       "    </tr>\n",
       "    <tr>\n",
       "      <th>121</th>\n",
       "      <td>5.6</td>\n",
       "      <td>2.8</td>\n",
       "      <td>4.9</td>\n",
       "      <td>2.0</td>\n",
       "    </tr>\n",
       "    <tr>\n",
       "      <th>122</th>\n",
       "      <td>7.7</td>\n",
       "      <td>2.8</td>\n",
       "      <td>6.7</td>\n",
       "      <td>2.0</td>\n",
       "    </tr>\n",
       "    <tr>\n",
       "      <th>123</th>\n",
       "      <td>6.3</td>\n",
       "      <td>2.7</td>\n",
       "      <td>4.9</td>\n",
       "      <td>1.8</td>\n",
       "    </tr>\n",
       "    <tr>\n",
       "      <th>124</th>\n",
       "      <td>6.7</td>\n",
       "      <td>3.3</td>\n",
       "      <td>5.7</td>\n",
       "      <td>2.1</td>\n",
       "    </tr>\n",
       "    <tr>\n",
       "      <th>125</th>\n",
       "      <td>7.2</td>\n",
       "      <td>3.2</td>\n",
       "      <td>6.0</td>\n",
       "      <td>1.8</td>\n",
       "    </tr>\n",
       "    <tr>\n",
       "      <th>126</th>\n",
       "      <td>6.2</td>\n",
       "      <td>2.8</td>\n",
       "      <td>4.8</td>\n",
       "      <td>1.8</td>\n",
       "    </tr>\n",
       "    <tr>\n",
       "      <th>127</th>\n",
       "      <td>6.1</td>\n",
       "      <td>3.0</td>\n",
       "      <td>4.9</td>\n",
       "      <td>1.8</td>\n",
       "    </tr>\n",
       "    <tr>\n",
       "      <th>128</th>\n",
       "      <td>6.4</td>\n",
       "      <td>2.8</td>\n",
       "      <td>5.6</td>\n",
       "      <td>2.1</td>\n",
       "    </tr>\n",
       "    <tr>\n",
       "      <th>129</th>\n",
       "      <td>7.2</td>\n",
       "      <td>3.0</td>\n",
       "      <td>5.8</td>\n",
       "      <td>1.6</td>\n",
       "    </tr>\n",
       "    <tr>\n",
       "      <th>130</th>\n",
       "      <td>7.4</td>\n",
       "      <td>2.8</td>\n",
       "      <td>6.1</td>\n",
       "      <td>1.9</td>\n",
       "    </tr>\n",
       "    <tr>\n",
       "      <th>131</th>\n",
       "      <td>7.9</td>\n",
       "      <td>3.8</td>\n",
       "      <td>6.4</td>\n",
       "      <td>2.0</td>\n",
       "    </tr>\n",
       "    <tr>\n",
       "      <th>132</th>\n",
       "      <td>6.4</td>\n",
       "      <td>2.8</td>\n",
       "      <td>5.6</td>\n",
       "      <td>2.2</td>\n",
       "    </tr>\n",
       "    <tr>\n",
       "      <th>133</th>\n",
       "      <td>6.3</td>\n",
       "      <td>2.8</td>\n",
       "      <td>5.1</td>\n",
       "      <td>1.5</td>\n",
       "    </tr>\n",
       "    <tr>\n",
       "      <th>134</th>\n",
       "      <td>6.1</td>\n",
       "      <td>2.6</td>\n",
       "      <td>5.6</td>\n",
       "      <td>1.4</td>\n",
       "    </tr>\n",
       "    <tr>\n",
       "      <th>135</th>\n",
       "      <td>7.7</td>\n",
       "      <td>3.0</td>\n",
       "      <td>6.1</td>\n",
       "      <td>2.3</td>\n",
       "    </tr>\n",
       "    <tr>\n",
       "      <th>136</th>\n",
       "      <td>6.3</td>\n",
       "      <td>3.4</td>\n",
       "      <td>5.6</td>\n",
       "      <td>2.4</td>\n",
       "    </tr>\n",
       "    <tr>\n",
       "      <th>137</th>\n",
       "      <td>6.4</td>\n",
       "      <td>3.1</td>\n",
       "      <td>5.5</td>\n",
       "      <td>1.8</td>\n",
       "    </tr>\n",
       "    <tr>\n",
       "      <th>138</th>\n",
       "      <td>6.0</td>\n",
       "      <td>3.0</td>\n",
       "      <td>4.8</td>\n",
       "      <td>1.8</td>\n",
       "    </tr>\n",
       "    <tr>\n",
       "      <th>139</th>\n",
       "      <td>6.9</td>\n",
       "      <td>3.1</td>\n",
       "      <td>5.4</td>\n",
       "      <td>2.1</td>\n",
       "    </tr>\n",
       "    <tr>\n",
       "      <th>140</th>\n",
       "      <td>6.7</td>\n",
       "      <td>3.1</td>\n",
       "      <td>5.6</td>\n",
       "      <td>2.4</td>\n",
       "    </tr>\n",
       "    <tr>\n",
       "      <th>141</th>\n",
       "      <td>6.9</td>\n",
       "      <td>3.1</td>\n",
       "      <td>5.1</td>\n",
       "      <td>2.3</td>\n",
       "    </tr>\n",
       "    <tr>\n",
       "      <th>142</th>\n",
       "      <td>5.8</td>\n",
       "      <td>2.7</td>\n",
       "      <td>5.1</td>\n",
       "      <td>1.9</td>\n",
       "    </tr>\n",
       "    <tr>\n",
       "      <th>143</th>\n",
       "      <td>6.8</td>\n",
       "      <td>3.2</td>\n",
       "      <td>5.9</td>\n",
       "      <td>2.3</td>\n",
       "    </tr>\n",
       "    <tr>\n",
       "      <th>144</th>\n",
       "      <td>6.7</td>\n",
       "      <td>3.3</td>\n",
       "      <td>5.7</td>\n",
       "      <td>2.5</td>\n",
       "    </tr>\n",
       "    <tr>\n",
       "      <th>145</th>\n",
       "      <td>6.7</td>\n",
       "      <td>3.0</td>\n",
       "      <td>5.2</td>\n",
       "      <td>2.3</td>\n",
       "    </tr>\n",
       "    <tr>\n",
       "      <th>146</th>\n",
       "      <td>6.3</td>\n",
       "      <td>2.5</td>\n",
       "      <td>5.0</td>\n",
       "      <td>1.9</td>\n",
       "    </tr>\n",
       "    <tr>\n",
       "      <th>147</th>\n",
       "      <td>6.5</td>\n",
       "      <td>3.0</td>\n",
       "      <td>5.2</td>\n",
       "      <td>2.0</td>\n",
       "    </tr>\n",
       "    <tr>\n",
       "      <th>148</th>\n",
       "      <td>6.2</td>\n",
       "      <td>3.4</td>\n",
       "      <td>5.4</td>\n",
       "      <td>2.3</td>\n",
       "    </tr>\n",
       "    <tr>\n",
       "      <th>149</th>\n",
       "      <td>5.9</td>\n",
       "      <td>3.0</td>\n",
       "      <td>5.1</td>\n",
       "      <td>1.8</td>\n",
       "    </tr>\n",
       "  </tbody>\n",
       "</table>\n",
       "<p>150 rows × 4 columns</p>\n",
       "</div>"
      ],
      "text/plain": [
       "     sepal length (cm)  sepal width (cm)  petal length (cm)  petal width (cm)\n",
       "0                  5.1               3.5                1.4               0.2\n",
       "1                  4.9               3.0                1.4               0.2\n",
       "2                  4.7               3.2                1.3               0.2\n",
       "3                  4.6               3.1                1.5               0.2\n",
       "4                  5.0               3.6                1.4               0.2\n",
       "..                 ...               ...                ...               ...\n",
       "145                6.7               3.0                5.2               2.3\n",
       "146                6.3               2.5                5.0               1.9\n",
       "147                6.5               3.0                5.2               2.0\n",
       "148                6.2               3.4                5.4               2.3\n",
       "149                5.9               3.0                5.1               1.8\n",
       "\n",
       "[150 rows x 4 columns]"
      ]
     },
     "execution_count": 40,
     "metadata": {},
     "output_type": "execute_result"
    }
   ],
   "source": [
    "import pandas as pd\n",
    "from sklearn import datasets\n",
    "iris = datasets.load_iris()\n",
    "data=pd.DataFrame(iris['data'],columns=iris['feature_names'])\n",
    "data"
   ]
  },
  {
   "cell_type": "markdown",
   "metadata": {
    "slideshow": {
     "slide_type": "subslide"
    }
   },
   "source": [
    "- Estatísticas Descritivas"
   ]
  },
  {
   "cell_type": "code",
   "execution_count": 44,
   "metadata": {
    "slideshow": {
     "slide_type": "-"
    }
   },
   "outputs": [
    {
     "data": {
      "text/html": [
       "<div>\n",
       "<style scoped>\n",
       "    .dataframe tbody tr th:only-of-type {\n",
       "        vertical-align: middle;\n",
       "    }\n",
       "\n",
       "    .dataframe tbody tr th {\n",
       "        vertical-align: top;\n",
       "    }\n",
       "\n",
       "    .dataframe thead th {\n",
       "        text-align: right;\n",
       "    }\n",
       "</style>\n",
       "<table border=\"1\" class=\"dataframe\">\n",
       "  <thead>\n",
       "    <tr style=\"text-align: right;\">\n",
       "      <th></th>\n",
       "      <th>sepal length (cm)</th>\n",
       "      <th>sepal width (cm)</th>\n",
       "      <th>petal length (cm)</th>\n",
       "      <th>petal width (cm)</th>\n",
       "    </tr>\n",
       "  </thead>\n",
       "  <tbody>\n",
       "    <tr>\n",
       "      <th>count</th>\n",
       "      <td>150.00000</td>\n",
       "      <td>150.00000</td>\n",
       "      <td>150.0000</td>\n",
       "      <td>150.00000</td>\n",
       "    </tr>\n",
       "    <tr>\n",
       "      <th>mean</th>\n",
       "      <td>5.84333</td>\n",
       "      <td>3.05733</td>\n",
       "      <td>3.7580</td>\n",
       "      <td>1.19933</td>\n",
       "    </tr>\n",
       "    <tr>\n",
       "      <th>std</th>\n",
       "      <td>0.82807</td>\n",
       "      <td>0.43587</td>\n",
       "      <td>1.7653</td>\n",
       "      <td>0.76224</td>\n",
       "    </tr>\n",
       "    <tr>\n",
       "      <th>min</th>\n",
       "      <td>4.30000</td>\n",
       "      <td>2.00000</td>\n",
       "      <td>1.0000</td>\n",
       "      <td>0.10000</td>\n",
       "    </tr>\n",
       "    <tr>\n",
       "      <th>25%</th>\n",
       "      <td>5.10000</td>\n",
       "      <td>2.80000</td>\n",
       "      <td>1.6000</td>\n",
       "      <td>0.30000</td>\n",
       "    </tr>\n",
       "    <tr>\n",
       "      <th>50%</th>\n",
       "      <td>5.80000</td>\n",
       "      <td>3.00000</td>\n",
       "      <td>4.3500</td>\n",
       "      <td>1.30000</td>\n",
       "    </tr>\n",
       "    <tr>\n",
       "      <th>75%</th>\n",
       "      <td>6.40000</td>\n",
       "      <td>3.30000</td>\n",
       "      <td>5.1000</td>\n",
       "      <td>1.80000</td>\n",
       "    </tr>\n",
       "    <tr>\n",
       "      <th>max</th>\n",
       "      <td>7.90000</td>\n",
       "      <td>4.40000</td>\n",
       "      <td>6.9000</td>\n",
       "      <td>2.50000</td>\n",
       "    </tr>\n",
       "  </tbody>\n",
       "</table>\n",
       "</div>"
      ],
      "text/plain": [
       "       sepal length (cm)  sepal width (cm)  petal length (cm)  \\\n",
       "count          150.00000         150.00000           150.0000   \n",
       "mean             5.84333           3.05733             3.7580   \n",
       "std              0.82807           0.43587             1.7653   \n",
       "min              4.30000           2.00000             1.0000   \n",
       "25%              5.10000           2.80000             1.6000   \n",
       "50%              5.80000           3.00000             4.3500   \n",
       "75%              6.40000           3.30000             5.1000   \n",
       "max              7.90000           4.40000             6.9000   \n",
       "\n",
       "       petal width (cm)  \n",
       "count         150.00000  \n",
       "mean            1.19933  \n",
       "std             0.76224  \n",
       "min             0.10000  \n",
       "25%             0.30000  \n",
       "50%             1.30000  \n",
       "75%             1.80000  \n",
       "max             2.50000  "
      ]
     },
     "execution_count": 44,
     "metadata": {},
     "output_type": "execute_result"
    }
   ],
   "source": [
    "data.describe().round(5)"
   ]
  },
  {
   "cell_type": "markdown",
   "metadata": {
    "slideshow": {
     "slide_type": "subslide"
    }
   },
   "source": [
    "- Definição de uma função para normalização linear"
   ]
  },
  {
   "cell_type": "code",
   "execution_count": 10,
   "metadata": {
    "slideshow": {
     "slide_type": "-"
    }
   },
   "outputs": [],
   "source": [
    "def normalizacao_linear(x):    \n",
    "    return (x - np.min(x)) / (np.max(x) - np.min(x));"
   ]
  },
  {
   "cell_type": "markdown",
   "metadata": {},
   "source": [
    "- Aplicação da função em uma das colunas do conjunto de dados"
   ]
  },
  {
   "cell_type": "code",
   "execution_count": 48,
   "metadata": {},
   "outputs": [
    {
     "data": {
      "text/plain": [
       "0    0.222222\n",
       "1    0.166667\n",
       "2    0.111111\n",
       "3    0.083333\n",
       "4    0.194444\n",
       "Name: sepal length (cm), dtype: float64"
      ]
     },
     "execution_count": 48,
     "metadata": {},
     "output_type": "execute_result"
    }
   ],
   "source": [
    "new_data = normalizacao_linear( data['sepal length (cm)'] )\n",
    "new_data.head()"
   ]
  },
  {
   "cell_type": "markdown",
   "metadata": {
    "slideshow": {
     "slide_type": "subslide"
    }
   },
   "source": [
    "- Aplicação da função em todas as colunas do conjunto de dados"
   ]
  },
  {
   "cell_type": "code",
   "execution_count": 51,
   "metadata": {
    "slideshow": {
     "slide_type": "-"
    }
   },
   "outputs": [
    {
     "data": {
      "text/html": [
       "<div>\n",
       "<style scoped>\n",
       "    .dataframe tbody tr th:only-of-type {\n",
       "        vertical-align: middle;\n",
       "    }\n",
       "\n",
       "    .dataframe tbody tr th {\n",
       "        vertical-align: top;\n",
       "    }\n",
       "\n",
       "    .dataframe thead th {\n",
       "        text-align: right;\n",
       "    }\n",
       "</style>\n",
       "<table border=\"1\" class=\"dataframe\">\n",
       "  <thead>\n",
       "    <tr style=\"text-align: right;\">\n",
       "      <th></th>\n",
       "      <th>sepal length (cm)</th>\n",
       "      <th>sepal width (cm)</th>\n",
       "      <th>petal length (cm)</th>\n",
       "      <th>petal width (cm)</th>\n",
       "    </tr>\n",
       "  </thead>\n",
       "  <tbody>\n",
       "    <tr>\n",
       "      <th>0</th>\n",
       "      <td>0.222222</td>\n",
       "      <td>0.625000</td>\n",
       "      <td>0.067797</td>\n",
       "      <td>0.041667</td>\n",
       "    </tr>\n",
       "    <tr>\n",
       "      <th>1</th>\n",
       "      <td>0.166667</td>\n",
       "      <td>0.416667</td>\n",
       "      <td>0.067797</td>\n",
       "      <td>0.041667</td>\n",
       "    </tr>\n",
       "    <tr>\n",
       "      <th>2</th>\n",
       "      <td>0.111111</td>\n",
       "      <td>0.500000</td>\n",
       "      <td>0.050847</td>\n",
       "      <td>0.041667</td>\n",
       "    </tr>\n",
       "    <tr>\n",
       "      <th>3</th>\n",
       "      <td>0.083333</td>\n",
       "      <td>0.458333</td>\n",
       "      <td>0.084746</td>\n",
       "      <td>0.041667</td>\n",
       "    </tr>\n",
       "    <tr>\n",
       "      <th>4</th>\n",
       "      <td>0.194444</td>\n",
       "      <td>0.666667</td>\n",
       "      <td>0.067797</td>\n",
       "      <td>0.041667</td>\n",
       "    </tr>\n",
       "    <tr>\n",
       "      <th>5</th>\n",
       "      <td>0.305556</td>\n",
       "      <td>0.791667</td>\n",
       "      <td>0.118644</td>\n",
       "      <td>0.125000</td>\n",
       "    </tr>\n",
       "    <tr>\n",
       "      <th>6</th>\n",
       "      <td>0.083333</td>\n",
       "      <td>0.583333</td>\n",
       "      <td>0.067797</td>\n",
       "      <td>0.083333</td>\n",
       "    </tr>\n",
       "    <tr>\n",
       "      <th>7</th>\n",
       "      <td>0.194444</td>\n",
       "      <td>0.583333</td>\n",
       "      <td>0.084746</td>\n",
       "      <td>0.041667</td>\n",
       "    </tr>\n",
       "    <tr>\n",
       "      <th>8</th>\n",
       "      <td>0.027778</td>\n",
       "      <td>0.375000</td>\n",
       "      <td>0.067797</td>\n",
       "      <td>0.041667</td>\n",
       "    </tr>\n",
       "    <tr>\n",
       "      <th>9</th>\n",
       "      <td>0.166667</td>\n",
       "      <td>0.458333</td>\n",
       "      <td>0.084746</td>\n",
       "      <td>0.000000</td>\n",
       "    </tr>\n",
       "    <tr>\n",
       "      <th>10</th>\n",
       "      <td>0.305556</td>\n",
       "      <td>0.708333</td>\n",
       "      <td>0.084746</td>\n",
       "      <td>0.041667</td>\n",
       "    </tr>\n",
       "    <tr>\n",
       "      <th>11</th>\n",
       "      <td>0.138889</td>\n",
       "      <td>0.583333</td>\n",
       "      <td>0.101695</td>\n",
       "      <td>0.041667</td>\n",
       "    </tr>\n",
       "    <tr>\n",
       "      <th>12</th>\n",
       "      <td>0.138889</td>\n",
       "      <td>0.416667</td>\n",
       "      <td>0.067797</td>\n",
       "      <td>0.000000</td>\n",
       "    </tr>\n",
       "    <tr>\n",
       "      <th>13</th>\n",
       "      <td>0.000000</td>\n",
       "      <td>0.416667</td>\n",
       "      <td>0.016949</td>\n",
       "      <td>0.000000</td>\n",
       "    </tr>\n",
       "    <tr>\n",
       "      <th>14</th>\n",
       "      <td>0.416667</td>\n",
       "      <td>0.833333</td>\n",
       "      <td>0.033898</td>\n",
       "      <td>0.041667</td>\n",
       "    </tr>\n",
       "    <tr>\n",
       "      <th>15</th>\n",
       "      <td>0.388889</td>\n",
       "      <td>1.000000</td>\n",
       "      <td>0.084746</td>\n",
       "      <td>0.125000</td>\n",
       "    </tr>\n",
       "    <tr>\n",
       "      <th>16</th>\n",
       "      <td>0.305556</td>\n",
       "      <td>0.791667</td>\n",
       "      <td>0.050847</td>\n",
       "      <td>0.125000</td>\n",
       "    </tr>\n",
       "    <tr>\n",
       "      <th>17</th>\n",
       "      <td>0.222222</td>\n",
       "      <td>0.625000</td>\n",
       "      <td>0.067797</td>\n",
       "      <td>0.083333</td>\n",
       "    </tr>\n",
       "    <tr>\n",
       "      <th>18</th>\n",
       "      <td>0.388889</td>\n",
       "      <td>0.750000</td>\n",
       "      <td>0.118644</td>\n",
       "      <td>0.083333</td>\n",
       "    </tr>\n",
       "    <tr>\n",
       "      <th>19</th>\n",
       "      <td>0.222222</td>\n",
       "      <td>0.750000</td>\n",
       "      <td>0.084746</td>\n",
       "      <td>0.083333</td>\n",
       "    </tr>\n",
       "    <tr>\n",
       "      <th>20</th>\n",
       "      <td>0.305556</td>\n",
       "      <td>0.583333</td>\n",
       "      <td>0.118644</td>\n",
       "      <td>0.041667</td>\n",
       "    </tr>\n",
       "    <tr>\n",
       "      <th>21</th>\n",
       "      <td>0.222222</td>\n",
       "      <td>0.708333</td>\n",
       "      <td>0.084746</td>\n",
       "      <td>0.125000</td>\n",
       "    </tr>\n",
       "    <tr>\n",
       "      <th>22</th>\n",
       "      <td>0.083333</td>\n",
       "      <td>0.666667</td>\n",
       "      <td>0.000000</td>\n",
       "      <td>0.041667</td>\n",
       "    </tr>\n",
       "    <tr>\n",
       "      <th>23</th>\n",
       "      <td>0.222222</td>\n",
       "      <td>0.541667</td>\n",
       "      <td>0.118644</td>\n",
       "      <td>0.166667</td>\n",
       "    </tr>\n",
       "    <tr>\n",
       "      <th>24</th>\n",
       "      <td>0.138889</td>\n",
       "      <td>0.583333</td>\n",
       "      <td>0.152542</td>\n",
       "      <td>0.041667</td>\n",
       "    </tr>\n",
       "    <tr>\n",
       "      <th>25</th>\n",
       "      <td>0.194444</td>\n",
       "      <td>0.416667</td>\n",
       "      <td>0.101695</td>\n",
       "      <td>0.041667</td>\n",
       "    </tr>\n",
       "    <tr>\n",
       "      <th>26</th>\n",
       "      <td>0.194444</td>\n",
       "      <td>0.583333</td>\n",
       "      <td>0.101695</td>\n",
       "      <td>0.125000</td>\n",
       "    </tr>\n",
       "    <tr>\n",
       "      <th>27</th>\n",
       "      <td>0.250000</td>\n",
       "      <td>0.625000</td>\n",
       "      <td>0.084746</td>\n",
       "      <td>0.041667</td>\n",
       "    </tr>\n",
       "    <tr>\n",
       "      <th>28</th>\n",
       "      <td>0.250000</td>\n",
       "      <td>0.583333</td>\n",
       "      <td>0.067797</td>\n",
       "      <td>0.041667</td>\n",
       "    </tr>\n",
       "    <tr>\n",
       "      <th>29</th>\n",
       "      <td>0.111111</td>\n",
       "      <td>0.500000</td>\n",
       "      <td>0.101695</td>\n",
       "      <td>0.041667</td>\n",
       "    </tr>\n",
       "    <tr>\n",
       "      <th>...</th>\n",
       "      <td>...</td>\n",
       "      <td>...</td>\n",
       "      <td>...</td>\n",
       "      <td>...</td>\n",
       "    </tr>\n",
       "    <tr>\n",
       "      <th>120</th>\n",
       "      <td>0.722222</td>\n",
       "      <td>0.500000</td>\n",
       "      <td>0.796610</td>\n",
       "      <td>0.916667</td>\n",
       "    </tr>\n",
       "    <tr>\n",
       "      <th>121</th>\n",
       "      <td>0.361111</td>\n",
       "      <td>0.333333</td>\n",
       "      <td>0.661017</td>\n",
       "      <td>0.791667</td>\n",
       "    </tr>\n",
       "    <tr>\n",
       "      <th>122</th>\n",
       "      <td>0.944444</td>\n",
       "      <td>0.333333</td>\n",
       "      <td>0.966102</td>\n",
       "      <td>0.791667</td>\n",
       "    </tr>\n",
       "    <tr>\n",
       "      <th>123</th>\n",
       "      <td>0.555556</td>\n",
       "      <td>0.291667</td>\n",
       "      <td>0.661017</td>\n",
       "      <td>0.708333</td>\n",
       "    </tr>\n",
       "    <tr>\n",
       "      <th>124</th>\n",
       "      <td>0.666667</td>\n",
       "      <td>0.541667</td>\n",
       "      <td>0.796610</td>\n",
       "      <td>0.833333</td>\n",
       "    </tr>\n",
       "    <tr>\n",
       "      <th>125</th>\n",
       "      <td>0.805556</td>\n",
       "      <td>0.500000</td>\n",
       "      <td>0.847458</td>\n",
       "      <td>0.708333</td>\n",
       "    </tr>\n",
       "    <tr>\n",
       "      <th>126</th>\n",
       "      <td>0.527778</td>\n",
       "      <td>0.333333</td>\n",
       "      <td>0.644068</td>\n",
       "      <td>0.708333</td>\n",
       "    </tr>\n",
       "    <tr>\n",
       "      <th>127</th>\n",
       "      <td>0.500000</td>\n",
       "      <td>0.416667</td>\n",
       "      <td>0.661017</td>\n",
       "      <td>0.708333</td>\n",
       "    </tr>\n",
       "    <tr>\n",
       "      <th>128</th>\n",
       "      <td>0.583333</td>\n",
       "      <td>0.333333</td>\n",
       "      <td>0.779661</td>\n",
       "      <td>0.833333</td>\n",
       "    </tr>\n",
       "    <tr>\n",
       "      <th>129</th>\n",
       "      <td>0.805556</td>\n",
       "      <td>0.416667</td>\n",
       "      <td>0.813559</td>\n",
       "      <td>0.625000</td>\n",
       "    </tr>\n",
       "    <tr>\n",
       "      <th>130</th>\n",
       "      <td>0.861111</td>\n",
       "      <td>0.333333</td>\n",
       "      <td>0.864407</td>\n",
       "      <td>0.750000</td>\n",
       "    </tr>\n",
       "    <tr>\n",
       "      <th>131</th>\n",
       "      <td>1.000000</td>\n",
       "      <td>0.750000</td>\n",
       "      <td>0.915254</td>\n",
       "      <td>0.791667</td>\n",
       "    </tr>\n",
       "    <tr>\n",
       "      <th>132</th>\n",
       "      <td>0.583333</td>\n",
       "      <td>0.333333</td>\n",
       "      <td>0.779661</td>\n",
       "      <td>0.875000</td>\n",
       "    </tr>\n",
       "    <tr>\n",
       "      <th>133</th>\n",
       "      <td>0.555556</td>\n",
       "      <td>0.333333</td>\n",
       "      <td>0.694915</td>\n",
       "      <td>0.583333</td>\n",
       "    </tr>\n",
       "    <tr>\n",
       "      <th>134</th>\n",
       "      <td>0.500000</td>\n",
       "      <td>0.250000</td>\n",
       "      <td>0.779661</td>\n",
       "      <td>0.541667</td>\n",
       "    </tr>\n",
       "    <tr>\n",
       "      <th>135</th>\n",
       "      <td>0.944444</td>\n",
       "      <td>0.416667</td>\n",
       "      <td>0.864407</td>\n",
       "      <td>0.916667</td>\n",
       "    </tr>\n",
       "    <tr>\n",
       "      <th>136</th>\n",
       "      <td>0.555556</td>\n",
       "      <td>0.583333</td>\n",
       "      <td>0.779661</td>\n",
       "      <td>0.958333</td>\n",
       "    </tr>\n",
       "    <tr>\n",
       "      <th>137</th>\n",
       "      <td>0.583333</td>\n",
       "      <td>0.458333</td>\n",
       "      <td>0.762712</td>\n",
       "      <td>0.708333</td>\n",
       "    </tr>\n",
       "    <tr>\n",
       "      <th>138</th>\n",
       "      <td>0.472222</td>\n",
       "      <td>0.416667</td>\n",
       "      <td>0.644068</td>\n",
       "      <td>0.708333</td>\n",
       "    </tr>\n",
       "    <tr>\n",
       "      <th>139</th>\n",
       "      <td>0.722222</td>\n",
       "      <td>0.458333</td>\n",
       "      <td>0.745763</td>\n",
       "      <td>0.833333</td>\n",
       "    </tr>\n",
       "    <tr>\n",
       "      <th>140</th>\n",
       "      <td>0.666667</td>\n",
       "      <td>0.458333</td>\n",
       "      <td>0.779661</td>\n",
       "      <td>0.958333</td>\n",
       "    </tr>\n",
       "    <tr>\n",
       "      <th>141</th>\n",
       "      <td>0.722222</td>\n",
       "      <td>0.458333</td>\n",
       "      <td>0.694915</td>\n",
       "      <td>0.916667</td>\n",
       "    </tr>\n",
       "    <tr>\n",
       "      <th>142</th>\n",
       "      <td>0.416667</td>\n",
       "      <td>0.291667</td>\n",
       "      <td>0.694915</td>\n",
       "      <td>0.750000</td>\n",
       "    </tr>\n",
       "    <tr>\n",
       "      <th>143</th>\n",
       "      <td>0.694444</td>\n",
       "      <td>0.500000</td>\n",
       "      <td>0.830508</td>\n",
       "      <td>0.916667</td>\n",
       "    </tr>\n",
       "    <tr>\n",
       "      <th>144</th>\n",
       "      <td>0.666667</td>\n",
       "      <td>0.541667</td>\n",
       "      <td>0.796610</td>\n",
       "      <td>1.000000</td>\n",
       "    </tr>\n",
       "    <tr>\n",
       "      <th>145</th>\n",
       "      <td>0.666667</td>\n",
       "      <td>0.416667</td>\n",
       "      <td>0.711864</td>\n",
       "      <td>0.916667</td>\n",
       "    </tr>\n",
       "    <tr>\n",
       "      <th>146</th>\n",
       "      <td>0.555556</td>\n",
       "      <td>0.208333</td>\n",
       "      <td>0.677966</td>\n",
       "      <td>0.750000</td>\n",
       "    </tr>\n",
       "    <tr>\n",
       "      <th>147</th>\n",
       "      <td>0.611111</td>\n",
       "      <td>0.416667</td>\n",
       "      <td>0.711864</td>\n",
       "      <td>0.791667</td>\n",
       "    </tr>\n",
       "    <tr>\n",
       "      <th>148</th>\n",
       "      <td>0.527778</td>\n",
       "      <td>0.583333</td>\n",
       "      <td>0.745763</td>\n",
       "      <td>0.916667</td>\n",
       "    </tr>\n",
       "    <tr>\n",
       "      <th>149</th>\n",
       "      <td>0.444444</td>\n",
       "      <td>0.416667</td>\n",
       "      <td>0.694915</td>\n",
       "      <td>0.708333</td>\n",
       "    </tr>\n",
       "  </tbody>\n",
       "</table>\n",
       "<p>150 rows × 4 columns</p>\n",
       "</div>"
      ],
      "text/plain": [
       "     sepal length (cm)  sepal width (cm)  petal length (cm)  petal width (cm)\n",
       "0             0.222222          0.625000           0.067797          0.041667\n",
       "1             0.166667          0.416667           0.067797          0.041667\n",
       "2             0.111111          0.500000           0.050847          0.041667\n",
       "3             0.083333          0.458333           0.084746          0.041667\n",
       "4             0.194444          0.666667           0.067797          0.041667\n",
       "..                 ...               ...                ...               ...\n",
       "145           0.666667          0.416667           0.711864          0.916667\n",
       "146           0.555556          0.208333           0.677966          0.750000\n",
       "147           0.611111          0.416667           0.711864          0.791667\n",
       "148           0.527778          0.583333           0.745763          0.916667\n",
       "149           0.444444          0.416667           0.694915          0.708333\n",
       "\n",
       "[150 rows x 4 columns]"
      ]
     },
     "execution_count": 51,
     "metadata": {},
     "output_type": "execute_result"
    }
   ],
   "source": [
    "new_data = data.apply(normalizacao_linear, axis = 0)\n",
    "new_data"
   ]
  },
  {
   "cell_type": "code",
   "execution_count": 13,
   "metadata": {
    "slideshow": {
     "slide_type": "subslide"
    }
   },
   "outputs": [
    {
     "data": {
      "text/html": [
       "<div>\n",
       "<style scoped>\n",
       "    .dataframe tbody tr th:only-of-type {\n",
       "        vertical-align: middle;\n",
       "    }\n",
       "\n",
       "    .dataframe tbody tr th {\n",
       "        vertical-align: top;\n",
       "    }\n",
       "\n",
       "    .dataframe thead th {\n",
       "        text-align: right;\n",
       "    }\n",
       "</style>\n",
       "<table border=\"1\" class=\"dataframe\">\n",
       "  <thead>\n",
       "    <tr style=\"text-align: right;\">\n",
       "      <th></th>\n",
       "      <th>sepal length (cm)</th>\n",
       "      <th>sepal width (cm)</th>\n",
       "      <th>petal length (cm)</th>\n",
       "      <th>petal width (cm)</th>\n",
       "    </tr>\n",
       "  </thead>\n",
       "  <tbody>\n",
       "    <tr>\n",
       "      <th>count</th>\n",
       "      <td>150.00000</td>\n",
       "      <td>150.00000</td>\n",
       "      <td>150.00000</td>\n",
       "      <td>150.00000</td>\n",
       "    </tr>\n",
       "    <tr>\n",
       "      <th>mean</th>\n",
       "      <td>0.42870</td>\n",
       "      <td>0.44056</td>\n",
       "      <td>0.46746</td>\n",
       "      <td>0.45806</td>\n",
       "    </tr>\n",
       "    <tr>\n",
       "      <th>std</th>\n",
       "      <td>0.23002</td>\n",
       "      <td>0.18161</td>\n",
       "      <td>0.29920</td>\n",
       "      <td>0.31760</td>\n",
       "    </tr>\n",
       "    <tr>\n",
       "      <th>min</th>\n",
       "      <td>0.00000</td>\n",
       "      <td>0.00000</td>\n",
       "      <td>0.00000</td>\n",
       "      <td>0.00000</td>\n",
       "    </tr>\n",
       "    <tr>\n",
       "      <th>25%</th>\n",
       "      <td>0.22222</td>\n",
       "      <td>0.33333</td>\n",
       "      <td>0.10169</td>\n",
       "      <td>0.08333</td>\n",
       "    </tr>\n",
       "    <tr>\n",
       "      <th>50%</th>\n",
       "      <td>0.41667</td>\n",
       "      <td>0.41667</td>\n",
       "      <td>0.56780</td>\n",
       "      <td>0.50000</td>\n",
       "    </tr>\n",
       "    <tr>\n",
       "      <th>75%</th>\n",
       "      <td>0.58333</td>\n",
       "      <td>0.54167</td>\n",
       "      <td>0.69492</td>\n",
       "      <td>0.70833</td>\n",
       "    </tr>\n",
       "    <tr>\n",
       "      <th>max</th>\n",
       "      <td>1.00000</td>\n",
       "      <td>1.00000</td>\n",
       "      <td>1.00000</td>\n",
       "      <td>1.00000</td>\n",
       "    </tr>\n",
       "  </tbody>\n",
       "</table>\n",
       "</div>"
      ],
      "text/plain": [
       "       sepal length (cm)  sepal width (cm)  petal length (cm)  \\\n",
       "count          150.00000         150.00000          150.00000   \n",
       "mean             0.42870           0.44056            0.46746   \n",
       "std              0.23002           0.18161            0.29920   \n",
       "min              0.00000           0.00000            0.00000   \n",
       "25%              0.22222           0.33333            0.10169   \n",
       "50%              0.41667           0.41667            0.56780   \n",
       "75%              0.58333           0.54167            0.69492   \n",
       "max              1.00000           1.00000            1.00000   \n",
       "\n",
       "       petal width (cm)  \n",
       "count         150.00000  \n",
       "mean            0.45806  \n",
       "std             0.31760  \n",
       "min             0.00000  \n",
       "25%             0.08333  \n",
       "50%             0.50000  \n",
       "75%             0.70833  \n",
       "max             1.00000  "
      ]
     },
     "execution_count": 13,
     "metadata": {},
     "output_type": "execute_result"
    }
   ],
   "source": [
    "new_data.describe().round(5)"
   ]
  },
  {
   "cell_type": "markdown",
   "metadata": {
    "slideshow": {
     "slide_type": "subslide"
    }
   },
   "source": [
    "### Atividade\n",
    "\n",
    "- Com o conjunto de dados *iris*, para cada atributo do conjunto de dados faça:\n",
    "    - Normalização Linear\n",
    "    - Normalização por Desvio-padrão\n",
    "    - Normalização por Valor Máximo\n",
    "    - Normalização por Escala Decimal"
   ]
  },
  {
   "cell_type": "markdown",
   "metadata": {
    "slideshow": {
     "slide_type": "subslide"
    }
   },
   "source": [
    "## Discretização de Dados Numéricos\n",
    "\n",
    "- Alguns algoritmos de aprendizado trabalham apenas com dados discretos (ou categóricos), como o ID3 (Iterative Dichotomiser 3) desenvolvido por Ross Quinlan em 1986. Isto é, ao invés de utilizar o valor de, por exemplo, altura em metros ou centímetros, utilizam os valores baixo, médio, alto.\n",
    "\n",
    "- Outros algoritmos podem ter desempenho melhor em alguns problemas se usada a representação discretazada de uma variável contínua, como no caso do algoritmo Naïve Bayes.\n",
    "\n",
    "- Em algumas ocasiões o armazenamento de dados é feito com valores numéricos, embora indiquem informações categóricas, por exemplo um atributo gênero, onde o valor 0 indica masculino, 1 feminino e 2 outro."
   ]
  },
  {
   "cell_type": "markdown",
   "metadata": {
    "slideshow": {
     "slide_type": "subslide"
    }
   },
   "source": [
    "- O objetivo da categorização consiste em transformar de valores numéricos para categóricos ou discretos.\n",
    "\n",
    "- A idéia é perder a menor quantidade de informação possível para o domínio do problema, durante esse processo.\n",
    "\n",
    "- As principais abordagens são:\n",
    "    - Mapeamento Direto\n",
    "    - Mapeamento em Intervalos"
   ]
  },
  {
   "cell_type": "markdown",
   "metadata": {
    "slideshow": {
     "slide_type": "subslide"
    }
   },
   "source": [
    "### Mapeamento Direto\n",
    "\n",
    "- Neste tipo de discretização ocorre a substituição de valores numéricos por valores categóricos conhecidos no domínio do problema.\n",
    "\n",
    "- Como o exemplo citado anteriormente, o atributo gênero pode ser armazenado como um valor numérico e o mesmo deve ser transformado, com o objetivo que, tanto as técnicas visualização, quanto os algoritmos de aprendizado não entendam esse atributo como numérico e sim como discreto."
   ]
  },
  {
   "cell_type": "markdown",
   "metadata": {
    "slideshow": {
     "slide_type": "subslide"
    }
   },
   "source": [
    "- Vamos criar um vetor de dados para uma variável gênero, distribuída de forma uniforme entre os valores 0, 1 e 2."
   ]
  },
  {
   "cell_type": "code",
   "execution_count": 29,
   "metadata": {},
   "outputs": [
    {
     "data": {
      "text/plain": [
       "array([1, 0, 0, 1, 1, 0, 0, 1, 0, 1, 0, 2, 1, 2, 0, 2, 1, 2, 0, 0])"
      ]
     },
     "execution_count": 29,
     "metadata": {},
     "output_type": "execute_result"
    }
   ],
   "source": [
    "np.random.seed(1)\n",
    "genero =  np.random.randint(low = 0, high = 3, size=20)\n",
    "genero"
   ]
  },
  {
   "cell_type": "markdown",
   "metadata": {},
   "source": [
    "- Criamos um DataFrame a partir dessa coluna"
   ]
  },
  {
   "cell_type": "code",
   "execution_count": 30,
   "metadata": {},
   "outputs": [
    {
     "data": {
      "text/html": [
       "<div>\n",
       "<style scoped>\n",
       "    .dataframe tbody tr th:only-of-type {\n",
       "        vertical-align: middle;\n",
       "    }\n",
       "\n",
       "    .dataframe tbody tr th {\n",
       "        vertical-align: top;\n",
       "    }\n",
       "\n",
       "    .dataframe thead th {\n",
       "        text-align: right;\n",
       "    }\n",
       "</style>\n",
       "<table border=\"1\" class=\"dataframe\">\n",
       "  <thead>\n",
       "    <tr style=\"text-align: right;\">\n",
       "      <th></th>\n",
       "      <th>genero</th>\n",
       "    </tr>\n",
       "  </thead>\n",
       "  <tbody>\n",
       "    <tr>\n",
       "      <th>0</th>\n",
       "      <td>1</td>\n",
       "    </tr>\n",
       "    <tr>\n",
       "      <th>1</th>\n",
       "      <td>0</td>\n",
       "    </tr>\n",
       "    <tr>\n",
       "      <th>2</th>\n",
       "      <td>0</td>\n",
       "    </tr>\n",
       "    <tr>\n",
       "      <th>3</th>\n",
       "      <td>1</td>\n",
       "    </tr>\n",
       "    <tr>\n",
       "      <th>4</th>\n",
       "      <td>1</td>\n",
       "    </tr>\n",
       "    <tr>\n",
       "      <th>5</th>\n",
       "      <td>0</td>\n",
       "    </tr>\n",
       "    <tr>\n",
       "      <th>6</th>\n",
       "      <td>0</td>\n",
       "    </tr>\n",
       "    <tr>\n",
       "      <th>7</th>\n",
       "      <td>1</td>\n",
       "    </tr>\n",
       "    <tr>\n",
       "      <th>8</th>\n",
       "      <td>0</td>\n",
       "    </tr>\n",
       "    <tr>\n",
       "      <th>9</th>\n",
       "      <td>1</td>\n",
       "    </tr>\n",
       "    <tr>\n",
       "      <th>10</th>\n",
       "      <td>0</td>\n",
       "    </tr>\n",
       "    <tr>\n",
       "      <th>11</th>\n",
       "      <td>2</td>\n",
       "    </tr>\n",
       "    <tr>\n",
       "      <th>12</th>\n",
       "      <td>1</td>\n",
       "    </tr>\n",
       "    <tr>\n",
       "      <th>13</th>\n",
       "      <td>2</td>\n",
       "    </tr>\n",
       "    <tr>\n",
       "      <th>14</th>\n",
       "      <td>0</td>\n",
       "    </tr>\n",
       "    <tr>\n",
       "      <th>15</th>\n",
       "      <td>2</td>\n",
       "    </tr>\n",
       "    <tr>\n",
       "      <th>16</th>\n",
       "      <td>1</td>\n",
       "    </tr>\n",
       "    <tr>\n",
       "      <th>17</th>\n",
       "      <td>2</td>\n",
       "    </tr>\n",
       "    <tr>\n",
       "      <th>18</th>\n",
       "      <td>0</td>\n",
       "    </tr>\n",
       "    <tr>\n",
       "      <th>19</th>\n",
       "      <td>0</td>\n",
       "    </tr>\n",
       "  </tbody>\n",
       "</table>\n",
       "</div>"
      ],
      "text/plain": [
       "    genero\n",
       "0        1\n",
       "1        0\n",
       "2        0\n",
       "3        1\n",
       "4        1\n",
       "5        0\n",
       "6        0\n",
       "7        1\n",
       "8        0\n",
       "9        1\n",
       "10       0\n",
       "11       2\n",
       "12       1\n",
       "13       2\n",
       "14       0\n",
       "15       2\n",
       "16       1\n",
       "17       2\n",
       "18       0\n",
       "19       0"
      ]
     },
     "execution_count": 30,
     "metadata": {},
     "output_type": "execute_result"
    }
   ],
   "source": [
    "df = pd.DataFrame( {'genero' : genero} )\n",
    "df"
   ]
  },
  {
   "cell_type": "markdown",
   "metadata": {
    "slideshow": {
     "slide_type": "subslide"
    }
   },
   "source": [
    "- Vamos acessar a coluna `genero` e executar a função `replace` que recebe as substituições como parâmetro."
   ]
  },
  {
   "cell_type": "code",
   "execution_count": 31,
   "metadata": {
    "scrolled": true
   },
   "outputs": [
    {
     "data": {
      "text/html": [
       "<div>\n",
       "<style scoped>\n",
       "    .dataframe tbody tr th:only-of-type {\n",
       "        vertical-align: middle;\n",
       "    }\n",
       "\n",
       "    .dataframe tbody tr th {\n",
       "        vertical-align: top;\n",
       "    }\n",
       "\n",
       "    .dataframe thead th {\n",
       "        text-align: right;\n",
       "    }\n",
       "</style>\n",
       "<table border=\"1\" class=\"dataframe\">\n",
       "  <thead>\n",
       "    <tr style=\"text-align: right;\">\n",
       "      <th></th>\n",
       "      <th>genero</th>\n",
       "      <th>genero_categoria</th>\n",
       "    </tr>\n",
       "  </thead>\n",
       "  <tbody>\n",
       "    <tr>\n",
       "      <th>0</th>\n",
       "      <td>1</td>\n",
       "      <td>Feminino</td>\n",
       "    </tr>\n",
       "    <tr>\n",
       "      <th>1</th>\n",
       "      <td>0</td>\n",
       "      <td>Masculino</td>\n",
       "    </tr>\n",
       "    <tr>\n",
       "      <th>2</th>\n",
       "      <td>0</td>\n",
       "      <td>Masculino</td>\n",
       "    </tr>\n",
       "    <tr>\n",
       "      <th>3</th>\n",
       "      <td>1</td>\n",
       "      <td>Feminino</td>\n",
       "    </tr>\n",
       "    <tr>\n",
       "      <th>4</th>\n",
       "      <td>1</td>\n",
       "      <td>Feminino</td>\n",
       "    </tr>\n",
       "    <tr>\n",
       "      <th>5</th>\n",
       "      <td>0</td>\n",
       "      <td>Masculino</td>\n",
       "    </tr>\n",
       "    <tr>\n",
       "      <th>6</th>\n",
       "      <td>0</td>\n",
       "      <td>Masculino</td>\n",
       "    </tr>\n",
       "    <tr>\n",
       "      <th>7</th>\n",
       "      <td>1</td>\n",
       "      <td>Feminino</td>\n",
       "    </tr>\n",
       "    <tr>\n",
       "      <th>8</th>\n",
       "      <td>0</td>\n",
       "      <td>Masculino</td>\n",
       "    </tr>\n",
       "    <tr>\n",
       "      <th>9</th>\n",
       "      <td>1</td>\n",
       "      <td>Feminino</td>\n",
       "    </tr>\n",
       "    <tr>\n",
       "      <th>10</th>\n",
       "      <td>0</td>\n",
       "      <td>Masculino</td>\n",
       "    </tr>\n",
       "    <tr>\n",
       "      <th>11</th>\n",
       "      <td>2</td>\n",
       "      <td>Outro</td>\n",
       "    </tr>\n",
       "    <tr>\n",
       "      <th>12</th>\n",
       "      <td>1</td>\n",
       "      <td>Feminino</td>\n",
       "    </tr>\n",
       "    <tr>\n",
       "      <th>13</th>\n",
       "      <td>2</td>\n",
       "      <td>Outro</td>\n",
       "    </tr>\n",
       "    <tr>\n",
       "      <th>14</th>\n",
       "      <td>0</td>\n",
       "      <td>Masculino</td>\n",
       "    </tr>\n",
       "    <tr>\n",
       "      <th>15</th>\n",
       "      <td>2</td>\n",
       "      <td>Outro</td>\n",
       "    </tr>\n",
       "    <tr>\n",
       "      <th>16</th>\n",
       "      <td>1</td>\n",
       "      <td>Feminino</td>\n",
       "    </tr>\n",
       "    <tr>\n",
       "      <th>17</th>\n",
       "      <td>2</td>\n",
       "      <td>Outro</td>\n",
       "    </tr>\n",
       "    <tr>\n",
       "      <th>18</th>\n",
       "      <td>0</td>\n",
       "      <td>Masculino</td>\n",
       "    </tr>\n",
       "    <tr>\n",
       "      <th>19</th>\n",
       "      <td>0</td>\n",
       "      <td>Masculino</td>\n",
       "    </tr>\n",
       "  </tbody>\n",
       "</table>\n",
       "</div>"
      ],
      "text/plain": [
       "    genero genero_categoria\n",
       "0        1         Feminino\n",
       "1        0        Masculino\n",
       "2        0        Masculino\n",
       "3        1         Feminino\n",
       "4        1         Feminino\n",
       "5        0        Masculino\n",
       "6        0        Masculino\n",
       "7        1         Feminino\n",
       "8        0        Masculino\n",
       "9        1         Feminino\n",
       "10       0        Masculino\n",
       "11       2            Outro\n",
       "12       1         Feminino\n",
       "13       2            Outro\n",
       "14       0        Masculino\n",
       "15       2            Outro\n",
       "16       1         Feminino\n",
       "17       2            Outro\n",
       "18       0        Masculino\n",
       "19       0        Masculino"
      ]
     },
     "execution_count": 31,
     "metadata": {},
     "output_type": "execute_result"
    }
   ],
   "source": [
    "df['genero_categoria'] = df.genero.replace(to_replace = {0 : 'Masculino', 1 : 'Feminino', 2 : 'Outro'})\n",
    "df"
   ]
  },
  {
   "cell_type": "markdown",
   "metadata": {
    "slideshow": {
     "slide_type": "subslide"
    }
   },
   "source": [
    "- Em geral cria-se uma variável que armazena essa informações. Essa variável chamada de dicionário (tipo dict)."
   ]
  },
  {
   "cell_type": "code",
   "execution_count": 32,
   "metadata": {},
   "outputs": [
    {
     "name": "stdout",
     "output_type": "stream",
     "text": [
      "{0: 'Masculino', 1: 'Feminino', 2: 'Outro'}\n",
      "type:  <class 'dict'>\n"
     ]
    }
   ],
   "source": [
    "to_replace = {\n",
    "    0 : 'Masculino',\n",
    "    1 : 'Feminino',\n",
    "    2 : 'Outro'\n",
    "}\n",
    "print(to_replace)\n",
    "print('type: ', type(to_replace) )"
   ]
  },
  {
   "cell_type": "markdown",
   "metadata": {
    "slideshow": {
     "slide_type": "subslide"
    }
   },
   "source": [
    "- Podemos passar essa variável `to_replace` como argumento do parâmetro `to_replace` da função `replace`."
   ]
  },
  {
   "cell_type": "code",
   "execution_count": 43,
   "metadata": {},
   "outputs": [
    {
     "data": {
      "text/html": [
       "<div>\n",
       "<style scoped>\n",
       "    .dataframe tbody tr th:only-of-type {\n",
       "        vertical-align: middle;\n",
       "    }\n",
       "\n",
       "    .dataframe tbody tr th {\n",
       "        vertical-align: top;\n",
       "    }\n",
       "\n",
       "    .dataframe thead th {\n",
       "        text-align: right;\n",
       "    }\n",
       "</style>\n",
       "<table border=\"1\" class=\"dataframe\">\n",
       "  <thead>\n",
       "    <tr style=\"text-align: right;\">\n",
       "      <th></th>\n",
       "      <th>genero</th>\n",
       "      <th>genero_categoria</th>\n",
       "    </tr>\n",
       "  </thead>\n",
       "  <tbody>\n",
       "    <tr>\n",
       "      <th>0</th>\n",
       "      <td>1</td>\n",
       "      <td>Feminino</td>\n",
       "    </tr>\n",
       "    <tr>\n",
       "      <th>1</th>\n",
       "      <td>0</td>\n",
       "      <td>Masculino</td>\n",
       "    </tr>\n",
       "    <tr>\n",
       "      <th>2</th>\n",
       "      <td>0</td>\n",
       "      <td>Masculino</td>\n",
       "    </tr>\n",
       "    <tr>\n",
       "      <th>3</th>\n",
       "      <td>1</td>\n",
       "      <td>Feminino</td>\n",
       "    </tr>\n",
       "    <tr>\n",
       "      <th>4</th>\n",
       "      <td>1</td>\n",
       "      <td>Feminino</td>\n",
       "    </tr>\n",
       "    <tr>\n",
       "      <th>5</th>\n",
       "      <td>0</td>\n",
       "      <td>Masculino</td>\n",
       "    </tr>\n",
       "    <tr>\n",
       "      <th>6</th>\n",
       "      <td>0</td>\n",
       "      <td>Masculino</td>\n",
       "    </tr>\n",
       "    <tr>\n",
       "      <th>7</th>\n",
       "      <td>1</td>\n",
       "      <td>Feminino</td>\n",
       "    </tr>\n",
       "    <tr>\n",
       "      <th>8</th>\n",
       "      <td>0</td>\n",
       "      <td>Masculino</td>\n",
       "    </tr>\n",
       "    <tr>\n",
       "      <th>9</th>\n",
       "      <td>1</td>\n",
       "      <td>Feminino</td>\n",
       "    </tr>\n",
       "    <tr>\n",
       "      <th>10</th>\n",
       "      <td>0</td>\n",
       "      <td>Masculino</td>\n",
       "    </tr>\n",
       "    <tr>\n",
       "      <th>11</th>\n",
       "      <td>2</td>\n",
       "      <td>Outro</td>\n",
       "    </tr>\n",
       "    <tr>\n",
       "      <th>12</th>\n",
       "      <td>1</td>\n",
       "      <td>Feminino</td>\n",
       "    </tr>\n",
       "    <tr>\n",
       "      <th>13</th>\n",
       "      <td>2</td>\n",
       "      <td>Outro</td>\n",
       "    </tr>\n",
       "    <tr>\n",
       "      <th>14</th>\n",
       "      <td>0</td>\n",
       "      <td>Masculino</td>\n",
       "    </tr>\n",
       "    <tr>\n",
       "      <th>15</th>\n",
       "      <td>2</td>\n",
       "      <td>Outro</td>\n",
       "    </tr>\n",
       "    <tr>\n",
       "      <th>16</th>\n",
       "      <td>1</td>\n",
       "      <td>Feminino</td>\n",
       "    </tr>\n",
       "    <tr>\n",
       "      <th>17</th>\n",
       "      <td>2</td>\n",
       "      <td>Outro</td>\n",
       "    </tr>\n",
       "    <tr>\n",
       "      <th>18</th>\n",
       "      <td>0</td>\n",
       "      <td>Masculino</td>\n",
       "    </tr>\n",
       "    <tr>\n",
       "      <th>19</th>\n",
       "      <td>0</td>\n",
       "      <td>Masculino</td>\n",
       "    </tr>\n",
       "  </tbody>\n",
       "</table>\n",
       "</div>"
      ],
      "text/plain": [
       "    genero genero_categoria\n",
       "0        1         Feminino\n",
       "1        0        Masculino\n",
       "2        0        Masculino\n",
       "3        1         Feminino\n",
       "4        1         Feminino\n",
       "5        0        Masculino\n",
       "6        0        Masculino\n",
       "7        1         Feminino\n",
       "8        0        Masculino\n",
       "9        1         Feminino\n",
       "10       0        Masculino\n",
       "11       2            Outro\n",
       "12       1         Feminino\n",
       "13       2            Outro\n",
       "14       0        Masculino\n",
       "15       2            Outro\n",
       "16       1         Feminino\n",
       "17       2            Outro\n",
       "18       0        Masculino\n",
       "19       0        Masculino"
      ]
     },
     "execution_count": 43,
     "metadata": {},
     "output_type": "execute_result"
    }
   ],
   "source": [
    "df['genero_categoria'] = df.genero.replace(to_replace = to_replace)\n",
    "df"
   ]
  },
  {
   "cell_type": "markdown",
   "metadata": {
    "slideshow": {
     "slide_type": "subslide"
    }
   },
   "source": [
    "- Uma segunda forma de fazer isso é definir uma função `get_categoria_genero` que é responsável por receber um valor da variável (0, 1 ou 2) e retorna o valor correspondente. Duas implementações dessa função são apresentadas a seguir:"
   ]
  },
  {
   "cell_type": "code",
   "execution_count": 27,
   "metadata": {},
   "outputs": [
    {
     "data": {
      "text/plain": [
       "'Feminino'"
      ]
     },
     "execution_count": 27,
     "metadata": {},
     "output_type": "execute_result"
    }
   ],
   "source": [
    "def get_categoria_genero(x) :\n",
    "    if (x == 0) :\n",
    "        return 'Masculino'\n",
    "    elif (x == 1) :\n",
    "        return 'Feminino'\n",
    "    elif (x == 2) :\n",
    "        return 'Outro'\n",
    "    \n",
    "get_categoria_genero(1)"
   ]
  },
  {
   "cell_type": "code",
   "execution_count": 26,
   "metadata": {},
   "outputs": [
    {
     "data": {
      "text/plain": [
       "'Masculino'"
      ]
     },
     "execution_count": 26,
     "metadata": {},
     "output_type": "execute_result"
    }
   ],
   "source": [
    "def get_categoria_genero(x) :\n",
    "    dict_genero = {0 : 'Masculino', 1 : 'Feminino', 2 : 'Outro'}\n",
    "    return dict_genero[x]\n",
    "\n",
    "get_categoria_genero(0)"
   ]
  },
  {
   "cell_type": "markdown",
   "metadata": {
    "slideshow": {
     "slide_type": "subslide"
    }
   },
   "source": [
    "- Aplicamos essa função na coluna `genero` armazenamos o resultado na coluna `genero_categoria_2`."
   ]
  },
  {
   "cell_type": "code",
   "execution_count": 28,
   "metadata": {},
   "outputs": [
    {
     "data": {
      "text/html": [
       "<div>\n",
       "<style scoped>\n",
       "    .dataframe tbody tr th:only-of-type {\n",
       "        vertical-align: middle;\n",
       "    }\n",
       "\n",
       "    .dataframe tbody tr th {\n",
       "        vertical-align: top;\n",
       "    }\n",
       "\n",
       "    .dataframe thead th {\n",
       "        text-align: right;\n",
       "    }\n",
       "</style>\n",
       "<table border=\"1\" class=\"dataframe\">\n",
       "  <thead>\n",
       "    <tr style=\"text-align: right;\">\n",
       "      <th></th>\n",
       "      <th>genero</th>\n",
       "      <th>genero_categoria</th>\n",
       "      <th>genero_categoria_2</th>\n",
       "    </tr>\n",
       "  </thead>\n",
       "  <tbody>\n",
       "    <tr>\n",
       "      <th>0</th>\n",
       "      <td>1</td>\n",
       "      <td>Feminino</td>\n",
       "      <td>Feminino</td>\n",
       "    </tr>\n",
       "    <tr>\n",
       "      <th>1</th>\n",
       "      <td>0</td>\n",
       "      <td>Masculino</td>\n",
       "      <td>Masculino</td>\n",
       "    </tr>\n",
       "    <tr>\n",
       "      <th>2</th>\n",
       "      <td>0</td>\n",
       "      <td>Masculino</td>\n",
       "      <td>Masculino</td>\n",
       "    </tr>\n",
       "    <tr>\n",
       "      <th>3</th>\n",
       "      <td>1</td>\n",
       "      <td>Feminino</td>\n",
       "      <td>Feminino</td>\n",
       "    </tr>\n",
       "    <tr>\n",
       "      <th>4</th>\n",
       "      <td>1</td>\n",
       "      <td>Feminino</td>\n",
       "      <td>Feminino</td>\n",
       "    </tr>\n",
       "    <tr>\n",
       "      <th>5</th>\n",
       "      <td>0</td>\n",
       "      <td>Masculino</td>\n",
       "      <td>Masculino</td>\n",
       "    </tr>\n",
       "    <tr>\n",
       "      <th>6</th>\n",
       "      <td>0</td>\n",
       "      <td>Masculino</td>\n",
       "      <td>Masculino</td>\n",
       "    </tr>\n",
       "    <tr>\n",
       "      <th>7</th>\n",
       "      <td>1</td>\n",
       "      <td>Feminino</td>\n",
       "      <td>Feminino</td>\n",
       "    </tr>\n",
       "    <tr>\n",
       "      <th>8</th>\n",
       "      <td>0</td>\n",
       "      <td>Masculino</td>\n",
       "      <td>Masculino</td>\n",
       "    </tr>\n",
       "    <tr>\n",
       "      <th>9</th>\n",
       "      <td>1</td>\n",
       "      <td>Feminino</td>\n",
       "      <td>Feminino</td>\n",
       "    </tr>\n",
       "    <tr>\n",
       "      <th>10</th>\n",
       "      <td>0</td>\n",
       "      <td>Masculino</td>\n",
       "      <td>Masculino</td>\n",
       "    </tr>\n",
       "    <tr>\n",
       "      <th>11</th>\n",
       "      <td>2</td>\n",
       "      <td>Outro</td>\n",
       "      <td>Outro</td>\n",
       "    </tr>\n",
       "    <tr>\n",
       "      <th>12</th>\n",
       "      <td>1</td>\n",
       "      <td>Feminino</td>\n",
       "      <td>Feminino</td>\n",
       "    </tr>\n",
       "    <tr>\n",
       "      <th>13</th>\n",
       "      <td>2</td>\n",
       "      <td>Outro</td>\n",
       "      <td>Outro</td>\n",
       "    </tr>\n",
       "    <tr>\n",
       "      <th>14</th>\n",
       "      <td>0</td>\n",
       "      <td>Masculino</td>\n",
       "      <td>Masculino</td>\n",
       "    </tr>\n",
       "    <tr>\n",
       "      <th>15</th>\n",
       "      <td>2</td>\n",
       "      <td>Outro</td>\n",
       "      <td>Outro</td>\n",
       "    </tr>\n",
       "    <tr>\n",
       "      <th>16</th>\n",
       "      <td>1</td>\n",
       "      <td>Feminino</td>\n",
       "      <td>Feminino</td>\n",
       "    </tr>\n",
       "    <tr>\n",
       "      <th>17</th>\n",
       "      <td>2</td>\n",
       "      <td>Outro</td>\n",
       "      <td>Outro</td>\n",
       "    </tr>\n",
       "    <tr>\n",
       "      <th>18</th>\n",
       "      <td>0</td>\n",
       "      <td>Masculino</td>\n",
       "      <td>Masculino</td>\n",
       "    </tr>\n",
       "    <tr>\n",
       "      <th>19</th>\n",
       "      <td>0</td>\n",
       "      <td>Masculino</td>\n",
       "      <td>Masculino</td>\n",
       "    </tr>\n",
       "  </tbody>\n",
       "</table>\n",
       "</div>"
      ],
      "text/plain": [
       "    genero genero_categoria genero_categoria_2\n",
       "0        1         Feminino           Feminino\n",
       "1        0        Masculino          Masculino\n",
       "2        0        Masculino          Masculino\n",
       "3        1         Feminino           Feminino\n",
       "4        1         Feminino           Feminino\n",
       "5        0        Masculino          Masculino\n",
       "6        0        Masculino          Masculino\n",
       "7        1         Feminino           Feminino\n",
       "8        0        Masculino          Masculino\n",
       "9        1         Feminino           Feminino\n",
       "10       0        Masculino          Masculino\n",
       "11       2            Outro              Outro\n",
       "12       1         Feminino           Feminino\n",
       "13       2            Outro              Outro\n",
       "14       0        Masculino          Masculino\n",
       "15       2            Outro              Outro\n",
       "16       1         Feminino           Feminino\n",
       "17       2            Outro              Outro\n",
       "18       0        Masculino          Masculino\n",
       "19       0        Masculino          Masculino"
      ]
     },
     "execution_count": 28,
     "metadata": {},
     "output_type": "execute_result"
    }
   ],
   "source": [
    "df['genero_categoria_2'] = df.genero.apply(get_categoria_genero)\n",
    "df"
   ]
  },
  {
   "cell_type": "markdown",
   "metadata": {
    "slideshow": {
     "slide_type": "subslide"
    }
   },
   "source": [
    "### Mapeamento em Intervalos\n",
    "\n",
    "- Intervalos pré-definidos\n",
    "- Intervalos de igual tamanho\n",
    "- Intervalos de igual frequência"
   ]
  },
  {
   "cell_type": "markdown",
   "metadata": {
    "slideshow": {
     "slide_type": "subslide"
    }
   },
   "source": [
    "#### Intervalos Pré-definidos\n",
    "\n",
    "- Neste tipo de intervalo, coleta-se informação do domínio para poder realizar a discretização\n",
    "\n",
    "- Por exemplo, ao discretizar valores de idade em faixas etárias, embora possamos definir os intervalos arbitrariamente (nós mesmos) existe conhecimento do domínio que permite definir esses intervalos.\n",
    "    - Intervalo 0 (de 0 a 12 anos incompletos)\n",
    "    - Intervalo 1 (de 12 anos a 18 anos incompletos)\n",
    "    - Intervalo 2 (de 18 anos a 40 anos incompletos)\n",
    "    - Intervalo 3 (de 40 anos a 60 anos incompletos)\n",
    "    - Intervalo 4 (de 60 anos ou mais)"
   ]
  },
  {
   "cell_type": "code",
   "execution_count": 45,
   "metadata": {},
   "outputs": [
    {
     "data": {
      "text/html": [
       "<div>\n",
       "<style scoped>\n",
       "    .dataframe tbody tr th:only-of-type {\n",
       "        vertical-align: middle;\n",
       "    }\n",
       "\n",
       "    .dataframe tbody tr th {\n",
       "        vertical-align: top;\n",
       "    }\n",
       "\n",
       "    .dataframe thead th {\n",
       "        text-align: right;\n",
       "    }\n",
       "</style>\n",
       "<table border=\"1\" class=\"dataframe\">\n",
       "  <thead>\n",
       "    <tr style=\"text-align: right;\">\n",
       "      <th></th>\n",
       "      <th>idade</th>\n",
       "    </tr>\n",
       "  </thead>\n",
       "  <tbody>\n",
       "    <tr>\n",
       "      <th>0</th>\n",
       "      <td>37</td>\n",
       "    </tr>\n",
       "    <tr>\n",
       "      <th>1</th>\n",
       "      <td>12</td>\n",
       "    </tr>\n",
       "    <tr>\n",
       "      <th>2</th>\n",
       "      <td>72</td>\n",
       "    </tr>\n",
       "    <tr>\n",
       "      <th>3</th>\n",
       "      <td>9</td>\n",
       "    </tr>\n",
       "    <tr>\n",
       "      <th>4</th>\n",
       "      <td>75</td>\n",
       "    </tr>\n",
       "    <tr>\n",
       "      <th>5</th>\n",
       "      <td>5</td>\n",
       "    </tr>\n",
       "    <tr>\n",
       "      <th>6</th>\n",
       "      <td>79</td>\n",
       "    </tr>\n",
       "    <tr>\n",
       "      <th>7</th>\n",
       "      <td>64</td>\n",
       "    </tr>\n",
       "    <tr>\n",
       "      <th>8</th>\n",
       "      <td>16</td>\n",
       "    </tr>\n",
       "    <tr>\n",
       "      <th>9</th>\n",
       "      <td>1</td>\n",
       "    </tr>\n",
       "    <tr>\n",
       "      <th>10</th>\n",
       "      <td>76</td>\n",
       "    </tr>\n",
       "    <tr>\n",
       "      <th>11</th>\n",
       "      <td>71</td>\n",
       "    </tr>\n",
       "    <tr>\n",
       "      <th>12</th>\n",
       "      <td>6</td>\n",
       "    </tr>\n",
       "    <tr>\n",
       "      <th>13</th>\n",
       "      <td>25</td>\n",
       "    </tr>\n",
       "    <tr>\n",
       "      <th>14</th>\n",
       "      <td>50</td>\n",
       "    </tr>\n",
       "    <tr>\n",
       "      <th>15</th>\n",
       "      <td>20</td>\n",
       "    </tr>\n",
       "    <tr>\n",
       "      <th>16</th>\n",
       "      <td>18</td>\n",
       "    </tr>\n",
       "    <tr>\n",
       "      <th>17</th>\n",
       "      <td>84</td>\n",
       "    </tr>\n",
       "    <tr>\n",
       "      <th>18</th>\n",
       "      <td>11</td>\n",
       "    </tr>\n",
       "    <tr>\n",
       "      <th>19</th>\n",
       "      <td>28</td>\n",
       "    </tr>\n",
       "  </tbody>\n",
       "</table>\n",
       "</div>"
      ],
      "text/plain": [
       "    idade\n",
       "0      37\n",
       "1      12\n",
       "2      72\n",
       "3       9\n",
       "4      75\n",
       "5       5\n",
       "6      79\n",
       "7      64\n",
       "8      16\n",
       "9       1\n",
       "10     76\n",
       "11     71\n",
       "12      6\n",
       "13     25\n",
       "14     50\n",
       "15     20\n",
       "16     18\n",
       "17     84\n",
       "18     11\n",
       "19     28"
      ]
     },
     "execution_count": 45,
     "metadata": {},
     "output_type": "execute_result"
    }
   ],
   "source": [
    "np.random.seed(1)\n",
    "idade =  np.random.randint(low = 0, high = 100, size=20)\n",
    "df = pd.DataFrame({'idade' : idade})\n",
    "df"
   ]
  },
  {
   "cell_type": "code",
   "execution_count": 46,
   "metadata": {
    "slideshow": {
     "slide_type": "subslide"
    }
   },
   "outputs": [],
   "source": [
    "def get_discretized_idade (x) :\n",
    "    if (x < 12) :\n",
    "        return 0\n",
    "    elif (x < 18) :\n",
    "        return 1\n",
    "    elif (x < 40) :\n",
    "        return 2\n",
    "    elif (x < 60) :\n",
    "        return 3\n",
    "    else :\n",
    "        return 4"
   ]
  },
  {
   "cell_type": "code",
   "execution_count": 47,
   "metadata": {},
   "outputs": [
    {
     "data": {
      "text/html": [
       "<div>\n",
       "<style scoped>\n",
       "    .dataframe tbody tr th:only-of-type {\n",
       "        vertical-align: middle;\n",
       "    }\n",
       "\n",
       "    .dataframe tbody tr th {\n",
       "        vertical-align: top;\n",
       "    }\n",
       "\n",
       "    .dataframe thead th {\n",
       "        text-align: right;\n",
       "    }\n",
       "</style>\n",
       "<table border=\"1\" class=\"dataframe\">\n",
       "  <thead>\n",
       "    <tr style=\"text-align: right;\">\n",
       "      <th></th>\n",
       "      <th>idade</th>\n",
       "      <th>idade_discretizado</th>\n",
       "    </tr>\n",
       "  </thead>\n",
       "  <tbody>\n",
       "    <tr>\n",
       "      <th>0</th>\n",
       "      <td>37</td>\n",
       "      <td>2</td>\n",
       "    </tr>\n",
       "    <tr>\n",
       "      <th>1</th>\n",
       "      <td>12</td>\n",
       "      <td>1</td>\n",
       "    </tr>\n",
       "    <tr>\n",
       "      <th>2</th>\n",
       "      <td>72</td>\n",
       "      <td>4</td>\n",
       "    </tr>\n",
       "    <tr>\n",
       "      <th>3</th>\n",
       "      <td>9</td>\n",
       "      <td>0</td>\n",
       "    </tr>\n",
       "    <tr>\n",
       "      <th>4</th>\n",
       "      <td>75</td>\n",
       "      <td>4</td>\n",
       "    </tr>\n",
       "    <tr>\n",
       "      <th>5</th>\n",
       "      <td>5</td>\n",
       "      <td>0</td>\n",
       "    </tr>\n",
       "    <tr>\n",
       "      <th>6</th>\n",
       "      <td>79</td>\n",
       "      <td>4</td>\n",
       "    </tr>\n",
       "    <tr>\n",
       "      <th>7</th>\n",
       "      <td>64</td>\n",
       "      <td>4</td>\n",
       "    </tr>\n",
       "    <tr>\n",
       "      <th>8</th>\n",
       "      <td>16</td>\n",
       "      <td>1</td>\n",
       "    </tr>\n",
       "    <tr>\n",
       "      <th>9</th>\n",
       "      <td>1</td>\n",
       "      <td>0</td>\n",
       "    </tr>\n",
       "    <tr>\n",
       "      <th>10</th>\n",
       "      <td>76</td>\n",
       "      <td>4</td>\n",
       "    </tr>\n",
       "    <tr>\n",
       "      <th>11</th>\n",
       "      <td>71</td>\n",
       "      <td>4</td>\n",
       "    </tr>\n",
       "    <tr>\n",
       "      <th>12</th>\n",
       "      <td>6</td>\n",
       "      <td>0</td>\n",
       "    </tr>\n",
       "    <tr>\n",
       "      <th>13</th>\n",
       "      <td>25</td>\n",
       "      <td>2</td>\n",
       "    </tr>\n",
       "    <tr>\n",
       "      <th>14</th>\n",
       "      <td>50</td>\n",
       "      <td>3</td>\n",
       "    </tr>\n",
       "    <tr>\n",
       "      <th>15</th>\n",
       "      <td>20</td>\n",
       "      <td>2</td>\n",
       "    </tr>\n",
       "    <tr>\n",
       "      <th>16</th>\n",
       "      <td>18</td>\n",
       "      <td>2</td>\n",
       "    </tr>\n",
       "    <tr>\n",
       "      <th>17</th>\n",
       "      <td>84</td>\n",
       "      <td>4</td>\n",
       "    </tr>\n",
       "    <tr>\n",
       "      <th>18</th>\n",
       "      <td>11</td>\n",
       "      <td>0</td>\n",
       "    </tr>\n",
       "    <tr>\n",
       "      <th>19</th>\n",
       "      <td>28</td>\n",
       "      <td>2</td>\n",
       "    </tr>\n",
       "  </tbody>\n",
       "</table>\n",
       "</div>"
      ],
      "text/plain": [
       "    idade  idade_discretizado\n",
       "0      37                   2\n",
       "1      12                   1\n",
       "2      72                   4\n",
       "3       9                   0\n",
       "4      75                   4\n",
       "5       5                   0\n",
       "6      79                   4\n",
       "7      64                   4\n",
       "8      16                   1\n",
       "9       1                   0\n",
       "10     76                   4\n",
       "11     71                   4\n",
       "12      6                   0\n",
       "13     25                   2\n",
       "14     50                   3\n",
       "15     20                   2\n",
       "16     18                   2\n",
       "17     84                   4\n",
       "18     11                   0\n",
       "19     28                   2"
      ]
     },
     "execution_count": 47,
     "metadata": {},
     "output_type": "execute_result"
    }
   ],
   "source": [
    "df['idade_discretizado'] = df.idade.apply(get_discretized_idade)\n",
    "df"
   ]
  },
  {
   "cell_type": "markdown",
   "metadata": {
    "slideshow": {
     "slide_type": "subslide"
    }
   },
   "source": [
    "### Intervalos de Igual Tamanho (ou largura fixa)\n",
    "\n",
    "- Ao se conhecer os valores máximos e mínimos do domínio de uma variável, seja por conhecimento do domínio ou pela aplicação de técnicas estatísticas, podemos dividir o intervalo total dos dados em $k$ tamanhos iguais.\n",
    "\n",
    "$$L = \\frac{max(\\mathbf{x}) - min(\\mathbf{x}) + 1}{k}$$\n",
    "\n",
    "- onde, \n",
    "    - $\\mathbf{x}$ é o conjunto de valores da variável    \n",
    "    - $k$ é o número de intervalos\n",
    "    - $L$ é a largura do intervalo"
   ]
  },
  {
   "cell_type": "markdown",
   "metadata": {
    "slideshow": {
     "slide_type": "subslide"
    }
   },
   "source": [
    "- Por exemplo, se os valores vão de 1 a 100 e queremos dividir esses vem valores em 4 intervalos de tamanho igual, o tamanho do intervalo é 25, pois $\\frac{(1-100+1)}{4} = 25$\n",
    "\n",
    "- Assim, os intervalos podem ser definidos da seguinte por,\n",
    "\n",
    "$$ I_i = [(min(\\mathbf{x}) + L \\times i),\\;(min(\\mathbf{x}) + L \\times (i+1) - 1],\\\\ \\text{para}\\;1 \\leq i < k $$\n",
    "\n",
    "- O que resulta nos seguintes intervalos de 1 a 100\n",
    "\n",
    "$$ \n",
    " \\begin{matrix}\n",
    "  I_0 =& [(1 + 25 \\times 0),(1 + 25 \\times (0+1) - 1)]) =& [1,25] \\\\\n",
    "  I_1 =& [(1 + 25 \\times 1),(1 + 25 \\times (1+1) - 1)]) =& [26,50] \\\\\n",
    "  I_2 =& [(1 + 25 \\times 2),(1 + 25 \\times (2+1) - 1)]) =& [51,75] \\\\\n",
    "  I_3 =& [(1 + 25 \\times 3),(1 + 25 \\times (3+1) - 1)]) =& [76,100] \\\\\n",
    "  \\end{matrix}\n",
    "$$"
   ]
  },
  {
   "cell_type": "markdown",
   "metadata": {
    "slideshow": {
     "slide_type": "subslide"
    }
   },
   "source": [
    "- Vamos construir um conjunto de dados de 500 valores de idade entre 1 e 100."
   ]
  },
  {
   "cell_type": "code",
   "execution_count": 52,
   "metadata": {},
   "outputs": [
    {
     "name": "stdout",
     "output_type": "stream",
     "text": [
      "[ 38  13  73  10  76   6  80  65  17   2  77  72   7  26  51  21  19  85\n",
      "  12  29  30  15  51  69  88  88  95  97  87  14  10   8  64  62  23  58\n",
      "   2   1  61  82   9  89  14  48  73  31  72   4  71  22  50  58   4  69\n",
      "  25  44  77  27  53  81  42  83  16  65  69  26  99  88   8  27  26  23\n",
      "  10  68  24  28  38  58  84  39   9  33  35  11  24  16  88  26  72  93\n",
      "  75  63  47  33  89  24  56  66  78   4   1  78   7  53  86  71   3  77\n",
      "  92  22  76   8  78  73  76  77  44  21  31  37   8  46  69  58  83  97\n",
      "  14  11  24  82   8  25  75  93  21  33  13  66  95  61  25  83  98   3\n",
      "  93  99  11  55  97  83  87  71  67  72  49  55  16   6  18  43  21  49\n",
      "  23  14  98  54  85  11  97  56  62  57  90  22  97  84  26  15  14  85\n",
      "  44   7  78  57  60  16  25  10  67  72  54  70  37  22  41  78  92  50\n",
      "  48  78  41  79  46  88  17  29  46  68  67  79  47   1  30  64  76  36\n",
      "  54  94  34   3  85  84  49  55  33  29  56  83  32  29  95  75   9 100\n",
      "  33   9  85  78  51  80  42  65  84  25  21  45  16  31  92  15  20  27\n",
      "  87   8 100  54  48  61  35  33  20  68  25  84  95  39  48   6  80  64\n",
      "  88  33  43  75  67  89  99  31  18  69  65  61  79  18  40  36  82  29\n",
      "  23  39  42  75  78  71  26  49  51  63  45  55   1  87  17  20  10  93\n",
      "  52  11  69  24  15  64  22  47   4  57  89  81  47  55  80  72  15  78\n",
      "  16  26  54  85  59  86  30  45  38  23  92  55  77  13  60  27  77  72\n",
      "  88  40  44  77  39  92  70  99  34  44  27  57  70  74  53  90  28  44\n",
      "   2  83  95  97  27  85  31  65  23  99  53   4  71  13  40  84  49  62\n",
      "  71  14  37  24  23  67  93  96  54  10  42  58  89  94  77  83  12  37\n",
      "  17  31  85  58  36  42  82   3  86  94  37  47  81  28  73  29   3 100\n",
      "  14  42  37  41  19  98  39  64  47  90   3  99  29  79  76  59  43  27\n",
      "  22  59  17  93  38  12  23   7  97  15  88  76  36  64  33  92  50   1\n",
      "  23  98  71  37  19  28  29  53  95  51  47   8  86  17  30  12  62  15\n",
      "  31   9  41  49  31  24  67  93  65  13  18  34  11  29  76   6  82   6\n",
      "  43  87  53  58  57  79  88  82  11  73  49  20  13  26]\n"
     ]
    }
   ],
   "source": [
    "np.random.seed(1)\n",
    "idade =  np.random.randint(low = 1, high = 101, size=500)\n",
    "print(idade)"
   ]
  },
  {
   "cell_type": "markdown",
   "metadata": {
    "slideshow": {
     "slide_type": "subslide"
    }
   },
   "source": [
    "- Calculamos a largura do intervalo $L$ conforme a equação:\n",
    "\n",
    "$$L = \\frac{max(\\mathbf{x}) - min(\\mathbf{x}) + 1}{k}$$"
   ]
  },
  {
   "cell_type": "code",
   "execution_count": 77,
   "metadata": {},
   "outputs": [
    {
     "name": "stdout",
     "output_type": "stream",
     "text": [
      "25.0\n"
     ]
    }
   ],
   "source": [
    "k = 4\n",
    "L = (max(idade) - min(idade) + 1) / k\n",
    "print(L)"
   ]
  },
  {
   "cell_type": "code",
   "execution_count": 78,
   "metadata": {},
   "outputs": [
    {
     "data": {
      "text/plain": [
       "array([1, 0, 2, 0, 3, 0, 3, 2, 0, 0, 3, 2, 0, 1, 2, 0, 0, 3, 0, 1, 1, 0,\n",
       "       2, 2, 3, 3, 3, 3, 3, 0, 0, 0, 2, 2, 0, 2, 0, 0, 2, 3, 0, 3, 0, 1,\n",
       "       2, 1, 2, 0, 2, 0, 1, 2, 0, 2, 0, 1, 3, 1, 2, 3, 1, 3, 0, 2, 2, 1,\n",
       "       3, 3, 0, 1, 1, 0, 0, 2, 0, 1, 1, 2, 3, 1, 0, 1, 1, 0, 0, 0, 3, 1,\n",
       "       2, 3, 2, 2, 1, 1, 3, 0, 2, 2, 3, 0, 0, 3, 0, 2, 3, 2, 0, 3, 3, 0,\n",
       "       3, 0, 3, 2, 3, 3, 1, 0, 1, 1, 0, 1, 2, 2, 3, 3, 0, 0, 0, 3, 0, 0,\n",
       "       2, 3, 0, 1, 0, 2, 3, 2, 0, 3, 3, 0, 3, 3, 0, 2, 3, 3, 3, 2, 2, 2,\n",
       "       1, 2, 0, 0, 0, 1, 0, 1, 0, 0, 3, 2, 3, 0, 3, 2, 2, 2, 3, 0, 3, 3,\n",
       "       1, 0, 0, 3, 1, 0, 3, 2, 2, 0, 0, 0, 2, 2, 2, 2, 1, 0, 1, 3, 3, 1,\n",
       "       1, 3, 1, 3, 1, 3, 0, 1, 1, 2, 2, 3, 1, 0, 1, 2, 3, 1, 2, 3, 1, 0,\n",
       "       3, 3, 1, 2, 1, 1, 2, 3, 1, 1, 3, 2, 0, 3, 1, 0, 3, 3, 2, 3, 1, 2,\n",
       "       3, 0, 0, 1, 0, 1, 3, 0, 0, 1, 3, 0, 3, 2, 1, 2, 1, 1, 0, 2, 0, 3,\n",
       "       3, 1, 1, 0, 3, 2, 3, 1, 1, 2, 2, 3, 3, 1, 0, 2, 2, 2, 3, 0, 1, 1,\n",
       "       3, 1, 0, 1, 1, 2, 3, 2, 1, 1, 2, 2, 1, 2, 0, 3, 0, 0, 0, 3, 2, 0,\n",
       "       2, 0, 0, 2, 0, 1, 0, 2, 3, 3, 1, 2, 3, 2, 0, 3, 0, 1, 2, 3, 2, 3,\n",
       "       1, 1, 1, 0, 3, 2, 3, 0, 2, 1, 3, 2, 3, 1, 1, 3, 1, 3, 2, 3, 1, 1,\n",
       "       1, 2, 2, 2, 2, 3, 1, 1, 0, 3, 3, 3, 1, 3, 1, 2, 0, 3, 2, 0, 2, 0,\n",
       "       1, 3, 1, 2, 2, 0, 1, 0, 0, 2, 3, 3, 2, 0, 1, 2, 3, 3, 3, 3, 0, 1,\n",
       "       0, 1, 3, 2, 1, 1, 3, 0, 3, 3, 1, 1, 3, 1, 2, 1, 0, 3, 0, 1, 1, 1,\n",
       "       0, 3, 1, 2, 1, 3, 0, 3, 1, 3, 3, 2, 1, 1, 0, 2, 0, 3, 1, 0, 0, 0,\n",
       "       3, 0, 3, 3, 1, 2, 1, 3, 1, 0, 0, 3, 2, 1, 0, 1, 1, 2, 3, 2, 1, 0,\n",
       "       3, 0, 1, 0, 2, 0, 1, 0, 1, 1, 1, 0, 2, 3, 2, 0, 0, 1, 0, 1, 3, 0,\n",
       "       3, 0, 1, 3, 2, 2, 2, 3, 3, 3, 0, 2, 1, 0, 0, 1])"
      ]
     },
     "execution_count": 78,
     "metadata": {},
     "output_type": "execute_result"
    }
   ],
   "source": [
    "intervalos = (idade - min(idade)) // L\n",
    "intervalos_largura_fixa = intervalos.astype(int)\n",
    "intervalos_largura_fixa"
   ]
  },
  {
   "cell_type": "code",
   "execution_count": 79,
   "metadata": {},
   "outputs": [
    {
     "data": {
      "text/plain": [
       "Counter({1: 124, 0: 133, 2: 111, 3: 132})"
      ]
     },
     "execution_count": 79,
     "metadata": {},
     "output_type": "execute_result"
    }
   ],
   "source": [
    "from collections import Counter\n",
    "Counter(idade_discretizado)"
   ]
  },
  {
   "cell_type": "markdown",
   "metadata": {
    "slideshow": {
     "slide_type": "subslide"
    }
   },
   "source": [
    "#### Intervalos de Igual Frequência\n",
    "\n",
    "- Neste tipo de discretização a ideia consiste em manter o mesmo número de valores (ou exemplos) em cada intervalo.\n",
    "\n",
    "- Considerando $k$ o número de intervalos e $n$ o número de exemplos:\n",
    "    1. Calculamos $N$, o número de exemplos por intervalo, como $N = \\frac{n}{k}$\n",
    "    - Calculamos o ranking dos valores da variável $\\mathbf{x}$ \n",
    "    - Aplicamos o método de discretização de igual tamanho sobre o ranking dos elementos"
   ]
  },
  {
   "cell_type": "code",
   "execution_count": 87,
   "metadata": {},
   "outputs": [
    {
     "name": "stdout",
     "output_type": "stream",
     "text": [
      "[1 0 2 0 2 0 3 2 0 0 3 2 0 1 2 0 0 3 0 1 1 0 2 2 3 3 3 3 3 0 0 0 2 2 0 2 0\n",
      " 0 2 3 0 3 0 1 2 1 2 0 2 0 2 2 0 2 1 1 3 1 2 3 1 3 0 2 2 1 3 3 0 1 1 0 0 2\n",
      " 0 1 1 2 3 1 0 1 1 0 0 0 3 1 2 3 2 2 1 1 3 0 2 2 3 0 0 3 0 2 3 2 0 3 3 0 2\n",
      " 0 3 2 2 3 1 0 1 1 0 1 2 2 3 3 0 0 0 3 0 1 2 3 0 1 0 2 3 2 1 3 3 0 3 3 0 2\n",
      " 3 3 3 2 2 2 1 2 0 0 0 1 0 1 0 0 3 2 3 0 3 2 2 2 3 0 3 3 1 0 0 3 1 0 3 2 2\n",
      " 0 1 0 2 2 2 2 1 0 1 3 3 2 1 3 1 3 1 3 0 1 1 2 2 3 1 0 1 2 2 1 2 3 1 0 3 3\n",
      " 1 2 1 1 2 3 1 1 3 2 0 3 1 0 3 3 2 3 1 2 3 1 0 1 0 1 3 0 0 1 3 0 3 2 1 2 1\n",
      " 1 0 2 1 3 3 1 1 0 3 2 3 1 1 2 2 3 3 1 0 2 2 2 3 0 1 1 3 1 0 1 1 2 3 2 1 1\n",
      " 2 2 1 2 0 3 0 0 0 3 2 0 2 0 0 2 0 1 0 2 3 3 1 2 3 2 0 3 0 1 2 3 2 3 1 1 1\n",
      " 0 3 2 3 0 2 1 3 2 3 1 1 3 1 3 2 3 1 1 1 2 2 2 2 3 1 1 0 3 3 3 1 3 1 2 0 3\n",
      " 2 0 2 0 1 3 1 2 2 0 1 0 0 2 3 3 2 0 1 2 3 3 3 3 0 1 0 1 3 2 1 1 3 0 3 3 1\n",
      " 1 3 1 2 1 0 3 0 1 1 1 0 3 1 2 1 3 0 3 1 3 2 2 1 1 0 2 0 3 1 0 0 0 3 0 3 2\n",
      " 1 2 1 3 2 0 0 3 2 1 0 1 1 2 3 2 1 0 3 0 1 0 2 0 1 0 1 1 1 0 2 3 2 0 0 1 0\n",
      " 1 2 0 3 0 1 3 2 2 2 3 3 3 0 2 1 0 0 1]\n"
     ]
    }
   ],
   "source": [
    "k = 4\n",
    "N = np.round(len(idade) / k)\n",
    "\n",
    "from scipy.stats import rankdata\n",
    "x = rankdata(idade)\n",
    "\n",
    "L = (np.max(x) + np.min(x) - 1) / k\n",
    "intervalos = (x - np.min(x)) // L\n",
    "\n",
    "intervalos_igual_frequencia = intervalos.astype(int)\n",
    "print(intervalos_igual_frequencia)"
   ]
  },
  {
   "cell_type": "code",
   "execution_count": 88,
   "metadata": {},
   "outputs": [
    {
     "data": {
      "text/plain": [
       "Counter({1.0: 127, 0.0: 127, 2.0: 121, 3.0: 125})"
      ]
     },
     "execution_count": 88,
     "metadata": {},
     "output_type": "execute_result"
    }
   ],
   "source": [
    "from collections import Counter\n",
    "Counter(intervalos)"
   ]
  },
  {
   "cell_type": "code",
   "execution_count": 89,
   "metadata": {
    "slideshow": {
     "slide_type": "subslide"
    }
   },
   "outputs": [
    {
     "data": {
      "text/html": [
       "<div>\n",
       "<style scoped>\n",
       "    .dataframe tbody tr th:only-of-type {\n",
       "        vertical-align: middle;\n",
       "    }\n",
       "\n",
       "    .dataframe tbody tr th {\n",
       "        vertical-align: top;\n",
       "    }\n",
       "\n",
       "    .dataframe thead th {\n",
       "        text-align: right;\n",
       "    }\n",
       "</style>\n",
       "<table border=\"1\" class=\"dataframe\">\n",
       "  <thead>\n",
       "    <tr style=\"text-align: right;\">\n",
       "      <th></th>\n",
       "      <th>idade</th>\n",
       "      <th>rank</th>\n",
       "      <th>intervalo</th>\n",
       "    </tr>\n",
       "  </thead>\n",
       "  <tbody>\n",
       "    <tr>\n",
       "      <th>0</th>\n",
       "      <td>38</td>\n",
       "      <td>200.5</td>\n",
       "      <td>1</td>\n",
       "    </tr>\n",
       "    <tr>\n",
       "      <th>1</th>\n",
       "      <td>13</td>\n",
       "      <td>60.5</td>\n",
       "      <td>0</td>\n",
       "    </tr>\n",
       "    <tr>\n",
       "      <th>2</th>\n",
       "      <td>73</td>\n",
       "      <td>360.0</td>\n",
       "      <td>2</td>\n",
       "    </tr>\n",
       "    <tr>\n",
       "      <th>3</th>\n",
       "      <td>10</td>\n",
       "      <td>43.5</td>\n",
       "      <td>0</td>\n",
       "    </tr>\n",
       "    <tr>\n",
       "      <th>4</th>\n",
       "      <td>76</td>\n",
       "      <td>372.0</td>\n",
       "      <td>2</td>\n",
       "    </tr>\n",
       "    <tr>\n",
       "      <th>5</th>\n",
       "      <td>6</td>\n",
       "      <td>22.0</td>\n",
       "      <td>0</td>\n",
       "    </tr>\n",
       "    <tr>\n",
       "      <th>6</th>\n",
       "      <td>80</td>\n",
       "      <td>399.5</td>\n",
       "      <td>3</td>\n",
       "    </tr>\n",
       "    <tr>\n",
       "      <th>7</th>\n",
       "      <td>65</td>\n",
       "      <td>320.5</td>\n",
       "      <td>2</td>\n",
       "    </tr>\n",
       "    <tr>\n",
       "      <th>8</th>\n",
       "      <td>17</td>\n",
       "      <td>86.5</td>\n",
       "      <td>0</td>\n",
       "    </tr>\n",
       "    <tr>\n",
       "      <th>9</th>\n",
       "      <td>2</td>\n",
       "      <td>7.0</td>\n",
       "      <td>0</td>\n",
       "    </tr>\n",
       "    <tr>\n",
       "      <th>10</th>\n",
       "      <td>77</td>\n",
       "      <td>379.5</td>\n",
       "      <td>3</td>\n",
       "    </tr>\n",
       "    <tr>\n",
       "      <th>11</th>\n",
       "      <td>72</td>\n",
       "      <td>354.0</td>\n",
       "      <td>2</td>\n",
       "    </tr>\n",
       "    <tr>\n",
       "      <th>12</th>\n",
       "      <td>7</td>\n",
       "      <td>26.5</td>\n",
       "      <td>0</td>\n",
       "    </tr>\n",
       "    <tr>\n",
       "      <th>13</th>\n",
       "      <td>26</td>\n",
       "      <td>137.5</td>\n",
       "      <td>1</td>\n",
       "    </tr>\n",
       "    <tr>\n",
       "      <th>14</th>\n",
       "      <td>51</td>\n",
       "      <td>260.0</td>\n",
       "      <td>2</td>\n",
       "    </tr>\n",
       "    <tr>\n",
       "      <th>15</th>\n",
       "      <td>21</td>\n",
       "      <td>103.0</td>\n",
       "      <td>0</td>\n",
       "    </tr>\n",
       "    <tr>\n",
       "      <th>16</th>\n",
       "      <td>19</td>\n",
       "      <td>95.0</td>\n",
       "      <td>0</td>\n",
       "    </tr>\n",
       "    <tr>\n",
       "      <th>17</th>\n",
       "      <td>85</td>\n",
       "      <td>427.5</td>\n",
       "      <td>3</td>\n",
       "    </tr>\n",
       "    <tr>\n",
       "      <th>18</th>\n",
       "      <td>12</td>\n",
       "      <td>55.5</td>\n",
       "      <td>0</td>\n",
       "    </tr>\n",
       "    <tr>\n",
       "      <th>19</th>\n",
       "      <td>29</td>\n",
       "      <td>157.0</td>\n",
       "      <td>1</td>\n",
       "    </tr>\n",
       "    <tr>\n",
       "      <th>20</th>\n",
       "      <td>30</td>\n",
       "      <td>163.5</td>\n",
       "      <td>1</td>\n",
       "    </tr>\n",
       "    <tr>\n",
       "      <th>21</th>\n",
       "      <td>15</td>\n",
       "      <td>74.0</td>\n",
       "      <td>0</td>\n",
       "    </tr>\n",
       "    <tr>\n",
       "      <th>22</th>\n",
       "      <td>51</td>\n",
       "      <td>260.0</td>\n",
       "      <td>2</td>\n",
       "    </tr>\n",
       "    <tr>\n",
       "      <th>23</th>\n",
       "      <td>69</td>\n",
       "      <td>337.5</td>\n",
       "      <td>2</td>\n",
       "    </tr>\n",
       "    <tr>\n",
       "      <th>24</th>\n",
       "      <td>88</td>\n",
       "      <td>445.0</td>\n",
       "      <td>3</td>\n",
       "    </tr>\n",
       "    <tr>\n",
       "      <th>25</th>\n",
       "      <td>88</td>\n",
       "      <td>445.0</td>\n",
       "      <td>3</td>\n",
       "    </tr>\n",
       "    <tr>\n",
       "      <th>26</th>\n",
       "      <td>95</td>\n",
       "      <td>476.5</td>\n",
       "      <td>3</td>\n",
       "    </tr>\n",
       "    <tr>\n",
       "      <th>27</th>\n",
       "      <td>97</td>\n",
       "      <td>484.0</td>\n",
       "      <td>3</td>\n",
       "    </tr>\n",
       "    <tr>\n",
       "      <th>28</th>\n",
       "      <td>87</td>\n",
       "      <td>438.0</td>\n",
       "      <td>3</td>\n",
       "    </tr>\n",
       "    <tr>\n",
       "      <th>29</th>\n",
       "      <td>14</td>\n",
       "      <td>67.0</td>\n",
       "      <td>0</td>\n",
       "    </tr>\n",
       "    <tr>\n",
       "      <th>...</th>\n",
       "      <td>...</td>\n",
       "      <td>...</td>\n",
       "      <td>...</td>\n",
       "    </tr>\n",
       "    <tr>\n",
       "      <th>470</th>\n",
       "      <td>41</td>\n",
       "      <td>212.5</td>\n",
       "      <td>1</td>\n",
       "    </tr>\n",
       "    <tr>\n",
       "      <th>471</th>\n",
       "      <td>49</td>\n",
       "      <td>251.0</td>\n",
       "      <td>1</td>\n",
       "    </tr>\n",
       "    <tr>\n",
       "      <th>472</th>\n",
       "      <td>31</td>\n",
       "      <td>169.5</td>\n",
       "      <td>1</td>\n",
       "    </tr>\n",
       "    <tr>\n",
       "      <th>473</th>\n",
       "      <td>24</td>\n",
       "      <td>124.0</td>\n",
       "      <td>0</td>\n",
       "    </tr>\n",
       "    <tr>\n",
       "      <th>474</th>\n",
       "      <td>67</td>\n",
       "      <td>328.5</td>\n",
       "      <td>2</td>\n",
       "    </tr>\n",
       "    <tr>\n",
       "      <th>475</th>\n",
       "      <td>93</td>\n",
       "      <td>467.0</td>\n",
       "      <td>3</td>\n",
       "    </tr>\n",
       "    <tr>\n",
       "      <th>476</th>\n",
       "      <td>65</td>\n",
       "      <td>320.5</td>\n",
       "      <td>2</td>\n",
       "    </tr>\n",
       "    <tr>\n",
       "      <th>477</th>\n",
       "      <td>13</td>\n",
       "      <td>60.5</td>\n",
       "      <td>0</td>\n",
       "    </tr>\n",
       "    <tr>\n",
       "      <th>478</th>\n",
       "      <td>18</td>\n",
       "      <td>91.5</td>\n",
       "      <td>0</td>\n",
       "    </tr>\n",
       "    <tr>\n",
       "      <th>479</th>\n",
       "      <td>34</td>\n",
       "      <td>184.0</td>\n",
       "      <td>1</td>\n",
       "    </tr>\n",
       "    <tr>\n",
       "      <th>480</th>\n",
       "      <td>11</td>\n",
       "      <td>50.0</td>\n",
       "      <td>0</td>\n",
       "    </tr>\n",
       "    <tr>\n",
       "      <th>481</th>\n",
       "      <td>29</td>\n",
       "      <td>157.0</td>\n",
       "      <td>1</td>\n",
       "    </tr>\n",
       "    <tr>\n",
       "      <th>482</th>\n",
       "      <td>76</td>\n",
       "      <td>372.0</td>\n",
       "      <td>2</td>\n",
       "    </tr>\n",
       "    <tr>\n",
       "      <th>483</th>\n",
       "      <td>6</td>\n",
       "      <td>22.0</td>\n",
       "      <td>0</td>\n",
       "    </tr>\n",
       "    <tr>\n",
       "      <th>484</th>\n",
       "      <td>82</td>\n",
       "      <td>407.5</td>\n",
       "      <td>3</td>\n",
       "    </tr>\n",
       "    <tr>\n",
       "      <th>485</th>\n",
       "      <td>6</td>\n",
       "      <td>22.0</td>\n",
       "      <td>0</td>\n",
       "    </tr>\n",
       "    <tr>\n",
       "      <th>486</th>\n",
       "      <td>43</td>\n",
       "      <td>222.5</td>\n",
       "      <td>1</td>\n",
       "    </tr>\n",
       "    <tr>\n",
       "      <th>487</th>\n",
       "      <td>87</td>\n",
       "      <td>438.0</td>\n",
       "      <td>3</td>\n",
       "    </tr>\n",
       "    <tr>\n",
       "      <th>488</th>\n",
       "      <td>53</td>\n",
       "      <td>266.5</td>\n",
       "      <td>2</td>\n",
       "    </tr>\n",
       "    <tr>\n",
       "      <th>489</th>\n",
       "      <td>58</td>\n",
       "      <td>293.0</td>\n",
       "      <td>2</td>\n",
       "    </tr>\n",
       "    <tr>\n",
       "      <th>490</th>\n",
       "      <td>57</td>\n",
       "      <td>287.0</td>\n",
       "      <td>2</td>\n",
       "    </tr>\n",
       "    <tr>\n",
       "      <th>491</th>\n",
       "      <td>79</td>\n",
       "      <td>395.0</td>\n",
       "      <td>3</td>\n",
       "    </tr>\n",
       "    <tr>\n",
       "      <th>492</th>\n",
       "      <td>88</td>\n",
       "      <td>445.0</td>\n",
       "      <td>3</td>\n",
       "    </tr>\n",
       "    <tr>\n",
       "      <th>493</th>\n",
       "      <td>82</td>\n",
       "      <td>407.5</td>\n",
       "      <td>3</td>\n",
       "    </tr>\n",
       "    <tr>\n",
       "      <th>494</th>\n",
       "      <td>11</td>\n",
       "      <td>50.0</td>\n",
       "      <td>0</td>\n",
       "    </tr>\n",
       "    <tr>\n",
       "      <th>495</th>\n",
       "      <td>73</td>\n",
       "      <td>360.0</td>\n",
       "      <td>2</td>\n",
       "    </tr>\n",
       "    <tr>\n",
       "      <th>496</th>\n",
       "      <td>49</td>\n",
       "      <td>251.0</td>\n",
       "      <td>1</td>\n",
       "    </tr>\n",
       "    <tr>\n",
       "      <th>497</th>\n",
       "      <td>20</td>\n",
       "      <td>98.5</td>\n",
       "      <td>0</td>\n",
       "    </tr>\n",
       "    <tr>\n",
       "      <th>498</th>\n",
       "      <td>13</td>\n",
       "      <td>60.5</td>\n",
       "      <td>0</td>\n",
       "    </tr>\n",
       "    <tr>\n",
       "      <th>499</th>\n",
       "      <td>26</td>\n",
       "      <td>137.5</td>\n",
       "      <td>1</td>\n",
       "    </tr>\n",
       "  </tbody>\n",
       "</table>\n",
       "<p>500 rows × 3 columns</p>\n",
       "</div>"
      ],
      "text/plain": [
       "     idade   rank  intervalo\n",
       "0       38  200.5          1\n",
       "1       13   60.5          0\n",
       "2       73  360.0          2\n",
       "3       10   43.5          0\n",
       "4       76  372.0          2\n",
       "..     ...    ...        ...\n",
       "495     73  360.0          2\n",
       "496     49  251.0          1\n",
       "497     20   98.5          0\n",
       "498     13   60.5          0\n",
       "499     26  137.5          1\n",
       "\n",
       "[500 rows x 3 columns]"
      ]
     },
     "execution_count": 89,
     "metadata": {},
     "output_type": "execute_result"
    }
   ],
   "source": [
    "df = pd.DataFrame({ \"idade\" : idade, \"rank\" : x, \"intervalo\" : intervalos_igual_frequencia} )\n",
    "df"
   ]
  },
  {
   "cell_type": "markdown",
   "metadata": {
    "slideshow": {
     "slide_type": "subslide"
    }
   },
   "source": [
    "## Transformação de Dados Qualitativos em Quantitativos"
   ]
  },
  {
   "cell_type": "markdown",
   "metadata": {},
   "source": [
    "- Alguns algoritmos tem preferência por representações numéricas para atributos qualitativos, como as Redes Neurais.\n",
    "\n",
    "- Os atributos qualitativos (ou categóricos) podem ser:\n",
    "    - Ordinais: os seus valores possuem uma ordem, como avaliação: ruim, regular, bom e ótimo.\n",
    "    - Nominais: os seus valores não possuem uma ordem, como cores, estado civil, e outros."
   ]
  },
  {
   "cell_type": "markdown",
   "metadata": {
    "slideshow": {
     "slide_type": "subslide"
    }
   },
   "source": [
    "### Mapeamento Direto\n",
    "- Para atributos nominais não é recomendado, pois pode inserir informações incorretas para o processo de aprendizado.\n",
    "- Para os atributos ordinais é possível transformar os dados para números inteiros.\n",
    "- Para isso, ordenamos os possíveis valores em ordem crescente, e atribuímos valores em ordem crescente aos possíveis valores, geralmente iniciando em 0 ou 1.\n",
    "- Por exemplo, para a variável avaliação\n",
    "\n",
    "|Valor | Mapeamento |\n",
    "|------|------|\n",
    "| ruim | 0 |\n",
    "| regular | 1 |\n",
    "| bom | 2 | \n",
    "| ótimo | 3 |"
   ]
  },
  {
   "cell_type": "markdown",
   "metadata": {
    "slideshow": {
     "slide_type": "subslide"
    }
   },
   "source": [
    "### Representação Binária\n",
    "\n",
    "- Neste tipo de representação cada valor corresponde a uma sequência binária única.\n",
    "\n",
    "- Em geral, usa-se a representação *One-Hot* que ativa um bit exclusivamente para cada valor da variável.\n",
    "\n",
    "- Por exemplo, para o caso da variável ordinal *avaliação*:\n",
    "\n",
    "|Valor | Mapeamento |\n",
    "|------|------|\n",
    "| ruim | 0001 |\n",
    "| regular | 0010 |\n",
    "| bom | 0100 | \n",
    "| ótimo | 1000 |"
   ]
  },
  {
   "cell_type": "markdown",
   "metadata": {
    "slideshow": {
     "slide_type": "subslide"
    }
   },
   "source": [
    "- Por exemplo, para a variável nominal *estado civil*:\n",
    "\n",
    "|Valor | Mapeamento |\n",
    "|------|------|\n",
    "| casado | 00001 |\n",
    "| solteiro | 00010 |\n",
    "| viúvo | 00100 | \n",
    "| divorciado | 01000 |\n",
    "| outro | 10000 |\n",
    "\n",
    "- A representação binária é comumente utilizada para codificar variáveis em Redes Neurais."
   ]
  },
  {
   "cell_type": "markdown",
   "metadata": {
    "slideshow": {
     "slide_type": "subslide"
    }
   },
   "source": [
    "### Outras Transformações de Dados\n",
    "\n",
    "- Existem outras transformações dependentes da natureza do dado e da informação que queremos estudar.\n",
    "\n",
    "- Por exemplo, se temos uma variável *data de nascimento*. Se estamos interessados em analisar o valor da idade, a data de nascimento não será suficiente para um método de aprendizado entender o que nós queremos."
   ]
  },
  {
   "cell_type": "code",
   "execution_count": null,
   "metadata": {
    "slideshow": {
     "slide_type": "subslide"
    }
   },
   "outputs": [],
   "source": [
    "set.seed(1)\n",
    "data.nasc <- sample(seq(as.Date('1950/01/01'), as.Date('2010/01/01'), by=\"day\"), 20)\n",
    "print(head(data.nasc))"
   ]
  },
  {
   "cell_type": "code",
   "execution_count": null,
   "metadata": {},
   "outputs": [],
   "source": [
    "library(lubridate)\n",
    "today <- Sys.Date()\n",
    "age <- time_length( today - data.nasc, \"years\")\n",
    "age <- floor(age) # Arredondamento pelo menor inteiro\n",
    "head(data.table(data.nasc, idade = age))"
   ]
  },
  {
   "cell_type": "markdown",
   "metadata": {
    "slideshow": {
     "slide_type": "subslide"
    }
   },
   "source": [
    "- A data é um tipo de dado complexo, pois tem várias informações contidas nela.\n",
    "\n",
    "- Os algoritmos de aprendizado também não irão saber que nela estão contidos: dia, mês e ano.\n",
    "\n",
    "- E muito menos se o mês deve ser representado no formato textual, número inteiro ou representação binária. Portanto, nós devemos informar que tipo de informação queremos representar.\n",
    "\n",
    "- Como já mencionado, os dados podem vir em qualquer formato, e como vão ser usados esses dados para visualização ou por algoritmo de aprendizado, vai depender de quem está realizando o processo de mineração."
   ]
  },
  {
   "cell_type": "markdown",
   "metadata": {
    "slideshow": {
     "slide_type": "subslide"
    }
   },
   "source": [
    "- Então muitas vezes vamos precisar extrair todas essas informações do dado complexo"
   ]
  },
  {
   "cell_type": "code",
   "execution_count": null,
   "metadata": {
    "slideshow": {
     "slide_type": "-"
    }
   },
   "outputs": [],
   "source": [
    "dt <- data.table(data.nasc, \n",
    "                 dia.do.mes = mday(data.nasc), \n",
    "                 dia.da.semana = wday(data.nasc), \n",
    "                 dia.da.semana.extenso = wday(data.nasc, label = T), \n",
    "                 mes = month(data.nasc), \n",
    "                 mes.extenso = month(data.nasc, label = T), \n",
    "                 ano = year(data.nasc))\n",
    "head(dt,5)"
   ]
  },
  {
   "cell_type": "markdown",
   "metadata": {
    "slideshow": {
     "slide_type": "subslide"
    }
   },
   "source": [
    "## Tratamento de Dados Desconhecidos\n",
    "\n",
    "- Um problema comum em conjunto de dados é a presença de dados desconhecidos\n",
    "\n",
    "- Geralmente sinalizados com: ?, NA, ou a ausência de valor mesmo\n",
    "\n",
    "- Algumas abordagens comuns:\n",
    "    - Eliminar o exemplo que possui o valor desconhecido\n",
    "    - Substituir o valor de uma variável pelo seu valor esperado de acordo com sua distribuição. Geralmente média ou moda.\n",
    "    - Verificar qual é o exemplo mais parecido no conjunto de dados, em relação aos outros atributos, e usar o valor do exemplo mais parecido\n"
   ]
  },
  {
   "cell_type": "markdown",
   "metadata": {
    "slideshow": {
     "slide_type": "subslide"
    }
   },
   "source": [
    "- Uma abordagem mais sofisticada é efetuar um aprendizado supervisionado sobre esse atributo para aprender sua relação com os outros atributos.\n",
    "    - Modelo de classificação, quando o atributo com valor desconhecido é categórico.\n",
    "    - Modelo de regressão, quando o atributo com valor desconhecido é numérico.\n",
    "- Após, usa-se o modelo para predizer o valor desconhecido.\n",
    "- Por exemplo, no conjunto de dados *iris*, vamos retirar 10 valores de *Sepal.Length*"
   ]
  },
  {
   "cell_type": "code",
   "execution_count": 90,
   "metadata": {
    "scrolled": true
   },
   "outputs": [
    {
     "ename": "SyntaxError",
     "evalue": "invalid syntax (<ipython-input-90-a7f7915e9917>, line 2)",
     "output_type": "error",
     "traceback": [
      "\u001b[1;36m  File \u001b[1;32m\"<ipython-input-90-a7f7915e9917>\"\u001b[1;36m, line \u001b[1;32m2\u001b[0m\n\u001b[1;33m    desconhecidos <- sample( x = 1:nrow(iris), size = 10, replace = F)\u001b[0m\n\u001b[1;37m                                  ^\u001b[0m\n\u001b[1;31mSyntaxError\u001b[0m\u001b[1;31m:\u001b[0m invalid syntax\n"
     ]
    }
   ],
   "source": [
    "set.seed(1)\n",
    "desconhecidos <- sample( x = 1:nrow(iris), size = 10, replace = F)\n",
    "print(desconhecidos)"
   ]
  },
  {
   "cell_type": "code",
   "execution_count": 91,
   "metadata": {},
   "outputs": [
    {
     "ename": "SyntaxError",
     "evalue": "invalid syntax (<ipython-input-91-40e4c53c693c>, line 1)",
     "output_type": "error",
     "traceback": [
      "\u001b[1;36m  File \u001b[1;32m\"<ipython-input-91-40e4c53c693c>\"\u001b[1;36m, line \u001b[1;32m1\u001b[0m\n\u001b[1;33m    my.iris <- data.table(iris)[,.(Sepal.Length,Sepal.Width,Petal.Length,Petal.Width)]\u001b[0m\n\u001b[1;37m                                ^\u001b[0m\n\u001b[1;31mSyntaxError\u001b[0m\u001b[1;31m:\u001b[0m invalid syntax\n"
     ]
    }
   ],
   "source": [
    "my.iris <- data.table(iris)[,.(Sepal.Length,Sepal.Width,Petal.Length,Petal.Width)]\n",
    "my.iris$Sepal.Length[desconhecidos] <- NA"
   ]
  },
  {
   "cell_type": "markdown",
   "metadata": {
    "slideshow": {
     "slide_type": "subslide"
    }
   },
   "source": [
    "- Construímos um modelo preditivo para o atributo *Sepal.Length*"
   ]
  },
  {
   "cell_type": "code",
   "execution_count": null,
   "metadata": {},
   "outputs": [],
   "source": [
    "model <- lm(Sepal.Length ~ ., data = my.iris[-desconhecidos])"
   ]
  },
  {
   "cell_type": "markdown",
   "metadata": {},
   "source": [
    "- Usamos esse modelo para predizer os valores desconhecidos de *Sepal.Length* "
   ]
  },
  {
   "cell_type": "code",
   "execution_count": null,
   "metadata": {},
   "outputs": [],
   "source": [
    "predicted <- predict(model, my.iris[desconhecidos,])"
   ]
  },
  {
   "cell_type": "markdown",
   "metadata": {
    "slideshow": {
     "slide_type": "subslide"
    }
   },
   "source": [
    "- Comparamos os valores preditos com os observados"
   ]
  },
  {
   "cell_type": "code",
   "execution_count": null,
   "metadata": {
    "slideshow": {
     "slide_type": "-"
    }
   },
   "outputs": [],
   "source": [
    "observed <- iris$Sepal.Length[desconhecidos]\n",
    "results <- data.table(predicted, observed)\n",
    "head(results,5)"
   ]
  },
  {
   "cell_type": "markdown",
   "metadata": {
    "slideshow": {
     "slide_type": "subslide"
    }
   },
   "source": [
    "- Verificamos se o nosso modelo foi melhor do que um modelo de substituição pela média"
   ]
  },
  {
   "cell_type": "code",
   "execution_count": null,
   "metadata": {},
   "outputs": [],
   "source": [
    "mean.predictor <- mean(my.iris$Sepal.Length[-desconhecidos])\n",
    "\n",
    "dt <- results[,.(observed, error.my.predictor = observed - predicted, error.mean.predictor = observed - mean.predictor)]\n",
    "\n",
    "dt[,.(EMQ.my.predictor   = mean(error.my.predictor^2  ), \n",
    "      EMQ.mean.predictor = mean(error.mean.predictor^2) )]"
   ]
  },
  {
   "cell_type": "markdown",
   "metadata": {
    "slideshow": {
     "slide_type": "subslide"
    }
   },
   "source": [
    "- Isso indica que o Erro Médio Quadrático (EMQ) do preditor reduziu o erro da média de 0.72 para 0.15. "
   ]
  },
  {
   "cell_type": "markdown",
   "metadata": {},
   "source": [
    "- Podemos caluclar a redução de erro relativa:\n",
    "\n",
    "$$\\frac{0.72-0.15}{0.72} = 0.79$$\n",
    "\n",
    "- E verificar uma redução de erro de $79\\%$ usando o nosso modelo, em relação a usar apenas o valor da média\n",
    "\n",
    "- Entre essas duas abordagens, a utilização de nosso modelo preditivo é preferível para preencher os dados desconhecidos no conjunto de dados, embora exista um EMQ de $0.15$."
   ]
  }
 ],
 "metadata": {
  "celltoolbar": "Slideshow",
  "kernelspec": {
   "display_name": "Python 3",
   "language": "python",
   "name": "python3"
  },
  "language_info": {
   "codemirror_mode": {
    "name": "ipython",
    "version": 3
   },
   "file_extension": ".py",
   "mimetype": "text/x-python",
   "name": "python",
   "nbconvert_exporter": "python",
   "pygments_lexer": "ipython3",
   "version": "3.7.3"
  },
  "livereveal": {
   "font-size": "100%",
   "scroll": true
  }
 },
 "nbformat": 4,
 "nbformat_minor": 2
}
