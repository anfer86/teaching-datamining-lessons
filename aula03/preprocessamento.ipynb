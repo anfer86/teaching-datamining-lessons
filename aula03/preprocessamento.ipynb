{
 "cells": [
  {
   "cell_type": "markdown",
   "metadata": {
    "slideshow": {
     "slide_type": "slide"
    }
   },
   "source": [
    "<link rel=\"stylesheet\" href=\"estilo.css\">\n",
    "\n",
    "<img src=\"img/logoifsc.png\">\n",
    "\n",
    "---\n",
    "\n",
    "Prof. Carlos Andrés Ferrero\n",
    "\n",
    "# Mineração de Dados\n",
    "\n",
    "## Pré-Processamento de Dados\n",
    "    \n",
    "---"
   ]
  },
  {
   "cell_type": "markdown",
   "metadata": {
    "slideshow": {
     "slide_type": "slide"
    }
   },
   "source": [
    "# Conteúdo\n",
    "\n",
    "Pré-processamento de dados quantiativos e qualitativos\n",
    "\n",
    "- Limpeza de dados\n",
    "- Transformação de dados\n",
    "    - Normalização de dados numéricos\n",
    "    - Discretização de dados numéricos\n",
    "    - Transformação de dados qualitativos em quantiativos\n",
    "    - Outras transformações de dados\n",
    "- Tratamento de dados desconhecidos"
   ]
  },
  {
   "cell_type": "markdown",
   "metadata": {
    "slideshow": {
     "slide_type": "slide"
    }
   },
   "source": [
    "# Limpeza de dados\n",
    "\n",
    "- A maior parte dos conjuntos de dados disponíveis para estudo, bem como os obtidos a partir de processos de coleta de dados, podem apresentar problemas, os quais dificultam a utilização desses dados em processos de mineração.\n",
    "\n",
    "- Esses problemas pode ser: erros de digitação, erro na leitura de dados por sensores.\n",
    "\n",
    "- Muitos dos processos de mineração aplicados não são usados apenas para estudo, mas os padrões encontrados podem ser usados em processos de mineração de dados. Por esse fato, é extremente importante a limpeza desses dados."
   ]
  },
  {
   "cell_type": "markdown",
   "metadata": {
    "slideshow": {
     "slide_type": "subslide"
    }
   },
   "source": [
    "## Baseada em Conhecimento do domínio\n",
    "- Uma estratégia para fazer limpeza de dados é **utilizar conhecimento do domínio**\n",
    "- Determinados valores numéricos podem estar fora de um intervalo definido, conhecido do domínio."
   ]
  },
  {
   "cell_type": "markdown",
   "metadata": {
    "slideshow": {
     "slide_type": "subslide"
    }
   },
   "source": [
    "- Um atributo idade deve conter valores entre 0 e 120 para domínio do problema. Se algum valor desse atributo está fora desse intervalo, temos que tomar uma decisão sobre ele: deixar ele como desconhecido (NaN no numpy), escolher algum valor para ele, ou tentar encontrar o valor verdadeiro baseado em outros atributos ou instâncias."
   ]
  },
  {
   "cell_type": "code",
   "execution_count": 2,
   "metadata": {},
   "outputs": [],
   "source": [
    "import numpy as np\n",
    "idades = np.array([10,20,34,-25,50,165,71,55,30,34], dtype= np.float32)"
   ]
  },
  {
   "cell_type": "code",
   "execution_count": 3,
   "metadata": {},
   "outputs": [],
   "source": [
    "desconhecido = np.NaN\n",
    "idades = np.where( np.logical_or(idades < 0, idades > 120), desconhecido, idades)"
   ]
  },
  {
   "cell_type": "code",
   "execution_count": 4,
   "metadata": {},
   "outputs": [
    {
     "data": {
      "text/plain": [
       "array([10., 20., 34., nan, 50., nan, 71., 55., 30., 34.], dtype=float32)"
      ]
     },
     "execution_count": 4,
     "metadata": {},
     "output_type": "execute_result"
    }
   ],
   "source": [
    "idades"
   ]
  },
  {
   "cell_type": "markdown",
   "metadata": {},
   "source": [
    "- Um atributo de data deve conter valores de data maiores do que 01/01/2010. Se algum valor desse atributo for menor do que essa data também tamos que tomar uma decisão."
   ]
  },
  {
   "cell_type": "markdown",
   "metadata": {
    "slideshow": {
     "slide_type": "subslide"
    }
   },
   "source": [
    "## Baseado em dados estatísticos\n",
    "- Outra estratégia consiste em **utilizar estatística** para conhecer a distribuição dos dados e assim tomar decisões sobre quais valores estão fora do intervalo esperado.\n",
    "- Uma variável contínua pode apresentar outliers estatísticos (pontos fora da curva) e se essa variável tem uma distribuição conhecida podemos tomar alguma decisão sobre o que fazer com esses valores: como deixar ele como desconhecido ou substituído pelo valor esperado (média na distribuição normal)."
   ]
  },
  {
   "cell_type": "markdown",
   "metadata": {
    "slideshow": {
     "slide_type": "subslide"
    }
   },
   "source": [
    "- Por exemplo, um atributo de temperatura possui um valor de média de 26 graus com desvio padrão de 2 graus. \n",
    "- Considerando uma distribuição normal espera-se que $68.25\\%$ estejam a uma unidade de desvio-padrão e $99.73\\%$ a três unidades.\n",
    "- Se encontrar um valor acima de unidades de desvio padrão, por exemplo, 32 graus, podemos tomar alguma decisão com esse valor."
   ]
  },
  {
   "cell_type": "code",
   "execution_count": 21,
   "metadata": {},
   "outputs": [],
   "source": [
    "temperatura = np.array([26.6, 27.8, 25.6, 26.2, 120.0, 20.4, 29.4, 24.4, 26.9, 26.7])\n",
    "media = 26\n",
    "desvio = 2"
   ]
  },
  {
   "cell_type": "code",
   "execution_count": 22,
   "metadata": {},
   "outputs": [],
   "source": [
    "temperatura = np.where( ( np.abs(temperatura - media)/desvio ) > 3, media, temperatura )"
   ]
  },
  {
   "cell_type": "code",
   "execution_count": 23,
   "metadata": {},
   "outputs": [
    {
     "data": {
      "text/plain": [
       "array([26.6, 27.8, 25.6, 26.2, 26. , 20.4, 29.4, 24.4, 26.9, 26.7])"
      ]
     },
     "execution_count": 23,
     "metadata": {},
     "output_type": "execute_result"
    }
   ],
   "source": [
    "temperatura"
   ]
  },
  {
   "cell_type": "markdown",
   "metadata": {
    "slideshow": {
     "slide_type": "slide"
    }
   },
   "source": [
    "# Transformação de Dados"
   ]
  },
  {
   "cell_type": "markdown",
   "metadata": {
    "slideshow": {
     "slide_type": "subslide"
    }
   },
   "source": [
    "## Normalização de Dados Numéricos (ou Contínuos)"
   ]
  },
  {
   "cell_type": "markdown",
   "metadata": {},
   "source": [
    "- A motivação da normalização é minimzar o problema da presença de variáveis em um conjunto de dados com dispersões de dados muito diferentes.\n",
    "\n",
    "- Vários algoritmos de aprendizado, como Redes Neurais, Vizinhos mais Próximos e K-médias podem ser prejudicados por essa dispersão. "
   ]
  },
  {
   "cell_type": "markdown",
   "metadata": {
    "slideshow": {
     "slide_type": "subslide"
    }
   },
   "source": [
    "- Por exemplo, se medimos a distância entre dois usários pela diferença entre seus valores temos:\n",
    "    - Usuário 1 (salario = 1000, poupança = 20000)\n",
    "    - Usuário 2 (salario = 1500, poupança = 50000)\n",
    "    - Diferença  (salario = 500, poupança 30000), Total (30500)\n",
    "    - O problema que observamos é que a variável salário contribui muito menos para a soma das distâncias do que a variável poupança. "
   ]
  },
  {
   "cell_type": "markdown",
   "metadata": {
    "slideshow": {
     "slide_type": "subslide"
    }
   },
   "source": [
    "- O objetivo da normalização é ajustar a escala dos valores dos atributos para que tenha dispersões ou intervalos mais similares.\n",
    "- Métodos para normalização de dados numéricos:\n",
    "    - Linear\n",
    "    - Desvio-padrão\n",
    "    - Valor máximo\n",
    "    - Escala decimal"
   ]
  },
  {
   "cell_type": "markdown",
   "metadata": {
    "slideshow": {
     "slide_type": "subslide"
    }
   },
   "source": [
    "### Normalização Linear\n",
    "\n",
    "- A normalização linear consiste em manter os dados no intervalo $[0,1]$. Para isso, uma função de transformação linear.\n",
    "\n",
    "$$ f(x) = \\frac{x - min(\\mathbf{x})}{max(\\mathbf{x}) - min(\\mathbf{x})} = x'$$\n",
    "\n",
    "- onde,\n",
    "    - $\\mathbf{x}$ é o conjunto de valores da variável\n",
    "    - $x$ é um valor da variável\n",
    "    - $x'$ é o valor da variável transformado"
   ]
  },
  {
   "cell_type": "markdown",
   "metadata": {
    "slideshow": {
     "slide_type": "subslide"
    }
   },
   "source": [
    "### Normalização por Desvio-Padrão (z-score)\n",
    "\n",
    "- A normalização desvio-padrão consiste em transformar os dados em unidades de desvio padrão em relação à média. Para isso, uma função de transformação baseada em média e desvio padrão.\n",
    "\n",
    "$$ f(x) = \\frac{x - mean(\\mathbf{x})}{sd(\\mathbf{x})} = x'$$\n",
    "\n",
    "- onde, \n",
    "    - $\\mathbf{x}$ é o conjunto de valores da variável\n",
    "    - $x$ é um valor da variável\n",
    "    - $x'$ é o valor da variável transformado\n",
    "    - $mean$ e $sd$ são a média e o desvio padrão dos valores"
   ]
  },
  {
   "cell_type": "markdown",
   "metadata": {
    "slideshow": {
     "slide_type": "subslide"
    }
   },
   "source": [
    "### Normalização de Valor Máximo\n",
    "\n",
    "- A normalização usando o valor máximo consiste em manter os dados no intervalo $[-1,1]$. Para isso, uma função de transformação\n",
    "\n",
    "$$ f(x) = \\frac{x}{max(|\\mathbf{x}|)} = x'$$\n",
    "\n",
    "- onde, \n",
    "    - $\\mathbf{x}$ é o conjunto de valores da variável\n",
    "    - $x$ é um valor da variável\n",
    "    - $x'$ é o valor da variável transformado"
   ]
  },
  {
   "cell_type": "markdown",
   "metadata": {
    "slideshow": {
     "slide_type": "subslide"
    }
   },
   "source": [
    "### Normalização por Escala Decimal\n",
    "\n",
    "- A normalização usando o valor por escala decimal consiste em manter os dados no intervalo $[-1,1]$. Para isso, uma função de transformação\n",
    "\n",
    "$$ f(x) = \\frac{x}{10^j} = x'$$\n",
    "\n",
    "- onde, \n",
    "    - $\\mathbf{x}$ é o conjunto de valores da variável\n",
    "    - $x$ é um valor da variável\n",
    "    - $x'$ é o valor da variável transformado\n",
    "    - $j$ é o menor inteiro tal que $max(|\\mathbf{x}|) \\leq 10^j$"
   ]
  },
  {
   "cell_type": "markdown",
   "metadata": {
    "slideshow": {
     "slide_type": "subslide"
    }
   },
   "source": [
    "### Exemplo no conjunto de dados Iris"
   ]
  },
  {
   "cell_type": "code",
   "execution_count": 55,
   "metadata": {},
   "outputs": [
    {
     "data": {
      "text/html": [
       "<div>\n",
       "<style scoped>\n",
       "    .dataframe tbody tr th:only-of-type {\n",
       "        vertical-align: middle;\n",
       "    }\n",
       "\n",
       "    .dataframe tbody tr th {\n",
       "        vertical-align: top;\n",
       "    }\n",
       "\n",
       "    .dataframe thead th {\n",
       "        text-align: right;\n",
       "    }\n",
       "</style>\n",
       "<table border=\"1\" class=\"dataframe\">\n",
       "  <thead>\n",
       "    <tr style=\"text-align: right;\">\n",
       "      <th></th>\n",
       "      <th>sepal length (cm)</th>\n",
       "      <th>sepal width (cm)</th>\n",
       "      <th>petal length (cm)</th>\n",
       "      <th>petal width (cm)</th>\n",
       "    </tr>\n",
       "  </thead>\n",
       "  <tbody>\n",
       "    <tr>\n",
       "      <th>0</th>\n",
       "      <td>5.1</td>\n",
       "      <td>3.5</td>\n",
       "      <td>1.4</td>\n",
       "      <td>0.2</td>\n",
       "    </tr>\n",
       "    <tr>\n",
       "      <th>1</th>\n",
       "      <td>4.9</td>\n",
       "      <td>3.0</td>\n",
       "      <td>1.4</td>\n",
       "      <td>0.2</td>\n",
       "    </tr>\n",
       "    <tr>\n",
       "      <th>2</th>\n",
       "      <td>4.7</td>\n",
       "      <td>3.2</td>\n",
       "      <td>1.3</td>\n",
       "      <td>0.2</td>\n",
       "    </tr>\n",
       "    <tr>\n",
       "      <th>3</th>\n",
       "      <td>4.6</td>\n",
       "      <td>3.1</td>\n",
       "      <td>1.5</td>\n",
       "      <td>0.2</td>\n",
       "    </tr>\n",
       "    <tr>\n",
       "      <th>4</th>\n",
       "      <td>5.0</td>\n",
       "      <td>3.6</td>\n",
       "      <td>1.4</td>\n",
       "      <td>0.2</td>\n",
       "    </tr>\n",
       "    <tr>\n",
       "      <th>5</th>\n",
       "      <td>5.4</td>\n",
       "      <td>3.9</td>\n",
       "      <td>1.7</td>\n",
       "      <td>0.4</td>\n",
       "    </tr>\n",
       "    <tr>\n",
       "      <th>6</th>\n",
       "      <td>4.6</td>\n",
       "      <td>3.4</td>\n",
       "      <td>1.4</td>\n",
       "      <td>0.3</td>\n",
       "    </tr>\n",
       "    <tr>\n",
       "      <th>7</th>\n",
       "      <td>5.0</td>\n",
       "      <td>3.4</td>\n",
       "      <td>1.5</td>\n",
       "      <td>0.2</td>\n",
       "    </tr>\n",
       "    <tr>\n",
       "      <th>8</th>\n",
       "      <td>4.4</td>\n",
       "      <td>2.9</td>\n",
       "      <td>1.4</td>\n",
       "      <td>0.2</td>\n",
       "    </tr>\n",
       "    <tr>\n",
       "      <th>9</th>\n",
       "      <td>4.9</td>\n",
       "      <td>3.1</td>\n",
       "      <td>1.5</td>\n",
       "      <td>0.1</td>\n",
       "    </tr>\n",
       "    <tr>\n",
       "      <th>10</th>\n",
       "      <td>5.4</td>\n",
       "      <td>3.7</td>\n",
       "      <td>1.5</td>\n",
       "      <td>0.2</td>\n",
       "    </tr>\n",
       "    <tr>\n",
       "      <th>11</th>\n",
       "      <td>4.8</td>\n",
       "      <td>3.4</td>\n",
       "      <td>1.6</td>\n",
       "      <td>0.2</td>\n",
       "    </tr>\n",
       "    <tr>\n",
       "      <th>12</th>\n",
       "      <td>4.8</td>\n",
       "      <td>3.0</td>\n",
       "      <td>1.4</td>\n",
       "      <td>0.1</td>\n",
       "    </tr>\n",
       "    <tr>\n",
       "      <th>13</th>\n",
       "      <td>4.3</td>\n",
       "      <td>3.0</td>\n",
       "      <td>1.1</td>\n",
       "      <td>0.1</td>\n",
       "    </tr>\n",
       "    <tr>\n",
       "      <th>14</th>\n",
       "      <td>5.8</td>\n",
       "      <td>4.0</td>\n",
       "      <td>1.2</td>\n",
       "      <td>0.2</td>\n",
       "    </tr>\n",
       "    <tr>\n",
       "      <th>15</th>\n",
       "      <td>5.7</td>\n",
       "      <td>4.4</td>\n",
       "      <td>1.5</td>\n",
       "      <td>0.4</td>\n",
       "    </tr>\n",
       "    <tr>\n",
       "      <th>16</th>\n",
       "      <td>5.4</td>\n",
       "      <td>3.9</td>\n",
       "      <td>1.3</td>\n",
       "      <td>0.4</td>\n",
       "    </tr>\n",
       "    <tr>\n",
       "      <th>17</th>\n",
       "      <td>5.1</td>\n",
       "      <td>3.5</td>\n",
       "      <td>1.4</td>\n",
       "      <td>0.3</td>\n",
       "    </tr>\n",
       "    <tr>\n",
       "      <th>18</th>\n",
       "      <td>5.7</td>\n",
       "      <td>3.8</td>\n",
       "      <td>1.7</td>\n",
       "      <td>0.3</td>\n",
       "    </tr>\n",
       "    <tr>\n",
       "      <th>19</th>\n",
       "      <td>5.1</td>\n",
       "      <td>3.8</td>\n",
       "      <td>1.5</td>\n",
       "      <td>0.3</td>\n",
       "    </tr>\n",
       "    <tr>\n",
       "      <th>20</th>\n",
       "      <td>5.4</td>\n",
       "      <td>3.4</td>\n",
       "      <td>1.7</td>\n",
       "      <td>0.2</td>\n",
       "    </tr>\n",
       "    <tr>\n",
       "      <th>21</th>\n",
       "      <td>5.1</td>\n",
       "      <td>3.7</td>\n",
       "      <td>1.5</td>\n",
       "      <td>0.4</td>\n",
       "    </tr>\n",
       "    <tr>\n",
       "      <th>22</th>\n",
       "      <td>4.6</td>\n",
       "      <td>3.6</td>\n",
       "      <td>1.0</td>\n",
       "      <td>0.2</td>\n",
       "    </tr>\n",
       "    <tr>\n",
       "      <th>23</th>\n",
       "      <td>5.1</td>\n",
       "      <td>3.3</td>\n",
       "      <td>1.7</td>\n",
       "      <td>0.5</td>\n",
       "    </tr>\n",
       "    <tr>\n",
       "      <th>24</th>\n",
       "      <td>4.8</td>\n",
       "      <td>3.4</td>\n",
       "      <td>1.9</td>\n",
       "      <td>0.2</td>\n",
       "    </tr>\n",
       "    <tr>\n",
       "      <th>25</th>\n",
       "      <td>5.0</td>\n",
       "      <td>3.0</td>\n",
       "      <td>1.6</td>\n",
       "      <td>0.2</td>\n",
       "    </tr>\n",
       "    <tr>\n",
       "      <th>26</th>\n",
       "      <td>5.0</td>\n",
       "      <td>3.4</td>\n",
       "      <td>1.6</td>\n",
       "      <td>0.4</td>\n",
       "    </tr>\n",
       "    <tr>\n",
       "      <th>27</th>\n",
       "      <td>5.2</td>\n",
       "      <td>3.5</td>\n",
       "      <td>1.5</td>\n",
       "      <td>0.2</td>\n",
       "    </tr>\n",
       "    <tr>\n",
       "      <th>28</th>\n",
       "      <td>5.2</td>\n",
       "      <td>3.4</td>\n",
       "      <td>1.4</td>\n",
       "      <td>0.2</td>\n",
       "    </tr>\n",
       "    <tr>\n",
       "      <th>29</th>\n",
       "      <td>4.7</td>\n",
       "      <td>3.2</td>\n",
       "      <td>1.6</td>\n",
       "      <td>0.2</td>\n",
       "    </tr>\n",
       "    <tr>\n",
       "      <th>...</th>\n",
       "      <td>...</td>\n",
       "      <td>...</td>\n",
       "      <td>...</td>\n",
       "      <td>...</td>\n",
       "    </tr>\n",
       "    <tr>\n",
       "      <th>120</th>\n",
       "      <td>6.9</td>\n",
       "      <td>3.2</td>\n",
       "      <td>5.7</td>\n",
       "      <td>2.3</td>\n",
       "    </tr>\n",
       "    <tr>\n",
       "      <th>121</th>\n",
       "      <td>5.6</td>\n",
       "      <td>2.8</td>\n",
       "      <td>4.9</td>\n",
       "      <td>2.0</td>\n",
       "    </tr>\n",
       "    <tr>\n",
       "      <th>122</th>\n",
       "      <td>7.7</td>\n",
       "      <td>2.8</td>\n",
       "      <td>6.7</td>\n",
       "      <td>2.0</td>\n",
       "    </tr>\n",
       "    <tr>\n",
       "      <th>123</th>\n",
       "      <td>6.3</td>\n",
       "      <td>2.7</td>\n",
       "      <td>4.9</td>\n",
       "      <td>1.8</td>\n",
       "    </tr>\n",
       "    <tr>\n",
       "      <th>124</th>\n",
       "      <td>6.7</td>\n",
       "      <td>3.3</td>\n",
       "      <td>5.7</td>\n",
       "      <td>2.1</td>\n",
       "    </tr>\n",
       "    <tr>\n",
       "      <th>125</th>\n",
       "      <td>7.2</td>\n",
       "      <td>3.2</td>\n",
       "      <td>6.0</td>\n",
       "      <td>1.8</td>\n",
       "    </tr>\n",
       "    <tr>\n",
       "      <th>126</th>\n",
       "      <td>6.2</td>\n",
       "      <td>2.8</td>\n",
       "      <td>4.8</td>\n",
       "      <td>1.8</td>\n",
       "    </tr>\n",
       "    <tr>\n",
       "      <th>127</th>\n",
       "      <td>6.1</td>\n",
       "      <td>3.0</td>\n",
       "      <td>4.9</td>\n",
       "      <td>1.8</td>\n",
       "    </tr>\n",
       "    <tr>\n",
       "      <th>128</th>\n",
       "      <td>6.4</td>\n",
       "      <td>2.8</td>\n",
       "      <td>5.6</td>\n",
       "      <td>2.1</td>\n",
       "    </tr>\n",
       "    <tr>\n",
       "      <th>129</th>\n",
       "      <td>7.2</td>\n",
       "      <td>3.0</td>\n",
       "      <td>5.8</td>\n",
       "      <td>1.6</td>\n",
       "    </tr>\n",
       "    <tr>\n",
       "      <th>130</th>\n",
       "      <td>7.4</td>\n",
       "      <td>2.8</td>\n",
       "      <td>6.1</td>\n",
       "      <td>1.9</td>\n",
       "    </tr>\n",
       "    <tr>\n",
       "      <th>131</th>\n",
       "      <td>7.9</td>\n",
       "      <td>3.8</td>\n",
       "      <td>6.4</td>\n",
       "      <td>2.0</td>\n",
       "    </tr>\n",
       "    <tr>\n",
       "      <th>132</th>\n",
       "      <td>6.4</td>\n",
       "      <td>2.8</td>\n",
       "      <td>5.6</td>\n",
       "      <td>2.2</td>\n",
       "    </tr>\n",
       "    <tr>\n",
       "      <th>133</th>\n",
       "      <td>6.3</td>\n",
       "      <td>2.8</td>\n",
       "      <td>5.1</td>\n",
       "      <td>1.5</td>\n",
       "    </tr>\n",
       "    <tr>\n",
       "      <th>134</th>\n",
       "      <td>6.1</td>\n",
       "      <td>2.6</td>\n",
       "      <td>5.6</td>\n",
       "      <td>1.4</td>\n",
       "    </tr>\n",
       "    <tr>\n",
       "      <th>135</th>\n",
       "      <td>7.7</td>\n",
       "      <td>3.0</td>\n",
       "      <td>6.1</td>\n",
       "      <td>2.3</td>\n",
       "    </tr>\n",
       "    <tr>\n",
       "      <th>136</th>\n",
       "      <td>6.3</td>\n",
       "      <td>3.4</td>\n",
       "      <td>5.6</td>\n",
       "      <td>2.4</td>\n",
       "    </tr>\n",
       "    <tr>\n",
       "      <th>137</th>\n",
       "      <td>6.4</td>\n",
       "      <td>3.1</td>\n",
       "      <td>5.5</td>\n",
       "      <td>1.8</td>\n",
       "    </tr>\n",
       "    <tr>\n",
       "      <th>138</th>\n",
       "      <td>6.0</td>\n",
       "      <td>3.0</td>\n",
       "      <td>4.8</td>\n",
       "      <td>1.8</td>\n",
       "    </tr>\n",
       "    <tr>\n",
       "      <th>139</th>\n",
       "      <td>6.9</td>\n",
       "      <td>3.1</td>\n",
       "      <td>5.4</td>\n",
       "      <td>2.1</td>\n",
       "    </tr>\n",
       "    <tr>\n",
       "      <th>140</th>\n",
       "      <td>6.7</td>\n",
       "      <td>3.1</td>\n",
       "      <td>5.6</td>\n",
       "      <td>2.4</td>\n",
       "    </tr>\n",
       "    <tr>\n",
       "      <th>141</th>\n",
       "      <td>6.9</td>\n",
       "      <td>3.1</td>\n",
       "      <td>5.1</td>\n",
       "      <td>2.3</td>\n",
       "    </tr>\n",
       "    <tr>\n",
       "      <th>142</th>\n",
       "      <td>5.8</td>\n",
       "      <td>2.7</td>\n",
       "      <td>5.1</td>\n",
       "      <td>1.9</td>\n",
       "    </tr>\n",
       "    <tr>\n",
       "      <th>143</th>\n",
       "      <td>6.8</td>\n",
       "      <td>3.2</td>\n",
       "      <td>5.9</td>\n",
       "      <td>2.3</td>\n",
       "    </tr>\n",
       "    <tr>\n",
       "      <th>144</th>\n",
       "      <td>6.7</td>\n",
       "      <td>3.3</td>\n",
       "      <td>5.7</td>\n",
       "      <td>2.5</td>\n",
       "    </tr>\n",
       "    <tr>\n",
       "      <th>145</th>\n",
       "      <td>6.7</td>\n",
       "      <td>3.0</td>\n",
       "      <td>5.2</td>\n",
       "      <td>2.3</td>\n",
       "    </tr>\n",
       "    <tr>\n",
       "      <th>146</th>\n",
       "      <td>6.3</td>\n",
       "      <td>2.5</td>\n",
       "      <td>5.0</td>\n",
       "      <td>1.9</td>\n",
       "    </tr>\n",
       "    <tr>\n",
       "      <th>147</th>\n",
       "      <td>6.5</td>\n",
       "      <td>3.0</td>\n",
       "      <td>5.2</td>\n",
       "      <td>2.0</td>\n",
       "    </tr>\n",
       "    <tr>\n",
       "      <th>148</th>\n",
       "      <td>6.2</td>\n",
       "      <td>3.4</td>\n",
       "      <td>5.4</td>\n",
       "      <td>2.3</td>\n",
       "    </tr>\n",
       "    <tr>\n",
       "      <th>149</th>\n",
       "      <td>5.9</td>\n",
       "      <td>3.0</td>\n",
       "      <td>5.1</td>\n",
       "      <td>1.8</td>\n",
       "    </tr>\n",
       "  </tbody>\n",
       "</table>\n",
       "<p>150 rows × 4 columns</p>\n",
       "</div>"
      ],
      "text/plain": [
       "     sepal length (cm)  sepal width (cm)  petal length (cm)  petal width (cm)\n",
       "0                  5.1               3.5                1.4               0.2\n",
       "1                  4.9               3.0                1.4               0.2\n",
       "2                  4.7               3.2                1.3               0.2\n",
       "3                  4.6               3.1                1.5               0.2\n",
       "4                  5.0               3.6                1.4               0.2\n",
       "5                  5.4               3.9                1.7               0.4\n",
       "6                  4.6               3.4                1.4               0.3\n",
       "7                  5.0               3.4                1.5               0.2\n",
       "8                  4.4               2.9                1.4               0.2\n",
       "9                  4.9               3.1                1.5               0.1\n",
       "10                 5.4               3.7                1.5               0.2\n",
       "11                 4.8               3.4                1.6               0.2\n",
       "12                 4.8               3.0                1.4               0.1\n",
       "13                 4.3               3.0                1.1               0.1\n",
       "14                 5.8               4.0                1.2               0.2\n",
       "15                 5.7               4.4                1.5               0.4\n",
       "16                 5.4               3.9                1.3               0.4\n",
       "17                 5.1               3.5                1.4               0.3\n",
       "18                 5.7               3.8                1.7               0.3\n",
       "19                 5.1               3.8                1.5               0.3\n",
       "20                 5.4               3.4                1.7               0.2\n",
       "21                 5.1               3.7                1.5               0.4\n",
       "22                 4.6               3.6                1.0               0.2\n",
       "23                 5.1               3.3                1.7               0.5\n",
       "24                 4.8               3.4                1.9               0.2\n",
       "25                 5.0               3.0                1.6               0.2\n",
       "26                 5.0               3.4                1.6               0.4\n",
       "27                 5.2               3.5                1.5               0.2\n",
       "28                 5.2               3.4                1.4               0.2\n",
       "29                 4.7               3.2                1.6               0.2\n",
       "..                 ...               ...                ...               ...\n",
       "120                6.9               3.2                5.7               2.3\n",
       "121                5.6               2.8                4.9               2.0\n",
       "122                7.7               2.8                6.7               2.0\n",
       "123                6.3               2.7                4.9               1.8\n",
       "124                6.7               3.3                5.7               2.1\n",
       "125                7.2               3.2                6.0               1.8\n",
       "126                6.2               2.8                4.8               1.8\n",
       "127                6.1               3.0                4.9               1.8\n",
       "128                6.4               2.8                5.6               2.1\n",
       "129                7.2               3.0                5.8               1.6\n",
       "130                7.4               2.8                6.1               1.9\n",
       "131                7.9               3.8                6.4               2.0\n",
       "132                6.4               2.8                5.6               2.2\n",
       "133                6.3               2.8                5.1               1.5\n",
       "134                6.1               2.6                5.6               1.4\n",
       "135                7.7               3.0                6.1               2.3\n",
       "136                6.3               3.4                5.6               2.4\n",
       "137                6.4               3.1                5.5               1.8\n",
       "138                6.0               3.0                4.8               1.8\n",
       "139                6.9               3.1                5.4               2.1\n",
       "140                6.7               3.1                5.6               2.4\n",
       "141                6.9               3.1                5.1               2.3\n",
       "142                5.8               2.7                5.1               1.9\n",
       "143                6.8               3.2                5.9               2.3\n",
       "144                6.7               3.3                5.7               2.5\n",
       "145                6.7               3.0                5.2               2.3\n",
       "146                6.3               2.5                5.0               1.9\n",
       "147                6.5               3.0                5.2               2.0\n",
       "148                6.2               3.4                5.4               2.3\n",
       "149                5.9               3.0                5.1               1.8\n",
       "\n",
       "[150 rows x 4 columns]"
      ]
     },
     "execution_count": 55,
     "metadata": {},
     "output_type": "execute_result"
    }
   ],
   "source": [
    "import pandas as pd\n",
    "from sklearn import datasets\n",
    "iris = datasets.load_iris()\n",
    "data=pd.DataFrame(iris['data'],columns=iris['feature_names'])\n",
    "data"
   ]
  },
  {
   "cell_type": "markdown",
   "metadata": {
    "slideshow": {
     "slide_type": "subslide"
    }
   },
   "source": [
    "- Estatísticas Descritivas"
   ]
  },
  {
   "cell_type": "code",
   "execution_count": 47,
   "metadata": {
    "slideshow": {
     "slide_type": "-"
    }
   },
   "outputs": [
    {
     "data": {
      "text/html": [
       "<div>\n",
       "<style scoped>\n",
       "    .dataframe tbody tr th:only-of-type {\n",
       "        vertical-align: middle;\n",
       "    }\n",
       "\n",
       "    .dataframe tbody tr th {\n",
       "        vertical-align: top;\n",
       "    }\n",
       "\n",
       "    .dataframe thead th {\n",
       "        text-align: right;\n",
       "    }\n",
       "</style>\n",
       "<table border=\"1\" class=\"dataframe\">\n",
       "  <thead>\n",
       "    <tr style=\"text-align: right;\">\n",
       "      <th></th>\n",
       "      <th>sepal length (cm)</th>\n",
       "      <th>sepal width (cm)</th>\n",
       "      <th>petal length (cm)</th>\n",
       "      <th>petal width (cm)</th>\n",
       "    </tr>\n",
       "  </thead>\n",
       "  <tbody>\n",
       "    <tr>\n",
       "      <th>count</th>\n",
       "      <td>150.00000</td>\n",
       "      <td>150.00000</td>\n",
       "      <td>150.0000</td>\n",
       "      <td>150.00000</td>\n",
       "    </tr>\n",
       "    <tr>\n",
       "      <th>mean</th>\n",
       "      <td>5.84333</td>\n",
       "      <td>3.05733</td>\n",
       "      <td>3.7580</td>\n",
       "      <td>1.19933</td>\n",
       "    </tr>\n",
       "    <tr>\n",
       "      <th>std</th>\n",
       "      <td>0.82807</td>\n",
       "      <td>0.43587</td>\n",
       "      <td>1.7653</td>\n",
       "      <td>0.76224</td>\n",
       "    </tr>\n",
       "    <tr>\n",
       "      <th>min</th>\n",
       "      <td>4.30000</td>\n",
       "      <td>2.00000</td>\n",
       "      <td>1.0000</td>\n",
       "      <td>0.10000</td>\n",
       "    </tr>\n",
       "    <tr>\n",
       "      <th>25%</th>\n",
       "      <td>5.10000</td>\n",
       "      <td>2.80000</td>\n",
       "      <td>1.6000</td>\n",
       "      <td>0.30000</td>\n",
       "    </tr>\n",
       "    <tr>\n",
       "      <th>50%</th>\n",
       "      <td>5.80000</td>\n",
       "      <td>3.00000</td>\n",
       "      <td>4.3500</td>\n",
       "      <td>1.30000</td>\n",
       "    </tr>\n",
       "    <tr>\n",
       "      <th>75%</th>\n",
       "      <td>6.40000</td>\n",
       "      <td>3.30000</td>\n",
       "      <td>5.1000</td>\n",
       "      <td>1.80000</td>\n",
       "    </tr>\n",
       "    <tr>\n",
       "      <th>max</th>\n",
       "      <td>7.90000</td>\n",
       "      <td>4.40000</td>\n",
       "      <td>6.9000</td>\n",
       "      <td>2.50000</td>\n",
       "    </tr>\n",
       "  </tbody>\n",
       "</table>\n",
       "</div>"
      ],
      "text/plain": [
       "       sepal length (cm)  sepal width (cm)  petal length (cm)  \\\n",
       "count          150.00000         150.00000           150.0000   \n",
       "mean             5.84333           3.05733             3.7580   \n",
       "std              0.82807           0.43587             1.7653   \n",
       "min              4.30000           2.00000             1.0000   \n",
       "25%              5.10000           2.80000             1.6000   \n",
       "50%              5.80000           3.00000             4.3500   \n",
       "75%              6.40000           3.30000             5.1000   \n",
       "max              7.90000           4.40000             6.9000   \n",
       "\n",
       "       petal width (cm)  \n",
       "count         150.00000  \n",
       "mean            1.19933  \n",
       "std             0.76224  \n",
       "min             0.10000  \n",
       "25%             0.30000  \n",
       "50%             1.30000  \n",
       "75%             1.80000  \n",
       "max             2.50000  "
      ]
     },
     "execution_count": 47,
     "metadata": {},
     "output_type": "execute_result"
    }
   ],
   "source": [
    "data.describe().round(5)"
   ]
  },
  {
   "cell_type": "markdown",
   "metadata": {
    "slideshow": {
     "slide_type": "subslide"
    }
   },
   "source": [
    "- Definição de uma função para normalização linear"
   ]
  },
  {
   "cell_type": "code",
   "execution_count": 51,
   "metadata": {
    "slideshow": {
     "slide_type": "-"
    }
   },
   "outputs": [],
   "source": [
    "def normalizacao_linear(x):    \n",
    "    return (x - np.min(x)) / (np.max(x) - np.min(x));"
   ]
  },
  {
   "cell_type": "markdown",
   "metadata": {},
   "source": [
    "- Aplicação da função em uma das colunas do conjunto de dados"
   ]
  },
  {
   "cell_type": "code",
   "execution_count": 52,
   "metadata": {},
   "outputs": [
    {
     "data": {
      "text/plain": [
       "0    0.222222\n",
       "1    0.166667\n",
       "2    0.111111\n",
       "3    0.083333\n",
       "4    0.194444\n",
       "Name: sepal length (cm), dtype: float64"
      ]
     },
     "execution_count": 52,
     "metadata": {},
     "output_type": "execute_result"
    }
   ],
   "source": [
    "new_data = normalizacao_linear( data['sepal length (cm)'] )\n",
    "new_data.head()"
   ]
  },
  {
   "cell_type": "code",
   "execution_count": 49,
   "metadata": {
    "slideshow": {
     "slide_type": "subslide"
    }
   },
   "outputs": [
    {
     "data": {
      "text/html": [
       "<div>\n",
       "<style scoped>\n",
       "    .dataframe tbody tr th:only-of-type {\n",
       "        vertical-align: middle;\n",
       "    }\n",
       "\n",
       "    .dataframe tbody tr th {\n",
       "        vertical-align: top;\n",
       "    }\n",
       "\n",
       "    .dataframe thead th {\n",
       "        text-align: right;\n",
       "    }\n",
       "</style>\n",
       "<table border=\"1\" class=\"dataframe\">\n",
       "  <thead>\n",
       "    <tr style=\"text-align: right;\">\n",
       "      <th></th>\n",
       "      <th>sepal length (cm)</th>\n",
       "      <th>sepal width (cm)</th>\n",
       "      <th>petal length (cm)</th>\n",
       "      <th>petal width (cm)</th>\n",
       "    </tr>\n",
       "  </thead>\n",
       "  <tbody>\n",
       "    <tr>\n",
       "      <th>0</th>\n",
       "      <td>0.222222</td>\n",
       "      <td>0.625000</td>\n",
       "      <td>0.067797</td>\n",
       "      <td>0.041667</td>\n",
       "    </tr>\n",
       "    <tr>\n",
       "      <th>1</th>\n",
       "      <td>0.166667</td>\n",
       "      <td>0.416667</td>\n",
       "      <td>0.067797</td>\n",
       "      <td>0.041667</td>\n",
       "    </tr>\n",
       "    <tr>\n",
       "      <th>2</th>\n",
       "      <td>0.111111</td>\n",
       "      <td>0.500000</td>\n",
       "      <td>0.050847</td>\n",
       "      <td>0.041667</td>\n",
       "    </tr>\n",
       "    <tr>\n",
       "      <th>3</th>\n",
       "      <td>0.083333</td>\n",
       "      <td>0.458333</td>\n",
       "      <td>0.084746</td>\n",
       "      <td>0.041667</td>\n",
       "    </tr>\n",
       "    <tr>\n",
       "      <th>4</th>\n",
       "      <td>0.194444</td>\n",
       "      <td>0.666667</td>\n",
       "      <td>0.067797</td>\n",
       "      <td>0.041667</td>\n",
       "    </tr>\n",
       "    <tr>\n",
       "      <th>5</th>\n",
       "      <td>0.305556</td>\n",
       "      <td>0.791667</td>\n",
       "      <td>0.118644</td>\n",
       "      <td>0.125000</td>\n",
       "    </tr>\n",
       "    <tr>\n",
       "      <th>6</th>\n",
       "      <td>0.083333</td>\n",
       "      <td>0.583333</td>\n",
       "      <td>0.067797</td>\n",
       "      <td>0.083333</td>\n",
       "    </tr>\n",
       "    <tr>\n",
       "      <th>7</th>\n",
       "      <td>0.194444</td>\n",
       "      <td>0.583333</td>\n",
       "      <td>0.084746</td>\n",
       "      <td>0.041667</td>\n",
       "    </tr>\n",
       "    <tr>\n",
       "      <th>8</th>\n",
       "      <td>0.027778</td>\n",
       "      <td>0.375000</td>\n",
       "      <td>0.067797</td>\n",
       "      <td>0.041667</td>\n",
       "    </tr>\n",
       "    <tr>\n",
       "      <th>9</th>\n",
       "      <td>0.166667</td>\n",
       "      <td>0.458333</td>\n",
       "      <td>0.084746</td>\n",
       "      <td>0.000000</td>\n",
       "    </tr>\n",
       "  </tbody>\n",
       "</table>\n",
       "</div>"
      ],
      "text/plain": [
       "   sepal length (cm)  sepal width (cm)  petal length (cm)  petal width (cm)\n",
       "0           0.222222          0.625000           0.067797          0.041667\n",
       "1           0.166667          0.416667           0.067797          0.041667\n",
       "2           0.111111          0.500000           0.050847          0.041667\n",
       "3           0.083333          0.458333           0.084746          0.041667\n",
       "4           0.194444          0.666667           0.067797          0.041667\n",
       "5           0.305556          0.791667           0.118644          0.125000\n",
       "6           0.083333          0.583333           0.067797          0.083333\n",
       "7           0.194444          0.583333           0.084746          0.041667\n",
       "8           0.027778          0.375000           0.067797          0.041667\n",
       "9           0.166667          0.458333           0.084746          0.000000"
      ]
     },
     "execution_count": 49,
     "metadata": {},
     "output_type": "execute_result"
    }
   ],
   "source": [
    "new_data = data.apply(normalizacao_linear, axis = 0)\n",
    "new_data.head(10)"
   ]
  },
  {
   "cell_type": "code",
   "execution_count": 50,
   "metadata": {
    "slideshow": {
     "slide_type": "subslide"
    }
   },
   "outputs": [
    {
     "data": {
      "text/html": [
       "<div>\n",
       "<style scoped>\n",
       "    .dataframe tbody tr th:only-of-type {\n",
       "        vertical-align: middle;\n",
       "    }\n",
       "\n",
       "    .dataframe tbody tr th {\n",
       "        vertical-align: top;\n",
       "    }\n",
       "\n",
       "    .dataframe thead th {\n",
       "        text-align: right;\n",
       "    }\n",
       "</style>\n",
       "<table border=\"1\" class=\"dataframe\">\n",
       "  <thead>\n",
       "    <tr style=\"text-align: right;\">\n",
       "      <th></th>\n",
       "      <th>sepal length (cm)</th>\n",
       "      <th>sepal width (cm)</th>\n",
       "      <th>petal length (cm)</th>\n",
       "      <th>petal width (cm)</th>\n",
       "    </tr>\n",
       "  </thead>\n",
       "  <tbody>\n",
       "    <tr>\n",
       "      <th>count</th>\n",
       "      <td>150.00000</td>\n",
       "      <td>150.00000</td>\n",
       "      <td>150.00000</td>\n",
       "      <td>150.00000</td>\n",
       "    </tr>\n",
       "    <tr>\n",
       "      <th>mean</th>\n",
       "      <td>0.42870</td>\n",
       "      <td>0.44056</td>\n",
       "      <td>0.46746</td>\n",
       "      <td>0.45806</td>\n",
       "    </tr>\n",
       "    <tr>\n",
       "      <th>std</th>\n",
       "      <td>0.23002</td>\n",
       "      <td>0.18161</td>\n",
       "      <td>0.29920</td>\n",
       "      <td>0.31760</td>\n",
       "    </tr>\n",
       "    <tr>\n",
       "      <th>min</th>\n",
       "      <td>0.00000</td>\n",
       "      <td>0.00000</td>\n",
       "      <td>0.00000</td>\n",
       "      <td>0.00000</td>\n",
       "    </tr>\n",
       "    <tr>\n",
       "      <th>25%</th>\n",
       "      <td>0.22222</td>\n",
       "      <td>0.33333</td>\n",
       "      <td>0.10169</td>\n",
       "      <td>0.08333</td>\n",
       "    </tr>\n",
       "    <tr>\n",
       "      <th>50%</th>\n",
       "      <td>0.41667</td>\n",
       "      <td>0.41667</td>\n",
       "      <td>0.56780</td>\n",
       "      <td>0.50000</td>\n",
       "    </tr>\n",
       "    <tr>\n",
       "      <th>75%</th>\n",
       "      <td>0.58333</td>\n",
       "      <td>0.54167</td>\n",
       "      <td>0.69492</td>\n",
       "      <td>0.70833</td>\n",
       "    </tr>\n",
       "    <tr>\n",
       "      <th>max</th>\n",
       "      <td>1.00000</td>\n",
       "      <td>1.00000</td>\n",
       "      <td>1.00000</td>\n",
       "      <td>1.00000</td>\n",
       "    </tr>\n",
       "  </tbody>\n",
       "</table>\n",
       "</div>"
      ],
      "text/plain": [
       "       sepal length (cm)  sepal width (cm)  petal length (cm)  \\\n",
       "count          150.00000         150.00000          150.00000   \n",
       "mean             0.42870           0.44056            0.46746   \n",
       "std              0.23002           0.18161            0.29920   \n",
       "min              0.00000           0.00000            0.00000   \n",
       "25%              0.22222           0.33333            0.10169   \n",
       "50%              0.41667           0.41667            0.56780   \n",
       "75%              0.58333           0.54167            0.69492   \n",
       "max              1.00000           1.00000            1.00000   \n",
       "\n",
       "       petal width (cm)  \n",
       "count         150.00000  \n",
       "mean            0.45806  \n",
       "std             0.31760  \n",
       "min             0.00000  \n",
       "25%             0.08333  \n",
       "50%             0.50000  \n",
       "75%             0.70833  \n",
       "max             1.00000  "
      ]
     },
     "execution_count": 50,
     "metadata": {},
     "output_type": "execute_result"
    }
   ],
   "source": [
    "new_data.describe().round(5)"
   ]
  },
  {
   "cell_type": "markdown",
   "metadata": {
    "slideshow": {
     "slide_type": "subslide"
    }
   },
   "source": [
    "### Atividade\n",
    "\n",
    "- Com o conjunto de dados *iris*, para cada atributo do conjunto de dados faça:\n",
    "    - Normalização Linear\n",
    "    - Normalização por Desvio-padrão\n",
    "    - Normalização por Valor Máximo\n",
    "    - Normalização por Escala Decimal"
   ]
  },
  {
   "cell_type": "markdown",
   "metadata": {
    "slideshow": {
     "slide_type": "subslide"
    }
   },
   "source": [
    "## Discretização de Dados Numéricos\n",
    "\n",
    "- Alguns algoritmos de aprendizado trabalham apenas com dados discretos (ou categóricos), como o ID3 (Iterative Dichotomiser 3) desenvolvido por Ross Quinlan em 1986. Isto é, ao invés de utilizar o valor de, por exemplo, altura em metros ou centímetros, utilizam os valores baixo, médio, alto.\n",
    "\n",
    "- Outros algoritmos podem ter desempenho melhor em alguns problemas se usada a representação discretazada de uma variável contínua, como no caso do algoritmo Naïve Bayes.\n",
    "\n",
    "- Em algumas ocasiões o armazenamento de dados é feito com valores numéricos, embora indiquem informações discretas, por exemplo um atributo gênero, onde o valor 0 indica masculino, 1 feminino e 2 outro."
   ]
  },
  {
   "cell_type": "markdown",
   "metadata": {
    "slideshow": {
     "slide_type": "subslide"
    }
   },
   "source": [
    "- O objetivo da discretização consiste em transformar de valores numéricos para categóricos ou discretos.\n",
    "\n",
    "- A idéia é perder a menor quantidade de informação possível para o domínio do problema, durante esse processo.\n",
    "\n",
    "- As principais abordagens são:\n",
    "    - Mapeamento Direto\n",
    "    - Mapeamento em Intervalos"
   ]
  },
  {
   "cell_type": "markdown",
   "metadata": {
    "slideshow": {
     "slide_type": "subslide"
    }
   },
   "source": [
    "### Mapeamento Direto\n",
    "\n",
    "- Neste tipo de discretização ocorre a substituição de valores numéricos por valores categóricos conhecidos no domínio do problema.\n",
    "\n",
    "- Como o exemplo citado anteriormente, o atributo gênero pode ser armazenado como um valor numérico e o mesmo deve ser transformado, com o objetivo que, tanto as técnicas visualização, quanto os algoritmos de aprendizado não entendam esse atributo como numérico e sim como discreto."
   ]
  },
  {
   "cell_type": "markdown",
   "metadata": {
    "slideshow": {
     "slide_type": "subslide"
    }
   },
   "source": [
    "- Exemplos de três formas de fazer discretização em R:"
   ]
  },
  {
   "cell_type": "code",
   "execution_count": 158,
   "metadata": {},
   "outputs": [
    {
     "name": "stdout",
     "output_type": "stream",
     "text": [
      " [1] 1 2 1 0 0 0 0 1 1 1 2 0 1 0 1 0 1 2 0 2\n"
     ]
    }
   ],
   "source": [
    "# Geração de uma amostra de variável aleatória sexo, de tamanho 20, com valores 0, 1, e 2\n",
    "genero <- sample(x = c(0,1,2), size = 20, replace = T)\n",
    "print(genero)"
   ]
  },
  {
   "cell_type": "code",
   "execution_count": 159,
   "metadata": {},
   "outputs": [
    {
     "name": "stdout",
     "output_type": "stream",
     "text": [
      " [1] Feminino  Outros    Feminino  Masculino Masculino Masculino Masculino\n",
      " [8] Feminino  Feminino  Feminino  Outros    Masculino Feminino  Masculino\n",
      "[15] Feminino  Masculino Feminino  Outros    Masculino Outros   \n",
      "Levels: Masculino Feminino Outros\n"
     ]
    }
   ],
   "source": [
    "# Conversão dos dados numéricos para discretos (Forma 1)\n",
    "genero.discreto1 <- factor(genero)\n",
    "levels(genero.discreto1) <- c(\"Masculino\", \"Feminino\",\"Outros\")\n",
    "print(genero.discreto1)"
   ]
  },
  {
   "cell_type": "code",
   "execution_count": 160,
   "metadata": {
    "slideshow": {
     "slide_type": "subslide"
    }
   },
   "outputs": [
    {
     "name": "stdout",
     "output_type": "stream",
     "text": [
      " [1] Feminino  Outros    Feminino  Masculino Masculino Masculino Masculino\n",
      " [8] Feminino  Feminino  Feminino  Outros    Masculino Feminino  Masculino\n",
      "[15] Feminino  Masculino Feminino  Outros    Masculino Outros   \n",
      "Levels: Feminino Masculino Outros\n"
     ]
    }
   ],
   "source": [
    "# Conversão dos dados numéricos para discretos (Forma 2)\n",
    "genero.discreto2 <- genero\n",
    "genero.discreto2 <- ifelse( genero.discreto2 == 0, 'Masculino', genero.discreto2 )\n",
    "genero.discreto2 <- ifelse( genero.discreto2 == 1, 'Feminino', genero.discreto2 )\n",
    "genero.discreto2 <- ifelse( genero.discreto2 == 2, 'Outros', genero.discreto2 )\n",
    "genero.discreto2 <- as.factor(genero.discreto2)\n",
    "print(genero.discreto2)"
   ]
  },
  {
   "cell_type": "code",
   "execution_count": 161,
   "metadata": {
    "slideshow": {
     "slide_type": "subslide"
    }
   },
   "outputs": [
    {
     "name": "stdout",
     "output_type": "stream",
     "text": [
      " [1] Feminino  Outros    Feminino  Masculino Masculino Masculino Masculino\n",
      " [8] Feminino  Feminino  Feminino  Outros    Masculino Feminino  Masculino\n",
      "[15] Feminino  Masculino Feminino  Outros    Masculino Outros   \n",
      "Levels: Feminino Masculino Outros\n"
     ]
    }
   ],
   "source": [
    "# Conversão dos dados numéricos para discretos (Forma 3)\n",
    "genero.discreto3 <- genero\n",
    "genero.discreto3 <- gsub('0', 'Masculino', genero.discreto3)\n",
    "genero.discreto3 <- gsub('1', 'Feminino', genero.discreto3)\n",
    "genero.discreto3 <- gsub('2', 'Outros', genero.discreto3)\n",
    "genero.discreto3 <- as.factor(genero.discreto3)\n",
    "print(genero.discreto3)"
   ]
  },
  {
   "cell_type": "markdown",
   "metadata": {
    "slideshow": {
     "slide_type": "subslide"
    }
   },
   "source": [
    "### Mapeamento em Intervalos\n",
    "\n",
    "- Intervalos pré-definidos\n",
    "- Intervalos de igual tamanho\n",
    "- Intervalos de igual frequência"
   ]
  },
  {
   "cell_type": "markdown",
   "metadata": {
    "slideshow": {
     "slide_type": "subslide"
    }
   },
   "source": [
    "#### Intervalos Pré-definidos\n",
    "\n",
    "- Neste tipo de intervalo, coleta-se informação do domínio para poder realizar a discretização\n",
    "\n",
    "- Por exemplo, ao discretizar valores de idade em faixas etárias, embora possamos definir os intervalos arbitrariamente (nós mesmos) existe conhecimento do domínio que permite definir esses intervalos.\n",
    "    - Criança (de 0 a 12 anos incompletos)\n",
    "    - Adolescente (de 12 anos a 18 anos incompletos)\n",
    "    - Adulto Jovem (de 18 anos a 40 anos incompletos)\n",
    "    - Adulto (de 40 anos a 60 anos incompletos)\n",
    "    - Idoso (de 60 anos ou mais)"
   ]
  },
  {
   "cell_type": "code",
   "execution_count": 37,
   "metadata": {
    "slideshow": {
     "slide_type": "subslide"
    }
   },
   "outputs": [
    {
     "name": "stdout",
     "output_type": "stream",
     "text": [
      " [1]  26  37  57  91  20  90  95  66  63   6  20  17  69  38  77  50  72 100  38\n",
      "[20]  78\n"
     ]
    }
   ],
   "source": [
    "# Geração de uma amostra de variável aleatória idade, de tamanho 20, com valores de 0 a 100\n",
    "set.seed(1)\n",
    "idade <- sample(x = c(0:100), size = 20, replace = T)\n",
    "print(idade)"
   ]
  },
  {
   "cell_type": "code",
   "execution_count": 42,
   "metadata": {},
   "outputs": [
    {
     "name": "stdout",
     "output_type": "stream",
     "text": [
      " [1] adulto jovem adulto jovem adulto       idoso        adulto jovem\n",
      " [6] idoso        idoso        idoso        idoso        criança     \n",
      "[11] adulto jovem adolescente  idoso        adulto jovem idoso       \n",
      "[16] adulto       idoso        idoso        adulto jovem idoso       \n",
      "Levels: adolescente adulto adulto jovem criança idoso\n"
     ]
    }
   ],
   "source": [
    "idade.intervalos <- idade\n",
    "idade.intervalos <- ifelse(idade.intervalos < 12, \"criança\",\n",
    "                        ifelse(idade.intervalos < 18, \"adolescente\",\n",
    "                        ifelse(idade.intervalos < 40, \"adulto jovem\",\n",
    "                        ifelse(idade.intervalos < 60, \"adulto\", \"idoso\"))))\n",
    "idade.intervalos <- as.factor(idade.intervalos)\n",
    "print(idade.intervalos)"
   ]
  },
  {
   "cell_type": "markdown",
   "metadata": {
    "slideshow": {
     "slide_type": "subslide"
    }
   },
   "source": [
    "### Intervalos de Igual Tamanho (ou largura fixa)\n",
    "\n",
    "- Ao se conhecer os valores máximos e mínimos do domínio de uma variável, seja por conhecimento do domínio ou pela aplicação de técnicas estatísticas, podemos dividir o intervalo total dos dados em $k$ tamanhos iguais.\n",
    "\n",
    "$$L = \\frac{max(\\mathbf{x}) - min(\\mathbf{x}) + 1}{k}$$\n",
    "\n",
    "- onde, \n",
    "    - $\\mathbf{x}$ é o conjunto de valores da variável    \n",
    "    - $k$ é o número de intervalos\n",
    "    - $L$ é a largura do intervalo"
   ]
  },
  {
   "cell_type": "markdown",
   "metadata": {
    "slideshow": {
     "slide_type": "subslide"
    }
   },
   "source": [
    "- Por exemplo, se os valores vão de 1 a 100 e queremos dividir esses vem valores em 4 intervalos de tamanho igual, o tamanho do intervalo é 25, pois $\\frac{(1-100+1)}{4} = 25$\n",
    "\n",
    "- Assim, os intervalos podem ser definidos da seguinte por,\n",
    "\n",
    "$$ I_i = [(min(\\mathbf{x}) + L \\times i),\\;(min(\\mathbf{x}) + L \\times (i+1) - 1],\\\\ \\text{para}\\;1 \\leq i < k $$\n",
    "\n",
    "- O que resulta nos seguintes intervalos de 1 a 100\n",
    "\n",
    "$$ \n",
    " \\begin{matrix}\n",
    "  I_0 =& [(1 + 25 \\times 0),(1 + 25 \\times (0+1) - 1)]) =& [1,25] \\\\\n",
    "  I_1 =& [(1 + 25 \\times 1),(1 + 25 \\times (1+1) - 1)]) =& [26,50] \\\\\n",
    "  I_2 =& [(1 + 25 \\times 2),(1 + 25 \\times (2+1) - 1)]) =& [51,75] \\\\\n",
    "  I_3 =& [(1 + 25 \\times 3),(1 + 25 \\times (3+1) - 1)]) =& [76,100] \\\\\n",
    "  \\end{matrix}\n",
    "$$"
   ]
  },
  {
   "cell_type": "markdown",
   "metadata": {
    "slideshow": {
     "slide_type": "subslide"
    }
   },
   "source": [
    "- Em R podemos fazer isso utilizando *ifelse*, mas também podemos usar a operação de divisão de inteiros, como segue:"
   ]
  },
  {
   "cell_type": "code",
   "execution_count": 143,
   "metadata": {},
   "outputs": [
    {
     "name": "stdout",
     "output_type": "stream",
     "text": [
      "[1] 27 38 58 91 21 90\n"
     ]
    }
   ],
   "source": [
    "set.seed(1)\n",
    "idade <- sample(x = c(1:100), size = 500, replace = T)\n",
    "print(head(idade))"
   ]
  },
  {
   "cell_type": "code",
   "execution_count": 144,
   "metadata": {},
   "outputs": [
    {
     "name": "stdout",
     "output_type": "stream",
     "text": [
      "[1] 1 1 2 3 0 3\n"
     ]
    }
   ],
   "source": [
    "k <- 4\n",
    "L <- (max(idade) + min(idade) - 1) / k\n",
    "idade.intervalos <- (idade - min(idade)) %/% L\n",
    "print(head(idade.intervalos))"
   ]
  },
  {
   "cell_type": "code",
   "execution_count": 137,
   "metadata": {
    "slideshow": {
     "slide_type": "subslide"
    }
   },
   "outputs": [
    {
     "data": {
      "text/html": [
       "<table>\n",
       "<thead><tr><th scope=col>idade</th><th scope=col>idade.intervalos</th></tr></thead>\n",
       "<tbody>\n",
       "\t<tr><td>27</td><td>1 </td></tr>\n",
       "\t<tr><td>37</td><td>1 </td></tr>\n",
       "\t<tr><td>57</td><td>2 </td></tr>\n",
       "\t<tr><td>89</td><td>3 </td></tr>\n",
       "\t<tr><td>20</td><td>0 </td></tr>\n",
       "\t<tr><td>86</td><td>3 </td></tr>\n",
       "</tbody>\n",
       "</table>\n"
      ],
      "text/latex": [
       "\\begin{tabular}{r|ll}\n",
       " idade & idade.intervalos\\\\\n",
       "\\hline\n",
       "\t 27 & 1 \\\\\n",
       "\t 37 & 1 \\\\\n",
       "\t 57 & 2 \\\\\n",
       "\t 89 & 3 \\\\\n",
       "\t 20 & 0 \\\\\n",
       "\t 86 & 3 \\\\\n",
       "\\end{tabular}\n"
      ],
      "text/markdown": [
       "\n",
       "idade | idade.intervalos | \n",
       "|---|---|---|---|---|---|\n",
       "| 27 | 1  | \n",
       "| 37 | 1  | \n",
       "| 57 | 2  | \n",
       "| 89 | 3  | \n",
       "| 20 | 0  | \n",
       "| 86 | 3  | \n",
       "\n",
       "\n"
      ],
      "text/plain": [
       "  idade idade.intervalos\n",
       "1 27    1               \n",
       "2 37    1               \n",
       "3 57    2               \n",
       "4 89    3               \n",
       "5 20    0               \n",
       "6 86    3               "
      ]
     },
     "metadata": {},
     "output_type": "display_data"
    }
   ],
   "source": [
    "library(data.table)\n",
    "dt <- data.table(idade,idade.intervalos)\n",
    "head(dt)"
   ]
  },
  {
   "cell_type": "markdown",
   "metadata": {
    "slideshow": {
     "slide_type": "subslide"
    }
   },
   "source": [
    "#### Intervalos de Igual Frequência\n",
    "\n",
    "- Neste tipo de discretização a ideia consiste em manter o mesmo número de valores (ou exemplos) em cada intervalo.\n",
    "\n",
    "- Considerando $k$ o número de intervalos e $n$ o número de exemplos:\n",
    "    1. Calculamos $N$, o número de exemplos por intervalo, como $N = \\frac{n}{k}$\n",
    "    - Calculamos o ranking dos valores da variável $\\mathbf{x}$ \n",
    "    - Aplicamos o método de discretização de igual tamanho sobre o ranking dos elementos"
   ]
  },
  {
   "cell_type": "markdown",
   "metadata": {
    "slideshow": {
     "slide_type": "subslide"
    }
   },
   "source": [
    "- Exemplo,"
   ]
  },
  {
   "cell_type": "code",
   "execution_count": 147,
   "metadata": {
    "slideshow": {
     "slide_type": "-"
    }
   },
   "outputs": [
    {
     "name": "stdout",
     "output_type": "stream",
     "text": [
      "[1] 27 37 57 89 20 86\n"
     ]
    }
   ],
   "source": [
    "set.seed(1)\n",
    "idade <- sample(x = c(1:100), size = 50, replace = F)\n",
    "print(head(idade))"
   ]
  },
  {
   "cell_type": "code",
   "execution_count": 148,
   "metadata": {},
   "outputs": [
    {
     "name": "stdout",
     "output_type": "stream",
     "text": [
      "[1] 1 2 3 4 0 4\n"
     ]
    }
   ],
   "source": [
    "k <- 5\n",
    "N <- round(length(idade) / k)\n",
    "\n",
    "x <- rank(idade)\n",
    "L <- (max(x) + min(x) - 1) / k\n",
    "x.intervalos <- (x - min(x)) %/% L\n",
    "\n",
    "print(head(x.intervalos))"
   ]
  },
  {
   "cell_type": "code",
   "execution_count": 154,
   "metadata": {
    "slideshow": {
     "slide_type": "subslide"
    }
   },
   "outputs": [
    {
     "data": {
      "text/html": [
       "<table>\n",
       "<thead><tr><th scope=col>idade</th><th scope=col>rank</th><th scope=col>intervalo</th></tr></thead>\n",
       "<tbody>\n",
       "\t<tr><td>27</td><td>14</td><td>1 </td></tr>\n",
       "\t<tr><td>37</td><td>21</td><td>2 </td></tr>\n",
       "\t<tr><td>57</td><td>31</td><td>3 </td></tr>\n",
       "\t<tr><td>89</td><td>49</td><td>4 </td></tr>\n",
       "\t<tr><td>20</td><td>10</td><td>0 </td></tr>\n",
       "\t<tr><td>86</td><td>46</td><td>4 </td></tr>\n",
       "</tbody>\n",
       "</table>\n"
      ],
      "text/latex": [
       "\\begin{tabular}{r|lll}\n",
       " idade & rank & intervalo\\\\\n",
       "\\hline\n",
       "\t 27 & 14 & 1 \\\\\n",
       "\t 37 & 21 & 2 \\\\\n",
       "\t 57 & 31 & 3 \\\\\n",
       "\t 89 & 49 & 4 \\\\\n",
       "\t 20 & 10 & 0 \\\\\n",
       "\t 86 & 46 & 4 \\\\\n",
       "\\end{tabular}\n"
      ],
      "text/markdown": [
       "\n",
       "idade | rank | intervalo | \n",
       "|---|---|---|---|---|---|\n",
       "| 27 | 14 | 1  | \n",
       "| 37 | 21 | 2  | \n",
       "| 57 | 31 | 3  | \n",
       "| 89 | 49 | 4  | \n",
       "| 20 | 10 | 0  | \n",
       "| 86 | 46 | 4  | \n",
       "\n",
       "\n"
      ],
      "text/plain": [
       "  idade rank intervalo\n",
       "1 27    14   1        \n",
       "2 37    21   2        \n",
       "3 57    31   3        \n",
       "4 89    49   4        \n",
       "5 20    10   0        \n",
       "6 86    46   4        "
      ]
     },
     "metadata": {},
     "output_type": "display_data"
    }
   ],
   "source": [
    "dt <- data.table(idade, rank = x, intervalo = x.intervalos)\n",
    "head(dt)"
   ]
  },
  {
   "cell_type": "code",
   "execution_count": 155,
   "metadata": {},
   "outputs": [
    {
     "data": {
      "text/html": [
       "<table>\n",
       "<thead><tr><th scope=col>intervalo</th><th scope=col>N</th></tr></thead>\n",
       "<tbody>\n",
       "\t<tr><td>1 </td><td>10</td></tr>\n",
       "\t<tr><td>2 </td><td>10</td></tr>\n",
       "\t<tr><td>3 </td><td>10</td></tr>\n",
       "\t<tr><td>4 </td><td>10</td></tr>\n",
       "\t<tr><td>0 </td><td>10</td></tr>\n",
       "</tbody>\n",
       "</table>\n"
      ],
      "text/latex": [
       "\\begin{tabular}{r|ll}\n",
       " intervalo & N\\\\\n",
       "\\hline\n",
       "\t 1  & 10\\\\\n",
       "\t 2  & 10\\\\\n",
       "\t 3  & 10\\\\\n",
       "\t 4  & 10\\\\\n",
       "\t 0  & 10\\\\\n",
       "\\end{tabular}\n"
      ],
      "text/markdown": [
       "\n",
       "intervalo | N | \n",
       "|---|---|---|---|---|\n",
       "| 1  | 10 | \n",
       "| 2  | 10 | \n",
       "| 3  | 10 | \n",
       "| 4  | 10 | \n",
       "| 0  | 10 | \n",
       "\n",
       "\n"
      ],
      "text/plain": [
       "  intervalo N \n",
       "1 1         10\n",
       "2 2         10\n",
       "3 3         10\n",
       "4 4         10\n",
       "5 0         10"
      ]
     },
     "metadata": {},
     "output_type": "display_data"
    }
   ],
   "source": [
    "dt[, .N ,by = intervalo]"
   ]
  },
  {
   "cell_type": "markdown",
   "metadata": {
    "slideshow": {
     "slide_type": "subslide"
    }
   },
   "source": [
    "## Transformação de Dados Qualitativos em Quantitativos"
   ]
  },
  {
   "cell_type": "markdown",
   "metadata": {},
   "source": [
    "- Alguns algoritmos tem preferência por representações numéricas para atributos qualitativos, como as Redes Neurais.\n",
    "\n",
    "- Os atributos qualitativos (ou categóricos) podem ser:\n",
    "    - Ordinais: os seus valores possuem uma ordem, como avaliação: ruim, regular, bom e ótimo.\n",
    "    - Nominais: os seus valores não possuem uma ordem, como cores, estado civil, e outros."
   ]
  },
  {
   "cell_type": "markdown",
   "metadata": {
    "slideshow": {
     "slide_type": "subslide"
    }
   },
   "source": [
    "### Mapeamento Direto\n",
    "- Para atributos nominais não é recomendado, pois pode inserir informações incorretas para o processo de aprendizado.\n",
    "- Para os atributos ordinais é possível transformar os dados para números inteiros.\n",
    "- Para isso, ordenamos os possíveis valores em ordem crescente, e atribuímos valores em ordem crescente aos possíveis valores, geralmente iniciando em 0 ou 1.\n",
    "- Por exemplo, para a variável avaliação\n",
    "\n",
    "|Valor | Mapeamento |\n",
    "|------|------|\n",
    "| ruim | 0 |\n",
    "| regular | 1 |\n",
    "| bom | 2 | \n",
    "| ótimo | 3 |"
   ]
  },
  {
   "cell_type": "markdown",
   "metadata": {
    "slideshow": {
     "slide_type": "subslide"
    }
   },
   "source": [
    "### Representação Binária\n",
    "\n",
    "- Neste tipo de representação cada valor corresponde a uma sequência binária única.\n",
    "\n",
    "- Em geral, usa-se a representação *One-Hot* que ativa um bit exclusivamente para cada valor da variável.\n",
    "\n",
    "- Por exemplo, para o caso da variável ordinal *avaliação*:\n",
    "\n",
    "|Valor | Mapeamento |\n",
    "|------|------|\n",
    "| ruim | 0001 |\n",
    "| regular | 0010 |\n",
    "| bom | 0100 | \n",
    "| ótimo | 1000 |"
   ]
  },
  {
   "cell_type": "markdown",
   "metadata": {
    "slideshow": {
     "slide_type": "subslide"
    }
   },
   "source": [
    "- Por exemplo, para a variável nominal *estado civil*:\n",
    "\n",
    "|Valor | Mapeamento |\n",
    "|------|------|\n",
    "| casado | 00001 |\n",
    "| solteiro | 00010 |\n",
    "| viúvo | 00100 | \n",
    "| divorciado | 01000 |\n",
    "| outro | 10000 |\n",
    "\n",
    "- A representação binária é comumente utilizada para codificar variáveis em Redes Neurais."
   ]
  },
  {
   "cell_type": "markdown",
   "metadata": {
    "slideshow": {
     "slide_type": "subslide"
    }
   },
   "source": [
    "### Outras Transformações de Dados\n",
    "\n",
    "- Existem outras transformações dependentes da natureza do dado e da informação que queremos estudar.\n",
    "\n",
    "- Por exemplo, se temos uma variável *data de nascimento*. Se estamos interessados em analisar o valor da idade, a data de nascimento não será suficiente para um método de aprendizado entender o que nós queremos."
   ]
  },
  {
   "cell_type": "code",
   "execution_count": 368,
   "metadata": {
    "slideshow": {
     "slide_type": "subslide"
    }
   },
   "outputs": [
    {
     "name": "stdout",
     "output_type": "stream",
     "text": [
      "[1] \"1965-12-06\" \"1972-04-30\" \"1984-05-15\" \"2004-06-27\" \"1962-02-06\"\n",
      "[6] \"2003-11-23\"\n"
     ]
    }
   ],
   "source": [
    "set.seed(1)\n",
    "data.nasc <- sample(seq(as.Date('1950/01/01'), as.Date('2010/01/01'), by=\"day\"), 20)\n",
    "print(head(data.nasc))"
   ]
  },
  {
   "cell_type": "code",
   "execution_count": 369,
   "metadata": {},
   "outputs": [
    {
     "data": {
      "text/html": [
       "<table>\n",
       "<thead><tr><th scope=col>data.nasc</th><th scope=col>idade</th></tr></thead>\n",
       "<tbody>\n",
       "\t<tr><td>1965-12-06</td><td>52        </td></tr>\n",
       "\t<tr><td>1972-04-30</td><td>46        </td></tr>\n",
       "\t<tr><td>1984-05-15</td><td>34        </td></tr>\n",
       "\t<tr><td>2004-06-27</td><td>14        </td></tr>\n",
       "\t<tr><td>1962-02-06</td><td>56        </td></tr>\n",
       "\t<tr><td>2003-11-23</td><td>14        </td></tr>\n",
       "</tbody>\n",
       "</table>\n"
      ],
      "text/latex": [
       "\\begin{tabular}{r|ll}\n",
       " data.nasc & idade\\\\\n",
       "\\hline\n",
       "\t 1965-12-06 & 52        \\\\\n",
       "\t 1972-04-30 & 46        \\\\\n",
       "\t 1984-05-15 & 34        \\\\\n",
       "\t 2004-06-27 & 14        \\\\\n",
       "\t 1962-02-06 & 56        \\\\\n",
       "\t 2003-11-23 & 14        \\\\\n",
       "\\end{tabular}\n"
      ],
      "text/markdown": [
       "\n",
       "data.nasc | idade | \n",
       "|---|---|---|---|---|---|\n",
       "| 1965-12-06 | 52         | \n",
       "| 1972-04-30 | 46         | \n",
       "| 1984-05-15 | 34         | \n",
       "| 2004-06-27 | 14         | \n",
       "| 1962-02-06 | 56         | \n",
       "| 2003-11-23 | 14         | \n",
       "\n",
       "\n"
      ],
      "text/plain": [
       "  data.nasc  idade\n",
       "1 1965-12-06 52   \n",
       "2 1972-04-30 46   \n",
       "3 1984-05-15 34   \n",
       "4 2004-06-27 14   \n",
       "5 1962-02-06 56   \n",
       "6 2003-11-23 14   "
      ]
     },
     "metadata": {},
     "output_type": "display_data"
    }
   ],
   "source": [
    "library(lubridate)\n",
    "today <- Sys.Date()\n",
    "age <- time_length( today - data.nasc, \"years\")\n",
    "age <- floor(age) # Arredondamento pelo menor inteiro\n",
    "head(data.table(data.nasc, idade = age))"
   ]
  },
  {
   "cell_type": "markdown",
   "metadata": {
    "slideshow": {
     "slide_type": "subslide"
    }
   },
   "source": [
    "- A data é um tipo de dado complexo, pois tem várias informações contidas nela.\n",
    "\n",
    "- Os algoritmos de aprendizado também não irão saber que nela estão contidos: dia, mês e ano.\n",
    "\n",
    "- E muito menos se o mês deve ser representado no formato textual, número inteiro ou representação binária. Portanto, nós devemos informar que tipo de informação queremos representar.\n",
    "\n",
    "- Como já mencionado, os dados podem vir em qualquer formato, e como vão ser usados esses dados para visualização ou por algoritmo de aprendizado, vai depender de quem está realizando o processo de mineração."
   ]
  },
  {
   "cell_type": "markdown",
   "metadata": {
    "slideshow": {
     "slide_type": "subslide"
    }
   },
   "source": [
    "- Então muitas vezes vamos precisar extrair todas essas informações do dado complexo"
   ]
  },
  {
   "cell_type": "code",
   "execution_count": 370,
   "metadata": {
    "slideshow": {
     "slide_type": "-"
    }
   },
   "outputs": [
    {
     "data": {
      "text/html": [
       "<table>\n",
       "<thead><tr><th scope=col>data.nasc</th><th scope=col>dia.do.mes</th><th scope=col>dia.da.semana</th><th scope=col>dia.da.semana.extenso</th><th scope=col>mes</th><th scope=col>mes.extenso</th><th scope=col>ano</th></tr></thead>\n",
       "<tbody>\n",
       "\t<tr><td>1965-12-06</td><td> 6        </td><td>2         </td><td>Mon       </td><td>12        </td><td>Dec       </td><td>1965      </td></tr>\n",
       "\t<tr><td>1972-04-30</td><td>30        </td><td>1         </td><td>Sun       </td><td> 4        </td><td>Apr       </td><td>1972      </td></tr>\n",
       "\t<tr><td>1984-05-15</td><td>15        </td><td>3         </td><td>Tue       </td><td> 5        </td><td>May       </td><td>1984      </td></tr>\n",
       "\t<tr><td>2004-06-27</td><td>27        </td><td>1         </td><td>Sun       </td><td> 6        </td><td>Jun       </td><td>2004      </td></tr>\n",
       "\t<tr><td>1962-02-06</td><td> 6        </td><td>3         </td><td>Tue       </td><td> 2        </td><td>Feb       </td><td>1962      </td></tr>\n",
       "</tbody>\n",
       "</table>\n"
      ],
      "text/latex": [
       "\\begin{tabular}{r|lllllll}\n",
       " data.nasc & dia.do.mes & dia.da.semana & dia.da.semana.extenso & mes & mes.extenso & ano\\\\\n",
       "\\hline\n",
       "\t 1965-12-06 &  6         & 2          & Mon        & 12         & Dec        & 1965      \\\\\n",
       "\t 1972-04-30 & 30         & 1          & Sun        &  4         & Apr        & 1972      \\\\\n",
       "\t 1984-05-15 & 15         & 3          & Tue        &  5         & May        & 1984      \\\\\n",
       "\t 2004-06-27 & 27         & 1          & Sun        &  6         & Jun        & 2004      \\\\\n",
       "\t 1962-02-06 &  6         & 3          & Tue        &  2         & Feb        & 1962      \\\\\n",
       "\\end{tabular}\n"
      ],
      "text/markdown": [
       "\n",
       "data.nasc | dia.do.mes | dia.da.semana | dia.da.semana.extenso | mes | mes.extenso | ano | \n",
       "|---|---|---|---|---|\n",
       "| 1965-12-06 |  6         | 2          | Mon        | 12         | Dec        | 1965       | \n",
       "| 1972-04-30 | 30         | 1          | Sun        |  4         | Apr        | 1972       | \n",
       "| 1984-05-15 | 15         | 3          | Tue        |  5         | May        | 1984       | \n",
       "| 2004-06-27 | 27         | 1          | Sun        |  6         | Jun        | 2004       | \n",
       "| 1962-02-06 |  6         | 3          | Tue        |  2         | Feb        | 1962       | \n",
       "\n",
       "\n"
      ],
      "text/plain": [
       "  data.nasc  dia.do.mes dia.da.semana dia.da.semana.extenso mes mes.extenso\n",
       "1 1965-12-06  6         2             Mon                   12  Dec        \n",
       "2 1972-04-30 30         1             Sun                    4  Apr        \n",
       "3 1984-05-15 15         3             Tue                    5  May        \n",
       "4 2004-06-27 27         1             Sun                    6  Jun        \n",
       "5 1962-02-06  6         3             Tue                    2  Feb        \n",
       "  ano \n",
       "1 1965\n",
       "2 1972\n",
       "3 1984\n",
       "4 2004\n",
       "5 1962"
      ]
     },
     "metadata": {},
     "output_type": "display_data"
    }
   ],
   "source": [
    "dt <- data.table(data.nasc, \n",
    "                 dia.do.mes = mday(data.nasc), \n",
    "                 dia.da.semana = wday(data.nasc), \n",
    "                 dia.da.semana.extenso = wday(data.nasc, label = T), \n",
    "                 mes = month(data.nasc), \n",
    "                 mes.extenso = month(data.nasc, label = T), \n",
    "                 ano = year(data.nasc))\n",
    "head(dt,5)"
   ]
  },
  {
   "cell_type": "markdown",
   "metadata": {
    "slideshow": {
     "slide_type": "subslide"
    }
   },
   "source": [
    "## Tratamento de Dados Desconhecidos\n",
    "\n",
    "- Um problema comum em conjunto de dados é a presença de dados desconhecidos\n",
    "\n",
    "- Geralmente sinalizados com: ?, NA, ou a ausência de valor mesmo\n",
    "\n",
    "- Algumas abordagens comuns:\n",
    "    - Eliminar o exemplo que possui o valor desconhecido\n",
    "    - Substituir o valor de uma variável pelo seu valor esperado de acordo com sua distribuição. Geralmente média ou moda.\n",
    "    - Verificar qual é o exemplo mais parecido no conjunto de dados, em relação aos outros atributos, e usar o valor do exemplo mais parecido\n"
   ]
  },
  {
   "cell_type": "markdown",
   "metadata": {
    "slideshow": {
     "slide_type": "subslide"
    }
   },
   "source": [
    "- Uma abordagem mais sofisticada é efetuar um aprendizado supervisionado sobre esse atributo para aprender sua relação com os outros atributos.\n",
    "    - Modelo de classificação, quando o atributo com valor desconhecido é categórico.\n",
    "    - Modelo de regressão, quando o atributo com valor desconhecido é numérico.\n",
    "- Após, usa-se o modelo para predizer o valor desconhecido.\n",
    "- Por exemplo, no conjunto de dados *iris*, vamos retirar 10 valores de *Sepal.Length*"
   ]
  },
  {
   "cell_type": "code",
   "execution_count": 371,
   "metadata": {},
   "outputs": [
    {
     "name": "stdout",
     "output_type": "stream",
     "text": [
      " [1]  40  56  85 134  30 131 137  95  90   9\n"
     ]
    }
   ],
   "source": [
    "set.seed(1)\n",
    "desconhecidos <- sample( x = 1:nrow(iris), size = 10, replace = F)\n",
    "print(desconhecidos)"
   ]
  },
  {
   "cell_type": "code",
   "execution_count": 372,
   "metadata": {},
   "outputs": [],
   "source": [
    "my.iris <- data.table(iris)[,.(Sepal.Length,Sepal.Width,Petal.Length,Petal.Width)]\n",
    "my.iris$Sepal.Length[desconhecidos] <- NA"
   ]
  },
  {
   "cell_type": "markdown",
   "metadata": {
    "slideshow": {
     "slide_type": "subslide"
    }
   },
   "source": [
    "- Construímos um modelo preditivo para o atributo *Sepal.Length*"
   ]
  },
  {
   "cell_type": "code",
   "execution_count": 373,
   "metadata": {},
   "outputs": [],
   "source": [
    "model <- lm(Sepal.Length ~ ., data = my.iris[-desconhecidos])"
   ]
  },
  {
   "cell_type": "markdown",
   "metadata": {},
   "source": [
    "- Usamos esse modelo para predizer os valores desconhecidos de *Sepal.Length* "
   ]
  },
  {
   "cell_type": "code",
   "execution_count": 374,
   "metadata": {},
   "outputs": [],
   "source": [
    "predicted <- predict(model, my.iris[desconhecidos,])"
   ]
  },
  {
   "cell_type": "markdown",
   "metadata": {
    "slideshow": {
     "slide_type": "subslide"
    }
   },
   "source": [
    "- Comparamos os valores preditos com os observados"
   ]
  },
  {
   "cell_type": "code",
   "execution_count": 375,
   "metadata": {
    "slideshow": {
     "slide_type": "-"
    }
   },
   "outputs": [
    {
     "data": {
      "text/html": [
       "<table>\n",
       "<thead><tr><th scope=col>predicted</th><th scope=col>observed</th></tr></thead>\n",
       "<tbody>\n",
       "\t<tr><td>5.034053</td><td>5.1     </td></tr>\n",
       "\t<tr><td>6.158224</td><td>5.7     </td></tr>\n",
       "\t<tr><td>6.179538</td><td>5.4     </td></tr>\n",
       "\t<tr><td>6.470971</td><td>6.3     </td></tr>\n",
       "\t<tr><td>4.975430</td><td>4.7     </td></tr>\n",
       "</tbody>\n",
       "</table>\n"
      ],
      "text/latex": [
       "\\begin{tabular}{r|ll}\n",
       " predicted & observed\\\\\n",
       "\\hline\n",
       "\t 5.034053 & 5.1     \\\\\n",
       "\t 6.158224 & 5.7     \\\\\n",
       "\t 6.179538 & 5.4     \\\\\n",
       "\t 6.470971 & 6.3     \\\\\n",
       "\t 4.975430 & 4.7     \\\\\n",
       "\\end{tabular}\n"
      ],
      "text/markdown": [
       "\n",
       "predicted | observed | \n",
       "|---|---|---|---|---|\n",
       "| 5.034053 | 5.1      | \n",
       "| 6.158224 | 5.7      | \n",
       "| 6.179538 | 5.4      | \n",
       "| 6.470971 | 6.3      | \n",
       "| 4.975430 | 4.7      | \n",
       "\n",
       "\n"
      ],
      "text/plain": [
       "  predicted observed\n",
       "1 5.034053  5.1     \n",
       "2 6.158224  5.7     \n",
       "3 6.179538  5.4     \n",
       "4 6.470971  6.3     \n",
       "5 4.975430  4.7     "
      ]
     },
     "metadata": {},
     "output_type": "display_data"
    }
   ],
   "source": [
    "observed <- iris$Sepal.Length[desconhecidos]\n",
    "results <- data.table(predicted, observed)\n",
    "head(results,5)"
   ]
  },
  {
   "cell_type": "markdown",
   "metadata": {
    "slideshow": {
     "slide_type": "subslide"
    }
   },
   "source": [
    "- Verificamos se o nosso modelo foi melhor do que um modelo de substituição pela média"
   ]
  },
  {
   "cell_type": "code",
   "execution_count": 376,
   "metadata": {},
   "outputs": [
    {
     "data": {
      "text/html": [
       "<table>\n",
       "<thead><tr><th scope=col>EMQ.my.predictor</th><th scope=col>EMQ.mean.predictor</th></tr></thead>\n",
       "<tbody>\n",
       "\t<tr><td>0.1456242</td><td>0.7238617</td></tr>\n",
       "</tbody>\n",
       "</table>\n"
      ],
      "text/latex": [
       "\\begin{tabular}{r|ll}\n",
       " EMQ.my.predictor & EMQ.mean.predictor\\\\\n",
       "\\hline\n",
       "\t 0.1456242 & 0.7238617\\\\\n",
       "\\end{tabular}\n"
      ],
      "text/markdown": [
       "\n",
       "EMQ.my.predictor | EMQ.mean.predictor | \n",
       "|---|\n",
       "| 0.1456242 | 0.7238617 | \n",
       "\n",
       "\n"
      ],
      "text/plain": [
       "  EMQ.my.predictor EMQ.mean.predictor\n",
       "1 0.1456242        0.7238617         "
      ]
     },
     "metadata": {},
     "output_type": "display_data"
    }
   ],
   "source": [
    "mean.predictor <- mean(my.iris$Sepal.Length[-desconhecidos])\n",
    "\n",
    "dt <- results[,.(observed, error.my.predictor = observed - predicted, error.mean.predictor = observed - mean.predictor)]\n",
    "\n",
    "dt[,.(EMQ.my.predictor   = mean(error.my.predictor^2  ), \n",
    "      EMQ.mean.predictor = mean(error.mean.predictor^2) )]"
   ]
  },
  {
   "cell_type": "markdown",
   "metadata": {
    "slideshow": {
     "slide_type": "subslide"
    }
   },
   "source": [
    "- Isso indica que o Erro Médio Quadrático (EMQ) do preditor reduziu o erro da média de 0.72 para 0.15. "
   ]
  },
  {
   "cell_type": "markdown",
   "metadata": {},
   "source": [
    "- Podemos caluclar a redução de erro relativa:\n",
    "\n",
    "$$\\frac{0.72-0.15}{0.72} = 0.79$$\n",
    "\n",
    "- E verificar uma redução de erro de $79\\%$ usando o nosso modelo, em relação a usar apenas o valor da média\n",
    "\n",
    "- Entre essas duas abordagens, a utilização de nosso modelo preditivo é preferível para preencher os dados desconhecidos no conjunto de dados, embora exista um EMQ de $0.15$."
   ]
  }
 ],
 "metadata": {
  "kernelspec": {
   "display_name": "Python 3",
   "language": "python",
   "name": "python3"
  },
  "language_info": {
   "codemirror_mode": {
    "name": "ipython",
    "version": 3
   },
   "file_extension": ".py",
   "mimetype": "text/x-python",
   "name": "python",
   "nbconvert_exporter": "python",
   "pygments_lexer": "ipython3",
   "version": "3.7.1"
  }
 },
 "nbformat": 4,
 "nbformat_minor": 2
}
