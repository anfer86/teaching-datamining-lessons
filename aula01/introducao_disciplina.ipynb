{
 "cells": [
  {
   "cell_type": "markdown",
   "metadata": {
    "slideshow": {
     "slide_type": "slide"
    }
   },
   "source": [
    "<img src=\"img/logoifsc.png\">\n",
    "\n",
    "---\n",
    "\n",
    "Prof. Carlos Andrés Ferrero\n",
    "\n",
    "# Eletiva: Mineração de Dados\n",
    "\n",
    "## Introdução à Disciplina"
   ]
  },
  {
   "cell_type": "markdown",
   "metadata": {
    "slideshow": {
     "slide_type": "slide"
    }
   },
   "source": [
    "- **Nome do professor**: Carlos Andres Ferrero\n",
    "\n",
    "- A disciplina exige:\n",
    "    - Dedicação, compromisso e atenção em sala de aula\n",
    "    - Procurar o professor quando estiverem com dúvidas:\n",
    "    - No horário de atendimento\n",
    "    - **Email**: andres.ferrero@ifsc.edu.br\n",
    "    - Chegar no horário correto da aula. Se tiver qualquer situação específica, entrar em contato com o professor."
   ]
  },
  {
   "cell_type": "markdown",
   "metadata": {
    "slideshow": {
     "slide_type": "slide"
    }
   },
   "source": [
    "# Conteúdo Programático\n",
    "\n",
    "1. Introdução a Mineração de Dados e Pré-processamento\n",
    "\n",
    "2. Aprendizado Supervisionado\n",
    "\n",
    "3. Aprendizado Não-supervisionado"
   ]
  },
  {
   "cell_type": "markdown",
   "metadata": {
    "slideshow": {
     "slide_type": "subslide"
    }
   },
   "source": [
    "## 1. Introdução a Mineração de Dados e Pré-processamento\n",
    "- Processo de Descoberta de Conhecimento\n",
    "- Aprendizado supervisionado e não supervisionado\n",
    "- Paradigmas de aprendizado\n",
    "- Ferramentas: Jupyter, Python e bibliotecas\n",
    "- Visualização de dados\n",
    "- Técnicas de preparação de dados\n",
    "    - Normalização e discretização\n",
    "    - Medidas de qualidade e seleção de atributos\n",
    "- Análise univariada, bivariada e multivariada"
   ]
  },
  {
   "cell_type": "markdown",
   "metadata": {
    "slideshow": {
     "slide_type": "subslide"
    }
   },
   "source": [
    "## 2. Aprendizado Supervisionado\n",
    "- Classificação e Regressão\n",
    "- Paradigma Simbólico: algoritmos de árvores de decisão\n",
    "- Paradigma Probabilístico\n",
    "- Paradigma Baseado em Exemplos\n",
    "- Máquinas Vetores de Suporte"
   ]
  },
  {
   "cell_type": "markdown",
   "metadata": {
    "slideshow": {
     "slide_type": "subslide"
    }
   },
   "source": [
    "## 3. Aprendizado Não-supervisionado\n",
    "\n",
    "- Algoritmos de Agrupamento\n",
    "- Regras de associação com Apriori\n",
    "- Regras de associação sequenciais com AprioriAll"
   ]
  },
  {
   "cell_type": "markdown",
   "metadata": {
    "slideshow": {
     "slide_type": "slide"
    }
   },
   "source": [
    "# Avaliação\n",
    "\n",
    "Serão realizadas as seguintes avaliações:\n",
    "- $P1$ - Prova abordando Unidade 1\n",
    "- $P2$ - Prova abordando Unidade 2\n",
    "- $T1$ - Trabalho prático abordando as Unidades 1, 2 e 3\n",
    "\n",
    "A nota final do aluno será atribuída, em números inteiros, no intervalo de 0 a 10. A média final (MF) do aluno será dada pela fórmula abaixo:\n",
    "\n",
    "$$ MF = (0.3 * P1 + 0.4 * P2 + 0.3 * T1) $$\n",
    "\n",
    "O aluno será considerado apto na disciplina se obtiver uma Média Final (MF) maior ou igual a 6."
   ]
  },
  {
   "cell_type": "markdown",
   "metadata": {
    "slideshow": {
     "slide_type": "slide"
    }
   },
   "source": [
    "## Pré-requisitos\n",
    "\n",
    "Os seguintes conteúdos são necessários para o bom aproveitamento da disciplina:\n",
    "- Estatística Descritiva (média, mediana, desvio-padrão, distribuições, etc.)\n",
    "- Estatística Indutiva (testes de hipótese, correlação e regressão linear, etc.)\n",
    "- Álgebra (vetores, matrizes, multiplicação de matrizes, etc.)\n",
    "- Cálculo (noções de derivada e derivada parcial)\n",
    "- Programação (como para aprender uma nova linguagem)\n",
    "- Processamento de Imagens (transformações básicas, filtros, detecção de borda, etc.)"
   ]
  },
  {
   "cell_type": "markdown",
   "metadata": {
    "slideshow": {
     "slide_type": "subslide"
    }
   },
   "source": [
    "## Recuperação\n",
    "\n",
    "São previstas as recuperações:\n",
    "- $RP1$ - Recuperação da P1\n",
    "- $RP2$ - Recuperação da P2\n",
    "- $RT1$ - Recuperação do T1\n",
    "\n",
    "Estas recuperações serão feitas dentro da carga horária da disciplina."
   ]
  },
  {
   "cell_type": "markdown",
   "metadata": {
    "slideshow": {
     "slide_type": "slide"
    }
   },
   "source": [
    "# Bibliografia\n",
    "\n",
    "## Básica\n",
    "\n",
    "- CARVALHO, Luís Alfredo Vidal de. **Datamining: a mineração de dados no marketing, medicina, economia, engenharia e administração**. Rio de Janeiro: Ciência Moderna, 2005.\n",
    "- GOLDSCHMIDT, R.; PASSOS, E.; BEZERRA, E. **Data mining: conceitos, técnicas, algoritmos, orientações e - aplicações**. 2. ed. Rio de Janeiro: Elsevier, 2015.\n",
    "- SILVA, L. A.; PERES, S. M; BOSCARIOLI, C. **Introdução à mineração de dados: com aplicações em R** Rio de Janeiro: Elsevier, 2016."
   ]
  },
  {
   "cell_type": "markdown",
   "metadata": {
    "slideshow": {
     "slide_type": "subslide"
    }
   },
   "source": [
    "## Complementar\n",
    "- ATTWELL, P. A.; MONAGHAN, D. B. **Data mining for the social sciences: an introduction**. Oakland: University of California Press, 2015.\n",
    "- AZZALINI, A.; WALTON, G.; SCARPA, B. **Data analysis and data mining: an introduction**. Oxford: Oxford University Press, 2012.\n",
    "- LAWRENCE, K. D.; KLIMBERG, R. K. **Contemporary perspectives in data mining**. Charlotte: Information Age Publishing, 2012.\n",
    "- MA, X.; CAPRI, H. L. **Data mining: principles, applications and emerging challenges**. New York : Nova Science Publishers, 2014. \n",
    "- O'BYRNE, S. H. **Data Security, Data mining, and data management: technologies and challenges**. New York: Nova Science Publishers, 2013."
   ]
  },
  {
   "cell_type": "markdown",
   "metadata": {
    "slideshow": {
     "slide_type": "subslide"
    }
   },
   "source": [
    "## Outros\n",
    "- LIMA, I.; PINHEIRO, C. A. M.; SANTOS, F. A. O. **Inteligência artificial**. Rio de Janeiro: Elsevier, 2014. 173 p.\n",
    "- RUSSELL, S.; NORVIG, P. **Inteligência artificial: referência completa para cursos de computação**. 3 ed. São Paulo: Elsevier, 2013. 988 p.\n",
    "- MCKINNEY, Wes. **Python para Análise de Dados**. São Paulo: Novatec, 2018. 615 p."
   ]
  }
 ],
 "metadata": {
  "anaconda-cloud": {},
  "kernelspec": {
   "display_name": "R",
   "language": "R",
   "name": "ir"
  },
  "language_info": {
   "codemirror_mode": "r",
   "file_extension": ".r",
   "mimetype": "text/x-r-source",
   "name": "R",
   "pygments_lexer": "r",
   "version": "3.3.3"
  }
 },
 "nbformat": 4,
 "nbformat_minor": 2
}
