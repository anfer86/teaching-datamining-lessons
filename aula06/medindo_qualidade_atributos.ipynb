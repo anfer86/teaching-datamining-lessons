{
 "cells": [
  {
   "cell_type": "markdown",
   "metadata": {
    "slideshow": {
     "slide_type": "slide"
    }
   },
   "source": [
    "<img src=\"img/logoifsc.png\">"
   ]
  },
  {
   "cell_type": "markdown",
   "metadata": {},
   "source": [
    "---\n",
    "\n",
    "Prof. Carlos Andrés Ferrero\n",
    "\n",
    "# Mineração de Dados\n",
    "\n",
    "## Medindo a Qualidade de Atributos\n",
    "    \n",
    "---"
   ]
  },
  {
   "cell_type": "markdown",
   "metadata": {
    "slideshow": {
     "slide_type": "slide"
    }
   },
   "source": [
    "## Conteúdo\n",
    "- Entropia\n",
    "    - Entropia para problemas de duas classes\n",
    "    - Entropia para problemas múltiplas classes\n",
    "- Entropia de Atributos\n",
    "- Medidas de Importância\n",
    "    - Ganho de Informação (*Information Gain*)\n",
    "    - Taxa de Ganho (*Gain Ratio*)"
   ]
  },
  {
   "cell_type": "markdown",
   "metadata": {
    "slideshow": {
     "slide_type": "slide"
    }
   },
   "source": [
    "## Introduçao"
   ]
  },
  {
   "cell_type": "code",
   "execution_count": 227,
   "metadata": {
    "slideshow": {
     "slide_type": "skip"
    }
   },
   "outputs": [],
   "source": [
    "import numpy as np\n",
    "import pandas as pd\n",
    "import matplotlib.pyplot as plt\n",
    "import seaborn as sns"
   ]
  },
  {
   "cell_type": "markdown",
   "metadata": {},
   "source": [
    "**Conjunto de Dados do Titanic**"
   ]
  },
  {
   "cell_type": "code",
   "execution_count": 228,
   "metadata": {},
   "outputs": [
    {
     "data": {
      "text/html": [
       "<div>\n",
       "<style scoped>\n",
       "    .dataframe tbody tr th:only-of-type {\n",
       "        vertical-align: middle;\n",
       "    }\n",
       "\n",
       "    .dataframe tbody tr th {\n",
       "        vertical-align: top;\n",
       "    }\n",
       "\n",
       "    .dataframe thead th {\n",
       "        text-align: right;\n",
       "    }\n",
       "</style>\n",
       "<table border=\"1\" class=\"dataframe\">\n",
       "  <thead>\n",
       "    <tr style=\"text-align: right;\">\n",
       "      <th></th>\n",
       "      <th>survived</th>\n",
       "      <th>pclass</th>\n",
       "      <th>sex</th>\n",
       "      <th>age</th>\n",
       "      <th>sibsp</th>\n",
       "      <th>parch</th>\n",
       "      <th>fare</th>\n",
       "      <th>embarked</th>\n",
       "      <th>class</th>\n",
       "      <th>who</th>\n",
       "      <th>adult_male</th>\n",
       "      <th>deck</th>\n",
       "      <th>embark_town</th>\n",
       "      <th>alive</th>\n",
       "      <th>alone</th>\n",
       "    </tr>\n",
       "  </thead>\n",
       "  <tbody>\n",
       "    <tr>\n",
       "      <th>0</th>\n",
       "      <td>0</td>\n",
       "      <td>3</td>\n",
       "      <td>male</td>\n",
       "      <td>22.0</td>\n",
       "      <td>1</td>\n",
       "      <td>0</td>\n",
       "      <td>7.2500</td>\n",
       "      <td>S</td>\n",
       "      <td>Third</td>\n",
       "      <td>man</td>\n",
       "      <td>True</td>\n",
       "      <td>NaN</td>\n",
       "      <td>Southampton</td>\n",
       "      <td>no</td>\n",
       "      <td>False</td>\n",
       "    </tr>\n",
       "    <tr>\n",
       "      <th>1</th>\n",
       "      <td>1</td>\n",
       "      <td>1</td>\n",
       "      <td>female</td>\n",
       "      <td>38.0</td>\n",
       "      <td>1</td>\n",
       "      <td>0</td>\n",
       "      <td>71.2833</td>\n",
       "      <td>C</td>\n",
       "      <td>First</td>\n",
       "      <td>woman</td>\n",
       "      <td>False</td>\n",
       "      <td>C</td>\n",
       "      <td>Cherbourg</td>\n",
       "      <td>yes</td>\n",
       "      <td>False</td>\n",
       "    </tr>\n",
       "    <tr>\n",
       "      <th>2</th>\n",
       "      <td>1</td>\n",
       "      <td>3</td>\n",
       "      <td>female</td>\n",
       "      <td>26.0</td>\n",
       "      <td>0</td>\n",
       "      <td>0</td>\n",
       "      <td>7.9250</td>\n",
       "      <td>S</td>\n",
       "      <td>Third</td>\n",
       "      <td>woman</td>\n",
       "      <td>False</td>\n",
       "      <td>NaN</td>\n",
       "      <td>Southampton</td>\n",
       "      <td>yes</td>\n",
       "      <td>True</td>\n",
       "    </tr>\n",
       "    <tr>\n",
       "      <th>3</th>\n",
       "      <td>1</td>\n",
       "      <td>1</td>\n",
       "      <td>female</td>\n",
       "      <td>35.0</td>\n",
       "      <td>1</td>\n",
       "      <td>0</td>\n",
       "      <td>53.1000</td>\n",
       "      <td>S</td>\n",
       "      <td>First</td>\n",
       "      <td>woman</td>\n",
       "      <td>False</td>\n",
       "      <td>C</td>\n",
       "      <td>Southampton</td>\n",
       "      <td>yes</td>\n",
       "      <td>False</td>\n",
       "    </tr>\n",
       "    <tr>\n",
       "      <th>4</th>\n",
       "      <td>0</td>\n",
       "      <td>3</td>\n",
       "      <td>male</td>\n",
       "      <td>35.0</td>\n",
       "      <td>0</td>\n",
       "      <td>0</td>\n",
       "      <td>8.0500</td>\n",
       "      <td>S</td>\n",
       "      <td>Third</td>\n",
       "      <td>man</td>\n",
       "      <td>True</td>\n",
       "      <td>NaN</td>\n",
       "      <td>Southampton</td>\n",
       "      <td>no</td>\n",
       "      <td>True</td>\n",
       "    </tr>\n",
       "  </tbody>\n",
       "</table>\n",
       "</div>"
      ],
      "text/plain": [
       "   survived  pclass     sex   age  sibsp  parch     fare embarked  class  \\\n",
       "0         0       3    male  22.0      1      0   7.2500        S  Third   \n",
       "1         1       1  female  38.0      1      0  71.2833        C  First   \n",
       "2         1       3  female  26.0      0      0   7.9250        S  Third   \n",
       "3         1       1  female  35.0      1      0  53.1000        S  First   \n",
       "4         0       3    male  35.0      0      0   8.0500        S  Third   \n",
       "\n",
       "     who  adult_male deck  embark_town alive  alone  \n",
       "0    man        True  NaN  Southampton    no  False  \n",
       "1  woman       False    C    Cherbourg   yes  False  \n",
       "2  woman       False  NaN  Southampton   yes   True  \n",
       "3  woman       False    C  Southampton   yes  False  \n",
       "4    man        True  NaN  Southampton    no   True  "
      ]
     },
     "execution_count": 228,
     "metadata": {},
     "output_type": "execute_result"
    }
   ],
   "source": [
    "df = sns.load_dataset('titanic')\n",
    "df.head()"
   ]
  },
  {
   "cell_type": "markdown",
   "metadata": {
    "slideshow": {
     "slide_type": "subslide"
    }
   },
   "source": [
    "**Conjunto de Dados do Titanic**\n",
    "\n",
    "Qual das variábeis Sex ou Random_Variable dão mais informação sobre o destino do Passageiros (sobrevivente ou não)?"
   ]
  },
  {
   "cell_type": "code",
   "execution_count": 229,
   "metadata": {
    "scrolled": false
   },
   "outputs": [
    {
     "data": {
      "image/png": "[encoded data removed]",
      "text/plain": [
       "<Figure size 1008x432 with 2 Axes>"
      ]
     },
     "metadata": {
      "needs_background": "light"
     },
     "output_type": "display_data"
    }
   ],
   "source": [
    "import matplotlib.pyplot as plt\n",
    "from helper import countplot_sex_random_variable_survived_titanic\n",
    "fig, ax = countplot_sex_random_variable_survived_titanic()\n",
    "plt.show()"
   ]
  },
  {
   "cell_type": "markdown",
   "metadata": {
    "slideshow": {
     "slide_type": "slide"
    }
   },
   "source": [
    "## Entropia\n",
    "\n",
    "- A *entropia* em Mineração de Dados mede a *desordem* de um conjunto de dados baseado na distribuição do atributo classe.\n",
    "\n",
    "- Essa *desordem* diz respeito a quão bem organizados estão os dados em relação à classe. \n",
    "\n",
    "- A medida é supervisionada, portanto para medir a *entropia* de um atributo precisamos ter um atributo classe."
   ]
  },
  {
   "cell_type": "markdown",
   "metadata": {
    "slideshow": {
     "slide_type": "subslide"
    }
   },
   "source": [
    "### Cálculo de Entropia em um Problema de Duas Clases\n",
    "\n",
    "- Considere um problema de duas clases em que uma delas é positiva (+) e a outra negativa (-). E um conjunto de dados $X$ que possui dados sobre esse problema.\n",
    "\n",
    "- A função para medir a entropia é dada por:\n",
    "\n",
    "$$ E(X) = -\\;(\\;\\;p_+  \\log_2{p_+}\\;\\;+\\;\\;p_- \\times \\log_2{p_-}\\;\\;) $$\n",
    "\n",
    "- onde, \n",
    "    - $p_+$ é a probabilidade de um exemplo ser da classe positiva\n",
    "    - $p_-$ é a probabilidade de um exemplo ser da classe negativa"
   ]
  },
  {
   "cell_type": "markdown",
   "metadata": {
    "slideshow": {
     "slide_type": "subslide"
    }
   },
   "source": [
    "### Exemplos\n",
    "- Vamos imaginar três possíveis conjuntos de dados para $X$\n",
    "    1. $X_1$ só terá exemplos da classe positiva (+)\n",
    "    2. $X_2$ só terá exemplos da classe negativa (-)\n",
    "    3. $X_3$ terá metade dos exemplos da classe positiva e a outra metade da classe negativa"
   ]
  },
  {
   "cell_type": "markdown",
   "metadata": {
    "slideshow": {
     "slide_type": "subslide"
    }
   },
   "source": [
    "- Como $X_1$ só tem exemplos da classe positiva, então a probabilidade de um exemplo ser:\n",
    "    - da classe positiva é simplesmente $p_+=1$\n",
    "    - da classe negativa é $p_-=0$\n",
    "\n",
    "- A entropia de $X_1$ é:\n",
    "\n",
    "\\begin{array}{lcl} \n",
    "E(X)&= & -\\;(&p_+ \\times \\log_2{p_+} & + & p_- \\times \\log_2{p_-}&)  \\\\ \n",
    "E(X_1)&= & -\\;(&1 \\times \\log_2{1} & + & 0 \\times \\log_2{0}&)  \\\\ \n",
    "E(X_1)&= & -\\;(&1 \\times 0 & + & 0 &)  \\\\ \n",
    "E(X_1)&= & -\\;(& 0 & + & 0 &)  \\\\ \n",
    "E(X_1)&= & 0\n",
    "\\end{array}\n",
    "\n",
    "- Uma *entropia* igual a *zero* significa que não há desordem neste conjunto de dados, devido a que todas os exemplos de $X_1$ são da mesma classe."
   ]
  },
  {
   "cell_type": "markdown",
   "metadata": {
    "slideshow": {
     "slide_type": "subslide"
    }
   },
   "source": [
    "- O conjunto $X_2$ apenas tem exemplos da classe negativa, então a probabilidade de um exemplo ser:\n",
    "    - da classe positiva é $p_+=0$\n",
    "    - da classe negativa é $p_-=1$\n",
    "\n",
    "- A entropia de $X_2$ é:\n",
    "\n",
    "\\begin{array}{llllll}\n",
    "E(X)&= & -\\;(&p_+ \\times \\log_2{p_+} & + & p_- \\times \\log_2{p_-}&)  \\\\ \n",
    "E(X_2)&= & -\\;(&0 \\times \\log_2{0} & + & 1 \\times \\log_2{1}&)  \\\\ \n",
    "E(X_2)&= & -\\;(&0 & + & 1 \\times 0&)  \\\\ \n",
    "E(X_2)&= & -\\;(& 0 & + & 0 &)  \\\\ \n",
    "E(X_2)&= & 0\n",
    "\\end{array}\n",
    "\n",
    "- Neste caso, a *desordem* também é zero devido a todos os elementos serem da classe negativa (-)"
   ]
  },
  {
   "cell_type": "markdown",
   "metadata": {
    "slideshow": {
     "slide_type": "subslide"
    }
   },
   "source": [
    "- Já no conjunto $X_3$ temos exemplos de ambas as classes, e a probabilidade de ser:\n",
    "    - da classe positiva é $p_+=1/2$ ou $0.5$ ou $2^{-1}$\n",
    "    - da classe negativa é $p_+=1/2$\n",
    "\n",
    "- A entropia é: \n",
    "\n",
    "\\begin{array}{llllll}\n",
    "E(X)&= & -\\;(&p_+ \\times \\log_2{p_+} & + & p_- \\times \\log_2{p_-}&)  \\\\ \n",
    "E(X_3)&= & -\\;(&0.5 \\times \\log_2{0.5} & + & 0.5 \\times \\log_2{0.5}&)  \\\\ \n",
    "E(X_3)&= & -\\;(&0.5 \\times \\log_2{2^{-1}} & + & 0.5 \\times \\log_2{2^{-1}}&)  \\\\ \n",
    "E(X_3)&= & -\\;(&-0.5 \\times \\log_2{2} & + & - 0.5 \\times \\log_2{2}&)  \\\\ \n",
    "E(X_3)&= & -\\;(&-0.5 \\times 1 & + & - 0.5 \\times 1&)  \\\\ \n",
    "E(X_3)&= & -\\;(&-0.5 & + & -0.5 &)  \\\\ \n",
    "E(X_3)&= & -\\;(& - 1 &&&)  \\\\ \n",
    "E(X_3)&= & 1\n",
    "\\end{array}\n",
    "\n",
    "- No conjunto $X_3$ a *entropia* ou desordem é 1 (máxima)\n",
    "\n",
    "- Isso indica que em $X_3$ não é possível observar que alguma das classes prevalece nesse conjunto de dados."
   ]
  },
  {
   "cell_type": "markdown",
   "metadata": {
    "slideshow": {
     "slide_type": "subslide"
    }
   },
   "source": [
    "- Agora, vamos considerar um conjunto de dados $X_4$ que possui $1/4$ de exemplos da classe positiva e $3/4$ de exemplos da classe negativa.\n",
    "\n",
    "- Em uma problema de duas classes espera-se que o valor da entropia esteja entre 0 e 1.\n",
    "\n",
    "\\begin{array}{llllll}\n",
    "E(X)&  = & -\\;(&p_+ \\times \\log_2{p_+}   & + & p_- \\times \\log_2{p_-}&)  \\\\ \n",
    "E(X_4)&= & -\\;(&1/4 \\times \\log_2{1/4} & + & 3/4 \\times \\log_2{3/4}&)  \\\\ \n",
    "E(X_4)&= & -\\;(&1/4 \\times [\\log_2{1} - \\log_2{4}] & + & 3/4 \\times [\\log_2{3} - \\log_2{4}]&)  \\\\ \n",
    "E(X_4)&= & -\\;(&1/4 \\times [0 - 2] & + & 3/4 \\times [1.58 - 2]&)  \\\\ \n",
    "E(X_4)&= & -\\;(&1/4 \\times -2 & + & 3/4 \\times -0.42&)  \\\\ \n",
    "E(X_4)&= & -\\;(&-0.5 & + & -0.32&)  \\\\ \n",
    "E(X_4)&= & -\\;(&-0.82 &&& )  \\\\ \n",
    "E(X_4)&= & 0.82  \\\\ \n",
    "\\end{array}"
   ]
  },
  {
   "cell_type": "markdown",
   "metadata": {
    "slideshow": {
     "slide_type": "subslide"
    }
   },
   "source": [
    "### Uma função para cálculo de entropia para duas classes\n",
    "\n",
    "- Nesta função podemos passar como parâmetro o vetor de probabilidades das classes `vp`."
   ]
  },
  {
   "cell_type": "code",
   "execution_count": 337,
   "metadata": {},
   "outputs": [],
   "source": [
    "def entropia (vp):\n",
    "    somatorio = 0;\n",
    "    for p in vp :\n",
    "        somatorio += 0 if (p == 0) else p * np.log2(p)    \n",
    "    return somatorio * (-1)"
   ]
  },
  {
   "cell_type": "code",
   "execution_count": 338,
   "metadata": {},
   "outputs": [
    {
     "name": "stdout",
     "output_type": "stream",
     "text": [
      "Entropia X1 -> vp:[1.0 , 0.0] -0.0\n",
      "Entropia X2 -> vp:[0.0 , 1.0] -0.0\n",
      "Entropia X3 -> vp:[0.5 , 0.5] 1.0\n",
      "Entropia X4 -> vp:[0.25,0.75] 0.8112781244591328\n"
     ]
    }
   ],
   "source": [
    "print('Entropia X1 -> vp:[1.0 , 0.0]', entropia([1,0]) )\n",
    "print('Entropia X2 -> vp:[0.0 , 1.0]', entropia([0,1]) )\n",
    "print('Entropia X3 -> vp:[0.5 , 0.5]', entropia([0.5,0.5]) )\n",
    "print('Entropia X4 -> vp:[0.25,0.75]', entropia([0.25,0.75]) )"
   ]
  },
  {
   "cell_type": "markdown",
   "metadata": {
    "slideshow": {
     "slide_type": "subslide"
    }
   },
   "source": [
    "- Com essa função podemos calcular qual a entropia à medida que a probabilidade da classe positiva aumenta de 5% em 5%."
   ]
  },
  {
   "cell_type": "code",
   "execution_count": 232,
   "metadata": {},
   "outputs": [
    {
     "data": {
      "text/html": [
       "<div>\n",
       "<style scoped>\n",
       "    .dataframe tbody tr th:only-of-type {\n",
       "        vertical-align: middle;\n",
       "    }\n",
       "\n",
       "    .dataframe tbody tr th {\n",
       "        vertical-align: top;\n",
       "    }\n",
       "\n",
       "    .dataframe thead th {\n",
       "        text-align: right;\n",
       "    }\n",
       "</style>\n",
       "<table border=\"1\" class=\"dataframe\">\n",
       "  <thead>\n",
       "    <tr style=\"text-align: right;\">\n",
       "      <th></th>\n",
       "      <th>p.positiva</th>\n",
       "      <th>entropia</th>\n",
       "    </tr>\n",
       "  </thead>\n",
       "  <tbody>\n",
       "    <tr>\n",
       "      <th>0</th>\n",
       "      <td>0.00</td>\n",
       "      <td>-0.0000</td>\n",
       "    </tr>\n",
       "    <tr>\n",
       "      <th>1</th>\n",
       "      <td>0.05</td>\n",
       "      <td>0.2864</td>\n",
       "    </tr>\n",
       "    <tr>\n",
       "      <th>2</th>\n",
       "      <td>0.10</td>\n",
       "      <td>0.4690</td>\n",
       "    </tr>\n",
       "    <tr>\n",
       "      <th>3</th>\n",
       "      <td>0.15</td>\n",
       "      <td>0.6098</td>\n",
       "    </tr>\n",
       "    <tr>\n",
       "      <th>4</th>\n",
       "      <td>0.20</td>\n",
       "      <td>0.7219</td>\n",
       "    </tr>\n",
       "    <tr>\n",
       "      <th>5</th>\n",
       "      <td>0.25</td>\n",
       "      <td>0.8113</td>\n",
       "    </tr>\n",
       "    <tr>\n",
       "      <th>6</th>\n",
       "      <td>0.30</td>\n",
       "      <td>0.8813</td>\n",
       "    </tr>\n",
       "    <tr>\n",
       "      <th>7</th>\n",
       "      <td>0.35</td>\n",
       "      <td>0.9341</td>\n",
       "    </tr>\n",
       "    <tr>\n",
       "      <th>8</th>\n",
       "      <td>0.40</td>\n",
       "      <td>0.9710</td>\n",
       "    </tr>\n",
       "    <tr>\n",
       "      <th>9</th>\n",
       "      <td>0.45</td>\n",
       "      <td>0.9928</td>\n",
       "    </tr>\n",
       "    <tr>\n",
       "      <th>10</th>\n",
       "      <td>0.50</td>\n",
       "      <td>1.0000</td>\n",
       "    </tr>\n",
       "    <tr>\n",
       "      <th>11</th>\n",
       "      <td>0.55</td>\n",
       "      <td>0.9928</td>\n",
       "    </tr>\n",
       "    <tr>\n",
       "      <th>12</th>\n",
       "      <td>0.60</td>\n",
       "      <td>0.9710</td>\n",
       "    </tr>\n",
       "    <tr>\n",
       "      <th>13</th>\n",
       "      <td>0.65</td>\n",
       "      <td>0.9341</td>\n",
       "    </tr>\n",
       "    <tr>\n",
       "      <th>14</th>\n",
       "      <td>0.70</td>\n",
       "      <td>0.8813</td>\n",
       "    </tr>\n",
       "    <tr>\n",
       "      <th>15</th>\n",
       "      <td>0.75</td>\n",
       "      <td>0.8113</td>\n",
       "    </tr>\n",
       "    <tr>\n",
       "      <th>16</th>\n",
       "      <td>0.80</td>\n",
       "      <td>0.7219</td>\n",
       "    </tr>\n",
       "    <tr>\n",
       "      <th>17</th>\n",
       "      <td>0.85</td>\n",
       "      <td>0.6098</td>\n",
       "    </tr>\n",
       "    <tr>\n",
       "      <th>18</th>\n",
       "      <td>0.90</td>\n",
       "      <td>0.4690</td>\n",
       "    </tr>\n",
       "    <tr>\n",
       "      <th>19</th>\n",
       "      <td>0.95</td>\n",
       "      <td>0.2864</td>\n",
       "    </tr>\n",
       "    <tr>\n",
       "      <th>20</th>\n",
       "      <td>1.00</td>\n",
       "      <td>-0.0000</td>\n",
       "    </tr>\n",
       "  </tbody>\n",
       "</table>\n",
       "</div>"
      ],
      "text/plain": [
       "    p.positiva  entropia\n",
       "0         0.00   -0.0000\n",
       "1         0.05    0.2864\n",
       "2         0.10    0.4690\n",
       "3         0.15    0.6098\n",
       "4         0.20    0.7219\n",
       "5         0.25    0.8113\n",
       "6         0.30    0.8813\n",
       "7         0.35    0.9341\n",
       "8         0.40    0.9710\n",
       "9         0.45    0.9928\n",
       "10        0.50    1.0000\n",
       "11        0.55    0.9928\n",
       "12        0.60    0.9710\n",
       "13        0.65    0.9341\n",
       "14        0.70    0.8813\n",
       "15        0.75    0.8113\n",
       "16        0.80    0.7219\n",
       "17        0.85    0.6098\n",
       "18        0.90    0.4690\n",
       "19        0.95    0.2864\n",
       "20        1.00   -0.0000"
      ]
     },
     "execution_count": 232,
     "metadata": {},
     "output_type": "execute_result"
    }
   ],
   "source": [
    "vp = np.arange(0.0,1.01,0.05)\n",
    "ventropias = [entropia([ p, 1-p ]) for p in vp]\n",
    "df_entropia = pd.DataFrame({ 'p.positiva' : vp, 'entropia' : ventropias})\n",
    "df_entropia.round(4)"
   ]
  },
  {
   "cell_type": "markdown",
   "metadata": {
    "slideshow": {
     "slide_type": "subslide"
    }
   },
   "source": [
    "- Este apresenta o valor de entropia em função da probabilidade da classe positiva"
   ]
  },
  {
   "cell_type": "code",
   "execution_count": 350,
   "metadata": {
    "slideshow": {
     "slide_type": "-"
    }
   },
   "outputs": [
    {
     "data": {
      "text/plain": [
       "<seaborn.axisgrid.FacetGrid at 0x1eb0dd86b70>"
      ]
     },
     "execution_count": 350,
     "metadata": {},
     "output_type": "execute_result"
    },
    {
     "data": {
      "image/png": "[encoded data removed]",
      "text/plain": [
       "<Figure size 360x360 with 1 Axes>"
      ]
     },
     "metadata": {
      "needs_background": "light"
     },
     "output_type": "display_data"
    }
   ],
   "source": [
    "sns.relplot(x = 'p.positiva', y = 'entropia', data = df_entropia)"
   ]
  },
  {
   "cell_type": "markdown",
   "metadata": {
    "slideshow": {
     "slide_type": "subslide"
    }
   },
   "source": [
    "### Cálculo de Entropia para Problemas de Múltiplas Classes\n",
    "\n",
    "- Muitos dos problemas que nos enfrentamos atualmente em mineração de dados possuem mais do que duas classes\n",
    "\n",
    "- A Equação geral para cálculo de entropia de um conjunto de dados é:\n",
    "\n",
    "$$ E(X) = - \\sum_{i}^{c} p_i \\times \\log_2{p_i} $$\n",
    "\n",
    "- onde,\n",
    "    - $c$ é o número de classes do problema.\n",
    "    - $p_i$ é a probabilidade de um exemplo ser da $i$-ésima classe."
   ]
  },
  {
   "cell_type": "markdown",
   "metadata": {
    "slideshow": {
     "slide_type": "subslide"
    }
   },
   "source": [
    "- Note que para $c=2$ a equação é equivalente à de duas classes, definida anteriormente:\n",
    "\n",
    "\\begin{array}{llllll}\n",
    "E(X) & = & - \\sum_{i=1}^{c=2} p_i \\times \\log_2{p_i} \\\\ \n",
    "E(X) & = & -\\;(\\;\\;p_1 \\times \\log_2{p_1}\\;+\\;p_2 \\times \\log_2{p_2}\\;\\;)\n",
    "\\end{array}"
   ]
  },
  {
   "cell_type": "markdown",
   "metadata": {
    "slideshow": {
     "slide_type": "subslide"
    }
   },
   "source": [
    "### Uma Função para Calcular a Entropia do Conjunto para Múltiplas Classes\n",
    "\n",
    "- Como a entropia de um conjunto de dados depende da coluna de dados do atributo classe. Neste implementação usaremos os valores desse atributo para calcular a entropia, ao invés das probabilidades.\n",
    "\n",
    "- Assim, primeiro calculamos a frequência de elementos, usando a função Counter que cria uma dicionário com os possíveis valores e a frequência. Depois dividimos a frequência pelo total de valores, obtendo as probabilidades das classes, $P = (p_1, p_2, \\dots, p_c)$.\n",
    "\n",
    "- E após, com $P$ fazemos o calculo de entropia."
   ]
  },
  {
   "cell_type": "code",
   "execution_count": 351,
   "metadata": {},
   "outputs": [],
   "source": [
    "def entropia_valores(valores):\n",
    "    import collections\n",
    "    counter = collections.Counter(valores)\n",
    "    vp = [ (n/len(valores)) for n in counter.values() ]    \n",
    "    return entropia(vp)    "
   ]
  },
  {
   "cell_type": "markdown",
   "metadata": {
    "slideshow": {
     "slide_type": "subslide"
    }
   },
   "source": [
    "Podemos usar essa função para medir a entropia de qualquer coleção de dados. A seguir uma coleção de dados de uma amostra de atributo classe aleatória com valores 'C1', 'C2' ou 'C3'."
   ]
  },
  {
   "cell_type": "code",
   "execution_count": 257,
   "metadata": {},
   "outputs": [
    {
     "data": {
      "text/plain": [
       "array(['C1', 'C3', 'C3', 'C2', 'C2', 'C2', 'C1', 'C3', 'C1', 'C3'],\n",
       "      dtype='<U2')"
      ]
     },
     "execution_count": 257,
     "metadata": {},
     "output_type": "execute_result"
    }
   ],
   "source": [
    "random_class = np.random.choice(a=['C1','C2','C3'], size=10, replace = True)\n",
    "random_class"
   ]
  },
  {
   "cell_type": "code",
   "execution_count": 258,
   "metadata": {},
   "outputs": [
    {
     "data": {
      "text/plain": [
       "1.5709505944546684"
      ]
     },
     "execution_count": 258,
     "metadata": {},
     "output_type": "execute_result"
    }
   ],
   "source": [
    "entropia_valores(random_class)"
   ]
  },
  {
   "cell_type": "markdown",
   "metadata": {
    "slideshow": {
     "slide_type": "subslide"
    }
   },
   "source": [
    "**Exercício 1**\n",
    "- Ordenar o atributo classe `random_class` em ordem crescente.\n",
    "- Calcule a entropia do atributo classe novamente. Você observou alguma diferença no valor da entropia? Explique a sua resposta. \n",
    "\n",
    "**Exercício 2**\n",
    "\n",
    "- Para este problema de classes `C1`, `C2` e `C3` foi selecionada uma amostra que possui apenas instâncias da classe `C1` e `C3`. Qual é a entropia máxima qeu essa nova amostra pode alcançar? Explique sua resposta.\n",
    "\n",
    "**Exercício 3**\n",
    "\n",
    "- Para este problema de classes `C1`, `C2` e `C3` foi selecionada uma amostra que possui apenas instâncias da classe `C2`. Qual é a entropia desse conjunto de dados? Explique sua resposta."
   ]
  },
  {
   "cell_type": "markdown",
   "metadata": {
    "slideshow": {
     "slide_type": "slide"
    }
   },
   "source": [
    "## Entropia de Atributos\n",
    "\n",
    "- Embora já conseguimos calcular a entropia de um conjunto de dados, baseado na sua classe, ainda precisamos calcular a *desordem* que cada atributo produz no conjunto de dados.\n",
    "\n",
    "- Um atributo terá uma baixa entropia se os seus valores permitem dividir o conjunto de dados em partes com baixa entropia.\n",
    "\n",
    "- Assim, para um atributo ter entropia 0 precisará que os valores do atributo dividam o conjunto de dados em partes com apenas uma classe."
   ]
  },
  {
   "cell_type": "markdown",
   "metadata": {
    "slideshow": {
     "slide_type": "subslide"
    }
   },
   "source": [
    "- Exemplo:"
   ]
  },
  {
   "cell_type": "code",
   "execution_count": 259,
   "metadata": {},
   "outputs": [
    {
     "data": {
      "text/html": [
       "<div>\n",
       "<style scoped>\n",
       "    .dataframe tbody tr th:only-of-type {\n",
       "        vertical-align: middle;\n",
       "    }\n",
       "\n",
       "    .dataframe tbody tr th {\n",
       "        vertical-align: top;\n",
       "    }\n",
       "\n",
       "    .dataframe thead th {\n",
       "        text-align: right;\n",
       "    }\n",
       "</style>\n",
       "<table border=\"1\" class=\"dataframe\">\n",
       "  <thead>\n",
       "    <tr style=\"text-align: right;\">\n",
       "      <th></th>\n",
       "      <th>A1</th>\n",
       "      <th>classe</th>\n",
       "    </tr>\n",
       "  </thead>\n",
       "  <tbody>\n",
       "    <tr>\n",
       "      <th>0</th>\n",
       "      <td>v1</td>\n",
       "      <td>C1</td>\n",
       "    </tr>\n",
       "    <tr>\n",
       "      <th>1</th>\n",
       "      <td>v1</td>\n",
       "      <td>C1</td>\n",
       "    </tr>\n",
       "    <tr>\n",
       "      <th>2</th>\n",
       "      <td>v2</td>\n",
       "      <td>C2</td>\n",
       "    </tr>\n",
       "    <tr>\n",
       "      <th>3</th>\n",
       "      <td>v2</td>\n",
       "      <td>C2</td>\n",
       "    </tr>\n",
       "    <tr>\n",
       "      <th>4</th>\n",
       "      <td>v1</td>\n",
       "      <td>C1</td>\n",
       "    </tr>\n",
       "    <tr>\n",
       "      <th>5</th>\n",
       "      <td>v2</td>\n",
       "      <td>C2</td>\n",
       "    </tr>\n",
       "  </tbody>\n",
       "</table>\n",
       "</div>"
      ],
      "text/plain": [
       "   A1 classe\n",
       "0  v1     C1\n",
       "1  v1     C1\n",
       "2  v2     C2\n",
       "3  v2     C2\n",
       "4  v1     C1\n",
       "5  v2     C2"
      ]
     },
     "execution_count": 259,
     "metadata": {},
     "output_type": "execute_result"
    }
   ],
   "source": [
    "atributo1 = ['v1','v1','v2','v2','v1','v2']\n",
    "classe   = ['C1','C1','C2','C2','C1','C2']\n",
    "df1 = pd.DataFrame({'A1': atributo1, 'classe': classe})\n",
    "df1"
   ]
  },
  {
   "cell_type": "markdown",
   "metadata": {
    "slideshow": {
     "slide_type": "-"
    }
   },
   "source": [
    "- Observe o número de exemplos de cada classe para cada valor do atributo."
   ]
  },
  {
   "cell_type": "code",
   "execution_count": 260,
   "metadata": {},
   "outputs": [
    {
     "data": {
      "text/html": [
       "<div>\n",
       "<style scoped>\n",
       "    .dataframe tbody tr th:only-of-type {\n",
       "        vertical-align: middle;\n",
       "    }\n",
       "\n",
       "    .dataframe tbody tr th {\n",
       "        vertical-align: top;\n",
       "    }\n",
       "\n",
       "    .dataframe thead th {\n",
       "        text-align: right;\n",
       "    }\n",
       "</style>\n",
       "<table border=\"1\" class=\"dataframe\">\n",
       "  <thead>\n",
       "    <tr style=\"text-align: right;\">\n",
       "      <th>classe</th>\n",
       "      <th>C1</th>\n",
       "      <th>C2</th>\n",
       "    </tr>\n",
       "    <tr>\n",
       "      <th>A1</th>\n",
       "      <th></th>\n",
       "      <th></th>\n",
       "    </tr>\n",
       "  </thead>\n",
       "  <tbody>\n",
       "    <tr>\n",
       "      <th>v1</th>\n",
       "      <td>3</td>\n",
       "      <td>0</td>\n",
       "    </tr>\n",
       "    <tr>\n",
       "      <th>v2</th>\n",
       "      <td>0</td>\n",
       "      <td>3</td>\n",
       "    </tr>\n",
       "  </tbody>\n",
       "</table>\n",
       "</div>"
      ],
      "text/plain": [
       "classe  C1  C2\n",
       "A1            \n",
       "v1       3   0\n",
       "v2       0   3"
      ]
     },
     "execution_count": 260,
     "metadata": {},
     "output_type": "execute_result"
    }
   ],
   "source": [
    "pd.crosstab(df1.A1, df1.classe)"
   ]
  },
  {
   "cell_type": "markdown",
   "metadata": {
    "slideshow": {
     "slide_type": "subslide"
    }
   },
   "source": [
    "- Cada valor de atributo apresenta exemplos de apenas uma classe. Isso significa que os valores desse atributo permitem diferenciar bem as classes do problema.\n",
    "\n",
    "- Para calcular a entropia de um atributo é necessário calcular a entropia de cada um dos conjuntos de dados gerados pelos seus valores e usar esse valor proporcionalmente ao tamanho de cada conjunto.\n",
    "\n",
    "- Veja os dois subconjuntos de dados gerados a partir dos valores do atributo `v1` e `v2` do atributo `A1`."
   ]
  },
  {
   "cell_type": "code",
   "execution_count": 261,
   "metadata": {},
   "outputs": [
    {
     "data": {
      "text/html": [
       "<div>\n",
       "<style scoped>\n",
       "    .dataframe tbody tr th:only-of-type {\n",
       "        vertical-align: middle;\n",
       "    }\n",
       "\n",
       "    .dataframe tbody tr th {\n",
       "        vertical-align: top;\n",
       "    }\n",
       "\n",
       "    .dataframe thead th {\n",
       "        text-align: right;\n",
       "    }\n",
       "</style>\n",
       "<table border=\"1\" class=\"dataframe\">\n",
       "  <thead>\n",
       "    <tr style=\"text-align: right;\">\n",
       "      <th></th>\n",
       "      <th>A1</th>\n",
       "      <th>classe</th>\n",
       "    </tr>\n",
       "  </thead>\n",
       "  <tbody>\n",
       "    <tr>\n",
       "      <th>0</th>\n",
       "      <td>v1</td>\n",
       "      <td>C1</td>\n",
       "    </tr>\n",
       "    <tr>\n",
       "      <th>1</th>\n",
       "      <td>v1</td>\n",
       "      <td>C1</td>\n",
       "    </tr>\n",
       "    <tr>\n",
       "      <th>4</th>\n",
       "      <td>v1</td>\n",
       "      <td>C1</td>\n",
       "    </tr>\n",
       "  </tbody>\n",
       "</table>\n",
       "</div>"
      ],
      "text/plain": [
       "   A1 classe\n",
       "0  v1     C1\n",
       "1  v1     C1\n",
       "4  v1     C1"
      ]
     },
     "execution_count": 261,
     "metadata": {},
     "output_type": "execute_result"
    }
   ],
   "source": [
    "X_v1 = df1.groupby('A1').get_group('v1')\n",
    "X_v1"
   ]
  },
  {
   "cell_type": "code",
   "execution_count": 262,
   "metadata": {},
   "outputs": [
    {
     "data": {
      "text/html": [
       "<div>\n",
       "<style scoped>\n",
       "    .dataframe tbody tr th:only-of-type {\n",
       "        vertical-align: middle;\n",
       "    }\n",
       "\n",
       "    .dataframe tbody tr th {\n",
       "        vertical-align: top;\n",
       "    }\n",
       "\n",
       "    .dataframe thead th {\n",
       "        text-align: right;\n",
       "    }\n",
       "</style>\n",
       "<table border=\"1\" class=\"dataframe\">\n",
       "  <thead>\n",
       "    <tr style=\"text-align: right;\">\n",
       "      <th></th>\n",
       "      <th>A1</th>\n",
       "      <th>classe</th>\n",
       "    </tr>\n",
       "  </thead>\n",
       "  <tbody>\n",
       "    <tr>\n",
       "      <th>2</th>\n",
       "      <td>v2</td>\n",
       "      <td>C2</td>\n",
       "    </tr>\n",
       "    <tr>\n",
       "      <th>3</th>\n",
       "      <td>v2</td>\n",
       "      <td>C2</td>\n",
       "    </tr>\n",
       "    <tr>\n",
       "      <th>5</th>\n",
       "      <td>v2</td>\n",
       "      <td>C2</td>\n",
       "    </tr>\n",
       "  </tbody>\n",
       "</table>\n",
       "</div>"
      ],
      "text/plain": [
       "   A1 classe\n",
       "2  v2     C2\n",
       "3  v2     C2\n",
       "5  v2     C2"
      ]
     },
     "execution_count": 262,
     "metadata": {},
     "output_type": "execute_result"
    }
   ],
   "source": [
    "X_v2 = df1.groupby('A1').get_group('v2')\n",
    "X_v2"
   ]
  },
  {
   "cell_type": "markdown",
   "metadata": {
    "slideshow": {
     "slide_type": "subslide"
    }
   },
   "source": [
    "- Seja um atributo $A$ com possíveis valores $v_1, v_2, \\ldots, v_m$, o cálculo de Entropia do Atributo $A$ é definido por:\n",
    "\n",
    "$$ E(X,A) = \\sum_{j=1}^{m} \\frac{|X_{j}|}{|X|} \\times E(X_{j})  $$\n",
    "\n",
    "- onde,\n",
    "    - $A$ é um atributo\n",
    "    - $v$ é cada valor do atributo $A$, sem repetir\n",
    "    - $X_{j}$ é a partição do conjunto $X$ em que o atributo $A$ possui valor $v_j$\n",
    "    - $|X_{j}| / |X|$ é a proporção de valores $v_j$ no conjunto de dados\n",
    "    - $E(X_j)$ é a entropia do conjunto $X_j$"
   ]
  },
  {
   "cell_type": "markdown",
   "metadata": {
    "slideshow": {
     "slide_type": "subslide"
    }
   },
   "source": [
    "Suponha o atributo definido no exemplo anterior, definido como $A_1$ e sejam `X_1` e `X_2` os subconjuntos de dados para os valores `v1` e `v2` do atributo, respectivamente. Calculamos a entropia do atributo $A_1$ em relação à classe da seguinte forma:\n",
    "\n",
    "\\begin{array}{lllll}\n",
    "E(X,A) & = & \\sum_{j=1}^{m} \\frac{|X_{j}|}{|X|} \\times E(X_{j})  \\\\ \n",
    "E(X,A_1) & = & \\sum_{j=1}^{m=2} \\frac{|X_{j}|}{|X|} \\times E(X_{j}) \\\\\n",
    "E(X,A_1) & = & \\frac{|X_{1}|}{|X|} \\times E(X_{1}) + \\frac{|X_{2}|}{|X|} \\times E(X_{2}) \\\\\n",
    "E(X,A_1) & = & \\frac{3}{6} \\times E(X_{1}) + \\frac{3}{6} \\times E(X_{2}) \\\\ \n",
    "E(X,A_1) & = & \\frac{3}{6} \\times 0 + \\frac{3}{6} \\times 0 \\\\ \n",
    "E(X,A_1) & = & 0 \\\\\n",
    "\\end{array}\n",
    "\n",
    "- De fato como já tínhamos visto esse atributo divide perfeitamente as classes do conjunto de dados."
   ]
  },
  {
   "cell_type": "markdown",
   "metadata": {
    "slideshow": {
     "slide_type": "subslide"
    }
   },
   "source": [
    "**Adicionando um Novo Atributo ao Conjunto**"
   ]
  },
  {
   "cell_type": "code",
   "execution_count": 263,
   "metadata": {},
   "outputs": [
    {
     "data": {
      "text/html": [
       "<div>\n",
       "<style scoped>\n",
       "    .dataframe tbody tr th:only-of-type {\n",
       "        vertical-align: middle;\n",
       "    }\n",
       "\n",
       "    .dataframe tbody tr th {\n",
       "        vertical-align: top;\n",
       "    }\n",
       "\n",
       "    .dataframe thead th {\n",
       "        text-align: right;\n",
       "    }\n",
       "</style>\n",
       "<table border=\"1\" class=\"dataframe\">\n",
       "  <thead>\n",
       "    <tr style=\"text-align: right;\">\n",
       "      <th></th>\n",
       "      <th>A1</th>\n",
       "      <th>A2</th>\n",
       "      <th>classe</th>\n",
       "    </tr>\n",
       "  </thead>\n",
       "  <tbody>\n",
       "    <tr>\n",
       "      <th>0</th>\n",
       "      <td>v1</td>\n",
       "      <td>v1</td>\n",
       "      <td>C1</td>\n",
       "    </tr>\n",
       "    <tr>\n",
       "      <th>1</th>\n",
       "      <td>v1</td>\n",
       "      <td>v2</td>\n",
       "      <td>C1</td>\n",
       "    </tr>\n",
       "    <tr>\n",
       "      <th>2</th>\n",
       "      <td>v2</td>\n",
       "      <td>v1</td>\n",
       "      <td>C2</td>\n",
       "    </tr>\n",
       "    <tr>\n",
       "      <th>3</th>\n",
       "      <td>v2</td>\n",
       "      <td>v1</td>\n",
       "      <td>C2</td>\n",
       "    </tr>\n",
       "    <tr>\n",
       "      <th>4</th>\n",
       "      <td>v1</td>\n",
       "      <td>v2</td>\n",
       "      <td>C1</td>\n",
       "    </tr>\n",
       "    <tr>\n",
       "      <th>5</th>\n",
       "      <td>v2</td>\n",
       "      <td>v1</td>\n",
       "      <td>C2</td>\n",
       "    </tr>\n",
       "  </tbody>\n",
       "</table>\n",
       "</div>"
      ],
      "text/plain": [
       "   A1  A2 classe\n",
       "0  v1  v1     C1\n",
       "1  v1  v2     C1\n",
       "2  v2  v1     C2\n",
       "3  v2  v1     C2\n",
       "4  v1  v2     C1\n",
       "5  v2  v1     C2"
      ]
     },
     "execution_count": 263,
     "metadata": {},
     "output_type": "execute_result"
    }
   ],
   "source": [
    "atributo1 = ['v1','v1','v2','v2','v1','v2']\n",
    "atributo2 = ['v1','v2','v1','v1','v2','v1']\n",
    "classe   = ['C1','C1','C2','C2','C1','C2']\n",
    "df1 = pd.DataFrame({'A1': atributo1, 'A2': atributo2, 'classe': classe})\n",
    "df1"
   ]
  },
  {
   "cell_type": "markdown",
   "metadata": {
    "slideshow": {
     "slide_type": "subslide"
    }
   },
   "source": [
    "- A seguir dos dois subconjuntos de dados gerados a partir dos valores do $A_2$: `v1` e `v2`."
   ]
  },
  {
   "cell_type": "markdown",
   "metadata": {
    "slideshow": {
     "slide_type": "-"
    }
   },
   "source": [
    "- Observe o número de exemplos de cada classe para cada valor do atributo."
   ]
  },
  {
   "cell_type": "code",
   "execution_count": 264,
   "metadata": {},
   "outputs": [
    {
     "data": {
      "text/html": [
       "<div>\n",
       "<style scoped>\n",
       "    .dataframe tbody tr th:only-of-type {\n",
       "        vertical-align: middle;\n",
       "    }\n",
       "\n",
       "    .dataframe tbody tr th {\n",
       "        vertical-align: top;\n",
       "    }\n",
       "\n",
       "    .dataframe thead th {\n",
       "        text-align: right;\n",
       "    }\n",
       "</style>\n",
       "<table border=\"1\" class=\"dataframe\">\n",
       "  <thead>\n",
       "    <tr style=\"text-align: right;\">\n",
       "      <th></th>\n",
       "      <th>A1</th>\n",
       "      <th>A2</th>\n",
       "      <th>classe</th>\n",
       "    </tr>\n",
       "  </thead>\n",
       "  <tbody>\n",
       "    <tr>\n",
       "      <th>0</th>\n",
       "      <td>v1</td>\n",
       "      <td>v1</td>\n",
       "      <td>C1</td>\n",
       "    </tr>\n",
       "    <tr>\n",
       "      <th>2</th>\n",
       "      <td>v2</td>\n",
       "      <td>v1</td>\n",
       "      <td>C2</td>\n",
       "    </tr>\n",
       "    <tr>\n",
       "      <th>3</th>\n",
       "      <td>v2</td>\n",
       "      <td>v1</td>\n",
       "      <td>C2</td>\n",
       "    </tr>\n",
       "    <tr>\n",
       "      <th>5</th>\n",
       "      <td>v2</td>\n",
       "      <td>v1</td>\n",
       "      <td>C2</td>\n",
       "    </tr>\n",
       "  </tbody>\n",
       "</table>\n",
       "</div>"
      ],
      "text/plain": [
       "   A1  A2 classe\n",
       "0  v1  v1     C1\n",
       "2  v2  v1     C2\n",
       "3  v2  v1     C2\n",
       "5  v2  v1     C2"
      ]
     },
     "execution_count": 264,
     "metadata": {},
     "output_type": "execute_result"
    }
   ],
   "source": [
    "X_v1 = df1.groupby('A2').get_group('v1')\n",
    "X_v1"
   ]
  },
  {
   "cell_type": "code",
   "execution_count": 265,
   "metadata": {},
   "outputs": [
    {
     "data": {
      "text/html": [
       "<div>\n",
       "<style scoped>\n",
       "    .dataframe tbody tr th:only-of-type {\n",
       "        vertical-align: middle;\n",
       "    }\n",
       "\n",
       "    .dataframe tbody tr th {\n",
       "        vertical-align: top;\n",
       "    }\n",
       "\n",
       "    .dataframe thead th {\n",
       "        text-align: right;\n",
       "    }\n",
       "</style>\n",
       "<table border=\"1\" class=\"dataframe\">\n",
       "  <thead>\n",
       "    <tr style=\"text-align: right;\">\n",
       "      <th></th>\n",
       "      <th>A1</th>\n",
       "      <th>A2</th>\n",
       "      <th>classe</th>\n",
       "    </tr>\n",
       "  </thead>\n",
       "  <tbody>\n",
       "    <tr>\n",
       "      <th>1</th>\n",
       "      <td>v1</td>\n",
       "      <td>v2</td>\n",
       "      <td>C1</td>\n",
       "    </tr>\n",
       "    <tr>\n",
       "      <th>4</th>\n",
       "      <td>v1</td>\n",
       "      <td>v2</td>\n",
       "      <td>C1</td>\n",
       "    </tr>\n",
       "  </tbody>\n",
       "</table>\n",
       "</div>"
      ],
      "text/plain": [
       "   A1  A2 classe\n",
       "1  v1  v2     C1\n",
       "4  v1  v2     C1"
      ]
     },
     "execution_count": 265,
     "metadata": {},
     "output_type": "execute_result"
    }
   ],
   "source": [
    "X_v2 = df1.groupby('A2').get_group('v2')\n",
    "X_v2"
   ]
  },
  {
   "cell_type": "markdown",
   "metadata": {
    "slideshow": {
     "slide_type": "subslide"
    }
   },
   "source": [
    "- Podemos observar que esse atributo não divide o conjunto em subconjuntos com apenas uma classe.\n",
    "\n",
    "- Calculando a entropia do subconjunto $X_1$:\n",
    "\n",
    "\\begin{array}{llllll}\n",
    "E(X_1) & = & -\\;(\\;\\;p_{C1} \\times \\log_2{p_{C1}}\\;+\\;p_{C2} \\times \\log_2{p_{C2}}\\;\\;)\\\\\n",
    "E(X_1) & = & -\\;(\\;\\;1/4 \\times \\log_2{1/4}\\;+\\;3/4 \\times \\log_2{3/4}\\;\\;)\\\\\n",
    "E(X_1) & = & 0.8113\\\\\n",
    "\\end{array}\n",
    "\n",
    "- Calculando a entropia do subconjunto $X_2$:\n",
    "\n",
    "\\begin{array}{llllll}\n",
    "E(X_2) & = & -\\;(\\;\\;p_{C1} \\times \\log_2{p_{C1}}\\;+\\;p_{C2} \\times \\log_2{p_{C2}}\\;\\;)\\\\\n",
    "E(X_2) & = & -\\;(\\;\\;2/2 \\times \\log_2{2/2}\\;+\\;0/2 \\times \\log_2{0/2}\\;\\;)\\\\\n",
    "E(X_2) & = & 0\n",
    "\\end{array}"
   ]
  },
  {
   "cell_type": "markdown",
   "metadata": {
    "slideshow": {
     "slide_type": "subslide"
    }
   },
   "source": [
    "Seja $A_2$ o atributo 2 do conjunto de dados. A entropia desse atributo é calculada como segue:\n",
    "\n",
    "\\begin{array}{lllll}\n",
    "E(X,A_2) & = & \\sum_{j=1}^{m} \\frac{|X_{j}|}{|X|} \\times E(X_{j})  \\\\ \n",
    "E(X,A_2) & = & \\sum_{j=1}^{m=2} \\frac{|X_{j}|}{|X|} \\times E(X_{j}) \\\\\n",
    "E(X,A_2) & = & \\frac{|X_{1}|}{|X|} \\times E(X_{1}) + \\frac{|X_{2}|}{|X|} \\times E(X_{2}) \\\\\n",
    "E(X,A_2) & = & \\frac{4}{6} \\times E(X_{1}) + \\frac{2}{6} \\times E(X_{2}) \\\\ \n",
    "E(X,A_2) & = & \\frac{4}{6} \\times 0.8113 + \\frac{2}{6} \\times 0 \\\\ \n",
    "E(X,A_2) & = & 0.5409 \\\\\n",
    "\\end{array}\n",
    "\n",
    "- Ao analizarmos a entropia dos atributo $A_1$ e $A_2$, observamos que a entropia do atributo $A_1$ é menor do que a do atributo $A_2$. \n",
    "\n",
    "- Isso inidica que o fato de conhecer o atributo $A_1$ gera conjuntos de dados com pouca *desordem*."
   ]
  },
  {
   "cell_type": "markdown",
   "metadata": {
    "slideshow": {
     "slide_type": "subslide"
    }
   },
   "source": [
    "#### Função para Cálculo da Entropia do Atributo"
   ]
  },
  {
   "cell_type": "code",
   "execution_count": 266,
   "metadata": {
    "scrolled": true
   },
   "outputs": [
    {
     "data": {
      "text/html": [
       "<div>\n",
       "<style scoped>\n",
       "    .dataframe tbody tr th:only-of-type {\n",
       "        vertical-align: middle;\n",
       "    }\n",
       "\n",
       "    .dataframe tbody tr th {\n",
       "        vertical-align: top;\n",
       "    }\n",
       "\n",
       "    .dataframe thead th {\n",
       "        text-align: right;\n",
       "    }\n",
       "</style>\n",
       "<table border=\"1\" class=\"dataframe\">\n",
       "  <thead>\n",
       "    <tr style=\"text-align: right;\">\n",
       "      <th></th>\n",
       "      <th>A2</th>\n",
       "      <th>classe</th>\n",
       "    </tr>\n",
       "  </thead>\n",
       "  <tbody>\n",
       "    <tr>\n",
       "      <th>0</th>\n",
       "      <td>v1</td>\n",
       "      <td>C1</td>\n",
       "    </tr>\n",
       "    <tr>\n",
       "      <th>1</th>\n",
       "      <td>v2</td>\n",
       "      <td>C1</td>\n",
       "    </tr>\n",
       "    <tr>\n",
       "      <th>2</th>\n",
       "      <td>v1</td>\n",
       "      <td>C2</td>\n",
       "    </tr>\n",
       "    <tr>\n",
       "      <th>3</th>\n",
       "      <td>v1</td>\n",
       "      <td>C2</td>\n",
       "    </tr>\n",
       "    <tr>\n",
       "      <th>4</th>\n",
       "      <td>v2</td>\n",
       "      <td>C1</td>\n",
       "    </tr>\n",
       "    <tr>\n",
       "      <th>5</th>\n",
       "      <td>v1</td>\n",
       "      <td>C2</td>\n",
       "    </tr>\n",
       "  </tbody>\n",
       "</table>\n",
       "</div>"
      ],
      "text/plain": [
       "   A2 classe\n",
       "0  v1     C1\n",
       "1  v2     C1\n",
       "2  v1     C2\n",
       "3  v1     C2\n",
       "4  v2     C1\n",
       "5  v1     C2"
      ]
     },
     "execution_count": 266,
     "metadata": {},
     "output_type": "execute_result"
    }
   ],
   "source": [
    "df1[['A2','classe']]"
   ]
  },
  {
   "cell_type": "code",
   "execution_count": 295,
   "metadata": {},
   "outputs": [],
   "source": [
    "def entropia_atributo(X, atributo, classe) :\n",
    "    somatorio = 0    \n",
    "    for valor, Xj in X.groupby(atributo):        \n",
    "        p_Xj = len(Xj) / len(X)        \n",
    "        E_Xj = entropia_valores(Xj[classe])\n",
    "        somatorio += p_Xj * E_Xj        \n",
    "    return somatorio"
   ]
  },
  {
   "cell_type": "code",
   "execution_count": 296,
   "metadata": {},
   "outputs": [
    {
     "data": {
      "text/plain": [
       "0.0"
      ]
     },
     "execution_count": 296,
     "metadata": {},
     "output_type": "execute_result"
    }
   ],
   "source": [
    "entropia_atributo(df1, 'A1', 'classe')"
   ]
  },
  {
   "cell_type": "code",
   "execution_count": 297,
   "metadata": {},
   "outputs": [
    {
     "data": {
      "text/plain": [
       "0.5408520829727552"
      ]
     },
     "execution_count": 297,
     "metadata": {},
     "output_type": "execute_result"
    }
   ],
   "source": [
    "entropia_atributo(df1, 'A2', 'classe')"
   ]
  },
  {
   "cell_type": "code",
   "execution_count": 298,
   "metadata": {
    "slideshow": {
     "slide_type": "subslide"
    }
   },
   "outputs": [],
   "source": [
    "def entropia_atributo_detalhes(X, atributo, classe) :\n",
    "    somatorio = 0\n",
    "    detalhes = pd.DataFrame(columns = ['valor','prop_Xj'])\n",
    "    for valor, Xj in X.groupby(atributo):        \n",
    "        p_Xj = len(Xj) / len(X)        \n",
    "        E_Xj = entropia_valores(Xj[classe])\n",
    "        somatorio += p_Xj * E_Xj\n",
    "        detalhes = detalhes.append({'valor' : valor, 'prop_Xj' : p_Xj, 'E(Xj)' : E_Xj }, 1)\n",
    "    return somatorio, detalhes"
   ]
  },
  {
   "cell_type": "code",
   "execution_count": 299,
   "metadata": {},
   "outputs": [
    {
     "data": {
      "text/html": [
       "<div>\n",
       "<style scoped>\n",
       "    .dataframe tbody tr th:only-of-type {\n",
       "        vertical-align: middle;\n",
       "    }\n",
       "\n",
       "    .dataframe tbody tr th {\n",
       "        vertical-align: top;\n",
       "    }\n",
       "\n",
       "    .dataframe thead th {\n",
       "        text-align: right;\n",
       "    }\n",
       "</style>\n",
       "<table border=\"1\" class=\"dataframe\">\n",
       "  <thead>\n",
       "    <tr style=\"text-align: right;\">\n",
       "      <th></th>\n",
       "      <th>valor</th>\n",
       "      <th>prop_Xj</th>\n",
       "      <th>E(Xj)</th>\n",
       "    </tr>\n",
       "  </thead>\n",
       "  <tbody>\n",
       "    <tr>\n",
       "      <th>0</th>\n",
       "      <td>v1</td>\n",
       "      <td>0.5</td>\n",
       "      <td>-0.0</td>\n",
       "    </tr>\n",
       "    <tr>\n",
       "      <th>1</th>\n",
       "      <td>v2</td>\n",
       "      <td>0.5</td>\n",
       "      <td>-0.0</td>\n",
       "    </tr>\n",
       "  </tbody>\n",
       "</table>\n",
       "</div>"
      ],
      "text/plain": [
       "  valor  prop_Xj  E(Xj)\n",
       "0    v1      0.5   -0.0\n",
       "1    v2      0.5   -0.0"
      ]
     },
     "execution_count": 299,
     "metadata": {},
     "output_type": "execute_result"
    }
   ],
   "source": [
    "E_A1, detalhes = entropia_atributo_detalhes(df1, 'A1', 'classe')\n",
    "detalhes"
   ]
  },
  {
   "cell_type": "code",
   "execution_count": 300,
   "metadata": {},
   "outputs": [
    {
     "data": {
      "text/html": [
       "<div>\n",
       "<style scoped>\n",
       "    .dataframe tbody tr th:only-of-type {\n",
       "        vertical-align: middle;\n",
       "    }\n",
       "\n",
       "    .dataframe tbody tr th {\n",
       "        vertical-align: top;\n",
       "    }\n",
       "\n",
       "    .dataframe thead th {\n",
       "        text-align: right;\n",
       "    }\n",
       "</style>\n",
       "<table border=\"1\" class=\"dataframe\">\n",
       "  <thead>\n",
       "    <tr style=\"text-align: right;\">\n",
       "      <th></th>\n",
       "      <th>valor</th>\n",
       "      <th>prop_Xj</th>\n",
       "      <th>E(Xj)</th>\n",
       "    </tr>\n",
       "  </thead>\n",
       "  <tbody>\n",
       "    <tr>\n",
       "      <th>0</th>\n",
       "      <td>v1</td>\n",
       "      <td>0.666667</td>\n",
       "      <td>0.811278</td>\n",
       "    </tr>\n",
       "    <tr>\n",
       "      <th>1</th>\n",
       "      <td>v2</td>\n",
       "      <td>0.333333</td>\n",
       "      <td>-0.000000</td>\n",
       "    </tr>\n",
       "  </tbody>\n",
       "</table>\n",
       "</div>"
      ],
      "text/plain": [
       "  valor   prop_Xj     E(Xj)\n",
       "0    v1  0.666667  0.811278\n",
       "1    v2  0.333333 -0.000000"
      ]
     },
     "execution_count": 300,
     "metadata": {},
     "output_type": "execute_result"
    }
   ],
   "source": [
    "E_A2, detalhes = entropia_atributo_detalhes(df1, 'A2', 'classe')\n",
    "detalhes"
   ]
  },
  {
   "cell_type": "markdown",
   "metadata": {
    "slideshow": {
     "slide_type": "slide"
    }
   },
   "source": [
    "## Medidas de Importância"
   ]
  },
  {
   "cell_type": "markdown",
   "metadata": {
    "slideshow": {
     "slide_type": "subslide"
    }
   },
   "source": [
    "### Ganho de Informação (*Information Gain*)\n",
    "\n",
    "- O Ganho de Informação (IG) de um atrbiuto consiste diferença entre a entropia inicial do conjunto de dados $X$ e a entropia ao utilizar o atributo $A$.\n",
    "\n",
    "- Equação:\n",
    "\n",
    "$$ IG = E(X) - E(X,A)$$\n",
    "\n",
    "- O IG quantifica a redução de entropia esperada por conhecer os valores do atributo A no conjunto X."
   ]
  },
  {
   "cell_type": "code",
   "execution_count": 301,
   "metadata": {},
   "outputs": [],
   "source": [
    "def ganho_de_informacao(X,atributo,classe) :\n",
    "    E_X = entropia_valores(X[classe])\n",
    "    E_X_A = entropia_atributo(X,atributo,classe)\n",
    "    return  E_X - E_X_A"
   ]
  },
  {
   "cell_type": "code",
   "execution_count": 302,
   "metadata": {},
   "outputs": [
    {
     "data": {
      "text/plain": [
       "1.0"
      ]
     },
     "execution_count": 302,
     "metadata": {},
     "output_type": "execute_result"
    }
   ],
   "source": [
    "ganho_de_informacao(df1, 'A1', 'classe')"
   ]
  },
  {
   "cell_type": "code",
   "execution_count": 303,
   "metadata": {},
   "outputs": [
    {
     "data": {
      "text/plain": [
       "0.4591479170272448"
      ]
     },
     "execution_count": 303,
     "metadata": {},
     "output_type": "execute_result"
    }
   ],
   "source": [
    "ganho_de_informacao(df1, 'A2', 'classe')"
   ]
  },
  {
   "cell_type": "markdown",
   "metadata": {
    "slideshow": {
     "slide_type": "subslide"
    }
   },
   "source": [
    "#### O problema do Ganho de Informação e da Entropia:\n",
    "- Ela é enviesada ou tendenciosa (*baised*) com atributos que possuem muitos valores possíveis.\n",
    "- Por exemplo, um atributo de ID (como o AnimalID no dataset Shelter Animals), que divide o conjunto de dados em 1 exemplo por partição $X_j$.\n",
    "- Assim, embora tenhamos muitas partições $X_j$, todas as partições apresentam um único exemplo (de uma classe), consequentemente, entropia baixa.\n",
    "- A soma dessa entropias irão fazer com que $E(X,A) = 0$, o que maximiza o $IG$.\n",
    "- No entanto, o atributo de identificação não deve ser um bom atributo para predição."
   ]
  },
  {
   "cell_type": "markdown",
   "metadata": {
    "slideshow": {
     "slide_type": "subslide"
    }
   },
   "source": [
    "### Taxa de Ganho (*Gain Ratio*)\n",
    "\n",
    "- A Taxa de Ganho de um atrbiuto consiste na razão entre o ganho de informação e a informação intrínseca do atributo que vai dividir o conjunto de dados.\n",
    "\n",
    "- A informação intrínseca (*Intrinsic Information* - I) nada mais é do que a entropia do atributo, sem usar informação da classe.\n",
    "\n",
    "- Equação:\n",
    "\n",
    "$$ GainRatio(X,A) = \\frac{IG(X,A)}{I(A)} = \\frac{IG(X,A)}{E(A)}$$\n",
    "\n",
    "- onde,\n",
    "    - $IG(X,A)$ é o ganho de informação do atributo $A$ no conjunto $X$\n",
    "    - $E(A)$ é a entropia (*cuidado*: não é $E(X,A)$ )"
   ]
  },
  {
   "cell_type": "markdown",
   "metadata": {
    "slideshow": {
     "slide_type": "subslide"
    }
   },
   "source": [
    "#### Implementação da Função"
   ]
  },
  {
   "cell_type": "code",
   "execution_count": 311,
   "metadata": {},
   "outputs": [],
   "source": [
    "def razao_de_ganho (X, atributo, classe):\n",
    "    IG = ganho_de_informacao(X, atributo, classe)\n",
    "    I = entropia_valores(X[atributo])\n",
    "    return IG / I\n",
    "    "
   ]
  },
  {
   "cell_type": "markdown",
   "metadata": {
    "slideshow": {
     "slide_type": "subslide"
    }
   },
   "source": [
    "#### Exemplo: Ganho de Informação *vs* Razão de Ganho\n",
    "-  Vamos adicionar um novo atributo chamado **ID**, único para cada registro."
   ]
  },
  {
   "cell_type": "code",
   "execution_count": 336,
   "metadata": {},
   "outputs": [
    {
     "data": {
      "text/html": [
       "<div>\n",
       "<style scoped>\n",
       "    .dataframe tbody tr th:only-of-type {\n",
       "        vertical-align: middle;\n",
       "    }\n",
       "\n",
       "    .dataframe tbody tr th {\n",
       "        vertical-align: top;\n",
       "    }\n",
       "\n",
       "    .dataframe thead th {\n",
       "        text-align: right;\n",
       "    }\n",
       "</style>\n",
       "<table border=\"1\" class=\"dataframe\">\n",
       "  <thead>\n",
       "    <tr style=\"text-align: right;\">\n",
       "      <th></th>\n",
       "      <th>ID</th>\n",
       "      <th>A1</th>\n",
       "      <th>A2</th>\n",
       "      <th>classe</th>\n",
       "    </tr>\n",
       "  </thead>\n",
       "  <tbody>\n",
       "    <tr>\n",
       "      <th>0</th>\n",
       "      <td>1</td>\n",
       "      <td>v1</td>\n",
       "      <td>v1</td>\n",
       "      <td>C1</td>\n",
       "    </tr>\n",
       "    <tr>\n",
       "      <th>1</th>\n",
       "      <td>2</td>\n",
       "      <td>v1</td>\n",
       "      <td>v2</td>\n",
       "      <td>C1</td>\n",
       "    </tr>\n",
       "    <tr>\n",
       "      <th>2</th>\n",
       "      <td>3</td>\n",
       "      <td>v2</td>\n",
       "      <td>v1</td>\n",
       "      <td>C2</td>\n",
       "    </tr>\n",
       "    <tr>\n",
       "      <th>3</th>\n",
       "      <td>4</td>\n",
       "      <td>v2</td>\n",
       "      <td>v1</td>\n",
       "      <td>C2</td>\n",
       "    </tr>\n",
       "    <tr>\n",
       "      <th>4</th>\n",
       "      <td>5</td>\n",
       "      <td>v1</td>\n",
       "      <td>v2</td>\n",
       "      <td>C1</td>\n",
       "    </tr>\n",
       "    <tr>\n",
       "      <th>5</th>\n",
       "      <td>6</td>\n",
       "      <td>v2</td>\n",
       "      <td>v1</td>\n",
       "      <td>C2</td>\n",
       "    </tr>\n",
       "  </tbody>\n",
       "</table>\n",
       "</div>"
      ],
      "text/plain": [
       "  ID  A1  A2 classe\n",
       "0  1  v1  v1     C1\n",
       "1  2  v1  v2     C1\n",
       "2  3  v2  v1     C2\n",
       "3  4  v2  v1     C2\n",
       "4  5  v1  v2     C1\n",
       "5  6  v2  v1     C2"
      ]
     },
     "execution_count": 336,
     "metadata": {},
     "output_type": "execute_result"
    }
   ],
   "source": [
    "atributoID = ['1','2','3','4','5','6']\n",
    "atributo1 = ['v1','v1','v2','v2','v1','v2']\n",
    "atributo2 = ['v1','v2','v1','v1','v2','v1']\n",
    "classe   = ['C1','C1','C2','C2','C1','C2']\n",
    "df2 = pd.DataFrame({'ID': atributoID, 'A1': atributo1, 'A2': atributo2, 'classe': classe})\n",
    "df2"
   ]
  },
  {
   "cell_type": "code",
   "execution_count": 335,
   "metadata": {
    "slideshow": {
     "slide_type": "subslide"
    }
   },
   "outputs": [
    {
     "data": {
      "text/html": [
       "<div>\n",
       "<style scoped>\n",
       "    .dataframe tbody tr th:only-of-type {\n",
       "        vertical-align: middle;\n",
       "    }\n",
       "\n",
       "    .dataframe tbody tr th {\n",
       "        vertical-align: top;\n",
       "    }\n",
       "\n",
       "    .dataframe thead th {\n",
       "        text-align: right;\n",
       "    }\n",
       "</style>\n",
       "<table border=\"1\" class=\"dataframe\">\n",
       "  <thead>\n",
       "    <tr style=\"text-align: right;\">\n",
       "      <th></th>\n",
       "      <th>InformationGain</th>\n",
       "      <th>GainRatio</th>\n",
       "    </tr>\n",
       "  </thead>\n",
       "  <tbody>\n",
       "    <tr>\n",
       "      <th>ID</th>\n",
       "      <td>1.000000</td>\n",
       "      <td>0.386853</td>\n",
       "    </tr>\n",
       "    <tr>\n",
       "      <th>A1</th>\n",
       "      <td>1.000000</td>\n",
       "      <td>1.000000</td>\n",
       "    </tr>\n",
       "    <tr>\n",
       "      <th>A2</th>\n",
       "      <td>0.459148</td>\n",
       "      <td>0.500000</td>\n",
       "    </tr>\n",
       "  </tbody>\n",
       "</table>\n",
       "</div>"
      ],
      "text/plain": [
       "    InformationGain  GainRatio\n",
       "ID         1.000000   0.386853\n",
       "A1         1.000000   1.000000\n",
       "A2         0.459148   0.500000"
      ]
     },
     "execution_count": 335,
     "metadata": {},
     "output_type": "execute_result"
    }
   ],
   "source": [
    "pd.DataFrame({ \n",
    "    'InformationGain': \n",
    "        df2.drop(['classe'],1).apply(\n",
    "            lambda x : ganho_de_informacao(df2,x.name,'classe'),0),\n",
    "    'GainRatio':\n",
    "        df2.drop(['classe'],1).apply(\n",
    "            lambda x : razao_de_ganho(df2,x.name,'classe'),0) \n",
    "})"
   ]
  },
  {
   "cell_type": "markdown",
   "metadata": {
    "slideshow": {
     "slide_type": "slide"
    }
   },
   "source": [
    "### Considerações Finais\n",
    "\n",
    "- As duas medidas, em geral, retornam bons resultados, pois não é comum usar atributos como o ID para fazer predições\n",
    "\n",
    "- O ganho de informação é tendencioso com atributos com muitos valores possíveis\n",
    "\n",
    "- A taxa de ganho tende a favorecer atributos com menos valores possíveis e mais *balanceados*."
   ]
  }
 ],
 "metadata": {
  "anaconda-cloud": {},
  "celltoolbar": "Slideshow",
  "kernelspec": {
   "display_name": "Python 3",
   "language": "python",
   "name": "python3"
  },
  "language_info": {
   "codemirror_mode": {
    "name": "ipython",
    "version": 3
   },
   "file_extension": ".py",
   "mimetype": "text/x-python",
   "name": "python",
   "nbconvert_exporter": "python",
   "pygments_lexer": "ipython3",
   "version": "3.7.1"
  }
 },
 "nbformat": 4,
 "nbformat_minor": 2
}
