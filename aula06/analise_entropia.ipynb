{
 "cells": [
  {
   "cell_type": "code",
   "execution_count": 10,
   "metadata": {},
   "outputs": [],
   "source": [
    "import numpy as np\n",
    "import pandas as pd\n",
    "import seaborn as sns"
   ]
  },
  {
   "cell_type": "code",
   "execution_count": 3,
   "metadata": {},
   "outputs": [
    {
     "data": {
      "text/plain": [
       "array([2.71388797, 2.0179332 , 1.51922236, 2.53642508, 1.42780757,\n",
       "       1.74567864, 2.21633225, 2.49040185, 1.20598208, 1.83790923])"
      ]
     },
     "execution_count": 3,
     "metadata": {},
     "output_type": "execute_result"
    }
   ],
   "source": [
    "positive = np.random.uniform(0, 3, 10)\n",
    "positive"
   ]
  },
  {
   "cell_type": "code",
   "execution_count": 4,
   "metadata": {},
   "outputs": [
    {
     "data": {
      "text/plain": [
       "array([3.98168592, 3.20377401, 3.79756789, 2.50011419, 4.07874694,\n",
       "       4.6858586 , 4.97676541, 4.4194373 , 4.60530476, 3.57903668,\n",
       "       3.54971746, 2.01245631, 3.28301803, 2.24417387, 2.32770696,\n",
       "       3.27642386, 4.88680975, 2.05662282, 4.36843775, 3.74523657,\n",
       "       4.86561875, 4.76075773, 2.66335044, 2.80157699, 3.72607737,\n",
       "       3.19033977, 4.8091838 , 3.79469235, 4.65432434, 2.40415605])"
      ]
     },
     "execution_count": 4,
     "metadata": {},
     "output_type": "execute_result"
    }
   ],
   "source": [
    "negative = np.random.uniform(2, 5, 30)\n",
    "negative"
   ]
  },
  {
   "cell_type": "code",
   "execution_count": 8,
   "metadata": {},
   "outputs": [
    {
     "data": {
      "text/html": [
       "<div>\n",
       "<style scoped>\n",
       "    .dataframe tbody tr th:only-of-type {\n",
       "        vertical-align: middle;\n",
       "    }\n",
       "\n",
       "    .dataframe tbody tr th {\n",
       "        vertical-align: top;\n",
       "    }\n",
       "\n",
       "    .dataframe thead th {\n",
       "        text-align: right;\n",
       "    }\n",
       "</style>\n",
       "<table border=\"1\" class=\"dataframe\">\n",
       "  <thead>\n",
       "    <tr style=\"text-align: right;\">\n",
       "      <th></th>\n",
       "      <th>class</th>\n",
       "      <th>x</th>\n",
       "    </tr>\n",
       "  </thead>\n",
       "  <tbody>\n",
       "    <tr>\n",
       "      <th>0</th>\n",
       "      <td>positive</td>\n",
       "      <td>2.713888</td>\n",
       "    </tr>\n",
       "    <tr>\n",
       "      <th>1</th>\n",
       "      <td>positive</td>\n",
       "      <td>2.017933</td>\n",
       "    </tr>\n",
       "    <tr>\n",
       "      <th>2</th>\n",
       "      <td>positive</td>\n",
       "      <td>1.519222</td>\n",
       "    </tr>\n",
       "    <tr>\n",
       "      <th>3</th>\n",
       "      <td>positive</td>\n",
       "      <td>2.536425</td>\n",
       "    </tr>\n",
       "    <tr>\n",
       "      <th>4</th>\n",
       "      <td>positive</td>\n",
       "      <td>1.427808</td>\n",
       "    </tr>\n",
       "  </tbody>\n",
       "</table>\n",
       "</div>"
      ],
      "text/plain": [
       "      class         x\n",
       "0  positive  2.713888\n",
       "1  positive  2.017933\n",
       "2  positive  1.519222\n",
       "3  positive  2.536425\n",
       "4  positive  1.427808"
      ]
     },
     "execution_count": 8,
     "metadata": {},
     "output_type": "execute_result"
    }
   ],
   "source": [
    "df = pd.DataFrame({'class' : 'positive', 'x' : positive}).append(pd.DataFrame({'class' : 'negative', 'x' :negative}))\n",
    "df.head()"
   ]
  },
  {
   "cell_type": "code",
   "execution_count": 11,
   "metadata": {},
   "outputs": [
    {
     "data": {
      "text/plain": [
       "<seaborn.axisgrid.FacetGrid at 0x243822a0f28>"
      ]
     },
     "execution_count": 11,
     "metadata": {},
     "output_type": "execute_result"
    },
    {
     "data": {
      "image/png": "[encoded data removed]",
      "text/plain": [
       "<Figure size 360x360 with 1 Axes>"
      ]
     },
     "metadata": {
      "needs_background": "light"
     },
     "output_type": "display_data"
    }
   ],
   "source": [
    "sns.catplot('class', 'x', data=df)"
   ]
  },
  {
   "cell_type": "code",
   "execution_count": 12,
   "metadata": {},
   "outputs": [],
   "source": [
    "def entropia (vp):\n",
    "    somatorio = 0;\n",
    "    for p in vp :\n",
    "        somatorio += 0 if (p == 0) else p * np.log2(p)    \n",
    "    return somatorio * (-1)\n",
    "\n",
    "def entropia_valores(valores):\n",
    "    import collections\n",
    "    counter = collections.Counter(valores)\n",
    "    vp = [ (n/len(valores)) for n in counter.values() ]    \n",
    "    return entropia(vp)    \n",
    "\n",
    "def entropia_atributo(X, atributo, classe) :\n",
    "    somatorio = 0    \n",
    "    for valor, Xj in X.groupby(atributo):        \n",
    "        p_Xj = len(Xj) / len(X)        \n",
    "        E_Xj = entropia_valores(Xj[classe])\n",
    "        somatorio += p_Xj * E_Xj        \n",
    "    return somatorio\n",
    "\n",
    "def entropia_atributo_detalhes(X, atributo, classe) :\n",
    "    somatorio = 0\n",
    "    detalhes = pd.DataFrame(columns = ['valor','prop_Xj'])\n",
    "    for valor, Xj in X.groupby(atributo):        \n",
    "        p_Xj = len(Xj) / len(X)        \n",
    "        E_Xj = entropia_valores(Xj[classe])\n",
    "        somatorio += p_Xj * E_Xj\n",
    "        detalhes = detalhes.append({'valor' : valor, 'prop_Xj' : p_Xj, 'E(Xj)' : E_Xj }, 1)\n",
    "    return somatorio, detalhes\n",
    "\n",
    "def ganho_de_informacao(X,atributo,classe) :\n",
    "    E_X = entropia_valores(X[classe])\n",
    "    E_X_A = entropia_atributo(X,atributo,classe)\n",
    "    return  E_X - E_X_A\n",
    "\n",
    "def razao_de_ganho (X, atributo, classe):\n",
    "    IG = ganho_de_informacao(X, atributo, classe)\n",
    "    I = entropia_valores(X[atributo])\n",
    "    return IG / I"
   ]
  },
  {
   "cell_type": "code",
   "execution_count": 41,
   "metadata": {},
   "outputs": [
    {
     "data": {
      "text/plain": [
       "'positive'"
      ]
     },
     "execution_count": 41,
     "metadata": {},
     "output_type": "execute_result"
    }
   ],
   "source": [
    "df_sort = df.sort_values(by='x')\n",
    "df_sort.iloc[0,:]['class']"
   ]
  },
  {
   "cell_type": "code",
   "execution_count": 49,
   "metadata": {},
   "outputs": [
    {
     "data": {
      "text/html": [
       "<div>\n",
       "<style scoped>\n",
       "    .dataframe tbody tr th:only-of-type {\n",
       "        vertical-align: middle;\n",
       "    }\n",
       "\n",
       "    .dataframe tbody tr th {\n",
       "        vertical-align: top;\n",
       "    }\n",
       "\n",
       "    .dataframe thead th {\n",
       "        text-align: right;\n",
       "    }\n",
       "</style>\n",
       "<table border=\"1\" class=\"dataframe\">\n",
       "  <thead>\n",
       "    <tr style=\"text-align: right;\">\n",
       "      <th></th>\n",
       "      <th>class</th>\n",
       "      <th>x</th>\n",
       "    </tr>\n",
       "  </thead>\n",
       "  <tbody>\n",
       "    <tr>\n",
       "      <th>8</th>\n",
       "      <td>positive</td>\n",
       "      <td>1.205982</td>\n",
       "    </tr>\n",
       "    <tr>\n",
       "      <th>4</th>\n",
       "      <td>positive</td>\n",
       "      <td>1.427808</td>\n",
       "    </tr>\n",
       "    <tr>\n",
       "      <th>2</th>\n",
       "      <td>positive</td>\n",
       "      <td>1.519222</td>\n",
       "    </tr>\n",
       "    <tr>\n",
       "      <th>5</th>\n",
       "      <td>positive</td>\n",
       "      <td>1.745679</td>\n",
       "    </tr>\n",
       "    <tr>\n",
       "      <th>9</th>\n",
       "      <td>positive</td>\n",
       "      <td>1.837909</td>\n",
       "    </tr>\n",
       "    <tr>\n",
       "      <th>11</th>\n",
       "      <td>negative</td>\n",
       "      <td>2.012456</td>\n",
       "    </tr>\n",
       "    <tr>\n",
       "      <th>1</th>\n",
       "      <td>positive</td>\n",
       "      <td>2.017933</td>\n",
       "    </tr>\n",
       "    <tr>\n",
       "      <th>17</th>\n",
       "      <td>negative</td>\n",
       "      <td>2.056623</td>\n",
       "    </tr>\n",
       "    <tr>\n",
       "      <th>6</th>\n",
       "      <td>positive</td>\n",
       "      <td>2.216332</td>\n",
       "    </tr>\n",
       "    <tr>\n",
       "      <th>13</th>\n",
       "      <td>negative</td>\n",
       "      <td>2.244174</td>\n",
       "    </tr>\n",
       "    <tr>\n",
       "      <th>14</th>\n",
       "      <td>negative</td>\n",
       "      <td>2.327707</td>\n",
       "    </tr>\n",
       "    <tr>\n",
       "      <th>29</th>\n",
       "      <td>negative</td>\n",
       "      <td>2.404156</td>\n",
       "    </tr>\n",
       "    <tr>\n",
       "      <th>7</th>\n",
       "      <td>positive</td>\n",
       "      <td>2.490402</td>\n",
       "    </tr>\n",
       "    <tr>\n",
       "      <th>3</th>\n",
       "      <td>negative</td>\n",
       "      <td>2.500114</td>\n",
       "    </tr>\n",
       "    <tr>\n",
       "      <th>3</th>\n",
       "      <td>positive</td>\n",
       "      <td>2.536425</td>\n",
       "    </tr>\n",
       "    <tr>\n",
       "      <th>22</th>\n",
       "      <td>negative</td>\n",
       "      <td>2.663350</td>\n",
       "    </tr>\n",
       "    <tr>\n",
       "      <th>0</th>\n",
       "      <td>positive</td>\n",
       "      <td>2.713888</td>\n",
       "    </tr>\n",
       "    <tr>\n",
       "      <th>23</th>\n",
       "      <td>negative</td>\n",
       "      <td>2.801577</td>\n",
       "    </tr>\n",
       "  </tbody>\n",
       "</table>\n",
       "</div>"
      ],
      "text/plain": [
       "       class         x\n",
       "8   positive  1.205982\n",
       "4   positive  1.427808\n",
       "2   positive  1.519222\n",
       "5   positive  1.745679\n",
       "9   positive  1.837909\n",
       "11  negative  2.012456\n",
       "1   positive  2.017933\n",
       "17  negative  2.056623\n",
       "6   positive  2.216332\n",
       "13  negative  2.244174\n",
       "14  negative  2.327707\n",
       "29  negative  2.404156\n",
       "7   positive  2.490402\n",
       "3   negative  2.500114\n",
       "3   positive  2.536425\n",
       "22  negative  2.663350\n",
       "0   positive  2.713888\n",
       "23  negative  2.801577"
      ]
     },
     "execution_count": 49,
     "metadata": {},
     "output_type": "execute_result"
    }
   ],
   "source": [
    "df_sort.query('x < ' + str(3))"
   ]
  },
  {
   "cell_type": "code",
   "execution_count": 80,
   "metadata": {},
   "outputs": [
    {
     "data": {
      "text/plain": [
       "10"
      ]
     },
     "execution_count": 80,
     "metadata": {},
     "output_type": "execute_result"
    }
   ],
   "source": [
    "len(df[df['class'] == 'positive'])"
   ]
  },
  {
   "cell_type": "code",
   "execution_count": 83,
   "metadata": {},
   "outputs": [
    {
     "name": "stdout",
     "output_type": "stream",
     "text": [
      "1.93 -0.0 0.59 0.1 0.71 -0.0\n",
      "2.02 0.65 0.6 0.18 0.63 0.05\n",
      "2.04 0.59 0.53 0.17 0.64 0.06\n",
      "2.14 0.81 0.54 0.22 0.59 0.1\n",
      "2.23 0.76 0.46 0.21 0.6 0.12\n",
      "2.45 0.98 0.49 0.3 0.51 0.21\n",
      "2.5 0.96 0.38 0.3 0.51 0.25\n",
      "2.52 0.99 0.39 0.33 0.48 0.28\n",
      "2.6 0.97 0.24 0.32 0.49 0.33\n",
      "2.69 0.99 0.25 0.35 0.46 0.36\n",
      "2.76 0.98 -0.0 0.33 0.48 0.42\n"
     ]
    }
   ],
   "source": [
    "n = len(df)\n",
    "\n",
    "for i in np.arange(0,n-1):\n",
    "    if (df_sort.iloc[i,:]['class'] != df_sort.iloc[i+1,:]['class']):\n",
    "        sp = (df_sort.iloc[i,:]['x'] + df_sort.iloc[i+1,:]['x']) / 2\n",
    "        df_left  = df_sort.query('x <= ' + str(sp))\n",
    "        df_right = df_sort.query('x > '  + str(sp))\n",
    "        E_left = entropia_valores(df_left['class'])\n",
    "        E_right = entropia_valores(df_right['class'])\n",
    "        E = 0.8 *(E_left*len(df_left)/len(df)) + 0.2 * (E_right*len(df_right)/len(df))\n",
    "        IG = entropia_valores(df['class']) - E\n",
    "        EH = E_left*len(df_left)/len(df)* ( len(df_left[df_left['class'] == 'positive']) /  len(df[df['class'] == 'positive'])  )\n",
    "        print(sp.round(2), E_left.round(2), E_right.round(2), E.round(2), IG.round(2), EH.round(2))"
   ]
  },
  {
   "cell_type": "code",
   "execution_count": 18,
   "metadata": {},
   "outputs": [
    {
     "data": {
      "text/html": [
       "<div>\n",
       "<style scoped>\n",
       "    .dataframe tbody tr th:only-of-type {\n",
       "        vertical-align: middle;\n",
       "    }\n",
       "\n",
       "    .dataframe tbody tr th {\n",
       "        vertical-align: top;\n",
       "    }\n",
       "\n",
       "    .dataframe thead th {\n",
       "        text-align: right;\n",
       "    }\n",
       "</style>\n",
       "<table border=\"1\" class=\"dataframe\">\n",
       "  <thead>\n",
       "    <tr style=\"text-align: right;\">\n",
       "      <th></th>\n",
       "      <th>class</th>\n",
       "      <th>x</th>\n",
       "    </tr>\n",
       "  </thead>\n",
       "  <tbody>\n",
       "    <tr>\n",
       "      <th>8</th>\n",
       "      <td>positive</td>\n",
       "      <td>1.205982</td>\n",
       "    </tr>\n",
       "    <tr>\n",
       "      <th>4</th>\n",
       "      <td>positive</td>\n",
       "      <td>1.427808</td>\n",
       "    </tr>\n",
       "    <tr>\n",
       "      <th>2</th>\n",
       "      <td>positive</td>\n",
       "      <td>1.519222</td>\n",
       "    </tr>\n",
       "    <tr>\n",
       "      <th>5</th>\n",
       "      <td>positive</td>\n",
       "      <td>1.745679</td>\n",
       "    </tr>\n",
       "    <tr>\n",
       "      <th>9</th>\n",
       "      <td>positive</td>\n",
       "      <td>1.837909</td>\n",
       "    </tr>\n",
       "    <tr>\n",
       "      <th>11</th>\n",
       "      <td>negative</td>\n",
       "      <td>2.012456</td>\n",
       "    </tr>\n",
       "    <tr>\n",
       "      <th>1</th>\n",
       "      <td>positive</td>\n",
       "      <td>2.017933</td>\n",
       "    </tr>\n",
       "    <tr>\n",
       "      <th>17</th>\n",
       "      <td>negative</td>\n",
       "      <td>2.056623</td>\n",
       "    </tr>\n",
       "    <tr>\n",
       "      <th>6</th>\n",
       "      <td>positive</td>\n",
       "      <td>2.216332</td>\n",
       "    </tr>\n",
       "    <tr>\n",
       "      <th>13</th>\n",
       "      <td>negative</td>\n",
       "      <td>2.244174</td>\n",
       "    </tr>\n",
       "    <tr>\n",
       "      <th>14</th>\n",
       "      <td>negative</td>\n",
       "      <td>2.327707</td>\n",
       "    </tr>\n",
       "    <tr>\n",
       "      <th>29</th>\n",
       "      <td>negative</td>\n",
       "      <td>2.404156</td>\n",
       "    </tr>\n",
       "    <tr>\n",
       "      <th>7</th>\n",
       "      <td>positive</td>\n",
       "      <td>2.490402</td>\n",
       "    </tr>\n",
       "    <tr>\n",
       "      <th>3</th>\n",
       "      <td>negative</td>\n",
       "      <td>2.500114</td>\n",
       "    </tr>\n",
       "    <tr>\n",
       "      <th>3</th>\n",
       "      <td>positive</td>\n",
       "      <td>2.536425</td>\n",
       "    </tr>\n",
       "    <tr>\n",
       "      <th>22</th>\n",
       "      <td>negative</td>\n",
       "      <td>2.663350</td>\n",
       "    </tr>\n",
       "    <tr>\n",
       "      <th>0</th>\n",
       "      <td>positive</td>\n",
       "      <td>2.713888</td>\n",
       "    </tr>\n",
       "    <tr>\n",
       "      <th>23</th>\n",
       "      <td>negative</td>\n",
       "      <td>2.801577</td>\n",
       "    </tr>\n",
       "  </tbody>\n",
       "</table>\n",
       "</div>"
      ],
      "text/plain": [
       "       class         x\n",
       "8   positive  1.205982\n",
       "4   positive  1.427808\n",
       "2   positive  1.519222\n",
       "5   positive  1.745679\n",
       "9   positive  1.837909\n",
       "11  negative  2.012456\n",
       "1   positive  2.017933\n",
       "17  negative  2.056623\n",
       "6   positive  2.216332\n",
       "13  negative  2.244174\n",
       "14  negative  2.327707\n",
       "29  negative  2.404156\n",
       "7   positive  2.490402\n",
       "3   negative  2.500114\n",
       "3   positive  2.536425\n",
       "22  negative  2.663350\n",
       "0   positive  2.713888\n",
       "23  negative  2.801577"
      ]
     },
     "execution_count": 18,
     "metadata": {},
     "output_type": "execute_result"
    }
   ],
   "source": [
    "df.query('x < 3').sort_values(by='x')"
   ]
  },
  {
   "cell_type": "code",
   "execution_count": 15,
   "metadata": {},
   "outputs": [
    {
     "data": {
      "text/plain": [
       "0.9910760598382222"
      ]
     },
     "execution_count": 15,
     "metadata": {},
     "output_type": "execute_result"
    }
   ],
   "source": [
    "entropia_valores( df.query('x < 3')['class'])"
   ]
  },
  {
   "cell_type": "code",
   "execution_count": null,
   "metadata": {},
   "outputs": [],
   "source": []
  }
 ],
 "metadata": {
  "kernelspec": {
   "display_name": "Python 3",
   "language": "python",
   "name": "python3"
  },
  "language_info": {
   "codemirror_mode": {
    "name": "ipython",
    "version": 3
   },
   "file_extension": ".py",
   "mimetype": "text/x-python",
   "name": "python",
   "nbconvert_exporter": "python",
   "pygments_lexer": "ipython3",
   "version": "3.7.3"
  }
 },
 "nbformat": 4,
 "nbformat_minor": 2
}
