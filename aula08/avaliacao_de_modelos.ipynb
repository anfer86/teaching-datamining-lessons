{
 "cells": [
  {
   "cell_type": "markdown",
   "metadata": {
    "slideshow": {
     "slide_type": "slide"
    }
   },
   "source": [
    "<img src=\"img/logoifsc.png\">\n",
    "<link rel=\"stylesheet\" href=\"avaliacao_de_modelos.css\">"
   ]
  },
  {
   "cell_type": "markdown",
   "metadata": {},
   "source": [
    "---\n",
    "\n",
    "Prof. Carlos Andrés Ferrero\n",
    "\n",
    "# Mineração de Dados\n",
    "\n",
    "## Avaliação de Modelos de Classificação\n",
    "    \n",
    "---"
   ]
  },
  {
   "cell_type": "markdown",
   "metadata": {
    "slideshow": {
     "slide_type": "slide"
    }
   },
   "source": [
    "## Conteúdo\n",
    "- Introdução\n",
    "- Medidas: *acurácia, erro, precisão, recuperação, F-measure*\n",
    "- Estratégias para Avaliação de Modelos\n",
    "    - Holdout\n",
    "    - Cross-validation: 10-folds e 5x2\n",
    "- Erro da classe majoritária e ganho de aprendizado\n",
    "- Atividade\n",
    "- *Parameters Tunning*\n",
    "- Treino, validação e teste"
   ]
  },
  {
   "cell_type": "markdown",
   "metadata": {
    "slideshow": {
     "slide_type": "slide"
    }
   },
   "source": [
    "### Introdução\n",
    "\n",
    "- A avaliação de modelos tem como objetivo conhecer a performance de um modelo no futuro, seja de classificação ou regressão.\n",
    "\n",
    "- Para avaliar a performance de um modelo de classificação temos várias medidas. As mais comuns são:\n",
    "    - Acurácia de classificação\n",
    "    - Erro de classificação\n",
    "    - Precisão vs. Recuperação (*Precision* and *Recall*)\n",
    "    - Medida F (*F-measure*)"
   ]
  },
  {
   "cell_type": "markdown",
   "metadata": {
    "slideshow": {
     "slide_type": "subslide"
    }
   },
   "source": [
    "- Para extrair essas medidas é preciso construir uma *matriz de confusão* ou *tabela de confusão*\n",
    "\n",
    "- Seja um problema de duas classes (*postiva* P e *negativa* N) a matriz de confusão de classificação definida por:\n",
    "\n",
    "| Classe  | Predita P | Predita N  |\n",
    "| --------------- |:-------------:| -----:|\n",
    "| **Verdadeira P** | $TP$ | $FN$ |\n",
    "| **Verdadeira N** | $FP$ | $TN$ |\n",
    "\n",
    "- $TP$ (*True Positive*): número de instâncias positivas classificadas como positivas;\n",
    "- $TN$ (*True Negative*): número de instâncias negativas classificadas como negativas;\n",
    "- $FP$ (*False Postive*): número de instâncias negativas classificadas como positivas;\n",
    "- $FN$ (*False Negative*): número de instâncias positivas classificadas como negativas;"
   ]
  },
  {
   "cell_type": "markdown",
   "metadata": {
    "slideshow": {
     "slide_type": "subslide"
    }
   },
   "source": [
    "- Exemplo: a avaliação de um modelo $m$ apresenta a seguinte tabela de confusão para 200 exemplos ($N = 200$):\n",
    "\n",
    "| Classe | Predita P | Predita N |\n",
    "| ------------------ | --------------- | ---------- |\n",
    "| **Observada P** | $TP=90$ | $FN=10$ |\n",
    "| **Observada N** | $FP=20$ | $TN=80$ |\n",
    "\n",
    "- Isso significa que, do total de 200 exemplos,\n",
    "    - 90 exemplos da classe positiva foram classificados como positivos (corretamente)\n",
    "    - 80 exemplos da classe negativa foram classificados como negativos (corretamente)\n",
    "    - 10 exemplos da classe positiva foram classificados como negativos (incorretamente)\n",
    "    - 20 exemplos da classe negativa foram classificados como positivos (incorretamente)"
   ]
  },
  {
   "cell_type": "markdown",
   "metadata": {
    "slideshow": {
     "slide_type": "subslide"
    }
   },
   "source": [
    "- Baseado nessa tabela de confusão podemos calcular as medidas.\n",
    "\n",
    "- A **acurácia de classificação** consiste na proporção de exemplos classificados *corretamente* do total de exemplos.\n",
    "\n",
    "$$ accuracy = \\frac{TP + TN}{TP+TN+FP+FN} = \\frac{TP + TN}{N} $$\n",
    "\n",
    "- No exemplo, a **acurácia** do modelo $m$ é dada por:\n",
    "\n",
    "$$ accuracy(m) = \\frac{90 + 80}{200} =  \\frac{170}{200} = 0.85$$"
   ]
  },
  {
   "cell_type": "markdown",
   "metadata": {
    "slideshow": {
     "slide_type": "subslide"
    }
   },
   "source": [
    "- O **erro de classificação** consiste na proporção de exemplos classificados *incorretamente* do total de exemplos.\n",
    "\n",
    "$$ error = \\frac{FP + FN}{TP+TN+FP+FN} = \\frac{FP + FN}{N} $$\n",
    "\n",
    "- No exemplo, o **erro** do modelo $m$ é dado por:\n",
    "\n",
    "$$ error(m) = \\frac{20 + 10}{200} =  \\frac{30}{200} = 0.15 $$"
   ]
  },
  {
   "cell_type": "markdown",
   "metadata": {
    "slideshow": {
     "slide_type": "subslide"
    }
   },
   "source": [
    "- A **precisão** (*precision*) consiste na proporção de exemplos *positivos* classificados *corretamente* do total de exemplos classificados como positivos.\n",
    "\n",
    "$$ precision = \\frac{TP}{TP+FP} $$\n",
    "\n",
    "- É também conhecida como Valor Preditivo Positivo.\n",
    "\n",
    "- No exemplo, a **precisão** do modelo $m$ é dada por:\n",
    "\n",
    "$$ precision(m) = \\frac{90}{110} = 0.82 $$"
   ]
  },
  {
   "cell_type": "markdown",
   "metadata": {
    "slideshow": {
     "slide_type": "subslide"
    }
   },
   "source": [
    "- A **recuperção** (*recall*) consiste na proporção de exemplos *positivos* classificados *corretamente* do total de exemplos positivos no conjunto de dados.\n",
    "\n",
    "$$ recall = \\frac{TP}{TP+FN} $$\n",
    "\n",
    "- É também conhecida como Taxa de Verdadeiros Positivos ou Sensibilidade do modelo.\n",
    "\n",
    "- No exemplo a **recuperação** do modelo $m$ é dada por:\n",
    "\n",
    "$$ recall(m) = \\frac{90}{100} = 0.9 $$"
   ]
  },
  {
   "cell_type": "markdown",
   "metadata": {
    "slideshow": {
     "slide_type": "subslide"
    }
   },
   "source": [
    "- A partir dos valores de *precision* e *recall* é possível calcular o valor da **medida F** (*F-measure* ou também chamada de *F-score*)\n",
    "\n",
    "- Essa medida permite balancear os valores de *precision* e *recall* calculando a média harmônica entre ambas as medidas.\n",
    "\n",
    "$$ F = 2 \\times \\frac{precision \\times recall}{precision + recall}  $$ \n",
    "\n",
    "- No exemplo, a **medida F** do modelo $m$ é dada por:\n",
    "\n",
    "$$ F = 2 \\times \\frac{0.82 \\times 0.9}{0.82 + 0.9} = 0.86 $$ "
   ]
  },
  {
   "cell_type": "markdown",
   "metadata": {
    "slideshow": {
     "slide_type": "subslide"
    }
   },
   "source": [
    "\n",
    "A partir dos valores de *precision* e *recall* é possível calcular o valor da **medida F** (*F-measure* ou também chamada de *F-score*)\n",
    "\n",
    "- Essa medida permite balancear os valores de *precision* e *recall* calculando a média harmônica entre ambas as medidas.\n",
    "\n",
    "$$ F = 2 \\times \\frac{precision \\times recall}{precision + recall}  $$ \n",
    "\n",
    "- No exemplo, a **medida F** do modelo $m$ é dada por:\n",
    "\n",
    "$$ F = 2 \\times \\frac{0.82 \\times 0.9}{0.82 + 0.9} = 0.86 $$ "
   ]
  },
  {
   "cell_type": "markdown",
   "metadata": {
    "slideshow": {
     "slide_type": "subslide"
    }
   },
   "source": [
    "- Portanto, no exemplo apresentado os valores das medidas de avaliação foram os seguintes:\n",
    "\n",
    "| Medida  | Valor | \n",
    "| --------------- |:-------------:|\n",
    "| **acurácia**    | $0.85$ |\n",
    "| **erro**        | $0.15$ |\n",
    "| **precisão**    | $0.82$ |\n",
    "| **recuperação** | $0.90$ |\n",
    "| **F-measure**   | $0.86$ |\n"
   ]
  },
  {
   "cell_type": "markdown",
   "metadata": {
    "slideshow": {
     "slide_type": "subslide"
    }
   },
   "source": [
    "### Exercício\n",
    "\n",
    "- Suponha que um novo modelo $m'$ foi contruído com a seguinte tabela de confusão.\n",
    "\n",
    "| Classe  | Predita P | Predita N  |\n",
    "| --------------- |:-------------:| ----------:|\n",
    "| **Observada P** | $TP=85$ | $FN=15$ |\n",
    "| **Observada N** | $FP=8$ | $TN=92$ |\n",
    "\n",
    "- Calcule os valores das 5 medidas e compare os resultados. \n",
    "\n",
    "- Se tivesse que escolher entre os modelos $m$ e $m'$, qual você escolheria?"
   ]
  },
  {
   "cell_type": "markdown",
   "metadata": {
    "slideshow": {
     "slide_type": "slide"
    }
   },
   "source": [
    "## Estratégias de Avaliação de Modelos\n",
    "\n",
    "- Dentro da área de estudos de avaliação de modelos existem diferentes estratégias.\n",
    "\n",
    "- É importante usar estratégias que permitam estimar o **erro verdadeiro do modelo**.\n",
    "\n",
    "- O **erro verdadeiro do modelo** é um valor de erro desconhecido, mas muito importante para o futuro da utilização desse modelo. A estimativa desse erro vai determinar se o modelo é aceitável ou não para ser usado na prática."
   ]
  },
  {
   "cell_type": "markdown",
   "metadata": {
    "slideshow": {
     "slide_type": "subslide"
    }
   },
   "source": [
    "- Como esse erro é desconhecido vamos tentar estimar esse erro usando diferentes estratégias.\n",
    "\n",
    "- As principais estratégias de avaliação são:\n",
    "\n",
    "    - Trianing set\n",
    "  \n",
    "    - Hold out\n",
    "        \n",
    "    - Cross-validation"
   ]
  },
  {
   "cell_type": "markdown",
   "metadata": {
    "slideshow": {
     "slide_type": "subslide"
    }
   },
   "source": [
    "- **Trianing set**\n",
    "    - Nesta estratégia avalia-se o modelo utilizando o mesmo conjunto de dados utilizado para construir o modelo, chamado de conjunto de treinamento ou *training set*.\n",
    "    - Em outras palavras eu uso um conjunto de dados $X_{train}$ para construir um modelo de classificação $m$.\n",
    "    - Após construído o modelo $m$ classificamos novamente as instâncias $X_{train}$ (sem utilizar o atributo classe) e obtemos uma classe predita para cada exemplo.\n",
    "    - Construímos a tabela de confusão confrontando a classe predita para os exemplos com a observada em $X_{train}$ e extraímos as medidas de avaliaçao."
   ]
  },
  {
   "cell_type": "markdown",
   "metadata": {
    "slideshow": {
     "slide_type": "subslide"
    }
   },
   "source": [
    "- **Hold out**: \n",
    "    - Esta estratégia consiste em dividir o conjunto de dados em dois conjuntos: conjunto de treinamento (**training set**) e conjunto de teste (**test set**).\n",
    "    - Assim, o modelo de classificação $m$ é construído usando o **training set** e testado com o **test set**. \n",
    "    - A matriz de confusão para extrair as medidas é baseada na comparação das classes dos exemplos preditas e observadas do **test set**\n",
    "    - A escolha dos dados é aleatória e pode ser *estratificada* ou não. Será *estratificada* quando conservamos a mesma distribuição de classes no treino e no teste.\n",
    "    - O percentual para treino e teste pode variar de acordo com o conjunto de dados, mas é bem comum utilizar $2/3$ para treino e $1/3$ para teste.    "
   ]
  },
  {
   "cell_type": "markdown",
   "metadata": {
    "slideshow": {
     "slide_type": "subslide"
    }
   },
   "source": [
    "- **Cross-validation**:\n",
    "    - A validação cruzada (*cross-validation*) consiste em separar o conjunto em $n$ partições (*folds*) (que podem ser estratificados ou não).\n",
    "    - Para cada partição de teste $i$ será construído um modelo $m_i$ utilizando as $n-1$ partições restantes.\n",
    "    - Cada modelo é testado com a partição de teste (a que partição que ficou de fora do treinamento do modelo).\n",
    "    - Para calcular as medidas de avaliação podemos construir uma única matriz de confusão ou construir uma para cada modelo e extrair média e desvio padrão das medidas."
   ]
  },
  {
   "cell_type": "markdown",
   "metadata": {
    "slideshow": {
     "slide_type": "subslide"
    }
   },
   "source": [
    "- *10-folds cross validation*\n",
    "    - Um dos tipos mais comuns de validação cruzada e divide o conjunto de dados em 10 partes.\n",
    "    - São construídos ao todo 10 modelos cada um com seu erro de classficação.\n",
    "    - Dessa forma é possível ter uma estimativa melhor do erro verdadeiro do modelo.\n",
    "    - É interessante usar esta estratégia quando observamos que uma estratégia holdout apresenta variações para diferentes execuções.\n",
    "    - No entanto, para conjuntos de dados muito grandes *holdout* e *cross-validation* tendem a ser parecidos."
   ]
  },
  {
   "cell_type": "markdown",
   "metadata": {
    "slideshow": {
     "slide_type": "subslide"
    }
   },
   "source": [
    "- *5x2-folds cross validation*\n",
    "    - Em algumas ocasiões temos um conjunto de dados menor, por exemplo 200 exemplos.\n",
    "    - Se dividirmos esse conjunto em 10 partições ficaremos com apenas 20 exemplos para testar em cada modelo.\n",
    "    - Isso pode gerar uma forte variação do erro de classificação.\n",
    "    - Nesta estratégia executa-se 5 (cinco) repetições da estratégia *2-folds cross validation*.\n",
    "    - Dessa forma, são construídos 10 modelos, cada um com o seu erro de classificação.    "
   ]
  },
  {
   "cell_type": "markdown",
   "metadata": {
    "slideshow": {
     "slide_type": "subslide"
    }
   },
   "source": [
    "- **Erro da classe majoritária**\n",
    "\n",
    "    - O erro de classificação obtido pela estratégia de avaliação utilizada deve ser comparado inicialmente com o **erro da classe majoritária** ou prevalente.\n",
    "    \n",
    "    - Esse erro consiste na maior proporção de exemplos de uma classe no conjunto de dados sob estudo.\n",
    "    \n",
    "    - Por exemplo, em um problema de duas classes com 100 exemplos, onde 40 são da classe positiva e 60 são da classe negativa, o erro da classe majoritária é de $0.4$ ou $40\\%$.   "
   ]
  },
  {
   "cell_type": "markdown",
   "metadata": {
    "slideshow": {
     "slide_type": "subslide"
    }
   },
   "source": [
    "- **Ganho de Aprendizado** \n",
    "\n",
    "    - Podemos pensar em um modelo $m_{majority}$ que apenas \"chuta\" na classe majoritária.\n",
    "    \n",
    "    - Quando conseguirmos melhorar o erro da classe majoritária dizemos que tivemos um **ganho de aprendizado** em relação ao estado inicial do problema.\n",
    "    \n",
    "    - Modelos que não melhoram o erro da classe majoritária são comumente retirados da análise pois não conseguiram aprender o suficiente."
   ]
  },
  {
   "cell_type": "markdown",
   "metadata": {
    "slideshow": {
     "slide_type": "subslide"
    }
   },
   "source": [
    "- **Construção do Modelo Final**\n",
    "    - Após executar qualquer estratégia de avaliação de modelos devemos construir o modelo final utilizando **todos os exemplos**.\n",
    "    - A idéia de ter uma estratégia de avaliação é *estimar* o **erro verdadeiro do modelo**\n",
    "    - Usar uma estratégia de avaliaçao para achar um modelo \"bom\" para escolher é um dos erros comuns em mineração de dados. Pois isso seria superestimar o erro verdadeiro do modelo construído, o que será muito difícil de sustentar em classificação futuras."
   ]
  },
  {
   "cell_type": "markdown",
   "metadata": {
    "slideshow": {
     "slide_type": "slide"
    }
   },
   "source": [
    "### Exemplo utilizando o conjunto Iris (duas classes)"
   ]
  },
  {
   "cell_type": "markdown",
   "metadata": {
    "slideshow": {
     "slide_type": "-"
    }
   },
   "source": [
    "Avaliação usando **Trianing set**:"
   ]
  },
  {
   "cell_type": "code",
   "execution_count": 1,
   "metadata": {},
   "outputs": [
    {
     "data": {
      "text/html": [
       "<div>\n",
       "<style scoped>\n",
       "    .dataframe tbody tr th:only-of-type {\n",
       "        vertical-align: middle;\n",
       "    }\n",
       "\n",
       "    .dataframe tbody tr th {\n",
       "        vertical-align: top;\n",
       "    }\n",
       "\n",
       "    .dataframe thead th {\n",
       "        text-align: right;\n",
       "    }\n",
       "</style>\n",
       "<table border=\"1\" class=\"dataframe\">\n",
       "  <thead>\n",
       "    <tr style=\"text-align: right;\">\n",
       "      <th></th>\n",
       "      <th>sepal_length</th>\n",
       "      <th>sepal_width</th>\n",
       "      <th>petal_length</th>\n",
       "      <th>petal_width</th>\n",
       "      <th>species</th>\n",
       "    </tr>\n",
       "  </thead>\n",
       "  <tbody>\n",
       "    <tr>\n",
       "      <th>50</th>\n",
       "      <td>7.0</td>\n",
       "      <td>3.2</td>\n",
       "      <td>4.7</td>\n",
       "      <td>1.4</td>\n",
       "      <td>versicolor</td>\n",
       "    </tr>\n",
       "    <tr>\n",
       "      <th>51</th>\n",
       "      <td>6.4</td>\n",
       "      <td>3.2</td>\n",
       "      <td>4.5</td>\n",
       "      <td>1.5</td>\n",
       "      <td>versicolor</td>\n",
       "    </tr>\n",
       "    <tr>\n",
       "      <th>52</th>\n",
       "      <td>6.9</td>\n",
       "      <td>3.1</td>\n",
       "      <td>4.9</td>\n",
       "      <td>1.5</td>\n",
       "      <td>versicolor</td>\n",
       "    </tr>\n",
       "    <tr>\n",
       "      <th>53</th>\n",
       "      <td>5.5</td>\n",
       "      <td>2.3</td>\n",
       "      <td>4.0</td>\n",
       "      <td>1.3</td>\n",
       "      <td>versicolor</td>\n",
       "    </tr>\n",
       "    <tr>\n",
       "      <th>54</th>\n",
       "      <td>6.5</td>\n",
       "      <td>2.8</td>\n",
       "      <td>4.6</td>\n",
       "      <td>1.5</td>\n",
       "      <td>versicolor</td>\n",
       "    </tr>\n",
       "    <tr>\n",
       "      <th>55</th>\n",
       "      <td>5.7</td>\n",
       "      <td>2.8</td>\n",
       "      <td>4.5</td>\n",
       "      <td>1.3</td>\n",
       "      <td>versicolor</td>\n",
       "    </tr>\n",
       "    <tr>\n",
       "      <th>56</th>\n",
       "      <td>6.3</td>\n",
       "      <td>3.3</td>\n",
       "      <td>4.7</td>\n",
       "      <td>1.6</td>\n",
       "      <td>versicolor</td>\n",
       "    </tr>\n",
       "    <tr>\n",
       "      <th>57</th>\n",
       "      <td>4.9</td>\n",
       "      <td>2.4</td>\n",
       "      <td>3.3</td>\n",
       "      <td>1.0</td>\n",
       "      <td>versicolor</td>\n",
       "    </tr>\n",
       "    <tr>\n",
       "      <th>58</th>\n",
       "      <td>6.6</td>\n",
       "      <td>2.9</td>\n",
       "      <td>4.6</td>\n",
       "      <td>1.3</td>\n",
       "      <td>versicolor</td>\n",
       "    </tr>\n",
       "    <tr>\n",
       "      <th>59</th>\n",
       "      <td>5.2</td>\n",
       "      <td>2.7</td>\n",
       "      <td>3.9</td>\n",
       "      <td>1.4</td>\n",
       "      <td>versicolor</td>\n",
       "    </tr>\n",
       "  </tbody>\n",
       "</table>\n",
       "</div>"
      ],
      "text/plain": [
       "    sepal_length  sepal_width  petal_length  petal_width     species\n",
       "50           7.0          3.2           4.7          1.4  versicolor\n",
       "51           6.4          3.2           4.5          1.5  versicolor\n",
       "52           6.9          3.1           4.9          1.5  versicolor\n",
       "53           5.5          2.3           4.0          1.3  versicolor\n",
       "54           6.5          2.8           4.6          1.5  versicolor\n",
       "55           5.7          2.8           4.5          1.3  versicolor\n",
       "56           6.3          3.3           4.7          1.6  versicolor\n",
       "57           4.9          2.4           3.3          1.0  versicolor\n",
       "58           6.6          2.9           4.6          1.3  versicolor\n",
       "59           5.2          2.7           3.9          1.4  versicolor"
      ]
     },
     "execution_count": 1,
     "metadata": {},
     "output_type": "execute_result"
    }
   ],
   "source": [
    "import pandas as pd\n",
    "import numpy as np\n",
    "import seaborn as sns\n",
    "df_iris = sns.load_dataset(\"iris\").query('species != \"setosa\"')\n",
    "df_iris.head(10)                    "
   ]
  },
  {
   "cell_type": "code",
   "execution_count": 2,
   "metadata": {
    "slideshow": {
     "slide_type": "subslide"
    }
   },
   "outputs": [
    {
     "data": {
      "text/html": [
       "<div>\n",
       "<style scoped>\n",
       "    .dataframe tbody tr th:only-of-type {\n",
       "        vertical-align: middle;\n",
       "    }\n",
       "\n",
       "    .dataframe tbody tr th {\n",
       "        vertical-align: top;\n",
       "    }\n",
       "\n",
       "    .dataframe thead th {\n",
       "        text-align: right;\n",
       "    }\n",
       "</style>\n",
       "<table border=\"1\" class=\"dataframe\">\n",
       "  <thead>\n",
       "    <tr style=\"text-align: right;\">\n",
       "      <th></th>\n",
       "      <th>sepal_length</th>\n",
       "      <th>sepal_width</th>\n",
       "      <th>petal_length</th>\n",
       "      <th>petal_width</th>\n",
       "      <th>species</th>\n",
       "    </tr>\n",
       "  </thead>\n",
       "  <tbody>\n",
       "    <tr>\n",
       "      <th>50</th>\n",
       "      <td>7.0</td>\n",
       "      <td>3.2</td>\n",
       "      <td>4.7</td>\n",
       "      <td>1.4</td>\n",
       "      <td>versicolor</td>\n",
       "    </tr>\n",
       "    <tr>\n",
       "      <th>51</th>\n",
       "      <td>6.4</td>\n",
       "      <td>3.2</td>\n",
       "      <td>4.5</td>\n",
       "      <td>1.5</td>\n",
       "      <td>versicolor</td>\n",
       "    </tr>\n",
       "    <tr>\n",
       "      <th>52</th>\n",
       "      <td>6.9</td>\n",
       "      <td>3.1</td>\n",
       "      <td>4.9</td>\n",
       "      <td>1.5</td>\n",
       "      <td>versicolor</td>\n",
       "    </tr>\n",
       "    <tr>\n",
       "      <th>53</th>\n",
       "      <td>5.5</td>\n",
       "      <td>2.3</td>\n",
       "      <td>4.0</td>\n",
       "      <td>1.3</td>\n",
       "      <td>versicolor</td>\n",
       "    </tr>\n",
       "    <tr>\n",
       "      <th>54</th>\n",
       "      <td>6.5</td>\n",
       "      <td>2.8</td>\n",
       "      <td>4.6</td>\n",
       "      <td>1.5</td>\n",
       "      <td>versicolor</td>\n",
       "    </tr>\n",
       "    <tr>\n",
       "      <th>...</th>\n",
       "      <td>...</td>\n",
       "      <td>...</td>\n",
       "      <td>...</td>\n",
       "      <td>...</td>\n",
       "      <td>...</td>\n",
       "    </tr>\n",
       "    <tr>\n",
       "      <th>145</th>\n",
       "      <td>6.7</td>\n",
       "      <td>3.0</td>\n",
       "      <td>5.2</td>\n",
       "      <td>2.3</td>\n",
       "      <td>virginica</td>\n",
       "    </tr>\n",
       "    <tr>\n",
       "      <th>146</th>\n",
       "      <td>6.3</td>\n",
       "      <td>2.5</td>\n",
       "      <td>5.0</td>\n",
       "      <td>1.9</td>\n",
       "      <td>virginica</td>\n",
       "    </tr>\n",
       "    <tr>\n",
       "      <th>147</th>\n",
       "      <td>6.5</td>\n",
       "      <td>3.0</td>\n",
       "      <td>5.2</td>\n",
       "      <td>2.0</td>\n",
       "      <td>virginica</td>\n",
       "    </tr>\n",
       "    <tr>\n",
       "      <th>148</th>\n",
       "      <td>6.2</td>\n",
       "      <td>3.4</td>\n",
       "      <td>5.4</td>\n",
       "      <td>2.3</td>\n",
       "      <td>virginica</td>\n",
       "    </tr>\n",
       "    <tr>\n",
       "      <th>149</th>\n",
       "      <td>5.9</td>\n",
       "      <td>3.0</td>\n",
       "      <td>5.1</td>\n",
       "      <td>1.8</td>\n",
       "      <td>virginica</td>\n",
       "    </tr>\n",
       "  </tbody>\n",
       "</table>\n",
       "<p>100 rows × 5 columns</p>\n",
       "</div>"
      ],
      "text/plain": [
       "     sepal_length  sepal_width  petal_length  petal_width     species\n",
       "50            7.0          3.2           4.7          1.4  versicolor\n",
       "51            6.4          3.2           4.5          1.5  versicolor\n",
       "52            6.9          3.1           4.9          1.5  versicolor\n",
       "53            5.5          2.3           4.0          1.3  versicolor\n",
       "54            6.5          2.8           4.6          1.5  versicolor\n",
       "..            ...          ...           ...          ...         ...\n",
       "145           6.7          3.0           5.2          2.3   virginica\n",
       "146           6.3          2.5           5.0          1.9   virginica\n",
       "147           6.5          3.0           5.2          2.0   virginica\n",
       "148           6.2          3.4           5.4          2.3   virginica\n",
       "149           5.9          3.0           5.1          1.8   virginica\n",
       "\n",
       "[100 rows x 5 columns]"
      ]
     },
     "execution_count": 2,
     "metadata": {},
     "output_type": "execute_result"
    }
   ],
   "source": [
    "df_iris"
   ]
  },
  {
   "cell_type": "code",
   "execution_count": 3,
   "metadata": {
    "slideshow": {
     "slide_type": "subslide"
    }
   },
   "outputs": [],
   "source": [
    "target = 'species'\n",
    "X = df_iris.drop([target], axis=1)\n",
    "y = df_iris[target]"
   ]
  },
  {
   "cell_type": "code",
   "execution_count": 4,
   "metadata": {},
   "outputs": [
    {
     "data": {
      "text/plain": [
       "DecisionTreeClassifier(criterion='entropy')"
      ]
     },
     "execution_count": 4,
     "metadata": {},
     "output_type": "execute_result"
    }
   ],
   "source": [
    "from sklearn.tree import DecisionTreeClassifier\n",
    "model = DecisionTreeClassifier(criterion=\"entropy\")\n",
    "model.fit(X,y)"
   ]
  },
  {
   "cell_type": "code",
   "execution_count": 5,
   "metadata": {},
   "outputs": [],
   "source": [
    "y_pred = model.predict(X)"
   ]
  },
  {
   "cell_type": "code",
   "execution_count": 6,
   "metadata": {
    "slideshow": {
     "slide_type": "subslide"
    }
   },
   "outputs": [
    {
     "data": {
      "text/html": [
       "<div>\n",
       "<style scoped>\n",
       "    .dataframe tbody tr th:only-of-type {\n",
       "        vertical-align: middle;\n",
       "    }\n",
       "\n",
       "    .dataframe tbody tr th {\n",
       "        vertical-align: top;\n",
       "    }\n",
       "\n",
       "    .dataframe thead th {\n",
       "        text-align: right;\n",
       "    }\n",
       "</style>\n",
       "<table border=\"1\" class=\"dataframe\">\n",
       "  <thead>\n",
       "    <tr style=\"text-align: right;\">\n",
       "      <th></th>\n",
       "      <th>observed</th>\n",
       "      <th>predicted</th>\n",
       "    </tr>\n",
       "  </thead>\n",
       "  <tbody>\n",
       "    <tr>\n",
       "      <th>50</th>\n",
       "      <td>versicolor</td>\n",
       "      <td>versicolor</td>\n",
       "    </tr>\n",
       "    <tr>\n",
       "      <th>51</th>\n",
       "      <td>versicolor</td>\n",
       "      <td>versicolor</td>\n",
       "    </tr>\n",
       "    <tr>\n",
       "      <th>52</th>\n",
       "      <td>versicolor</td>\n",
       "      <td>versicolor</td>\n",
       "    </tr>\n",
       "    <tr>\n",
       "      <th>53</th>\n",
       "      <td>versicolor</td>\n",
       "      <td>versicolor</td>\n",
       "    </tr>\n",
       "    <tr>\n",
       "      <th>54</th>\n",
       "      <td>versicolor</td>\n",
       "      <td>versicolor</td>\n",
       "    </tr>\n",
       "    <tr>\n",
       "      <th>...</th>\n",
       "      <td>...</td>\n",
       "      <td>...</td>\n",
       "    </tr>\n",
       "    <tr>\n",
       "      <th>145</th>\n",
       "      <td>virginica</td>\n",
       "      <td>virginica</td>\n",
       "    </tr>\n",
       "    <tr>\n",
       "      <th>146</th>\n",
       "      <td>virginica</td>\n",
       "      <td>virginica</td>\n",
       "    </tr>\n",
       "    <tr>\n",
       "      <th>147</th>\n",
       "      <td>virginica</td>\n",
       "      <td>virginica</td>\n",
       "    </tr>\n",
       "    <tr>\n",
       "      <th>148</th>\n",
       "      <td>virginica</td>\n",
       "      <td>virginica</td>\n",
       "    </tr>\n",
       "    <tr>\n",
       "      <th>149</th>\n",
       "      <td>virginica</td>\n",
       "      <td>virginica</td>\n",
       "    </tr>\n",
       "  </tbody>\n",
       "</table>\n",
       "<p>100 rows × 2 columns</p>\n",
       "</div>"
      ],
      "text/plain": [
       "       observed   predicted\n",
       "50   versicolor  versicolor\n",
       "51   versicolor  versicolor\n",
       "52   versicolor  versicolor\n",
       "53   versicolor  versicolor\n",
       "54   versicolor  versicolor\n",
       "..          ...         ...\n",
       "145   virginica   virginica\n",
       "146   virginica   virginica\n",
       "147   virginica   virginica\n",
       "148   virginica   virginica\n",
       "149   virginica   virginica\n",
       "\n",
       "[100 rows x 2 columns]"
      ]
     },
     "execution_count": 6,
     "metadata": {},
     "output_type": "execute_result"
    }
   ],
   "source": [
    "pd.DataFrame({\n",
    "    'observed' : y,\n",
    "    'predicted' : y_pred\n",
    "})"
   ]
  },
  {
   "cell_type": "code",
   "execution_count": 7,
   "metadata": {
    "slideshow": {
     "slide_type": "subslide"
    }
   },
   "outputs": [
    {
     "data": {
      "text/html": [
       "<div>\n",
       "<style scoped>\n",
       "    .dataframe tbody tr th:only-of-type {\n",
       "        vertical-align: middle;\n",
       "    }\n",
       "\n",
       "    .dataframe tbody tr th {\n",
       "        vertical-align: top;\n",
       "    }\n",
       "\n",
       "    .dataframe thead th {\n",
       "        text-align: right;\n",
       "    }\n",
       "</style>\n",
       "<table border=\"1\" class=\"dataframe\">\n",
       "  <thead>\n",
       "    <tr style=\"text-align: right;\">\n",
       "      <th></th>\n",
       "      <th>predicted_versicolor</th>\n",
       "      <th>predicted_virginica</th>\n",
       "    </tr>\n",
       "  </thead>\n",
       "  <tbody>\n",
       "    <tr>\n",
       "      <th>observed_versicolor</th>\n",
       "      <td>50</td>\n",
       "      <td>0</td>\n",
       "    </tr>\n",
       "    <tr>\n",
       "      <th>observed_virginica</th>\n",
       "      <td>0</td>\n",
       "      <td>50</td>\n",
       "    </tr>\n",
       "  </tbody>\n",
       "</table>\n",
       "</div>"
      ],
      "text/plain": [
       "                     predicted_versicolor  predicted_virginica\n",
       "observed_versicolor                    50                    0\n",
       "observed_virginica                      0                   50"
      ]
     },
     "execution_count": 7,
     "metadata": {},
     "output_type": "execute_result"
    }
   ],
   "source": [
    "from sklearn.metrics import confusion_matrix\n",
    "pd.DataFrame( \n",
    "    confusion_matrix(y, y_pred),\n",
    "    index = ['observed_versicolor','observed_virginica'],\n",
    "    columns = ['predicted_versicolor','predicted_virginica']\n",
    "    )"
   ]
  },
  {
   "cell_type": "code",
   "execution_count": 8,
   "metadata": {},
   "outputs": [
    {
     "data": {
      "text/plain": [
       "1.0"
      ]
     },
     "execution_count": 8,
     "metadata": {},
     "output_type": "execute_result"
    }
   ],
   "source": [
    "from sklearn.metrics import accuracy_score\n",
    "accuracy_score(y, y_pred)"
   ]
  },
  {
   "cell_type": "markdown",
   "metadata": {
    "slideshow": {
     "slide_type": "subslide"
    }
   },
   "source": [
    "Avaliar usando **Holdout**"
   ]
  },
  {
   "cell_type": "code",
   "execution_count": 9,
   "metadata": {},
   "outputs": [],
   "source": [
    "from sklearn.model_selection import train_test_split\n",
    "X_train, X_test, y_train, y_test = train_test_split(X, y, test_size=0.33, random_state=1)"
   ]
  },
  {
   "cell_type": "code",
   "execution_count": 10,
   "metadata": {
    "scrolled": true
   },
   "outputs": [
    {
     "data": {
      "text/plain": [
       "DecisionTreeClassifier(criterion='entropy', random_state=1)"
      ]
     },
     "execution_count": 10,
     "metadata": {},
     "output_type": "execute_result"
    }
   ],
   "source": [
    "model = DecisionTreeClassifier(criterion=\"entropy\", random_state=1)\n",
    "model.fit(X_train,y_train)"
   ]
  },
  {
   "cell_type": "code",
   "execution_count": 11,
   "metadata": {
    "slideshow": {
     "slide_type": "subslide"
    }
   },
   "outputs": [],
   "source": [
    "y_test_pred = model.predict(X_test)"
   ]
  },
  {
   "cell_type": "code",
   "execution_count": 12,
   "metadata": {},
   "outputs": [
    {
     "data": {
      "text/html": [
       "<div>\n",
       "<style scoped>\n",
       "    .dataframe tbody tr th:only-of-type {\n",
       "        vertical-align: middle;\n",
       "    }\n",
       "\n",
       "    .dataframe tbody tr th {\n",
       "        vertical-align: top;\n",
       "    }\n",
       "\n",
       "    .dataframe thead th {\n",
       "        text-align: right;\n",
       "    }\n",
       "</style>\n",
       "<table border=\"1\" class=\"dataframe\">\n",
       "  <thead>\n",
       "    <tr style=\"text-align: right;\">\n",
       "      <th></th>\n",
       "      <th>predicted_versicolor</th>\n",
       "      <th>predicted_virginica</th>\n",
       "    </tr>\n",
       "  </thead>\n",
       "  <tbody>\n",
       "    <tr>\n",
       "      <th>observed_versicolor</th>\n",
       "      <td>12</td>\n",
       "      <td>2</td>\n",
       "    </tr>\n",
       "    <tr>\n",
       "      <th>observed_virginica</th>\n",
       "      <td>1</td>\n",
       "      <td>18</td>\n",
       "    </tr>\n",
       "  </tbody>\n",
       "</table>\n",
       "</div>"
      ],
      "text/plain": [
       "                     predicted_versicolor  predicted_virginica\n",
       "observed_versicolor                    12                    2\n",
       "observed_virginica                      1                   18"
      ]
     },
     "execution_count": 12,
     "metadata": {},
     "output_type": "execute_result"
    }
   ],
   "source": [
    "pd.DataFrame( \n",
    "    confusion_matrix(y_test, y_test_pred),\n",
    "    index = ['observed_versicolor','observed_virginica'],\n",
    "    columns = ['predicted_versicolor','predicted_virginica']\n",
    "    )"
   ]
  },
  {
   "cell_type": "code",
   "execution_count": 13,
   "metadata": {},
   "outputs": [
    {
     "data": {
      "text/plain": [
       "0.9090909090909091"
      ]
     },
     "execution_count": 13,
     "metadata": {},
     "output_type": "execute_result"
    }
   ],
   "source": [
    "accuracy_score(y_test, y_test_pred)"
   ]
  },
  {
   "cell_type": "markdown",
   "metadata": {
    "slideshow": {
     "slide_type": "subslide"
    }
   },
   "source": [
    "Avaliar usando **10-folds cross-validation**:"
   ]
  },
  {
   "cell_type": "code",
   "execution_count": 14,
   "metadata": {},
   "outputs": [
    {
     "data": {
      "text/html": [
       "<div>\n",
       "<style scoped>\n",
       "    .dataframe tbody tr th:only-of-type {\n",
       "        vertical-align: middle;\n",
       "    }\n",
       "\n",
       "    .dataframe tbody tr th {\n",
       "        vertical-align: top;\n",
       "    }\n",
       "\n",
       "    .dataframe thead th {\n",
       "        text-align: right;\n",
       "    }\n",
       "</style>\n",
       "<table border=\"1\" class=\"dataframe\">\n",
       "  <thead>\n",
       "    <tr style=\"text-align: right;\">\n",
       "      <th></th>\n",
       "      <th>0</th>\n",
       "      <th>1</th>\n",
       "      <th>2</th>\n",
       "      <th>3</th>\n",
       "      <th>4</th>\n",
       "      <th>5</th>\n",
       "      <th>6</th>\n",
       "      <th>7</th>\n",
       "      <th>8</th>\n",
       "      <th>9</th>\n",
       "    </tr>\n",
       "  </thead>\n",
       "  <tbody>\n",
       "    <tr>\n",
       "      <th>cv</th>\n",
       "      <td>1.0</td>\n",
       "      <td>0.9</td>\n",
       "      <td>1.0</td>\n",
       "      <td>0.9</td>\n",
       "      <td>0.9</td>\n",
       "      <td>0.8</td>\n",
       "      <td>0.9</td>\n",
       "      <td>0.9</td>\n",
       "      <td>1.0</td>\n",
       "      <td>1.0</td>\n",
       "    </tr>\n",
       "  </tbody>\n",
       "</table>\n",
       "</div>"
      ],
      "text/plain": [
       "      0    1    2    3    4    5    6    7    8    9\n",
       "cv  1.0  0.9  1.0  0.9  0.9  0.8  0.9  0.9  1.0  1.0"
      ]
     },
     "execution_count": 14,
     "metadata": {},
     "output_type": "execute_result"
    }
   ],
   "source": [
    "from sklearn.model_selection import cross_val_score\n",
    "scores = cross_val_score(model, X, y, cv=10)\n",
    "df_scores = pd.DataFrame({'cv': scores})\n",
    "df_scores.T"
   ]
  },
  {
   "cell_type": "code",
   "execution_count": 15,
   "metadata": {
    "scrolled": true
   },
   "outputs": [
    {
     "data": {
      "text/html": [
       "<div>\n",
       "<style scoped>\n",
       "    .dataframe tbody tr th:only-of-type {\n",
       "        vertical-align: middle;\n",
       "    }\n",
       "\n",
       "    .dataframe tbody tr th {\n",
       "        vertical-align: top;\n",
       "    }\n",
       "\n",
       "    .dataframe thead th {\n",
       "        text-align: right;\n",
       "    }\n",
       "</style>\n",
       "<table border=\"1\" class=\"dataframe\">\n",
       "  <thead>\n",
       "    <tr style=\"text-align: right;\">\n",
       "      <th></th>\n",
       "      <th>cv</th>\n",
       "    </tr>\n",
       "  </thead>\n",
       "  <tbody>\n",
       "    <tr>\n",
       "      <th>mean</th>\n",
       "      <td>0.930000</td>\n",
       "    </tr>\n",
       "    <tr>\n",
       "      <th>std</th>\n",
       "      <td>0.067495</td>\n",
       "    </tr>\n",
       "  </tbody>\n",
       "</table>\n",
       "</div>"
      ],
      "text/plain": [
       "            cv\n",
       "mean  0.930000\n",
       "std   0.067495"
      ]
     },
     "execution_count": 15,
     "metadata": {},
     "output_type": "execute_result"
    }
   ],
   "source": [
    "df_scores.describe().loc[['mean','std'],:]"
   ]
  },
  {
   "cell_type": "code",
   "execution_count": 16,
   "metadata": {
    "slideshow": {
     "slide_type": "subslide"
    }
   },
   "outputs": [],
   "source": [
    "from sklearn.model_selection import cross_val_predict\n",
    "y_pred = cross_val_predict(model, X, y, cv=10)"
   ]
  },
  {
   "cell_type": "code",
   "execution_count": 17,
   "metadata": {
    "scrolled": true
   },
   "outputs": [
    {
     "data": {
      "text/html": [
       "<div>\n",
       "<style scoped>\n",
       "    .dataframe tbody tr th:only-of-type {\n",
       "        vertical-align: middle;\n",
       "    }\n",
       "\n",
       "    .dataframe tbody tr th {\n",
       "        vertical-align: top;\n",
       "    }\n",
       "\n",
       "    .dataframe thead th {\n",
       "        text-align: right;\n",
       "    }\n",
       "</style>\n",
       "<table border=\"1\" class=\"dataframe\">\n",
       "  <thead>\n",
       "    <tr style=\"text-align: right;\">\n",
       "      <th></th>\n",
       "      <th>predicted_versicolor</th>\n",
       "      <th>predicted_virginica</th>\n",
       "    </tr>\n",
       "  </thead>\n",
       "  <tbody>\n",
       "    <tr>\n",
       "      <th>observed_versicolor</th>\n",
       "      <td>47</td>\n",
       "      <td>3</td>\n",
       "    </tr>\n",
       "    <tr>\n",
       "      <th>observed_virginica</th>\n",
       "      <td>4</td>\n",
       "      <td>46</td>\n",
       "    </tr>\n",
       "  </tbody>\n",
       "</table>\n",
       "</div>"
      ],
      "text/plain": [
       "                     predicted_versicolor  predicted_virginica\n",
       "observed_versicolor                    47                    3\n",
       "observed_virginica                      4                   46"
      ]
     },
     "execution_count": 17,
     "metadata": {},
     "output_type": "execute_result"
    }
   ],
   "source": [
    "pd.DataFrame( \n",
    "    confusion_matrix(y, y_pred),\n",
    "    index = ['observed_versicolor','observed_virginica'],\n",
    "    columns = ['predicted_versicolor','predicted_virginica']\n",
    "    )"
   ]
  },
  {
   "cell_type": "code",
   "execution_count": 18,
   "metadata": {},
   "outputs": [
    {
     "data": {
      "text/plain": [
       "0.93"
      ]
     },
     "execution_count": 18,
     "metadata": {},
     "output_type": "execute_result"
    }
   ],
   "source": [
    "accuracy_score(y, y_pred)"
   ]
  },
  {
   "cell_type": "markdown",
   "metadata": {
    "slideshow": {
     "slide_type": "slide"
    }
   },
   "source": [
    "### Atividade de Avaliação de Modelos\n",
    "\n",
    "Considere o conjunto de dados `iris` contendo os 150 exemplos de 3 classes. \n",
    "\n",
    "- Divida o conjunto de dados em dois conjuntos: 70% para treino e 30% para teste. Pesquise na documentação da função `train_test_split` para que a divisão holdout seja estratificada. Utilize `random_state=42`.\n",
    "\n",
    "- Construa um modelo $m_1$ para o conjunto de dados de treinamento.\n",
    "\n",
    "- Avalie o modelo $m_1$ utilizando o conjunto de treinamento, calculando:\n",
    "    1. A Tabela de Confusão (para as três classes)\n",
    "    2. As medidas acurácia e erro\n",
    "    3. As medidas de Precision, Recall e F-score. Como são três clases, tem que calcular para cada uma delas. E para isso ao calcular as medidas para cada classe tem que considerar a respectiva classe como a classe positiva e o resto a negativa."
   ]
  },
  {
   "cell_type": "markdown",
   "metadata": {
    "slideshow": {
     "slide_type": "subslide"
    }
   },
   "source": [
    "- Avalie o modelo $m_1$ utilizando o conjunto de teste, utilizando as mesmas medidas.\n",
    "\n",
    "- Avalie o modelo $m_1$ utilizando 10-folds cross-validation sobre o conjunto de treinamento. Utilize a função `cross_val_predict` para obter as predições resultantes da validação cruzada e assim construir a tabela de confusão.\n",
    "\n",
    "- Se você tivesse que contar para um cliente a qualidade do modelo preditivo, qual dessas avaliações você iria mencionar?"
   ]
  },
  {
   "cell_type": "markdown",
   "metadata": {
    "slideshow": {
     "slide_type": "slide"
    }
   },
   "source": [
    "## Parameters Tunning (Ajuste de parâmetros)\n",
    "\n",
    "- (1) Algoritmos de aprendizado de máquina possuem parâmetros que, em geral, dependem de cada dataset. Por exemplo, em árvores de decisão:\n",
    "    - É melhor usar Ganho de Informação ou Índice Gini?\n",
    "    - Qual a altura máxima da árvore?\n",
    "    - Qual é o número mínimo de exemplos nas folhas?\n",
    "    - A resposta é que depende de cada dataset\n",
    "    - Para construir bons modelos precisamos encontrar bons valores para esses e outros parâmetros\n",
    "- (2) Em outros modelos, como em redes neurais, um dos parâmetros é o número de vezes (ou o critério) que define quando o modelo vai parar de treinar, para ele não 'decorar' os exemplos de treinamento e perder generalização\n",
    "- Nos problemas (1) e (2) é comum a prática de ficar testando diferentes valores para esses parâmetros, avaliando os modelos usando *hold-out* ou *cross-validation* e usar a combinação de parâmetros que apresentou a melhor medida de qualidade (*accuracy* ou outra)\n",
    "- Ao ficar *testando diferentes valores* estamos querendo *aprender* os valores dos parâmetros dos modelos que aprendem a partir dos dados"
   ]
  },
  {
   "cell_type": "markdown",
   "metadata": {
    "slideshow": {
     "slide_type": "subslide"
    }
   },
   "source": [
    "## Treino, Validação e Teste\n",
    "- Consiste em dividir o conjunto de dados em treino, validação e teste.\n",
    "- Em (1) é comum aplicar o seguinte esquema:\n",
    "\n",
    "<img src=\"https://scikit-learn.org/stable/_images/grid_search_cross_validation.png\" width=\"500px\">\n",
    "\n",
    "<div style='font-size: 10pt'>Fonte: Cross-validation: evaluating estimator performance. Scikit-learn. Disponível em: https://scikit-learn.org/stable/modules/cross_validation.html</div>\n",
    "\n",
    "- Assim, usa-se cross-validation para encontrar a melhor combinação de parâmetros e o conjunto de teste é usado apenas para estimar o erro verdadeiro do modelo\n",
    "- Dessa forma, o conjunto de teste não participa de nenhum processo de aprendizado (nem do modelo, nem dos parâmetros)"
   ]
  },
  {
   "cell_type": "markdown",
   "metadata": {
    "slideshow": {
     "slide_type": "subslide"
    }
   },
   "source": [
    "### Treino, Validação e Teste\n",
    "- Em (2) é comum dividir o conjunto em:\n",
    "    - Treino A: (usado para construir o modelo, ajustar parâmetros e interromper o treinamento)\n",
    "        - Treino B: para construir cada modelo\n",
    "        - Validação: para avaliar o modelo construído e saber quando parar de treinar\n",
    "    - Teste:\n",
    "        - Para avaliar o 'best model' construíndo com treino A\n",
    "        \n",
    "<img src=\"https://miro.medium.com/max/1440/0*PBkSlhbqOfnP6CaS.png\" width=\"500px\">\n",
    "\n",
    "<div style='font-size: 10pt'>Fonte: Evaluating a Machine Learning Algorithm. Disponível em: https://towardsdatascience.com/evaluating-a-machine-learning-algorithm-81746c947ad3</div>"
   ]
  }
 ],
 "metadata": {
  "anaconda-cloud": {},
  "celltoolbar": "Slideshow",
  "kernelspec": {
   "display_name": "Python 3",
   "language": "python",
   "name": "python3"
  },
  "language_info": {
   "codemirror_mode": {
    "name": "ipython",
    "version": 3
   },
   "file_extension": ".py",
   "mimetype": "text/x-python",
   "name": "python",
   "nbconvert_exporter": "python",
   "pygments_lexer": "ipython3",
   "version": "3.7.3"
  }
 },
 "nbformat": 4,
 "nbformat_minor": 2
}
