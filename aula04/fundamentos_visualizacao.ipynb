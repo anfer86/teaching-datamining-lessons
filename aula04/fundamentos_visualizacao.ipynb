{
 "cells": [
  {
   "cell_type": "markdown",
   "metadata": {
    "slideshow": {
     "slide_type": "slide"
    }
   },
   "source": [
    "<link rel=\"stylesheet\" href=\"estilo.css\">\n",
    "\n",
    "<img src=\"img/logoifsc.png\">\n",
    "\n",
    "---\n",
    "\n",
    "Prof. Carlos Andrés Ferrero\n",
    "\n",
    "# Mineração de Dados\n",
    "\n",
    "## Fundamentos Estatísticos e Visualização de Dados\n",
    "    \n",
    "---"
   ]
  },
  {
   "cell_type": "markdown",
   "metadata": {
    "slideshow": {
     "slide_type": "slide"
    }
   },
   "source": [
    "# Conteúdo\n",
    "\n",
    "Pré-processamento de dados quantiativos e qualitativos\n",
    "\n",
    "- Fundamentos Estatísticos\n",
    "    - Análise univariada\n",
    "    - Análise bivariada\n",
    "    - Analise multivariada\n",
    "- Visualização de Dados    "
   ]
  },
  {
   "cell_type": "markdown",
   "metadata": {
    "slideshow": {
     "slide_type": "slide"
    }
   },
   "source": [
    "# Fundamentos Estatísticos\n",
    "\n",
    "- A Estatística é uma disciplina muito importante na área de mineração de dados.\n",
    "\n",
    "- A Estatística é utilizada em várias etapas do processo de KDD:\n",
    "    - Pré-processamento: ex. descrever e entender a distribuição de cada variável, criar novas variáveis, normalizar, discretizar, imputar valores desconhecidos.\n",
    "    - Mineração de Dados: ex. ajustar modelos preditivos aos dados, selecionar modelos.\n",
    "    - Pós-processamento: ex. avaliar a qualidade dos modelos preditivos, calcular sensibilidade, especificidade, precision, recall, correlação.\n",
    "    \n",
    "- Nesta aula vamos lembrar os conceitos de estatística e combinar com a visualização de dados, a qual nos ajuda a entender melhor o que significam essas medidas estatísticas calculadas."
   ]
  },
  {
   "cell_type": "markdown",
   "metadata": {
    "slideshow": {
     "slide_type": "subslide"
    }
   },
   "source": [
    "## População, amostra e variáveis\n",
    "\n",
    "- **População**: é a coleção completa dos elementos a serem estudados. Por exemplo, conjunto de dados sobre todas as cidades de Santa Catarina.\n",
    "- **Amostra**: é um subconjunto dos elementos extraído da população. Por exemplo, escolher uma amostra aleatória de cidades de Santa Catarina.\n",
    "- **Variável**: é cada *atributo* ou *característica* que descreve uma população e, consquentemente, está presente em uma amostra da população.\n",
    "- **Tipos de Variáveis** em Estatística:\n",
    "    - Qualitativa (não numérica):\n",
    "        - Nominal, com nomes, rótulos ou categorias\n",
    "        - Ordinal, com valores que podem ser ordenados\n",
    "    - Quantitativa (numérica): representam contagens e medições\n",
    "        - Contínua, com número infinito de possíveis valores\n",
    "        - Discreta, com número finito ou contável de valores"
   ]
  },
  {
   "cell_type": "markdown",
   "metadata": {
    "slideshow": {
     "slide_type": "subslide"
    }
   },
   "source": [
    "## Variável Aleatória\n",
    "\n",
    "- Uma variável aleatória $X$ é aquela que admite um único valor numérico para cada execução de experimento. E para cada valor possível dessa variável existe uma probabilidade associada.\n",
    "\n",
    "- Essa definição vale tanto variáveis aleatórias *discretas* e *contínuas*. Nas *discretas* o número de possíveis valores é finito ou contável e nas *contínuas* o número de possíveis valores é infinito."
   ]
  },
  {
   "cell_type": "markdown",
   "metadata": {
    "slideshow": {
     "slide_type": "subslide"
    }
   },
   "source": [
    "- Distribuições de probabilidade:\n",
    "\n",
    "A *probabilidade* diz respeito à frequência *relativa* da ocorrência de um dado ou evento. Em outras palavras é o número de vezes que esse dado ou evento ocorreu em relação ao número total de eventos. Por exemplo, ao estudar as condições climáticas diárias na cidade de Lages nos últimos 10 (dez) dias, verificamos que em 3 (três) dias choveu. Assim, a *probabilidade* do evento `chuva` nesse conjunto de dados é de $\\frac{3}{10}=0.3=30\\%$.\n",
    "\n",
    "A *distribuição de probabilidade* especifica uma probabilidade para cada possível valor (dado ou evento) da variável. Por exemplo, se nesses mesmos 10 dias, em 3 houve chuva, em 5 houve sol e em 2 houve nuvens, temos a seguinte distribuição de probabilidades:\n",
    "    \n",
    "$$\n",
    "\\begin{eqnarray}\n",
    "P(X=chuva) = \\frac{3}{10}=0.3=30\\% \\\\\n",
    "P(X=sol) = \\frac{5}{10}=0.5=50\\% \\\\\n",
    "P(X=nuvens) = \\frac{2}{10}=0.2=20\\% \\\\\n",
    "\\end{eqnarray}\n",
    "$$"
   ]
  },
  {
   "cell_type": "markdown",
   "metadata": {
    "slideshow": {
     "slide_type": "subslide"
    }
   },
   "source": [
    "Nessa distribuição a soma das probabilidades do eventos acontecerem tem que resultar em $1 = 100\\%$, como segue:    \n",
    "$$    \n",
    "P(X=chuva) + P(X=sol) + P(X=nuvens) = \\frac{3}{10} + \\frac{5}{10} + \\frac{2}{10} = 1 \\\\    \n",
    "$$    \n",
    "\n",
    "Assim como a probabilidade de qualquer um dos eventos acontecerem, que também será $1 = 100\\%$, como segue:\n",
    "$$\n",
    "P(X=chuva \\cup X=sol \\cup X=nuvens) = \\frac{10}{10} = 1 \\\\\n",
    "$$    "
   ]
  },
  {
   "cell_type": "markdown",
   "metadata": {
    "slideshow": {
     "slide_type": "subslide"
    }
   },
   "source": [
    "As distribuições de probabilidade mais comuns encontradas em conjuntos de dados são:\n",
    "- Distribuição uniforme\n",
    "- Distribuição normal\n",
    "- Distribuição Poisson"
   ]
  },
  {
   "cell_type": "markdown",
   "metadata": {
    "slideshow": {
     "slide_type": "subslide"
    }
   },
   "source": [
    "### Distribuição uniforme\n",
    "\n",
    "A distribuição de uma variável é uniforme se a probabilidade de qualquer valor ocorrer é a mesma. Para uma variável $X$ com $k$ possíveis valores $x_1, x_2, ..., x_k$ a probabilidade de um valor $x_i$ ocorrer é $P(X=x_i)=\\frac{1}{k}$.\n",
    "\n",
    "Neste exemplo vamos considerar $n$ valores inteiros de $0$ a $k-1$ distribuídos de acordo com uma distribuição uniforme."
   ]
  },
  {
   "cell_type": "code",
   "execution_count": 2,
   "metadata": {},
   "outputs": [
    {
     "data": {
      "text/plain": [
       "array([5, 8, 9, ..., 9, 7, 3])"
      ]
     },
     "execution_count": 2,
     "metadata": {},
     "output_type": "execute_result"
    }
   ],
   "source": [
    "import numpy as np\n",
    "k = 10\n",
    "n = 10**6\n",
    "np.random.seed(1)\n",
    "X = np.random.randint(0,k,n)\n",
    "X"
   ]
  },
  {
   "cell_type": "code",
   "execution_count": 3,
   "metadata": {},
   "outputs": [
    {
     "name": "stdout",
     "output_type": "stream",
     "text": [
      "Possíveis valores de X (0, 1, 2, 3, 4, 5, 6, 7, 8, 9)\n",
      "Frequência:  (100094, 99413, 100108, 100175, 100294, 100042, 99842, 100085, 99611, 100336)\n"
     ]
    }
   ],
   "source": [
    "from collections import Counter\n",
    "labels, frequency = zip(*sorted(Counter(X).items()))\n",
    "print('Possíveis valores de X', labels)\n",
    "print('Frequência: ', frequency)"
   ]
  },
  {
   "cell_type": "markdown",
   "metadata": {
    "slideshow": {
     "slide_type": "subslide"
    }
   },
   "source": [
    "**Visualização do Gráfico da Distribuição de Frequência da Variável**"
   ]
  },
  {
   "cell_type": "code",
   "execution_count": 4,
   "metadata": {},
   "outputs": [
    {
     "data": {
      "text/plain": [
       "<BarContainer object of 10 artists>"
      ]
     },
     "execution_count": 4,
     "metadata": {},
     "output_type": "execute_result"
    }
   ],
   "source": [
    "import matplotlib.pyplot as plt\n",
    "plt.xlabel('Possíveis valores de X')\n",
    "plt.ylabel('Frequência')\n",
    "plt.xticks(labels)\n",
    "plt.bar(labels, frequency)"
   ]
  },
  {
   "cell_type": "markdown",
   "metadata": {
    "slideshow": {
     "slide_type": "subslide"
    }
   },
   "source": [
    "**Visualização do Gráfico da Distribuição de Frequência Relativa da Variável**"
   ]
  },
  {
   "cell_type": "code",
   "execution_count": 5,
   "metadata": {},
   "outputs": [
    {
     "data": {
      "text/plain": [
       "<BarContainer object of 10 artists>"
      ]
     },
     "execution_count": 5,
     "metadata": {},
     "output_type": "execute_result"
    },
    {
     "data": {
      "image/png": "[encoded data removed]",
      "text/plain": [
       "<Figure size 432x288 with 1 Axes>"
      ]
     },
     "metadata": {
      "needs_background": "light"
     },
     "output_type": "display_data"
    }
   ],
   "source": [
    "rel_frequency = np.array(frequency) / sum(frequency)\n",
    "plt.xlabel('Possíveis valores de X')\n",
    "plt.ylabel('Frequência Relativa')\n",
    "plt.xticks(labels)\n",
    "plt.bar(labels, rel_frequency)"
   ]
  },
  {
   "cell_type": "markdown",
   "metadata": {
    "slideshow": {
     "slide_type": "subslide"
    }
   },
   "source": [
    "**Visualização do Gráfico da Distribuição de Frequência Relativa Acumulada da Variável**"
   ]
  },
  {
   "cell_type": "code",
   "execution_count": 6,
   "metadata": {},
   "outputs": [
    {
     "data": {
      "text/plain": [
       "[<matplotlib.lines.Line2D at 0x21d58b2a208>]"
      ]
     },
     "execution_count": 6,
     "metadata": {},
     "output_type": "execute_result"
    },
    {
     "data": {
      "image/png": "[encoded data removed]",
      "text/plain": [
       "<Figure size 432x288 with 1 Axes>"
      ]
     },
     "metadata": {
      "needs_background": "light"
     },
     "output_type": "display_data"
    }
   ],
   "source": [
    "rel_frequency = np.array(frequency) / sum(frequency)\n",
    "cumsum_rel_frequency = np.cumsum(rel_frequency)\n",
    "plt.xlabel('Possíveis valores de X')\n",
    "plt.ylabel('Frequência Relativa Acumulada')\n",
    "plt.xticks(labels)\n",
    "plt.plot(labels, cumsum_rel_frequency, \"o--\")"
   ]
  },
  {
   "cell_type": "markdown",
   "metadata": {
    "slideshow": {
     "slide_type": "subslide"
    }
   },
   "source": [
    "### Distribuição normal\n",
    "\n",
    "Esta distribuição é uma das mais comuns na natureza e também em conjuntos de dados na prática. Quando uma variável está distribuída normalmente é possível estimar a probabilidade de um valor $x$ ocorrer utilizando a média e o desvio padrão.\n",
    "\n",
    "A função de distribuição normal de uma variável aleatória é dada por:\n",
    "\n",
    "$$\n",
    "f(x,\\mu,\\sigma) = \\frac{e^{-\\frac{(x-\\mu)^2}{2\\sigma^2}}}{\\sigma\\sqrt{2\\pi}}\n",
    "$$\n",
    "\n",
    "Um ponto relevante dessa função é que a probabilidade do valor $x$ depende do valores de média $\\mu$ e desvio-padrão $\\sigma$ da variável $X$."
   ]
  },
  {
   "cell_type": "markdown",
   "metadata": {
    "slideshow": {
     "slide_type": "subslide"
    }
   },
   "source": [
    "**Gráfico da Distribuição Normal**:\n",
    "\n",
    "<img src=\"img/distribuicao_normal.jpg\" width=\"40%\">\n",
    "\n",
    "Observamos que aproximadamente:\n",
    "- $68.27%$ dos valores estão a uma distância de 1 desvio-padrão em relação à média.\n",
    "- $98.45%$ dos valores estão a uma distância de 2 desvio-padrão em relação à média.\n",
    "- $99.73%$ dos valores estão a uma distância de 3 desvio-padrão em relação à média."
   ]
  },
  {
   "cell_type": "markdown",
   "metadata": {
    "slideshow": {
     "slide_type": "subslide"
    }
   },
   "source": [
    "A seguir definimos uma amostra de uma variável contínua com média $\\mu=5$ e desvio padrão $\\sigma=2$."
   ]
  },
  {
   "cell_type": "code",
   "execution_count": 7,
   "metadata": {},
   "outputs": [
    {
     "data": {
      "text/plain": [
       "array([8.24869073, 3.77648717, 3.9436565 , ..., 3.8076781 , 7.37207976,\n",
       "       5.62679603])"
      ]
     },
     "execution_count": 7,
     "metadata": {},
     "output_type": "execute_result"
    }
   ],
   "source": [
    "import numpy as np\n",
    "mean = 5\n",
    "sd = 2\n",
    "n = 10**6\n",
    "np.random.seed(1)\n",
    "X = np.random.normal(mean, sd,n)\n",
    "X"
   ]
  },
  {
   "cell_type": "markdown",
   "metadata": {
    "slideshow": {
     "slide_type": "subslide"
    }
   },
   "source": [
    "**Visualização do Gráfico da Distribuição de Frequência Relativa da Variável**"
   ]
  },
  {
   "cell_type": "code",
   "execution_count": 8,
   "metadata": {},
   "outputs": [
    {
     "data": {
      "image/png": "[encoded data removed]",
      "text/plain": [
       "<Figure size 432x288 with 1 Axes>"
      ]
     },
     "metadata": {
      "needs_background": "light"
     },
     "output_type": "display_data"
    }
   ],
   "source": [
    "bins = 100\n",
    "plt.xlabel('Possíveis valores de X')\n",
    "plt.ylabel('Frequência Relativa')\n",
    "count, bins, ignored = plt.hist(X, bins=bins, density=True)\n",
    "plt.show()"
   ]
  },
  {
   "cell_type": "markdown",
   "metadata": {
    "slideshow": {
     "slide_type": "subslide"
    }
   },
   "source": [
    "**Visualização do Gráfico da Distribuição de Frequência Relativa Acumulada da Variável**"
   ]
  },
  {
   "cell_type": "code",
   "execution_count": 9,
   "metadata": {},
   "outputs": [
    {
     "data": {
      "image/png": "[encoded data removed]",
      "text/plain": [
       "<Figure size 432x288 with 1 Axes>"
      ]
     },
     "metadata": {
      "needs_background": "light"
     },
     "output_type": "display_data"
    }
   ],
   "source": [
    "bins = 30\n",
    "plt.xlabel('Possíveis valores de X')\n",
    "plt.ylabel('Frequência Relativa Acumulada')\n",
    "count, bins, ignored = plt.hist(X, bins=bins, density=True, cumulative=True)\n",
    "plt.show()"
   ]
  },
  {
   "cell_type": "markdown",
   "metadata": {
    "slideshow": {
     "slide_type": "subslide"
    }
   },
   "source": [
    "### Distribuição Poisson\n",
    "\n",
    "Consiste em uma distribuição de probabilidade de variável aleatória discreta que expressa a probabilidade de uma série de eventos ocorrer em um certo período de tempo, dado que a série de eventos são independentes entre sí. \n",
    "\n",
    "A função de probabilidade desta distribuição é dada por:\n",
    "\n",
    "$$\n",
    "f(k,\\lambda )=\\frac {e^{-\\lambda }\\lambda ^{k}}{k!}\n",
    "$$\n",
    "\n",
    "O valor de $\\lambda$ é o número esperado de ocorrências que ocorrem num dado intervalo de tempo. E o valor de $k$ é o número de ocorrências que queremos verificar a probabilidade de acontecer.\n",
    "\n",
    "Com isso, a probabilidade de que existam exatamente $k$ ocorrências (k sendo um inteiro não negativo, k = 0, 1, 2, ...) é dada por $f(k,\\lambda)$"
   ]
  },
  {
   "cell_type": "markdown",
   "metadata": {
    "slideshow": {
     "slide_type": "subslide"
    }
   },
   "source": [
    "Por ex., se uma loja vende em média um produto a cada 3 minutos e estamos interessados em saber quantos produtos a loja vende em 15 minutos, $\\lambda = \\frac{15}{3} = 5$."
   ]
  },
  {
   "cell_type": "code",
   "execution_count": 10,
   "metadata": {},
   "outputs": [
    {
     "data": {
      "text/plain": [
       "array([2, 2, 4, ..., 7, 7, 2])"
      ]
     },
     "execution_count": 10,
     "metadata": {},
     "output_type": "execute_result"
    }
   ],
   "source": [
    "import numpy as np\n",
    "lambda_ = 5\n",
    "n = 10**6\n",
    "np.random.seed(1)\n",
    "X = np.random.poisson(lambda_, n)\n",
    "X"
   ]
  },
  {
   "cell_type": "markdown",
   "metadata": {
    "slideshow": {
     "slide_type": "subslide"
    }
   },
   "source": [
    "**Visualização do Gráfico da Distribuição de Frequência Relativa da Variável**"
   ]
  },
  {
   "cell_type": "code",
   "execution_count": 11,
   "metadata": {},
   "outputs": [
    {
     "data": {
      "image/png": "[encoded data removed]",
      "text/plain": [
       "<Figure size 432x288 with 1 Axes>"
      ]
     },
     "metadata": {
      "needs_background": "light"
     },
     "output_type": "display_data"
    }
   ],
   "source": [
    "bins = 15\n",
    "plt.xlabel('Possíveis valores de X')\n",
    "plt.ylabel('Frequência Relativa')\n",
    "plt.xticks(range(0,bins))\n",
    "count, bins, ignored = plt.hist(X, bins=range(0,bins), density=True)\n",
    "plt.show()"
   ]
  },
  {
   "cell_type": "markdown",
   "metadata": {
    "slideshow": {
     "slide_type": "subslide"
    }
   },
   "source": [
    "**Visualização do Gráfico da Distribuição de Frequência Relativa Acumulada da Variável**"
   ]
  },
  {
   "cell_type": "code",
   "execution_count": 12,
   "metadata": {},
   "outputs": [
    {
     "data": {
      "image/png": "[encoded data removed]",
      "text/plain": [
       "<Figure size 432x288 with 1 Axes>"
      ]
     },
     "metadata": {
      "needs_background": "light"
     },
     "output_type": "display_data"
    }
   ],
   "source": [
    "bins = 15\n",
    "plt.xlabel('Possíveis valores de X')\n",
    "plt.ylabel('Frequência Relativa Acumulada')\n",
    "plt.xticks(range(0,bins))\n",
    "count, bins, ignored = plt.hist(X, bins=range(0,bins), density=True, cumulative=True)\n",
    "plt.show()"
   ]
  },
  {
   "cell_type": "markdown",
   "metadata": {
    "slideshow": {
     "slide_type": "subslide"
    }
   },
   "source": [
    "### Medidas Resumo\n",
    "\n",
    "- Medidas de Tendência Central\n",
    "- Medidas de Dispersão\n",
    "- Medidas de Forma"
   ]
  },
  {
   "cell_type": "markdown",
   "metadata": {
    "slideshow": {
     "slide_type": "subslide"
    }
   },
   "source": [
    "### Medidas de Tendência Central\n",
    "\n",
    "- **Média**: este é o valor esperado de uma variável $X$, definido por $\\mu$. Em geral é calculada pela soma dos valores da variável numérica, dividido pelo número total de valores da variável.\n",
    "\n",
    "- **Mediana**: este é o valor central que separa a distribuição em duas metades. Para calcular a mediana os valores da variável são primeiramente ordenados e, se o número de valores é ímpar a mediana será o valor central, e se o número de valores é par a mediana será a média aritmética dos dois valores dentrais.\n",
    "\n",
    "- **Moda**: este é o valor mais frequente de uma variável."
   ]
  },
  {
   "cell_type": "markdown",
   "metadata": {
    "slideshow": {
     "slide_type": "subslide"
    }
   },
   "source": [
    "### Medidas de Dispersão\n",
    "\n",
    "- **Variância**: mede a dispersão dos valores de uma variável. É sempre não negativa. Uma variância pequena indica que os valores estão próximos à média e, o contrário, que estão distântes em relação à média. A variância é calculada pela média dos quadrados das distâncias dos valores em relação à média, como segue:\n",
    "\n",
    "$$\n",
    "var(X) = \\frac{1}{N} \\sum_{i}^{N} (x_i - \\mu)^2\n",
    "$$\n",
    "\n",
    "- **Desvio-padrão**: é a raiz quadrada da variância. Esta medida é relevante como uma medida de dispersão de referência em relação à média. Um ponto importante é que ela tem a mesma unidade que a média. Por ex, se nossa variável é em metros $m$, a nossa média será em $m$, a variância em $m^2$ e o desvio-padrão em $m$.\n",
    "\n",
    "$$\n",
    "\\sigma(X) = \\sqrt{var(X)}\n",
    "$$\n",
    "\n",
    "- **Coeficiente de Variação**: consiste na relação do desvio-padrão e a média. Essa medida permite saber quanto representa o desvio-padrão em relação à média. Por ex., se uma distribuição tem média $\\mu=10$ e $\\sigma=2$, o desvio-padrão representa $20\\%$ da média."
   ]
  },
  {
   "cell_type": "markdown",
   "metadata": {
    "slideshow": {
     "slide_type": "subslide"
    }
   },
   "source": [
    "### Medidas de Forma\n",
    "\n",
    "- **Assimetria**: ou *skewness* mede a assimatria da função de distribuição em torno da média. Quando a assimetria é negativa, a distribuição tende à direita, e quando a assimetria é positiva, a distribuição tende à esquerda. \n",
    "\n",
    "$$\n",
    "\\gamma(X) = \\frac{1}{N} \\sum_{i}^{N} \\bigg[\\frac{(x_i - \\mu)}{\\sigma}\\bigg]^3\n",
    "$$\n",
    "\n",
    "- **Curtose**: ou *kurtosis* é a medida de forma que caracteriza o pico ou achatamento da função de distribuição de uma variável. Se a curtose é positiva então o pico da função é mais afunilado, se a curtose é negativa então o pico da função é mais achatado.\n",
    "\n",
    "$$\n",
    "\\beta(X) = \\frac{1}{N} \\sum_{i}^{N} \\bigg[\\frac{(x_i - \\mu)}{\\sigma}\\bigg]^4\n",
    "$$"
   ]
  },
  {
   "cell_type": "markdown",
   "metadata": {
    "slideshow": {
     "slide_type": "subslide"
    }
   },
   "source": [
    "**Exemplo de Assimetria Positiva (à esquerda)**"
   ]
  },
  {
   "cell_type": "code",
   "execution_count": 13,
   "metadata": {},
   "outputs": [
    {
     "name": "stdout",
     "output_type": "stream",
     "text": [
      "skewness 0.8972842641338391\n"
     ]
    }
   ],
   "source": [
    "from scipy.stats import skew\n",
    "mean = 20\n",
    "sd = 2\n",
    "n = 10**6\n",
    "np.random.seed(1)\n",
    "X = np.random.normal(mean, sd,n) ** 4\n",
    "print('skewness', skew(X))"
   ]
  },
  {
   "cell_type": "code",
   "execution_count": 14,
   "metadata": {},
   "outputs": [
    {
     "data": {
      "image/png": "[encoded data removed]",
      "text/plain": [
       "<Figure size 432x288 with 1 Axes>"
      ]
     },
     "metadata": {
      "needs_background": "light"
     },
     "output_type": "display_data"
    }
   ],
   "source": [
    "bins = 30\n",
    "plt.xlabel('Possíveis valores de X')\n",
    "plt.ylabel('Frequência Relativa')\n",
    "count, bins, ignored = plt.hist(X, bins=bins, density=True)\n",
    "plt.show()"
   ]
  },
  {
   "cell_type": "markdown",
   "metadata": {
    "slideshow": {
     "slide_type": "subslide"
    }
   },
   "source": [
    "**Exemplo de Curtose Negativa (achatada)**"
   ]
  },
  {
   "cell_type": "code",
   "execution_count": 15,
   "metadata": {},
   "outputs": [
    {
     "name": "stdout",
     "output_type": "stream",
     "text": [
      "curtosis -0.7916954454117038\n"
     ]
    }
   ],
   "source": [
    "from scipy.stats import kurtosis\n",
    "mean = 8\n",
    "sd = 2\n",
    "n = 10**6\n",
    "np.random.seed(1)\n",
    "X = np.random.normal(mean, sd,n) * np.random.uniform(-mean, mean,n)\n",
    "print('curtosis', kurtosis(X))"
   ]
  },
  {
   "cell_type": "code",
   "execution_count": 16,
   "metadata": {},
   "outputs": [
    {
     "data": {
      "image/png": "[encoded data removed]",
      "text/plain": [
       "<Figure size 432x288 with 1 Axes>"
      ]
     },
     "metadata": {
      "needs_background": "light"
     },
     "output_type": "display_data"
    }
   ],
   "source": [
    "bins = 100\n",
    "plt.xlabel('Possíveis valores de X')\n",
    "plt.ylabel('Frequência Relativa')\n",
    "count, bins, ignored = plt.hist(X, bins=bins, density=True)\n",
    "plt.show()"
   ]
  },
  {
   "cell_type": "markdown",
   "metadata": {
    "slideshow": {
     "slide_type": "subslide"
    }
   },
   "source": [
    "### Medidas de Associação (Análise de duas variáveis)\n",
    "\n",
    "Para duas variáveis aleatórias distintas é possível calcular a dependência entre elas usando-se uma medida de associação. As medidas mais comuns são:\n",
    "- Covariância\n",
    "- Correlação\n",
    "- Coeficiente de Determinação"
   ]
  },
  {
   "cell_type": "markdown",
   "metadata": {},
   "source": [
    "Para o entendimento dessas medidas de associação entre variáveis vamos considerar os seguintes conjuntos de dados extraídos a partir do dataset *iris*."
   ]
  },
  {
   "cell_type": "code",
   "execution_count": 17,
   "metadata": {},
   "outputs": [
    {
     "data": {
      "text/html": [
       "<div>\n",
       "<style scoped>\n",
       "    .dataframe tbody tr th:only-of-type {\n",
       "        vertical-align: middle;\n",
       "    }\n",
       "\n",
       "    .dataframe tbody tr th {\n",
       "        vertical-align: top;\n",
       "    }\n",
       "\n",
       "    .dataframe thead th {\n",
       "        text-align: right;\n",
       "    }\n",
       "</style>\n",
       "<table border=\"1\" class=\"dataframe\">\n",
       "  <thead>\n",
       "    <tr style=\"text-align: right;\">\n",
       "      <th></th>\n",
       "      <th>sepal length (cm)</th>\n",
       "      <th>sepal width (cm)</th>\n",
       "      <th>petal length (cm)</th>\n",
       "      <th>petal width (cm)</th>\n",
       "    </tr>\n",
       "  </thead>\n",
       "  <tbody>\n",
       "    <tr>\n",
       "      <th>0</th>\n",
       "      <td>5.1</td>\n",
       "      <td>3.5</td>\n",
       "      <td>1.4</td>\n",
       "      <td>0.2</td>\n",
       "    </tr>\n",
       "    <tr>\n",
       "      <th>1</th>\n",
       "      <td>4.9</td>\n",
       "      <td>3.0</td>\n",
       "      <td>1.4</td>\n",
       "      <td>0.2</td>\n",
       "    </tr>\n",
       "    <tr>\n",
       "      <th>2</th>\n",
       "      <td>4.7</td>\n",
       "      <td>3.2</td>\n",
       "      <td>1.3</td>\n",
       "      <td>0.2</td>\n",
       "    </tr>\n",
       "    <tr>\n",
       "      <th>3</th>\n",
       "      <td>4.6</td>\n",
       "      <td>3.1</td>\n",
       "      <td>1.5</td>\n",
       "      <td>0.2</td>\n",
       "    </tr>\n",
       "    <tr>\n",
       "      <th>4</th>\n",
       "      <td>5.0</td>\n",
       "      <td>3.6</td>\n",
       "      <td>1.4</td>\n",
       "      <td>0.2</td>\n",
       "    </tr>\n",
       "  </tbody>\n",
       "</table>\n",
       "</div>"
      ],
      "text/plain": [
       "   sepal length (cm)  sepal width (cm)  petal length (cm)  petal width (cm)\n",
       "0                5.1               3.5                1.4               0.2\n",
       "1                4.9               3.0                1.4               0.2\n",
       "2                4.7               3.2                1.3               0.2\n",
       "3                4.6               3.1                1.5               0.2\n",
       "4                5.0               3.6                1.4               0.2"
      ]
     },
     "execution_count": 17,
     "metadata": {},
     "output_type": "execute_result"
    }
   ],
   "source": [
    "import pandas as pd\n",
    "from sklearn import datasets\n",
    "iris = datasets.load_iris()\n",
    "data_iris=pd.DataFrame(iris['data'], columns=iris['feature_names'])\n",
    "data_iris.head()"
   ]
  },
  {
   "cell_type": "markdown",
   "metadata": {
    "slideshow": {
     "slide_type": "subslide"
    }
   },
   "source": [
    "Vamos criar dois conjuntos de dados:\n",
    "- **data** : com as colunas 'X' : 'petal length (cm)' e 'Y' : 'petal width (cm)'\n",
    "- **data2**: com as colunas 'X' : 'petal length (cm)' e 'Y' : 'sepal width (cm)'"
   ]
  },
  {
   "cell_type": "code",
   "execution_count": 18,
   "metadata": {},
   "outputs": [
    {
     "data": {
      "text/html": [
       "<div>\n",
       "<style scoped>\n",
       "    .dataframe tbody tr th:only-of-type {\n",
       "        vertical-align: middle;\n",
       "    }\n",
       "\n",
       "    .dataframe tbody tr th {\n",
       "        vertical-align: top;\n",
       "    }\n",
       "\n",
       "    .dataframe thead th {\n",
       "        text-align: right;\n",
       "    }\n",
       "</style>\n",
       "<table border=\"1\" class=\"dataframe\">\n",
       "  <thead>\n",
       "    <tr style=\"text-align: right;\">\n",
       "      <th></th>\n",
       "      <th>X</th>\n",
       "      <th>Y</th>\n",
       "    </tr>\n",
       "  </thead>\n",
       "  <tbody>\n",
       "    <tr>\n",
       "      <th>0</th>\n",
       "      <td>1.4</td>\n",
       "      <td>0.2</td>\n",
       "    </tr>\n",
       "    <tr>\n",
       "      <th>1</th>\n",
       "      <td>1.4</td>\n",
       "      <td>0.2</td>\n",
       "    </tr>\n",
       "    <tr>\n",
       "      <th>2</th>\n",
       "      <td>1.3</td>\n",
       "      <td>0.2</td>\n",
       "    </tr>\n",
       "    <tr>\n",
       "      <th>3</th>\n",
       "      <td>1.5</td>\n",
       "      <td>0.2</td>\n",
       "    </tr>\n",
       "    <tr>\n",
       "      <th>4</th>\n",
       "      <td>1.4</td>\n",
       "      <td>0.2</td>\n",
       "    </tr>\n",
       "  </tbody>\n",
       "</table>\n",
       "</div>"
      ],
      "text/plain": [
       "     X    Y\n",
       "0  1.4  0.2\n",
       "1  1.4  0.2\n",
       "2  1.3  0.2\n",
       "3  1.5  0.2\n",
       "4  1.4  0.2"
      ]
     },
     "execution_count": 18,
     "metadata": {},
     "output_type": "execute_result"
    }
   ],
   "source": [
    "data  = pd.DataFrame({'X' : data_iris[\"petal length (cm)\"], 'Y' : data_iris[\"petal width (cm)\"]})\n",
    "data2 = pd.DataFrame({'X' : data_iris[\"petal length (cm)\"], 'Y' : data_iris[\"sepal width (cm)\"]})\n",
    "\n",
    "data.head()"
   ]
  },
  {
   "cell_type": "markdown",
   "metadata": {
    "slideshow": {
     "slide_type": "subslide"
    }
   },
   "source": [
    "**Gráficos de dispersão para os dois conjuntos de dados**"
   ]
  },
  {
   "cell_type": "code",
   "execution_count": 19,
   "metadata": {
    "slideshow": {
     "slide_type": "-"
    }
   },
   "outputs": [
    {
     "data": {
      "image/png": "[encoded data removed]",
      "text/plain": [
       "<Figure size 1224x432 with 2 Axes>"
      ]
     },
     "metadata": {
      "needs_background": "light"
     },
     "output_type": "display_data"
    }
   ],
   "source": [
    "fig, ax = plt.subplots(1, 2, figsize=(17, 6) )\n",
    "\n",
    "ax[0].scatter(data.X, data.Y,)\n",
    "ax[0].set_title('data')\n",
    "ax[0].set_xlabel('X')\n",
    "ax[0].set_ylabel('Y')\n",
    "\n",
    "ax[1].scatter(data2.X, data2.Y,)\n",
    "ax[1].set_title('data2')\n",
    "ax[1].set_xlabel('X')\n",
    "ax[1].set_ylabel('Y')\n",
    "\n",
    "plt.show()"
   ]
  },
  {
   "cell_type": "markdown",
   "metadata": {
    "slideshow": {
     "slide_type": "subslide"
    }
   },
   "source": [
    "- *Covariância*: a covariação é uma medida de associação que mede se duas variáveis $X$ e $Y$ desviam de suas médias de maneira similar. Se variarem de maneira similar, elas são covariantes, e existe uma relação estatística entre suas flutuações.\n",
    "\n",
    "    - Dadas duas variáveis $X$ e $Y$ amostradas em pares $(x_i,y_i), i = 1, 2, ..., N$, a covariância $cov(X,Y)$ é dada por:\n",
    "    \n",
    "    $$\n",
    "    cov(X,Y) = \\frac{1}{N} \\sum_{i=1}^N (x_i-\\mu_X)\\;(y_i-\\mu_Y)\n",
    "    $$\n",
    "\n",
    "    - Se geralmente valores $X$ que estiverem abaixo da média implicam em valores de $Y$ abaixo da média, o produto de ambos será positivo. Da mesma forma que se valores de $X$ que estiverem acima da média implicam em valores de $Y$ acima da média.\n",
    "    - Já, se valores de $X$ que estiverem abaixo da média implicam em valores de $Y$ acima da média, o produto de ambos será um valor negativo.\n",
    "    - Se as diferenças forem grandes os produtos retornarão valores altos, caso contrário, valores baixos, indicando pouca covariação e associação.\n",
    "    - Observe que esta medida não está na unidade de $X$ ou de $Y$ já que as diferenças foram multiplicadas. Por ex. se a unidade das variáveis é em metros $m$ então esta medida está em $m^2$.\n",
    "    - Ainda para calcular a covariância de uma amostra dividimos por $N-1$ ao invés de $N$."
   ]
  },
  {
   "cell_type": "code",
   "execution_count": 20,
   "metadata": {
    "scrolled": true
   },
   "outputs": [
    {
     "data": {
      "text/html": [
       "<div>\n",
       "<style scoped>\n",
       "    .dataframe tbody tr th:only-of-type {\n",
       "        vertical-align: middle;\n",
       "    }\n",
       "\n",
       "    .dataframe tbody tr th {\n",
       "        vertical-align: top;\n",
       "    }\n",
       "\n",
       "    .dataframe thead th {\n",
       "        text-align: right;\n",
       "    }\n",
       "</style>\n",
       "<table border=\"1\" class=\"dataframe\">\n",
       "  <thead>\n",
       "    <tr style=\"text-align: right;\">\n",
       "      <th></th>\n",
       "      <th>X</th>\n",
       "      <th>Y</th>\n",
       "    </tr>\n",
       "  </thead>\n",
       "  <tbody>\n",
       "    <tr>\n",
       "      <th>14</th>\n",
       "      <td>1.2</td>\n",
       "      <td>0.2</td>\n",
       "    </tr>\n",
       "    <tr>\n",
       "      <th>98</th>\n",
       "      <td>3.0</td>\n",
       "      <td>1.1</td>\n",
       "    </tr>\n",
       "    <tr>\n",
       "      <th>75</th>\n",
       "      <td>4.4</td>\n",
       "      <td>1.4</td>\n",
       "    </tr>\n",
       "    <tr>\n",
       "      <th>16</th>\n",
       "      <td>1.3</td>\n",
       "      <td>0.4</td>\n",
       "    </tr>\n",
       "    <tr>\n",
       "      <th>131</th>\n",
       "      <td>6.4</td>\n",
       "      <td>2.0</td>\n",
       "    </tr>\n",
       "    <tr>\n",
       "      <th>56</th>\n",
       "      <td>4.7</td>\n",
       "      <td>1.6</td>\n",
       "    </tr>\n",
       "  </tbody>\n",
       "</table>\n",
       "</div>"
      ],
      "text/plain": [
       "       X    Y\n",
       "14   1.2  0.2\n",
       "98   3.0  1.1\n",
       "75   4.4  1.4\n",
       "16   1.3  0.4\n",
       "131  6.4  2.0\n",
       "56   4.7  1.6"
      ]
     },
     "execution_count": 20,
     "metadata": {},
     "output_type": "execute_result"
    }
   ],
   "source": [
    "n = 6\n",
    "dt  = data .sample(n, random_state=1)\n",
    "dt2 = data2.sample(n, random_state=1)\n",
    "dt"
   ]
  },
  {
   "cell_type": "markdown",
   "metadata": {
    "slideshow": {
     "slide_type": "subslide"
    }
   },
   "source": [
    "**Gráficos de dispersão para as amostras**"
   ]
  },
  {
   "cell_type": "code",
   "execution_count": 21,
   "metadata": {},
   "outputs": [
    {
     "data": {
      "image/png": "[encoded data removed]",
      "text/plain": [
       "<Figure size 1224x432 with 2 Axes>"
      ]
     },
     "metadata": {
      "needs_background": "light"
     },
     "output_type": "display_data"
    }
   ],
   "source": [
    "fig, ax = plt.subplots(1, 2, figsize=(17, 6) )\n",
    "\n",
    "ax[0].scatter(dt.X, dt.Y)\n",
    "ax[0].set_title('data')\n",
    "ax[0].set_xlabel('X')\n",
    "ax[0].set_ylabel('Y')\n",
    "\n",
    "ax[1].scatter(dt2.X, dt2.Y)\n",
    "ax[1].set_title('data2')\n",
    "ax[1].set_xlabel('X')\n",
    "ax[1].set_ylabel('Y')\n",
    "\n",
    "plt.show()"
   ]
  },
  {
   "cell_type": "code",
   "execution_count": 22,
   "metadata": {
    "slideshow": {
     "slide_type": "subslide"
    }
   },
   "outputs": [
    {
     "data": {
      "image/png": "[encoded data removed]",
      "text/plain": [
       "<Figure size 1224x432 with 2 Axes>"
      ]
     },
     "metadata": {
      "needs_background": "light"
     },
     "output_type": "display_data"
    }
   ],
   "source": [
    "fig, ax = plt.subplots(1, 2, figsize=(17, 6) )\n",
    "\n",
    "ax[0].scatter(dt.X, dt.Y)\n",
    "ax[0].hlines(dt.Y.mean(), xmin = dt.X.min(), xmax = dt.X.max(), linestyles=\"--\", label='Y.mean')\n",
    "ax[0].vlines(dt.X.mean(), ymin = dt.Y.min(), ymax = dt.Y.max(), linestyles=\"--\", label='X.mean')\n",
    "ax[0].set_title('data')\n",
    "ax[0].set_xlabel('X')\n",
    "ax[0].set_ylabel('Y')\n",
    "\n",
    "ax[1].scatter(dt2.X, dt2.Y)\n",
    "ax[1].hlines(dt2.Y.mean(), xmin = dt2.X.min(), xmax = dt2.X.max(), linestyles=\"--\", label='Y.mean')\n",
    "ax[1].vlines(dt2.X.mean(), ymin = dt2.Y.min(), ymax = dt2.Y.max(), linestyles=\"--\", label='X.mean')\n",
    "ax[1].set_title('data2')\n",
    "ax[1].set_xlabel('X')\n",
    "ax[1].set_ylabel('Y')\n",
    "\n",
    "plt.show()"
   ]
  },
  {
   "cell_type": "markdown",
   "metadata": {
    "slideshow": {
     "slide_type": "subslide"
    }
   },
   "source": [
    "A função abaixo permite desenhar um scatter plot evidenciando o produto entre as diferenças me."
   ]
  },
  {
   "cell_type": "code",
   "execution_count": 23,
   "metadata": {
    "slideshow": {
     "slide_type": "-"
    }
   },
   "outputs": [],
   "source": [
    "def scatter_square_diff ( dt, ax ) :\n",
    "    \n",
    "    from matplotlib.patches import Rectangle\n",
    "    dt['diffX'] = dt.X - dt.X.mean()\n",
    "    dt['diffY'] = dt.Y - dt.Y.mean()\n",
    "   \n",
    "    ax.scatter(dt.X, dt.Y)\n",
    "    ax.hlines(dt.Y.mean(), xmin = dt.X.min(), xmax = dt.X.max(), linestyles=\"--\", label='Y.mean')\n",
    "    ax.vlines(dt.X.mean(), ymin = dt.Y.min(), ymax = dt.Y.max(), linestyles=\"--\", label='X.mean')\n",
    "\n",
    "    for i in range(0,len(dt)):\n",
    "        color  = 'blue' if (dt.diffX.iloc[i] * dt.diffY.iloc[i] > 0 ) else 'red'    \n",
    "        rect = Rectangle( \n",
    "            xy = (dt.X.iloc[i], dt.Y.iloc[i]), \n",
    "            width = -dt.diffX.iloc[i], \n",
    "            height = -dt.diffY.iloc[i], \n",
    "            linewidth = 1, edgecolor = color,facecolor = color, alpha = 0.2)\n",
    "        ax.add_patch(rect)\n",
    "   \n",
    "    ax.set_xlabel('X')\n",
    "    ax.set_ylabel('Y')\n",
    "    ax.legend()    \n",
    "    return ax"
   ]
  },
  {
   "cell_type": "code",
   "execution_count": 24,
   "metadata": {
    "slideshow": {
     "slide_type": "subslide"
    }
   },
   "outputs": [
    {
     "data": {
      "image/png": "[encoded data removed]",
      "text/plain": [
       "<Figure size 1224x432 with 2 Axes>"
      ]
     },
     "metadata": {
      "needs_background": "light"
     },
     "output_type": "display_data"
    }
   ],
   "source": [
    "fig, ax = plt.subplots(1, 2, figsize=(17, 6) )\n",
    "\n",
    "ax[0] = scatter_square_diff(dt, ax[0])\n",
    "ax[0].set_title('dt')\n",
    "\n",
    "ax[1] = scatter_square_diff(dt2, ax[1])\n",
    "ax[1].set_title('dt2')\n",
    "\n",
    "plt.show()"
   ]
  },
  {
   "cell_type": "markdown",
   "metadata": {},
   "source": [
    "- Os retângulos azuis representam as multiplicações do somatório que retornam valores positivos.\n",
    "- Os retângulos vermelhos representam as multiplicações do somatório que retornam valores negativos."
   ]
  },
  {
   "cell_type": "markdown",
   "metadata": {
    "slideshow": {
     "slide_type": "subslide"
    }
   },
   "source": [
    "- No conjunto de dados `dt` observamos que a soma da área dos retângulos é:"
   ]
  },
  {
   "cell_type": "code",
   "execution_count": 38,
   "metadata": {},
   "outputs": [
    {
     "name": "stdout",
     "output_type": "stream",
     "text": [
      "dt_soma_retangulos:  7.09\n",
      "dt_cov:  1.42\n"
     ]
    }
   ],
   "source": [
    "dt_soma_retangulos = np.sum( (dt.X - dt.X.mean()) * (dt.Y - dt.Y.mean()) )\n",
    "print('dt_soma_retangulos: ', dt_soma_retangulos.round(2) )\n",
    "dt_cov = dt_soma_retangulos / (n-1)\n",
    "print('dt_cov: ', dt_cov.round(2) )"
   ]
  },
  {
   "cell_type": "markdown",
   "metadata": {},
   "source": [
    "- Já no conjunto de dados `dt2` observamos que a soma da área dos retângulos é:"
   ]
  },
  {
   "cell_type": "code",
   "execution_count": 39,
   "metadata": {},
   "outputs": [
    {
     "name": "stdout",
     "output_type": "stream",
     "text": [
      "dt2_soma_retangulos:  -1.35\n",
      "dt2_cov:  -0.27\n"
     ]
    }
   ],
   "source": [
    "dt2_soma_retangulos = np.sum( (dt2.X - dt2.X.mean()) * (dt2.Y - dt2.Y.mean()) )\n",
    "print('dt2_soma_retangulos: ', dt2_soma_retangulos.round(2) )\n",
    "dt2_cov = dt2_soma_retangulos / (n-1)\n",
    "print('dt2_cov: ', dt2_cov.round(2) )"
   ]
  },
  {
   "cell_type": "markdown",
   "metadata": {
    "slideshow": {
     "slide_type": "subslide"
    }
   },
   "source": [
    "A covariância entre as variáveis $X$ e $Y$ do conjunto de dados `dt` é positiva e algumas vezes maior do que a covariância de $X$ e $Y$ em `dt2` que, por sinal, foi negativa.\n",
    "\n",
    "Valores de **covariância positivos** indicam que valores acima da média de uma variável estão associados com valores médios **acima** da outra variável.\n",
    "\n",
    "Valores de **covariância negativos** indicam que valores acima da média de uma variável estão associados com valores médios **abaixo** da outra variável.\n",
    "\n",
    "Valores **muito diferentes de zero** indicam que valores associação entre as variáveis, já valores **muito próximos de zero** indica pouca associaçao entre as variáveis."
   ]
  },
  {
   "cell_type": "markdown",
   "metadata": {
    "slideshow": {
     "slide_type": "subslide"
    }
   },
   "source": [
    "- *Correlação* (Pearson): a correlação de Pearson mede a dependência linear entra duas variáveis aleatórias $X$ e $Y$. A partir do cálculo da covariância é utilizado um fator de escala baseado no desvio-padrão de cada uma das variáveis. Dessa forma, a medida de associação de variáveis fica sem unidade e com valor entre $-1$ e $1$. \n",
    "\n",
    "    - Uma correlação negativa indica que à medida que o valor da variável aumenta o valor da outra variável diminui. \n",
    "    \n",
    "    - Uma correlação positiva indicia que à medida que o valor de uma variável aumenta a outra também aumenta.\n",
    "\n",
    "    - Dadas duas variáveis $X$ e $Y$ amostradas em pares $(x_i,y_i), i = 1, 2, ..., N$:\n",
    "    \n",
    "    $$\n",
    "    \\rho(X,Y) = \\frac{ cov(X,Y) } {\\sigma(X)\\;\\sigma(Y)}\n",
    "    $$\n",
    "   \n",
    "    - Observe que esta medida não tem unidade, pois o numerador está na mesma unidade que o denominador. Se a covariância está em $m^2$ e o desvio-padrão de cada variável em $m$, o resultado será apenas uma razão."
   ]
  },
  {
   "cell_type": "markdown",
   "metadata": {
    "slideshow": {
     "slide_type": "subslide"
    }
   },
   "source": [
    "Correlação de Pearson para a amostra `dt`. Observe que existe uma correlação bem forte entre as variáveis $X$ e $Y$ e positiva. Indicando que o valor de uma variável aumenta o valor valor da outra também aumenta. "
   ]
  },
  {
   "cell_type": "code",
   "execution_count": 27,
   "metadata": {},
   "outputs": [
    {
     "data": {
      "text/plain": [
       "0.99"
      ]
     },
     "execution_count": 27,
     "metadata": {},
     "output_type": "execute_result"
    }
   ],
   "source": [
    "dt_cor = dt_cov / ( dt.X.std() * dt.Y.std() )\n",
    "dt_cor.round(2)"
   ]
  },
  {
   "cell_type": "markdown",
   "metadata": {
    "slideshow": {
     "slide_type": "-"
    }
   },
   "source": [
    "Correlação de Pearson para a amostra `dt2`. Observe que existe uma correlação muito fraca (quase desprezível) entre as variáveis $X$ e $Y$ e negativa. Indicando que a variação do valor de uma variável influencia muito pouco na diminuição da outra variável."
   ]
  },
  {
   "cell_type": "code",
   "execution_count": 28,
   "metadata": {},
   "outputs": [
    {
     "data": {
      "text/plain": [
       "-0.22"
      ]
     },
     "execution_count": 28,
     "metadata": {},
     "output_type": "execute_result"
    }
   ],
   "source": [
    "dt2_cor = dt2_cov / ( dt2.X.std() * dt2.Y.std() )\n",
    "dt2_cor.round(2)"
   ]
  },
  {
   "cell_type": "markdown",
   "metadata": {
    "slideshow": {
     "slide_type": "subslide"
    }
   },
   "source": [
    "- *Coeficiente de Determinação*: este coeficiente normaliza a correlação entra as variáveis no intervalo $[0,1]$, abstraindo se a correlação é positiva ou negativa. No coeficiente de determinação estamos apenas interessados em saber a dependência entre as variáveis. Seja $\\rho$ o coeficiente de correlação entre as variáveis $X$ e $Y$, o coeficiente de determinação, também chamado de $R^2$, é calculado pelo quadrado do coeficente de correlação, $\\rho^2$."
   ]
  },
  {
   "cell_type": "markdown",
   "metadata": {
    "slideshow": {
     "slide_type": "-"
    }
   },
   "source": [
    "Dizemos também que o valor da variável $X$ explica em $98\\%$ o valor da variável $Y$."
   ]
  },
  {
   "cell_type": "code",
   "execution_count": 29,
   "metadata": {},
   "outputs": [
    {
     "data": {
      "text/plain": [
       "0.98"
      ]
     },
     "execution_count": 29,
     "metadata": {},
     "output_type": "execute_result"
    }
   ],
   "source": [
    "dt_r2 = dt_cor**2\n",
    "dt_r2.round(2)"
   ]
  },
  {
   "cell_type": "markdown",
   "metadata": {
    "slideshow": {
     "slide_type": "-"
    }
   },
   "source": [
    "Dizemos também que o valor da variável $X$ pode estar explicando $\\%5$ o valor da variável $Y$."
   ]
  },
  {
   "cell_type": "code",
   "execution_count": 30,
   "metadata": {},
   "outputs": [
    {
     "data": {
      "text/plain": [
       "0.05"
      ]
     },
     "execution_count": 30,
     "metadata": {},
     "output_type": "execute_result"
    }
   ],
   "source": [
    "dt2_r2 = dt2_cor**2\n",
    "dt2_r2.round(2)"
   ]
  },
  {
   "cell_type": "markdown",
   "metadata": {
    "slideshow": {
     "slide_type": "slide"
    }
   },
   "source": [
    "### Análise Multivariada\n",
    "\n",
    "- Em muitas situações de análise de dados é comum querer saber se é possível estimar o valor de uma variável objetivos baseado m uma ou mais variáveis. \n",
    "\n",
    "- Por exemplo, no conjunto de dados `iris` tentar prever o valor da variável `petal width (cm)` baseado no valor da variável `petal length (cm)` (no caso de usar uma variável), ou baseado no valores das variáveis `petal length (cm)` e `sepal length (cm)` (no caso de usar duas variáveis).\n",
    "\n",
    "- Em termos matemáticos, seja $Y$ a variável objetivo e $X$ uma variável, queremos construir uma função $f(X) \\rightarrow Y$, que mapeie os valores de $X$ em valores de $Y$. Essa função costumamos chamá-la de modelo.\n",
    "\n",
    "- Um dos modelos mais importantes é o modelos de regressão linear, que pode ser simples ou múltipla, dependendo do número de variáveis usadas para fazer a previsão."
   ]
  },
  {
   "cell_type": "markdown",
   "metadata": {
    "slideshow": {
     "slide_type": "subslide"
    }
   },
   "source": [
    "**Regressão Linear Simples:**\n",
    "\n",
    "- O modelo de regressão simples consiste em ajustar uma função $f(X)$ definida por:\n",
    "\n",
    "$$\n",
    "f(X) = Y = \\beta_0 + \\beta_1 X + e\\\\\n",
    "f(X) = \\hat{Y} = \\beta_0 + \\beta_1 X\n",
    "$$\n",
    "\n",
    "onde,\n",
    "- $Y$ é a variável dependente e $\\hat{Y}$ é a estimativa de $Y$\n",
    "- $X$ é a variável independente\n",
    "- $\\beta_0$ é o intercepto (valor de $Y$ quando $X=0$ )\n",
    "- $\\beta_1$ é o coeficiente angular\n",
    "- $e$ é o erro, ou variação entre $Y$ e $\\hat{Y}$ não explicada pelo modelo"
   ]
  },
  {
   "cell_type": "markdown",
   "metadata": {
    "slideshow": {
     "slide_type": "subslide"
    }
   },
   "source": [
    "- Exemplo de Regressão Linear Simples"
   ]
  },
  {
   "cell_type": "code",
   "execution_count": 31,
   "metadata": {
    "slideshow": {
     "slide_type": "-"
    }
   },
   "outputs": [
    {
     "data": {
      "text/plain": [
       "<matplotlib.legend.Legend at 0x21d5d2d3278>"
      ]
     },
     "execution_count": 31,
     "metadata": {},
     "output_type": "execute_result"
    },
    {
     "data": {
      "image/png": "[encoded data removed]",
      "text/plain": [
       "<Figure size 432x288 with 1 Axes>"
      ]
     },
     "metadata": {
      "needs_background": "light"
     },
     "output_type": "display_data"
    }
   ],
   "source": [
    "from sklearn.linear_model import LinearRegression\n",
    "model = LinearRegression().fit(dt.X.values.reshape(-1,1), dt.Y.values)\n",
    "plt.scatter(dt.X, dt.Y, label = None)\n",
    "y_pred = model.predict(dt.X.values.reshape(-1,1))\n",
    "plt.plot(dt.X, y_pred, color = \"red\", label=\"model\")\n",
    "plt.xlabel('X')\n",
    "plt.ylabel('Y')\n",
    "plt.legend()"
   ]
  },
  {
   "cell_type": "code",
   "execution_count": 32,
   "metadata": {
    "slideshow": {
     "slide_type": "skip"
    }
   },
   "outputs": [
    {
     "data": {
      "text/plain": [
       "'Y = 0.337 x X + -0.063'"
      ]
     },
     "execution_count": 32,
     "metadata": {},
     "output_type": "execute_result"
    }
   ],
   "source": [
    "from helper import regression_to_equation\n",
    "regression_to_equation(dt.columns, model.coef_, model.intercept_)"
   ]
  },
  {
   "cell_type": "markdown",
   "metadata": {
    "slideshow": {
     "slide_type": "subslide"
    }
   },
   "source": [
    "Um dos métodos que podemos usar para chegar nesse valores é o Método de Mínimos Quadrados (MMQ), onde o objetivo consiste em construir a função da reta que minimize o Erro Quadrático Total (EQT), que é definido por:\n",
    "\n",
    "$$\n",
    "EQT = \\sum_i^n e_i^2 = e_1^2 + e_2^2 + ... + e_n^2\n",
    "$$\n",
    "\n",
    "Como cada valor $e_i$ é a distância entre o valor previsto $\\hat{y}_i$ e o observado $y_i$, temos que,\n",
    "\n",
    "$$\n",
    "EQT = \\sum_i^n (y_i - \\hat{y}_i)^2 = (y_1 - \\hat{y}_1)^2 + (y_2 - \\hat{y}_2)^2 + ... + (y_n - \\hat{y}_n)^2\n",
    "$$\n",
    "\n",
    "E ainda como cada valor $\\hat{y}_i$ é calculado por $f(x)$, então $\\hat{y}_i = \\beta_0 + \\beta_1 x_i$, então\n",
    "\n",
    "$$\n",
    "EQT = \\sum_i^n (y_i - \\hat{y}_i)^2 = \\sum_i^n (y_i - [\\beta_0 + \\beta_1 x_i])^2\n",
    "$$\n",
    "\n"
   ]
  },
  {
   "cell_type": "markdown",
   "metadata": {
    "slideshow": {
     "slide_type": "subslide"
    }
   },
   "source": [
    "Ao minimizar $EQT(\\beta_0, beta_1)$ em relação a $\\beta_0$ e a $\\beta_1$ (para mais detalher ver este [link](https://www.khanacademy.org/math/statistics-probability/describing-relationships-quantitative-data/more-on-regression/v/squared-error-of-regression-line) calculamos $\\beta_0$ e $\\beta_1$ da seguinte forma:\n",
    "\n",
    "$$\n",
    "\\beta_0 = \\bar{Y} - \\beta_1 \\bar{X} = \\frac{1}{n} \\sum_i^n y_i - \\beta_1 \\frac{1}{n} \\sum_i^n x_i\n",
    "$$\n",
    "\n",
    "onde,\n",
    "- $\\bar{Y}$ é a média dos valores de $Y$\n",
    "- $\\bar{X}$ é a média dos valores de $X$\n",
    "\n",
    "$$\n",
    "\\beta_1 = \\frac{\\sum_i^n x_i y_i - n \\bar{X} \\bar{Y} }{\\sum_i^n x_i^2 - n \\bar{X}^2}\n",
    "$$"
   ]
  },
  {
   "cell_type": "markdown",
   "metadata": {
    "slideshow": {
     "slide_type": "subslide"
    }
   },
   "source": [
    "Utilizando o nosso conjunto de dados `dt` vamos calcular os coeficientes da regressão linear."
   ]
  },
  {
   "cell_type": "code",
   "execution_count": 33,
   "metadata": {
    "slideshow": {
     "slide_type": "-"
    }
   },
   "outputs": [
    {
     "data": {
      "text/html": [
       "<div>\n",
       "<style scoped>\n",
       "    .dataframe tbody tr th:only-of-type {\n",
       "        vertical-align: middle;\n",
       "    }\n",
       "\n",
       "    .dataframe tbody tr th {\n",
       "        vertical-align: top;\n",
       "    }\n",
       "\n",
       "    .dataframe thead th {\n",
       "        text-align: right;\n",
       "    }\n",
       "</style>\n",
       "<table border=\"1\" class=\"dataframe\">\n",
       "  <thead>\n",
       "    <tr style=\"text-align: right;\">\n",
       "      <th></th>\n",
       "      <th>X</th>\n",
       "      <th>Y</th>\n",
       "      <th>diffX</th>\n",
       "      <th>diffY</th>\n",
       "    </tr>\n",
       "  </thead>\n",
       "  <tbody>\n",
       "    <tr>\n",
       "      <th>14</th>\n",
       "      <td>1.2</td>\n",
       "      <td>0.2</td>\n",
       "      <td>-2.3</td>\n",
       "      <td>-0.916667</td>\n",
       "    </tr>\n",
       "    <tr>\n",
       "      <th>98</th>\n",
       "      <td>3.0</td>\n",
       "      <td>1.1</td>\n",
       "      <td>-0.5</td>\n",
       "      <td>-0.016667</td>\n",
       "    </tr>\n",
       "    <tr>\n",
       "      <th>75</th>\n",
       "      <td>4.4</td>\n",
       "      <td>1.4</td>\n",
       "      <td>0.9</td>\n",
       "      <td>0.283333</td>\n",
       "    </tr>\n",
       "    <tr>\n",
       "      <th>16</th>\n",
       "      <td>1.3</td>\n",
       "      <td>0.4</td>\n",
       "      <td>-2.2</td>\n",
       "      <td>-0.716667</td>\n",
       "    </tr>\n",
       "    <tr>\n",
       "      <th>131</th>\n",
       "      <td>6.4</td>\n",
       "      <td>2.0</td>\n",
       "      <td>2.9</td>\n",
       "      <td>0.883333</td>\n",
       "    </tr>\n",
       "    <tr>\n",
       "      <th>56</th>\n",
       "      <td>4.7</td>\n",
       "      <td>1.6</td>\n",
       "      <td>1.2</td>\n",
       "      <td>0.483333</td>\n",
       "    </tr>\n",
       "  </tbody>\n",
       "</table>\n",
       "</div>"
      ],
      "text/plain": [
       "       X    Y  diffX     diffY\n",
       "14   1.2  0.2   -2.3 -0.916667\n",
       "98   3.0  1.1   -0.5 -0.016667\n",
       "75   4.4  1.4    0.9  0.283333\n",
       "16   1.3  0.4   -2.2 -0.716667\n",
       "131  6.4  2.0    2.9  0.883333\n",
       "56   4.7  1.6    1.2  0.483333"
      ]
     },
     "execution_count": 33,
     "metadata": {},
     "output_type": "execute_result"
    }
   ],
   "source": [
    "dt"
   ]
  },
  {
   "cell_type": "code",
   "execution_count": 34,
   "metadata": {
    "slideshow": {
     "slide_type": "-"
    }
   },
   "outputs": [
    {
     "data": {
      "text/plain": [
       "0.337"
      ]
     },
     "execution_count": 34,
     "metadata": {},
     "output_type": "execute_result"
    }
   ],
   "source": [
    "S_xy = (dt.X * dt.Y).sum() - n*dt.X.mean()*dt.Y.mean()\n",
    "S_xx = (dt.X * dt.X).sum() - n*dt.X.mean()*dt.X.mean()\n",
    "beta_1 =  S_xy / S_xx\n",
    "beta_1.round(3)"
   ]
  },
  {
   "cell_type": "code",
   "execution_count": 35,
   "metadata": {
    "slideshow": {
     "slide_type": "-"
    }
   },
   "outputs": [
    {
     "data": {
      "text/plain": [
       "-0.063"
      ]
     },
     "execution_count": 35,
     "metadata": {},
     "output_type": "execute_result"
    }
   ],
   "source": [
    "beta_0 = dt.Y.mean() - beta_1 * dt.X.mean()\n",
    "beta_0.round(3)"
   ]
  },
  {
   "cell_type": "markdown",
   "metadata": {
    "slideshow": {
     "slide_type": "subslide"
    }
   },
   "source": [
    "**Visualização da Regressão**"
   ]
  },
  {
   "cell_type": "code",
   "execution_count": 36,
   "metadata": {
    "slideshow": {
     "slide_type": "-"
    }
   },
   "outputs": [
    {
     "data": {
      "text/plain": [
       "<matplotlib.legend.Legend at 0x21d5ca7f9b0>"
      ]
     },
     "execution_count": 36,
     "metadata": {},
     "output_type": "execute_result"
    },
    {
     "data": {
      "image/png": "[encoded data removed]",
      "text/plain": [
       "<Figure size 432x288 with 1 Axes>"
      ]
     },
     "metadata": {
      "needs_background": "light"
     },
     "output_type": "display_data"
    }
   ],
   "source": [
    "y_pred = beta_0 + beta_1 * dt.X\n",
    "plt.scatter(dt.X, dt.Y, label = None)\n",
    "plt.plot(dt.X, y_pred, color = \"red\", label=\"model\")\n",
    "plt.xlabel('X')\n",
    "plt.ylabel('Y')\n",
    "plt.legend()"
   ]
  },
  {
   "cell_type": "code",
   "execution_count": 37,
   "metadata": {
    "slideshow": {
     "slide_type": "-"
    }
   },
   "outputs": [
    {
     "data": {
      "text/plain": [
       "'Y = 0.337 x X + -0.063'"
      ]
     },
     "execution_count": 37,
     "metadata": {},
     "output_type": "execute_result"
    }
   ],
   "source": [
    "regression_to_equation(dt.columns, [beta_1], beta_0)"
   ]
  },
  {
   "cell_type": "code",
   "execution_count": null,
   "metadata": {},
   "outputs": [],
   "source": []
  }
 ],
 "metadata": {
  "celltoolbar": "Slideshow",
  "kernelspec": {
   "display_name": "Python 3",
   "language": "python",
   "name": "python3"
  },
  "language_info": {
   "codemirror_mode": {
    "name": "ipython",
    "version": 3
   },
   "file_extension": ".py",
   "mimetype": "text/x-python",
   "name": "python",
   "nbconvert_exporter": "python",
   "pygments_lexer": "ipython3",
   "version": "3.7.1"
  },
  "livereveal": {
   "font-size": "100%",
   "scroll": true
  }
 },
 "nbformat": 4,
 "nbformat_minor": 2
}
