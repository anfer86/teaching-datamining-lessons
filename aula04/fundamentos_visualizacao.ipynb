{
 "cells": [
  {
   "cell_type": "markdown",
   "metadata": {
    "slideshow": {
     "slide_type": "slide"
    }
   },
   "source": [
    "<link rel=\"stylesheet\" href=\"estilo.css\">\n",
    "\n",
    "<img src=\"img/logoifsc.png\">\n",
    "\n",
    "---\n",
    "\n",
    "Prof. Carlos Andrés Ferrero\n",
    "\n",
    "# Mineração de Dados\n",
    "\n",
    "## Fundamentos Estatísticos e Visualização de Dados\n",
    "    \n",
    "---"
   ]
  },
  {
   "cell_type": "markdown",
   "metadata": {
    "slideshow": {
     "slide_type": "slide"
    }
   },
   "source": [
    "# Conteúdo\n",
    "\n",
    "Pré-processamento de dados quantiativos e qualitativos\n",
    "\n",
    "- Fundamentos Estatísticos\n",
    "    - Análise univariada\n",
    "    - Análise bivariada\n",
    "    - Analise multivariada\n",
    "- Visualização de Dados    "
   ]
  },
  {
   "cell_type": "markdown",
   "metadata": {
    "slideshow": {
     "slide_type": "slide"
    }
   },
   "source": [
    "# Fundamentos Estatísticos\n",
    "\n",
    "- A Estatística é uma disciplina muito importante na área de mineração de dados.\n",
    "\n",
    "- A Estatística é utilizada em várias etapas do processo de KDD:\n",
    "    - Pré-processamento: ex. descrever e entender a distribuição de cada variável, criar novas variáveis, normalizar, discretizar, imputar valores desconhecidos.\n",
    "    - Mineração de Dados: ex. ajustar modelos preditivos aos dados, selecionar modelos.\n",
    "    - Pós-processamento: ex. avaliar a qualidade dos modelos preditivos, calcular sensibilidade, especificidade, precision, recall, correlação.\n",
    "    \n",
    "- Nesta aula vamos lembrar os conceitos de estatística e combinar com a visualização de dados, a qual nos ajuda a entender melhor o que significam essas medidas estatísticas calculadas."
   ]
  },
  {
   "cell_type": "markdown",
   "metadata": {
    "slideshow": {
     "slide_type": "subslide"
    }
   },
   "source": [
    "## População, amostra e variáveis\n",
    "\n",
    "- **População**: é a coleção completa dos elementos a serem estudados. Por exemplo, conjunto de dados sobre todas as cidades de Santa Catarina.\n",
    "- **Amostra**: é um subconjunto dos elementos extraído da população. Por exemplo, escolher uma amostra aleatória de cidades de Santa Catarina.\n",
    "- **Variável**: é cada *atributo* ou *característica* que descreve uma população e, consquentemente, está presente em uma amostra da população.\n",
    "- **Tipos de Variáveis** em Estatística:\n",
    "    - Qualitativa (não numérica):\n",
    "        - Nominal, com nomes, rótulos ou categorias\n",
    "        - Ordinal, com valores que podem ser ordenados\n",
    "    - Quantitativa (numérica): representam contagens e medições\n",
    "        - Contínua, com número infinito de possíveis valores\n",
    "        - Discreta, com número finito ou contável de valores"
   ]
  },
  {
   "cell_type": "markdown",
   "metadata": {
    "slideshow": {
     "slide_type": "subslide"
    }
   },
   "source": [
    "## Variável Aleatória\n",
    "\n",
    "- Uma variável aleatória $X$ é aquela que admite um único valor numérico para cada execução de experimento. E para cada valor possível dessa variável existe uma probabilidade associada.\n",
    "\n",
    "- Essa definição vale tanto variáveis aleatórias *discretas* e *contínuas*. Nas *discretas* o número de possíveis valores é finito ou contável e nas *contínuas* o número de possíveis valores é infinito."
   ]
  },
  {
   "cell_type": "markdown",
   "metadata": {
    "slideshow": {
     "slide_type": "subslide"
    }
   },
   "source": [
    "- Distribuições de probabilidade:\n",
    "\n",
    "A *probabilidade* diz respeito à frequência *relativa* da ocorrência de um dado ou evento. Em outras palavras é o número de vezes que esse dado ou evento ocorreu em relação ao número total de eventos. Por exemplo, ao estudar as condições climáticas diárias na cidade de Lages nos últimos 10 (dez) dias, verificamos que em 3 (três) dias choveu. Assim, a *probabilidade* do evento `chuva` nesse conjunto de dados é de $\\frac{3}{10}=0.3=30\\%$.\n",
    "\n",
    "A *distribuição de probabilidade* especifica uma probabilidade para cada possível valor (dado ou evento) da variável. Por exemplo, se nesses mesmos 10 dias, em 3 houve chuva, em 5 houve sol e em 2 houve nuvens, temos a seguinte distribuição de probabilidades:\n",
    "    \n",
    "$$\n",
    "\\begin{eqnarray}\n",
    "P(X=chuva) = \\frac{3}{10}=0.3=30\\% \\\\\n",
    "P(X=sol) = \\frac{5}{10}=0.5=50\\% \\\\\n",
    "P(X=nuvens) = \\frac{2}{10}=0.2=20\\% \\\\\n",
    "\\end{eqnarray}\n",
    "$$"
   ]
  },
  {
   "cell_type": "markdown",
   "metadata": {
    "slideshow": {
     "slide_type": "subslide"
    }
   },
   "source": [
    "Nessa distribuição a soma das probabilidades do eventos acontecerem tem que resultar em $1 = 100\\%$, como segue:    \n",
    "$$    \n",
    "P(X=chuva) + P(X=sol) + P(X=nuvens) = \\frac{3}{10} + \\frac{5}{10} + \\frac{2}{10} = 1 \\\\    \n",
    "$$    \n",
    "\n",
    "Assim como a probabilidade de qualquer um dos eventos acontecerem, que também será $1 = 100\\%$, como segue:\n",
    "$$\n",
    "P(X=chuva \\cup X=sol \\cup X=nuvens) = \\frac{10}{10} = 1 \\\\\n",
    "$$    "
   ]
  },
  {
   "cell_type": "markdown",
   "metadata": {
    "slideshow": {
     "slide_type": "subslide"
    }
   },
   "source": [
    "As distribuições de probabilidade mais comuns encontradas em conjuntos de dados são:\n",
    "- Distribuição uniforme\n",
    "- Distribuição normal\n",
    "- Distribuição Poisson"
   ]
  },
  {
   "cell_type": "markdown",
   "metadata": {
    "slideshow": {
     "slide_type": "subslide"
    }
   },
   "source": [
    "### Distribuição uniforme\n",
    "\n",
    "A distribuição de uma variável é uniforme se a probabilidade de qualquer valor ocorrer é a mesma. Para uma variável $X$ com $k$ possíveis valores $x_1, x_2, ..., x_k$ a probabilidade de um valor $x_i$ ocorrer é $P(X=x_i)=\\frac{1}{k}$.\n",
    "\n",
    "Neste exemplo vamos considerar $n$ valores inteiros de $0$ a $k-1$ distribuídos de acordo com uma distribuição uniforme."
   ]
  },
  {
   "cell_type": "code",
   "execution_count": 1,
   "metadata": {},
   "outputs": [],
   "source": [
    "import numpy as np\n",
    "k = 10\n",
    "n = 10**6\n",
    "np.random.seed(1)\n",
    "X = np.random.randint(0,k,n)"
   ]
  },
  {
   "cell_type": "code",
   "execution_count": 2,
   "metadata": {},
   "outputs": [
    {
     "name": "stdout",
     "output_type": "stream",
     "text": [
      "Possíveis valores de X (0, 1, 2, 3, 4, 5, 6, 7, 8, 9)\n",
      "Frequência:  (100094, 99413, 100108, 100175, 100294, 100042, 99842, 100085, 99611, 100336)\n"
     ]
    }
   ],
   "source": [
    "from collections import Counter\n",
    "import pandas as pd\n",
    "labels, frequency = zip(*sorted(Counter(X).items()))\n",
    "print('Possíveis valores de X', labels)\n",
    "print('Frequência: ', frequency)"
   ]
  },
  {
   "cell_type": "markdown",
   "metadata": {
    "slideshow": {
     "slide_type": "subslide"
    }
   },
   "source": [
    "**Visualização do Gráfico da Distribuição de Frequência da Variável**"
   ]
  },
  {
   "cell_type": "code",
   "execution_count": 5,
   "metadata": {},
   "outputs": [
    {
     "data": {
      "text/plain": [
       "<BarContainer object of 10 artists>"
      ]
     },
     "execution_count": 5,
     "metadata": {},
     "output_type": "execute_result"
    },
    {
     "data": {
      "image/png": "[encoded data removed]",
      "text/plain": [
       "<Figure size 432x288 with 1 Axes>"
      ]
     },
     "metadata": {
      "needs_background": "light"
     },
     "output_type": "display_data"
    }
   ],
   "source": [
    "import matplotlib.pyplot as plt\n",
    "plt.xlabel('Possíveis valores de X')\n",
    "plt.ylabel('Frequência')\n",
    "plt.xticks(labels)\n",
    "plt.bar(labels, frequency)"
   ]
  },
  {
   "cell_type": "markdown",
   "metadata": {
    "slideshow": {
     "slide_type": "subslide"
    }
   },
   "source": [
    "**Visualização do Gráfico da Distribuição de Frequência Relativa da Variável**"
   ]
  },
  {
   "cell_type": "code",
   "execution_count": 6,
   "metadata": {},
   "outputs": [
    {
     "data": {
      "text/plain": [
       "<BarContainer object of 10 artists>"
      ]
     },
     "execution_count": 6,
     "metadata": {},
     "output_type": "execute_result"
    },
    {
     "data": {
      "image/png": "[encoded data removed]",
      "text/plain": [
       "<Figure size 432x288 with 1 Axes>"
      ]
     },
     "metadata": {
      "needs_background": "light"
     },
     "output_type": "display_data"
    }
   ],
   "source": [
    "rel_frequency = np.array(frequency) / sum(frequency)\n",
    "plt.xlabel('Possíveis valores de X')\n",
    "plt.ylabel('Frequência Relativa')\n",
    "plt.xticks(labels)\n",
    "plt.bar(labels, rel_frequency)"
   ]
  },
  {
   "cell_type": "markdown",
   "metadata": {
    "slideshow": {
     "slide_type": "subslide"
    }
   },
   "source": [
    "**Visualização do Gráfico da Distribuição de Frequência Relativa Acumulada da Variável**"
   ]
  },
  {
   "cell_type": "code",
   "execution_count": 7,
   "metadata": {},
   "outputs": [
    {
     "data": {
      "text/plain": [
       "[<matplotlib.lines.Line2D at 0x20235953160>]"
      ]
     },
     "execution_count": 7,
     "metadata": {},
     "output_type": "execute_result"
    },
    {
     "data": {
      "image/png": "[encoded data removed]",
      "text/plain": [
       "<Figure size 432x288 with 1 Axes>"
      ]
     },
     "metadata": {
      "needs_background": "light"
     },
     "output_type": "display_data"
    }
   ],
   "source": [
    "rel_frequency = np.array(frequency) / sum(frequency)\n",
    "cumsum_rel_frequency = np.cumsum(rel_frequency)\n",
    "plt.xlabel('Possíveis valores de X')\n",
    "plt.ylabel('Frequência Relativa Acumulada')\n",
    "plt.xticks(labels)\n",
    "plt.plot(labels, cumsum_rel_frequency, \"o--\")"
   ]
  },
  {
   "cell_type": "markdown",
   "metadata": {
    "slideshow": {
     "slide_type": "subslide"
    }
   },
   "source": [
    "### Distribuição normal\n",
    "\n",
    "Esta distribuição é uma das mais comuns na natureza e também em conjuntos de dados na prática. Quando uma variável está distribuída normalmente é possível estimar a probabilidade de um valor $x$ ocorrer utilizando a média e o desvio padrão.\n",
    "\n",
    "A função de distribuição normal de uma variável aleatória é dada por:\n",
    "\n",
    "$$\n",
    "f(x,\\mu,\\sigma) = \\frac{e^{-\\frac{(x-\\mu)^2}{2\\sigma^2}}}{\\sigma\\sqrt{2\\pi}}\n",
    "$$\n",
    "\n",
    "Um ponto relevante dessa função é que a probabilidade do valor $x$ depende do valores de média $\\mu$ e desvio-padrão $\\sigma$ da variável $X$."
   ]
  },
  {
   "cell_type": "markdown",
   "metadata": {
    "slideshow": {
     "slide_type": "subslide"
    }
   },
   "source": [
    "**Gráfico da Distribuição Normal**:\n",
    "\n",
    "<img src=\"img/distribuicao_normal.jpg\" width=\"40%\">\n",
    "\n",
    "Observamos que aproximadamente:\n",
    "- $68.27%$ dos valores estão a uma distância de 1 desvio-padrão em relação à média.\n",
    "- $98.45%$ dos valores estão a uma distância de 2 desvio-padrão em relação à média.\n",
    "- $99.73%$ dos valores estão a uma distância de 3 desvio-padrão em relação à média."
   ]
  },
  {
   "cell_type": "markdown",
   "metadata": {
    "slideshow": {
     "slide_type": "subslide"
    }
   },
   "source": [
    "A seguir definimos uma amostra de uma variável contínua com média $\\mu=5$ e desvio padrão $\\sigma=2$."
   ]
  },
  {
   "cell_type": "code",
   "execution_count": 9,
   "metadata": {},
   "outputs": [
    {
     "data": {
      "text/plain": [
       "array([8.24869073, 3.77648717, 3.9436565 , ..., 3.8076781 , 7.37207976,\n",
       "       5.62679603])"
      ]
     },
     "execution_count": 9,
     "metadata": {},
     "output_type": "execute_result"
    }
   ],
   "source": [
    "import numpy as np\n",
    "mean = 5\n",
    "sd = 2\n",
    "n = 10**6\n",
    "np.random.seed(1)\n",
    "X = np.random.normal(mean, sd,n)\n",
    "X"
   ]
  },
  {
   "cell_type": "markdown",
   "metadata": {
    "slideshow": {
     "slide_type": "subslide"
    }
   },
   "source": [
    "**Visualização do Gráfico da Distribuição de Frequência Relativa da Variável**"
   ]
  },
  {
   "cell_type": "code",
   "execution_count": 10,
   "metadata": {},
   "outputs": [
    {
     "data": {
      "image/png": "[encoded data removed]",
      "text/plain": [
       "<Figure size 432x288 with 1 Axes>"
      ]
     },
     "metadata": {
      "needs_background": "light"
     },
     "output_type": "display_data"
    }
   ],
   "source": [
    "bins = 30\n",
    "plt.xlabel('Possíveis valores de X')\n",
    "plt.ylabel('Frequência Relativa')\n",
    "count, bins, ignored = plt.hist(X, bins=bins, density=True)\n",
    "plt.show()"
   ]
  },
  {
   "cell_type": "markdown",
   "metadata": {
    "slideshow": {
     "slide_type": "subslide"
    }
   },
   "source": [
    "**Visualização do Gráfico da Distribuição de Frequência Relativa Acumulada da Variável**"
   ]
  },
  {
   "cell_type": "code",
   "execution_count": 11,
   "metadata": {},
   "outputs": [
    {
     "data": {
      "image/png": "[encoded data removed]",
      "text/plain": [
       "<Figure size 432x288 with 1 Axes>"
      ]
     },
     "metadata": {
      "needs_background": "light"
     },
     "output_type": "display_data"
    }
   ],
   "source": [
    "bins = 30\n",
    "plt.xlabel('Possíveis valores de X')\n",
    "plt.ylabel('Frequência Relativa Acumulada')\n",
    "count, bins, ignored = plt.hist(X, bins=bins, density=True, cumulative=True)\n",
    "plt.show()"
   ]
  },
  {
   "cell_type": "markdown",
   "metadata": {
    "slideshow": {
     "slide_type": "subslide"
    }
   },
   "source": [
    "### Distribuição Poisson\n",
    "\n",
    "Consiste em uma distribuição de probabilidade de variável aleatória discreta que expressa a probabilidade de uma série de eventos ocorrer em um certo período de tempo, dado que a série de eventos são independentes entre sí. \n",
    "\n",
    "A função de probabilidade desta distribuição é dada por:\n",
    "\n",
    "$$\n",
    "f(k,\\lambda )=\\frac {e^{-\\lambda }\\lambda ^{k}}{k!}\n",
    "$$\n",
    "\n",
    "O valor de $\\lambda$ é o número esperado de ocorrências que ocorrem num dado intervalo de tempo. E o valor de $k$ é o número de ocorrências que queremos verificar a probabilidade de acontecer.\n",
    "\n",
    "Com isso, a probabilidade de que existam exatamente $k$ ocorrências (k sendo um inteiro não negativo, k = 0, 1, 2, ...) é dada por $f(k,\\lambda)$"
   ]
  },
  {
   "cell_type": "markdown",
   "metadata": {
    "slideshow": {
     "slide_type": "subslide"
    }
   },
   "source": [
    "Por ex., se uma loja vende em média um produto a cada 3 minutos e estamos interessados em saber quantos produtos a loja vende em 15 minutos, $\\lambda = \\frac{15}{3} = 5$."
   ]
  },
  {
   "cell_type": "code",
   "execution_count": 14,
   "metadata": {},
   "outputs": [
    {
     "data": {
      "text/plain": [
       "array([2, 2, 4, ..., 7, 7, 2])"
      ]
     },
     "execution_count": 14,
     "metadata": {},
     "output_type": "execute_result"
    }
   ],
   "source": [
    "import numpy as np\n",
    "lambda_ = 5\n",
    "sd = 2\n",
    "n = 10**6\n",
    "np.random.seed(1)\n",
    "X = np.random.poisson(lambda_, n)\n",
    "X"
   ]
  },
  {
   "cell_type": "markdown",
   "metadata": {
    "slideshow": {
     "slide_type": "subslide"
    }
   },
   "source": [
    "**Visualização do Gráfico da Distribuição de Frequência Relativa da Variável**"
   ]
  },
  {
   "cell_type": "code",
   "execution_count": 15,
   "metadata": {},
   "outputs": [
    {
     "data": {
      "image/png": "[encoded data removed]",
      "text/plain": [
       "<Figure size 432x288 with 1 Axes>"
      ]
     },
     "metadata": {
      "needs_background": "light"
     },
     "output_type": "display_data"
    }
   ],
   "source": [
    "bins = 15\n",
    "plt.xlabel('Possíveis valores de X')\n",
    "plt.ylabel('Frequência Relativa')\n",
    "plt.xticks(range(0,bins))\n",
    "count, bins, ignored = plt.hist(X, bins=range(0,bins), density=True)\n",
    "plt.show()"
   ]
  },
  {
   "cell_type": "markdown",
   "metadata": {
    "slideshow": {
     "slide_type": "subslide"
    }
   },
   "source": [
    "**Visualização do Gráfico da Distribuição de Frequência Relativa Acumulada da Variável**"
   ]
  },
  {
   "cell_type": "code",
   "execution_count": 114,
   "metadata": {},
   "outputs": [
    {
     "data": {
      "image/png": "[encoded data removed]",
      "text/plain": [
       "<Figure size 432x288 with 1 Axes>"
      ]
     },
     "metadata": {
      "needs_background": "light"
     },
     "output_type": "display_data"
    }
   ],
   "source": [
    "bins = 15\n",
    "plt.xlabel('Possíveis valores de X')\n",
    "plt.ylabel('Frequência Relativa Acumulada')\n",
    "plt.xticks(range(0,bins))\n",
    "count, bins, ignored = plt.hist(X, bins=range(0,bins), density=True, cumulative=True)\n",
    "plt.show()"
   ]
  },
  {
   "cell_type": "markdown",
   "metadata": {
    "slideshow": {
     "slide_type": "subslide"
    }
   },
   "source": [
    "### Medidas Resumo\n",
    "\n",
    "- Medidas de Tendência Central\n",
    "- Medidas de Dispersão\n",
    "- Medidas de Forma"
   ]
  },
  {
   "cell_type": "markdown",
   "metadata": {
    "slideshow": {
     "slide_type": "subslide"
    }
   },
   "source": [
    "### Medidas de Tendência Central\n",
    "\n",
    "- **Média**: este é o valor esperado de uma variável $X$, definido por $\\mu$. Em geral é calculada pela soma dos valores da variável numérica, dividido pelo número total de valores da variável.\n",
    "\n",
    "- **Mediana**: este é o valor central que separa a distribuição em duas metades. Para calcular a mediana os valores da variável são primeiramente ordenados e, se o número de valores é ímpar a mediana será o valor central, e se o número de valores é par a mediana será a média aritmética dos dois valores dentrais.\n",
    "\n",
    "- **Moda**: este é o valor mais frequente de uma variável."
   ]
  },
  {
   "cell_type": "markdown",
   "metadata": {
    "slideshow": {
     "slide_type": "subslide"
    }
   },
   "source": [
    "### Medidas de Dispersão\n",
    "\n",
    "- **Variância**: mede a dispersão dos valores de uma variável. É sempre não negativa. Uma variância pequena indica que os valores estão próximos à média e, o contrário, que estão distântes em relação à média. A variância é calculada pela média dos quadrados das distâncias dos valores em relação à média, como segue:\n",
    "\n",
    "$$\n",
    "var(X) = \\frac{1}{N} = \\sum_{i}^{N} (x_i - \\mu)\n",
    "$$\n",
    "\n",
    "- **Desvio-padrão**: é a raiz quadrada da variância. Esta medida é relevante como uma medida de dispersão de referência em relação à média. Um ponto importante é que ela tem a mesma unidade que a média. Por ex, se nossa variável é em metros $m$, a nossa média será em $m$, a variância em $m^2$ e o desvio-padrão em $m$.\n",
    "\n",
    "$$\n",
    "\\sigma(X) = \\sqrt{var(X)}\n",
    "$$\n",
    "\n",
    "- **Coeficiente de Variação**: consiste na relação do desvio-padrão e a média. Essa medida permite saber quanto representa o desvio-padrão em relação à média. Por ex., se uma distribuição tem média $\\mu=10$ e $\\sigma=2$, o desvio-padrão representa $20\\%$ da média."
   ]
  },
  {
   "cell_type": "markdown",
   "metadata": {
    "slideshow": {
     "slide_type": "subslide"
    }
   },
   "source": [
    "### Medidas de Forma\n",
    "\n",
    "- **Assimetria**: ou *skewness* mede a assimatria da função de distribuição em torno da média. Quando a assimetria é negativa, a distribuição tende à direita, e quando a assimetria é positiva, a distribuição tende à esquerda. \n",
    "\n",
    "$$\n",
    "\\gamma(X) = \\frac{1}{N} \\sum_{i}^{N} \\bigg[\\frac{(x_i - \\mu)}{\\sigma}\\bigg]^3\n",
    "$$\n",
    "\n",
    "- **Curtose**: ou *kurtosis* é a medida de forma que caracteriza o pico ou achatamento da função de distribuição de uma variável. Se a curtose é positiva então o pico da função é mais afunilado, se a curtose é negativa então o pico da função é mais achatado.\n",
    "\n",
    "$$\n",
    "\\beta(X) = \\frac{1}{N} \\sum_{i}^{N} \\bigg[\\frac{(x_i - \\mu)}{\\sigma}\\bigg]^4\n",
    "$$"
   ]
  },
  {
   "cell_type": "markdown",
   "metadata": {
    "slideshow": {
     "slide_type": "subslide"
    }
   },
   "source": [
    "**Exemplo de Assimetria Positiva (à esquerda)**"
   ]
  },
  {
   "cell_type": "code",
   "execution_count": 20,
   "metadata": {},
   "outputs": [
    {
     "name": "stdout",
     "output_type": "stream",
     "text": [
      "skewness 0.8972842641338391\n"
     ]
    }
   ],
   "source": [
    "from scipy.stats import skew\n",
    "mean = 20\n",
    "sd = 2\n",
    "n = 10**6\n",
    "np.random.seed(1)\n",
    "X = np.random.normal(mean, sd,n) ** 4\n",
    "print('skewness', skew(X))"
   ]
  },
  {
   "cell_type": "code",
   "execution_count": 21,
   "metadata": {},
   "outputs": [
    {
     "data": {
      "image/png": "[encoded data removed]",
      "text/plain": [
       "<Figure size 432x288 with 1 Axes>"
      ]
     },
     "metadata": {
      "needs_background": "light"
     },
     "output_type": "display_data"
    }
   ],
   "source": [
    "bins = 30\n",
    "plt.xlabel('Possíveis valores de X')\n",
    "plt.ylabel('Frequência Relativa')\n",
    "count, bins, ignored = plt.hist(X, bins=bins, density=True)\n",
    "plt.show()"
   ]
  },
  {
   "cell_type": "markdown",
   "metadata": {
    "slideshow": {
     "slide_type": "subslide"
    }
   },
   "source": [
    "**Exemplo de Curtose Negativa (achatada)**"
   ]
  },
  {
   "cell_type": "code",
   "execution_count": 22,
   "metadata": {},
   "outputs": [
    {
     "name": "stdout",
     "output_type": "stream",
     "text": [
      "curtosis -0.7916954454117038\n"
     ]
    }
   ],
   "source": [
    "from scipy.stats import kurtosis\n",
    "mean = 8\n",
    "sd = 2\n",
    "n = 10**6\n",
    "np.random.seed(1)\n",
    "X = np.random.normal(mean, sd,n) * np.random.uniform(-mean, mean,n)\n",
    "print('curtosis', kurtosis(X))"
   ]
  },
  {
   "cell_type": "code",
   "execution_count": 23,
   "metadata": {},
   "outputs": [
    {
     "data": {
      "image/png": "[encoded data removed]",
      "text/plain": [
       "<Figure size 432x288 with 1 Axes>"
      ]
     },
     "metadata": {
      "needs_background": "light"
     },
     "output_type": "display_data"
    }
   ],
   "source": [
    "bins = 100\n",
    "plt.xlabel('Possíveis valores de X')\n",
    "plt.ylabel('Frequência Relativa')\n",
    "count, bins, ignored = plt.hist(X, bins=bins, density=True)\n",
    "plt.show()"
   ]
  },
  {
   "cell_type": "markdown",
   "metadata": {
    "slideshow": {
     "slide_type": "subslide"
    }
   },
   "source": [
    "### Medidas de Associação (Análise de duas variáveis)\n",
    "\n",
    "Para duas variáveis aleatórias distintas é possível calcular a dependência entre elas usando-se uma medida de associação. As medidas mais comuns são:\n",
    "- Covariância\n",
    "- Correlação\n",
    "- Coeficiente de Determinação"
   ]
  },
  {
   "cell_type": "markdown",
   "metadata": {
    "slideshow": {
     "slide_type": "subslide"
    }
   },
   "source": [
    "- *Covariância*: a covariação é uma medida de associação que mede se duas variáveis $X$ e $Y$ desviam de suas médias de maneira similar. Se variarem de maneira similar, elas são covariantes, e existe uma relação estatística entre suas flutuações.\n",
    "\n",
    "    - Dadas duas variáveis $X$ e $Y$ amostradas em pares $(x_i,y_i), i = 1, 2, ..., N$, a covariância $cov(X,Y)$ é dada por:\n",
    "    \n",
    "    $$\n",
    "    cov(X,Y) = \\frac{1}{N} \\sum_{i=1}^N (x_i-\\mu_X)\\;(y_i-\\mu_Y)\n",
    "    $$\n",
    "\n",
    "    - Se geralmente valores $X$ que estiverem abaixo da média implicam em valores de $Y$ abaixo da média, o produto de ambos será positivo. Da mesma forma que se valores de $X$ que estiverem axima da média implicam em valores de $Y$ axima da média.\n",
    "    - Já, se valores de $X$ que estiverem abaixo da média implicam em valores de $Y$ acima da média, o produto de ambos será um valor negativo.\n",
    "    - E as diferenças forem grandes os produtos retornarão valores altos, caso contrário, valores baixos, indicando pouca covariação.\n",
    "    - Observe que esta medida não está na unidade de $X$ já que as diferenças foram elevadas ao quadrado. Por ex. se a unidade da variável é em metros $m$ então esta medida está em $m^2$."
   ]
  },
  {
   "cell_type": "markdown",
   "metadata": {
    "slideshow": {
     "slide_type": "subslide"
    }
   },
   "source": [
    "- *Correlação* (Pearson): a correlação de Pearson mede a dependência linear entra duas variáveis aleatórias $X$ e $Y$. A partir do cálculo da covariância é utilizado um fator de escala baseado no desvio-padrão de cada uma das variáveis. Dessa forma, a medida de associação de variáveis fica sem unidade e com valor entre $-1$ e $1$. \n",
    "\n",
    "    - Uma correlação negativa indica que à medida que o valor da variável aumenta o valor da outra variável diminui. \n",
    "    \n",
    "    - Uma correlação positiva indicia que à medida que o valor de uma variável aumenta a outra também aumenta.\n",
    "\n",
    "    - Dadas duas variáveis $X$ e $Y$ amostradas em pares $(x_i,y_i), i = 1, 2, ..., N$, a covariância $cov(X,Y)$ é dada por:\n",
    "    \n",
    "    $$\n",
    "    \\rho(X,Y) = \\frac{ cov(X,Y) } {\\sigma(X)\\;\\sigma(Y)}\n",
    "    $$\n",
    "   \n",
    "    - Observe que esta medida não tem unidade, pois o numerador está na mesma unidade que o denominador. Se a covariância está em $m^2$ e o desvio-padrão de cada variável em $m$, o resultado será apenas uma razão."
   ]
  },
  {
   "cell_type": "markdown",
   "metadata": {
    "slideshow": {
     "slide_type": "subslide"
    }
   },
   "source": [
    "- *Coeficiente de Determinação*: este coeficiente normaliza a correlação entra as variáveis no intervalo $[0,1]$, abstraindo se a correlação é positiva ou negativa. No coeficiente de determinação estamos apenas interessados em saber a dependência entre as variáveis. Seja $\\rho$ o coeficiente de correlação entre as variáveis $X$ e $Y$, o coeficiente de determinação, também chamado de $R^2$, é calculado pelo quadrado do coeficente de correlação, $\\rho^2$."
   ]
  }
 ],
 "metadata": {
  "celltoolbar": "Slideshow",
  "kernelspec": {
   "display_name": "Python 3",
   "language": "python",
   "name": "python3"
  },
  "language_info": {
   "codemirror_mode": {
    "name": "ipython",
    "version": 3
   },
   "file_extension": ".py",
   "mimetype": "text/x-python",
   "name": "python",
   "nbconvert_exporter": "python",
   "pygments_lexer": "ipython3",
   "version": "3.7.3"
  },
  "livereveal": {
   "font-size": "100%",
   "scroll": true
  }
 },
 "nbformat": 4,
 "nbformat_minor": 2
}
